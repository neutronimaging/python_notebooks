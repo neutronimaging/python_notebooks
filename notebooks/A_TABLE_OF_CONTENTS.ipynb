{
 "cells": [
  {
   "cell_type": "markdown",
   "id": "0",
   "metadata": {},
   "source": [
    "# Table of contents\n",
    "\n",
    "Last release: 09/09/22 09:30"
   ]
  },
  {
   "cell_type": "markdown",
   "id": "1",
   "metadata": {},
   "source": [
    "# B"
   ]
  },
  {
   "cell_type": "markdown",
   "id": "2",
   "metadata": {},
   "source": [
    "* [bin images](bin_images.ipynb) \n",
    "* Bragg Edge\n",
    "    * [bragg edge normalization](bragg_edge_normalization.ipynb)\n",
    "    * [bragg edge normalized sample and powder](bragg_edge_normalized_sample_and_powder.ipynb)\n",
    "    * [bragg edge raw sample and powder](bragg_edge_raw_sample_and_powder.ipynb)\n",
    "    * [bragg edge profile](bragg_edge_profile.ipynb)\n",
    "    * [list element bragg edges](list_element_bragg_edges.ipynb)"
   ]
  },
  {
   "cell_type": "markdown",
   "id": "3",
   "metadata": {},
   "source": [
    "# C"
   ]
  },
  {
   "cell_type": "markdown",
   "id": "4",
   "metadata": {},
   "source": [
    "* [calibrated transmission](calibrated_transmission.ipynb)\n",
    "* [circular profile of a ring](circular_profile_of_a_ring.ipynb)\n",
    "* Combine\n",
    "    * [combine all images selected](combine_all_images_selected.ipynb)\n",
    "    * [combine folders](combine_folders.ipynb)\n",
    "    * [combine images n by n](combine_images_n_by_n.ipynb)\n",
    "    * [combine images without outliers](combine_images_without_outliers.ipynb)\n",
    "    * [sequential combine images using metadata](sequential_combine_images_using_metadata.ipynb)\n",
    "* [create list of file name vs time stamp](create_list_of_file_name_vs_time_stamp.ipynb)\n",
    "* [cylindrical geometry correction](cylindrical_geometry_correction.ipynb)"
   ]
  },
  {
   "cell_type": "markdown",
   "id": "5",
   "metadata": {},
   "source": [
    "# D"
   ]
  },
  {
   "cell_type": "markdown",
   "id": "6",
   "metadata": {},
   "source": [
    "* [deal images](deal_images.ipynb)\n",
    "* Display\n",
    "    * [display and export images with metadata profile](display_and_export_images_with_metadata_profile.ipynb)\n",
    "    * [display and export images with timestamp](display_and_export_images_with_timestamp.ipynb)\n",
    "    * [display counts of region vs stack](display_counts_of_region_vs_stack.ipynb)\n",
    "    * [display file names vs time stamp](display_file_names_vs_time_stamp.ipynb)\n",
    "    * [display integrated stack of images](display_integrated_stack_of_images.ipynb)\n",
    "* [dual energy](dual_energy.ipynb)"
   ]
  },
  {
   "cell_type": "markdown",
   "id": "7",
   "metadata": {},
   "source": [
    "# E"
   ]
  },
  {
   "cell_type": "markdown",
   "id": "8",
   "metadata": {},
   "source": [
    "* Extract\n",
    "    * [extract evenly spaced files](extract_evenly_spaced_files.ipynb)\n",
    "    * [extract NeXus daslogs](extract_nexus_daslogs.ipynb)"
   ]
  },
  {
   "cell_type": "markdown",
   "id": "9",
   "metadata": {},
   "source": [
    "# F "
   ]
  },
  {
   "cell_type": "markdown",
   "id": "10",
   "metadata": {},
   "source": [
    "* Fix\n",
    "    * [fix images](fix_images.ipynb)\n",
    "    * [fix images with negative pixels](fix_images_with_negative_pixels.ipynb)\n",
    "* [from attenuation to concentration](from_attenuation_to_concentration.ipynb)\n",
    "* [from dsc_time info to ascii file vs time](from_dsc_time_info_to_ascii_file_vs_time.ipynb)"
   ]
  },
  {
   "cell_type": "markdown",
   "id": "11",
   "metadata": {},
   "source": [
    "# G"
   ]
  },
  {
   "cell_type": "markdown",
   "id": "12",
   "metadata": {},
   "source": [
    "* [group images by cycle for panoramic stitching](group_images_by_cycle_for_panoramic_stitching.ipynb)\n",
    "* [group_images_by_cycle_for_grating_experiment](group_images_by_cycle_for_grating_experiment.ipynb)"
   ]
  },
  {
   "cell_type": "markdown",
   "id": "13",
   "metadata": {},
   "source": [
    "# H"
   ]
  },
  {
   "cell_type": "markdown",
   "id": "14",
   "metadata": {},
   "source": [
    "* [HFIR reactor element analysis](hfir_reactor_element_analysis.ipynb)"
   ]
  },
  {
   "cell_type": "markdown",
   "id": "15",
   "metadata": {},
   "source": [
    "# I"
   ]
  },
  {
   "cell_type": "markdown",
   "id": "16",
   "metadata": {},
   "source": [
    "* iBeatles\n",
    "    * [ibeatles strain mapping ASCII loader](ibeatles_strain_mapping_ASCII_loader.ipynb)\n",
    "    * [ibeatles strain mapping HDF5 loader](ibeatles_strain_mapping_HDF5_loader.ipynb)\n",
    "* [images and metadata extrapolation matcher](images_and_metadata_extrapolation_matcher.ipynb)\n",
    "* [images registration using pystackgreg](images_registration.ipynb)\n",
    "* [integrated roi counts vs file name and time stamp](integrated_roi_counts_vs_file_name_and_time_stamp.ipynb)"
   ]
  },
  {
   "cell_type": "markdown",
   "id": "17",
   "metadata": {},
   "source": [
    "# L"
   ]
  },
  {
   "cell_type": "markdown",
   "id": "18",
   "metadata": {},
   "source": [
    "* List\n",
    "    * [list element bragg edges](list_element_bragg_edges.ipynb)\n",
    "    * [list metadata and time with oncat](list_metadata_and_time_with_oncat.ipynb)\n",
    "    * [list tiff metadata](list_tiff_metadata.ipynb)"
   ]
  },
  {
   "cell_type": "markdown",
   "id": "19",
   "metadata": {},
   "source": [
    "# M"
   ]
  },
  {
   "cell_type": "markdown",
   "id": "20",
   "metadata": {},
   "source": [
    "* [match images shapes](match_images_shapes.ipynb)\n",
    "* [math images](math_images.ipynb)\n",
    "* [mcp chips corrector](mcp_chips_corrector.ipynb)\n",
    "* Metadata\n",
    "    * [metadata ascii parser](metadata_ascii_parser.ipynb)\n",
    "    * [metadata overlapping images](metadata_overlapping_images.ipynb)"
   ]
  },
  {
   "cell_type": "markdown",
   "id": "21",
   "metadata": {},
   "source": [
    "# N"
   ]
  },
  {
   "cell_type": "markdown",
   "id": "22",
   "metadata": {},
   "source": [
    "* [normalization](normalization.ipynb)\n",
    "* [normalization with simplify selection](normalization_with_simplify_selection.ipynb)"
   ]
  },
  {
   "cell_type": "markdown",
   "id": "23",
   "metadata": {},
   "source": [
    "# O"
   ]
  },
  {
   "cell_type": "markdown",
   "id": "24",
   "metadata": {},
   "source": [
    "* [outliers filtering](outliers_filtering_tool.ipynb)\n",
    "* [overlay images](overlay_images.ipynb)"
   ]
  },
  {
   "cell_type": "markdown",
   "id": "25",
   "metadata": {},
   "source": [
    "# P"
   ]
  },
  {
   "cell_type": "markdown",
   "id": "26",
   "metadata": {},
   "source": [
    "* [panoramic stitching](panoramic_stitching.ipynb)\n",
    "* [panoramic stitching for tof](panoramic_stitching_for_tof.ipynb)\n",
    "* Profile\n",
    "    * [bragg edge profile](bragg_edge_profile.ipynb)\n",
    "    * [circular profile of a ring](circular_profile_of_a_ring.ipynb)\n",
    "    * [linear profile](profile.ipynb)\n",
    "    * [radial profile](radial_profile.ipynb)\n",
    "    * [water intake profile_calculator](water_intake_profile_calculator.ipynb)"
   ]
  },
  {
   "cell_type": "markdown",
   "id": "27",
   "metadata": {},
   "source": [
    "# R"
   ]
  },
  {
   "cell_type": "markdown",
   "id": "28",
   "metadata": {},
   "source": [
    "* [radial profile](radial_profile.ipynb)\n",
    "* [registration using various techniques](registration.ipynb)\n",
    "* [registration using pystackreg library](images_registration.ipynb)\n",
    "* [rename files](rename_files.ipynb)\n",
    "* [resonance imaging experiment vs theory](resonance_imaging_experiment_vs_theory.ipynb) (under development)\n",
    "* [roi statistics for a stack of images](roi_statistics_vs_stack.ipynb)\n",
    "* [rotate and crop images](rotate_and_crop_images.ipynb)"
   ]
  },
  {
   "cell_type": "markdown",
   "id": "29",
   "metadata": {},
   "source": [
    "# S"
   ]
  },
  {
   "cell_type": "markdown",
   "id": "30",
   "metadata": {},
   "source": [
    "* [scale overlapping images](scale_overlapping_images.ipynb)\n",
    "* [shifting time offset](shifting_time_offset.ipynb)"
   ]
  },
  {
   "cell_type": "markdown",
   "id": "1c07e3b2",
   "metadata": {},
   "source": [
    "# V"
   ]
  },
  {
   "cell_type": "markdown",
   "id": "5b9e20d0",
   "metadata": {},
   "source": [
    "* [Display time delay of chopper and monitor counts for list of NeXus selected](venus_chop_tcero_monitor_counts.ipynb)\n",
    "* [Display monitor counts for a given NeXus file](venus_monitor_hdf5.ipynb)\n",
    "* [list of NeXus with proton charge above a user defined threshold](venus_list_of_nexus_with_pc_above_threshold.ipynb)\n",
    "\n"
   ]
  },
  {
   "cell_type": "markdown",
   "id": "31",
   "metadata": {},
   "source": [
    "# W"
   ]
  },
  {
   "cell_type": "markdown",
   "id": "32",
   "metadata": {},
   "source": [
    "* [water intake profile_calculator](water_intake_profile_calculator.ipynb)\n",
    "* [wave front dynamics](wave_front_dynamics.ipynb)"
   ]
  },
  {
   "cell_type": "markdown",
   "id": "33",
   "metadata": {},
   "source": [
    "# Super User "
   ]
  },
  {
   "cell_type": "code",
   "execution_count": null,
   "id": "34",
   "metadata": {},
   "outputs": [],
   "source": [
    "from __code.super_user import SuperUser\n",
    "a = SuperUser()"
   ]
  },
  {
   "cell_type": "code",
   "execution_count": null,
   "id": "35",
   "metadata": {},
   "outputs": [],
   "source": []
  },
  {
   "cell_type": "code",
   "execution_count": null,
   "id": "36",
   "metadata": {},
   "outputs": [],
   "source": []
  }
 ],
 "metadata": {
  "kernelspec": {
   "display_name": "Python 3 (ipykernel)",
   "language": "python",
   "name": "python3"
  },
  "language_info": {
   "codemirror_mode": {
    "name": "ipython",
    "version": 3
   },
   "file_extension": ".py",
   "mimetype": "text/x-python",
   "name": "python",
   "nbconvert_exporter": "python",
   "pygments_lexer": "ipython3",
   "version": "3.10.8"
  }
 },
 "nbformat": 4,
 "nbformat_minor": 5
}
