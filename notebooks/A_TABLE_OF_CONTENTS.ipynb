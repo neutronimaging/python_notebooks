{
 "cells": [
  {
   "cell_type": "markdown",
   "id": "606588c8",
   "metadata": {},
   "source": [
    "# Table of contents "
   ]
  },
  {
   "cell_type": "markdown",
   "id": "7bd8c9d8",
   "metadata": {},
   "source": [
    "# B"
   ]
  },
  {
   "cell_type": "markdown",
   "id": "1dd4ffb1",
   "metadata": {},
   "source": [
    "* [bin images](bin_images.ipynb) \n",
    "* Bragg Edge\n",
    "    * [bragg edge normalization](bragg_edge_normalization.ipynb)\n",
    "    * [bragg edge normalized sample and powder](bragg_edge_normalized_sample_and_powder.ipynb)\n",
    "    * [bragg edge raw sample and powder](bragg_edge_raw_sample_and_powder.ipynb)\n",
    "    * [bragg edge profile](bragg_edge_profile.ipynb)\n",
    "    * [list element bragg edges](list_element_bragg_edges.ipynb)"
   ]
  },
  {
   "cell_type": "markdown",
   "id": "5f9f4cb1",
   "metadata": {},
   "source": [
    "# C"
   ]
  },
  {
   "cell_type": "markdown",
   "id": "7b21e0a3",
   "metadata": {},
   "source": [
    "* [calibrated transmission](calibrated_transmission.ipynb)\n",
    "* [circular profile of a ring](circular_profile_of_a_ring.ipynb)\n",
    "* Combine\n",
    "    * [combine all images selected](combine_all_images_selected.ipynb)\n",
    "    * [combine folders](combine_folders.ipynb)\n",
    "    * [combine images n by n](combine_images_n_by_n.ipynb)\n",
    "    * [combine images without outliers](combine_images_without_outliers.ipynb)\n",
    "* [create list of file name vs time stamp](create_list_of_file_name_vs_time_stamp.ipynb)\n",
    "* [cylindrical geometry correction](cylindrical_geometry_correction.ipynb)"
   ]
  },
  {
   "cell_type": "markdown",
   "id": "6bb590ef",
   "metadata": {},
   "source": [
    "# D"
   ]
  },
  {
   "cell_type": "markdown",
   "id": "8bec10cd",
   "metadata": {},
   "source": [
    "* [deal images](deal_images.ipynb)\n",
    "* Display\n",
    "    * [display and export images with metadata profile](display_and_export_images_with_metadata_profile.ipynb)\n",
    "    * [display and export images with timestamp](display_and_export_images_with_timestamp.ipynb)\n",
    "    * [display counts of region vs stack](display_counts_of_region_vs_stack.ipynb)\n",
    "    * [display file names vs time stamp](display_file_names_vs_time_stamp.ipynb)\n",
    "    * [display integrated stack of images](display_integrated_stack_of_images.ipynb)\n",
    "* [dual energy](dual_energy.ipynb)"
   ]
  },
  {
   "cell_type": "markdown",
   "id": "5d5e0886",
   "metadata": {},
   "source": [
    "# E"
   ]
  },
  {
   "cell_type": "markdown",
   "id": "7826c7af",
   "metadata": {},
   "source": [
    "* Extract\n",
    "    * [extract evenly spaced files](extract_evenly_spaced_files.ipynb)\n",
    "    * [extract NeXus daslogs](extract_nexus_daslogs.ipynb)"
   ]
  },
  {
   "cell_type": "markdown",
   "id": "cc77393b",
   "metadata": {},
   "source": [
    "# F "
   ]
  },
  {
   "cell_type": "markdown",
   "id": "1b82c1f8",
   "metadata": {},
   "source": [
    "* Fix\n",
    "    * [fix images](fix_images.ipynb)\n",
    "    * [fix images with negative pixels](fix_images_with_negative_pixels.ipynb)\n",
    "* [from attenuation to concentration](from_attenuation_to_concentration.ipynb)\n",
    "* [from dsc_time info to ascii file vs time](from_dsc_time_info_to_ascii_file_vs_time.ipynb)"
   ]
  },
  {
   "cell_type": "markdown",
   "id": "747047cc",
   "metadata": {},
   "source": [
    "# G"
   ]
  },
  {
   "cell_type": "markdown",
   "id": "6588fb72",
   "metadata": {},
   "source": [
    "* [group images by cycle for panoramic stitching](group_images_by_cycle_for_panoramic_stitching.ipynb)"
   ]
  },
  {
   "cell_type": "markdown",
   "id": "9bef9c93",
   "metadata": {},
   "source": [
    "# H"
   ]
  },
  {
   "cell_type": "markdown",
   "id": "0be05763",
   "metadata": {},
   "source": [
    "* [HFIR reactor element analysis](hfir_reactor_element_analysis.ipynb)"
   ]
  },
  {
   "cell_type": "markdown",
   "id": "d54bb8ca",
   "metadata": {},
   "source": [
    "# I"
   ]
  },
  {
   "cell_type": "markdown",
   "id": "39bb7914",
   "metadata": {},
   "source": [
    "* [images and metadata extrapolation matcher](images_and_metadata_extrapolation_matcher.ipynb)\n",
    "* [integrated roi counts vs file name and time stamp](integrated_roi_counts_vs_file_name_and_time_stamp.ipynb)"
   ]
  },
  {
   "cell_type": "markdown",
   "id": "c0e8ae86",
   "metadata": {},
   "source": [
    "# L"
   ]
  },
  {
   "cell_type": "markdown",
   "id": "3dc69e03",
   "metadata": {},
   "source": [
    "* List\n",
    "    * [list element bragg edges](list_element_bragg_edges.ipynb)\n",
    "    * [list metadata and time with oncat](list_metadata_and_time_with_oncat.ipynb)\n",
    "    * [list tiff metadata](list_tiff_metadata.ipynb)"
   ]
  },
  {
   "cell_type": "markdown",
   "id": "88dffd8d",
   "metadata": {},
   "source": [
    "# M"
   ]
  },
  {
   "cell_type": "markdown",
   "id": "7060c8be",
   "metadata": {},
   "source": [
    "* [math images](math_images.ipynb)\n",
    "* [mcp chips corrector](mcp_chips_corrector.ipynb)\n",
    "* Metadata\n",
    "    * [metadata ascii parser](metadata_ascii_parser.ipynb)\n",
    "    * [metadata overlapping images](metadata_overlapping_images.ipynb)"
   ]
  },
  {
   "cell_type": "markdown",
   "id": "97a488f2",
   "metadata": {},
   "source": [
    "# N"
   ]
  },
  {
   "cell_type": "markdown",
   "id": "2bd15ee8",
   "metadata": {},
   "source": [
    "* [normalization](normalization.ipynb)\n",
    "* [normalization with simplify selection](normalization_with_simplify_selection.ipynb)"
   ]
  },
  {
   "cell_type": "markdown",
   "id": "6ac9e0f6",
   "metadata": {},
   "source": [
    "# O"
   ]
  },
  {
   "cell_type": "markdown",
   "id": "b1b28d52",
   "metadata": {},
   "source": [
    "* [outliers filtering](outliers_filtering_tool.ipynb)\n",
    "* [overlay images](overlay_images.ipynb)"
   ]
  },
  {
   "cell_type": "markdown",
   "id": "b1837d4c",
   "metadata": {},
   "source": [
    "# P"
   ]
  },
  {
   "cell_type": "markdown",
   "id": "b241f827",
   "metadata": {},
   "source": [
    "* [panoramic stitching](panoramic_stitching.ipynb)\n",
    "* [panoramic stitching for tof](panoramic_stitching_for_tof.ipynb)\n",
    "* Profile\n",
    "    * [bragg edge profile](bragg_edge_profile.ipynb)\n",
    "    * [profile](profile.ipynb)\n",
    "    * [radial profile](radial_profile.ipynb)\n",
    "    * [water intake profile_calculator](water_intake_profile_calculator.ipynb)"
   ]
  },
  {
   "cell_type": "markdown",
   "id": "aacf8dd8",
   "metadata": {},
   "source": [
    "# R"
   ]
  },
  {
   "cell_type": "markdown",
   "id": "2e22fbdd",
   "metadata": {},
   "source": [
    "* [radial profile](radial_profile.ipynb)\n",
    "* [registration](registration.ipynb)\n",
    "* [rename files](rename_files.ipynb)\n",
    "* [resonance imaging experiment vs theory](resonance_imaging_experiment_vs_theory.ipynb)\n",
    "* [roi statistics for a stack of images](roi_statistics_vs_stack.ipynb)\n",
    "* [rotate and crop images](rotate_and_crop_images.ipynb)"
   ]
  },
  {
   "cell_type": "markdown",
   "id": "11b1e1ed",
   "metadata": {},
   "source": [
    "# S"
   ]
  },
  {
   "cell_type": "markdown",
   "id": "54f9637b",
   "metadata": {},
   "source": [
    "* [scale overlapping images](scale_overlapping_images.ipynb)\n",
    "* [sequential combine images using metadata](sequential_combine_images_using_metadata.ipynb)\n",
    "* [shifting time offset](shifting_time_offset.ipynb)"
   ]
  },
  {
   "cell_type": "markdown",
   "id": "563d2e32",
   "metadata": {},
   "source": [
    "# W"
   ]
  },
  {
   "cell_type": "markdown",
   "id": "3b244142",
   "metadata": {},
   "source": [
    "* [water intake profile_calculator](water_intake_profile_calculator.ipynb)\n",
    "* [wave front dynamics](wave_front_dynamics.ipynb)"
   ]
  },
  {
   "cell_type": "markdown",
   "id": "8b14e77f",
   "metadata": {},
   "source": [
    "# Super User "
   ]
  },
  {
   "cell_type": "code",
   "execution_count": 1,
   "id": "cce82a55",
   "metadata": {
    "scrolled": false
   },
   "outputs": [
    {
     "data": {
      "application/vnd.jupyter.widget-view+json": {
       "model_id": "88c1c51389e04dd8b0e5c1df05e86af1",
       "version_major": 2,
       "version_minor": 0
      },
      "text/plain": [
       "VBox(children=(Password(description='Password', placeholder='Enter password'), HTML(value='<hr>'), Checkbox(va…"
      ]
     },
     "metadata": {},
     "output_type": "display_data"
    }
   ],
   "source": [
    "from __code.super_user import SuperUser\n",
    "a = SuperUser()"
   ]
  },
  {
   "cell_type": "code",
   "execution_count": null,
   "id": "8f55ba08",
   "metadata": {},
   "outputs": [],
   "source": []
  },
  {
   "cell_type": "code",
   "execution_count": null,
   "id": "1a13b3ea",
   "metadata": {},
   "outputs": [],
   "source": []
  }
 ],
 "metadata": {
  "kernelspec": {
   "display_name": "Python 3",
   "language": "python",
   "name": "python3"
  },
  "language_info": {
   "codemirror_mode": {
    "name": "ipython",
    "version": 3
   },
   "file_extension": ".py",
   "mimetype": "text/x-python",
   "name": "python",
   "nbconvert_exporter": "python",
   "pygments_lexer": "ipython3",
   "version": "3.7.12"
  }
 },
 "nbformat": 4,
 "nbformat_minor": 5
}
