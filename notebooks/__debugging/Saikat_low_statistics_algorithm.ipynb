{
 "cells": [
  {
   "cell_type": "markdown",
   "metadata": {
    "run_control": {
     "frozen": false,
     "read_only": false
    }
   },
   "source": [
    "This notebook will calculate the edge of a signal for very low statistics data\n",
    "\n",
    "It is recommended that you narrow down the number of files to work on using ImageJ"
   ]
  },
  {
   "cell_type": "markdown",
   "metadata": {
    "run_control": {
     "frozen": false,
     "read_only": false
    }
   },
   "source": [
    "[![Notebook Tutorial](../__code/__all/notebook_tutorial.png)](https://neutronimaging.pages.ornl.gov/en/tutorial/)"
   ]
  },
  {
   "cell_type": "markdown",
   "metadata": {
    "run_control": {
     "frozen": false,
     "read_only": false
    }
   },
   "source": [
    "<img src='../__docs/__all/notebook_rules.png' />"
   ]
  },
  {
   "cell_type": "code",
   "execution_count": 1,
   "metadata": {
    "run_control": {
     "frozen": false,
     "read_only": false
    }
   },
   "outputs": [
    {
     "data": {
      "text/html": [
       "\n",
       "<style type=\"text/css\">\n",
       ".jupyter-widgets select option {font-family: \"Lucida Console\", Monaco, monospace;}\n",
       ".jupyter-widgets select {width: 98%;}\n",
       "div.output_subarea {padding: 0px;}\n",
       "div.output_subarea > div {margin: 0.4em;}\n",
       "</style>\n"
      ],
      "text/plain": [
       "<IPython.core.display.HTML object>"
      ]
     },
     "metadata": {},
     "output_type": "display_data"
    },
    {
     "data": {
      "text/html": [
       "\n",
       "                       <style>\n",
       "                       .result_label {\n",
       "                          font-style: bold;\n",
       "                          color: red;\n",
       "                          font-size: 18px;\n",
       "                       }\n",
       "                       </style>\n",
       "                       "
      ],
      "text/plain": [
       "<IPython.core.display.HTML object>"
      ]
     },
     "metadata": {},
     "output_type": "display_data"
    },
    {
     "name": "stdout",
     "output_type": "stream",
     "text": [
      "** Using Debugging Mode! **\n"
     ]
    },
    {
     "data": {
      "application/vnd.jupyter.widget-view+json": {
       "model_id": "3804d1aeffbc4873803a78418ef8ff39",
       "version_major": 2,
       "version_minor": 0
      },
      "text/html": [
       "<p>Failed to display Jupyter Widget of type <code>VBox</code>.</p>\n",
       "<p>\n",
       "  If you're reading this message in Jupyter Notebook or JupyterLab, it may mean\n",
       "  that the widgets JavaScript is still loading. If this message persists, it\n",
       "  likely means that the widgets JavaScript library is either not installed or\n",
       "  not enabled. See the <a href=\"https://ipywidgets.readthedocs.io/en/stable/user_install.html\">Jupyter\n",
       "  Widgets Documentation</a> for setup instructions.\n",
       "</p>\n",
       "<p>\n",
       "  If you're reading this message in another notebook frontend (for example, a static\n",
       "  rendering on GitHub or <a href=\"https://nbviewer.jupyter.org/\">NBViewer</a>),\n",
       "  it may mean that your frontend doesn't currently support widgets.\n",
       "</p>\n"
      ],
      "text/plain": [
       "VBox(children=(HBox(children=(Label(value='IPTS-'), Text(value='', layout=Layout(width='10%')), Label(value='DOES NOT EXIST!', layout=Layout(width='20%'), _dom_classes=('result_label',)))), Label(value='OR'), HBox(children=(Label(value='Select Folder', layout=Layout(width='20%')), Select(layout=Layout(height='300px'), options=('BraggEdge', 'Brianne', 'DOE_letters', 'FITSimages', 'IPTS-12534', 'IPTS-13639_resonance_shawn', 'IPTS-14832', 'IPTS-15177', 'IPTS-16212', 'IPTS-16259', 'IPTS-16475', 'IPTS-16893', 'IPTS-17099', 'IPTS-17685-Siddharth', 'IPTS-17981', 'IPTS-18580', 'IPTS-18806', 'IPTS-18813', 'IPTS-19037', 'IPTS-19213', 'IPTS-19558', 'IPTS-19621', 'IPTS-19626', 'IPTS-19799', 'IPTS-19921-Charles', 'IPTS-20209-TOPAZ', 'IPTS-Das-Saikat', 'IPTS_test_normalization', 'IPTS_testing_time_spectra', 'ImagesToRegisterForGian', 'Indu', 'Keita_code', 'Pour_ibeatles_video', 'ResonanceImaging', 'SENSITIVE', 'SarmaGUI', 'SphereCoordinates3D', 'TempData', 'gian', 'iBeatles_debugging', 'shared', 'testing_Ed_algo_water_intake'), value='BraggEdge'))), Button(button_style='info', description='HELP', style=ButtonStyle())))"
      ]
     },
     "metadata": {},
     "output_type": "display_data"
    }
   ],
   "source": [
    "import glob\n",
    "import os\n",
    "\n",
    "import matplotlib.pyplot as plt\n",
    "import matplotlib.gridspec as gridspec\n",
    "import matplotlib.patches as patches\n",
    "% matplotlib notebook\n",
    "\n",
    "import numpy as np\n",
    "from scipy.ndimage import convolve\n",
    "\n",
    "from ipywidgets import interact, widgets\n",
    "\n",
    "import ipywe.fileselector\n",
    "\n",
    "from NeuNorm.normalization import Normalization\n",
    "\n",
    "import sys\n",
    "sys.path.insert(0, os.path.abspath('..'))\n",
    "from __code import system\n",
    "\n",
    "system.System.select_working_dir()"
   ]
  },
  {
   "cell_type": "markdown",
   "metadata": {
    "run_control": {
     "frozen": false,
     "read_only": false
    }
   },
   "source": [
    "# Define input data files "
   ]
  },
  {
   "cell_type": "markdown",
   "metadata": {
    "run_control": {
     "frozen": false,
     "read_only": false
    }
   },
   "source": [
    "## User input here "
   ]
  },
  {
   "cell_type": "code",
   "execution_count": 2,
   "metadata": {
    "run_control": {
     "frozen": false,
     "read_only": false
    }
   },
   "outputs": [
    {
     "data": {
      "application/vnd.jupyter.widget-view+json": {
       "model_id": "69deb9671a4c4c80a97441d4f44c4755",
       "version_major": 2,
       "version_minor": 0
      },
      "text/html": [
       "<p>Failed to display Jupyter Widget of type <code>VBox</code>.</p>\n",
       "<p>\n",
       "  If you're reading this message in Jupyter Notebook or JupyterLab, it may mean\n",
       "  that the widgets JavaScript is still loading. If this message persists, it\n",
       "  likely means that the widgets JavaScript library is either not installed or\n",
       "  not enabled. See the <a href=\"https://ipywidgets.readthedocs.io/en/stable/user_install.html\">Jupyter\n",
       "  Widgets Documentation</a> for setup instructions.\n",
       "</p>\n",
       "<p>\n",
       "  If you're reading this message in another notebook frontend (for example, a static\n",
       "  rendering on GitHub or <a href=\"https://nbviewer.jupyter.org/\">NBViewer</a>),\n",
       "  it may mean that your frontend doesn't currently support widgets.\n",
       "</p>\n"
      ],
      "text/plain": [
       "VBox(children=(Label(value='Select Images...', layout=Layout(width='250px')), VBox(children=(HBox(children=(HBox(children=(Text(value='/Volumes/my_book_thunderbolt_duo/IPTS/IPTS-Das-Saikat', description='Location: ', layout=Layout(width='100%'), placeholder=''), Button(description='Jump', layout=Layout(border='1px solid gray', margin='5px 10px', width='100px'), style=ButtonStyle())), layout=Layout(border='1px solid lightgrey', margin='5px 50px 5px 5px', padding='3px', width='100%')),)), HBox(children=(VBox(children=(HBox(children=(Label(value='Search:'), Text(value='', layout=Layout(width='50%'))), layout=Layout(justify_content='flex-end')), SelectMultiple(description='Select', layout=Layout(height='260px', width='99%'), options=(' .', ' ..', ' .DS_Store                 |     Mon Apr 16 16:35:54 2018', ' only_data_of_interest     |     Directory', ' renamed_water200          |     Directory'), value=())), layout=Layout(width='80%')), VBox(children=(Button(description='Change directory', layout=Layout(border='1px solid gray', margin='5px 40px'), style=ButtonStyle()), Button(description='Select', layout=Layout(border='1px solid blue', margin='auto 40px 5px'), style=ButtonStyle())))), layout=Layout(border='1px solid lightgrey', margin='5px', padding='10px')))), HTML(value='')))"
      ]
     },
     "metadata": {},
     "output_type": "display_data"
    }
   ],
   "source": [
    "list_files_ui = ipywe.fileselector.FileSelectorPanel(instruction='Select Images...',\n",
    "                                                      multiple=True,\n",
    "                                                      start_dir = system.System.get_working_dir())\n",
    "list_files_ui.show()"
   ]
  },
  {
   "cell_type": "markdown",
   "metadata": {
    "run_control": {
     "frozen": false,
     "read_only": false
    }
   },
   "source": [
    "# Loading and preview of the data "
   ]
  },
  {
   "cell_type": "code",
   "execution_count": 3,
   "metadata": {
    "run_control": {
     "frozen": false,
     "read_only": false
    }
   },
   "outputs": [
    {
     "data": {
      "application/vnd.jupyter.widget-view+json": {
       "model_id": "420272def1704537b58cdd3b98982742",
       "version_major": 2,
       "version_minor": 0
      },
      "text/html": [
       "<p>Failed to display Jupyter Widget of type <code>HBox</code>.</p>\n",
       "<p>\n",
       "  If you're reading this message in Jupyter Notebook or JupyterLab, it may mean\n",
       "  that the widgets JavaScript is still loading. If this message persists, it\n",
       "  likely means that the widgets JavaScript library is either not installed or\n",
       "  not enabled. See the <a href=\"https://ipywidgets.readthedocs.io/en/stable/user_install.html\">Jupyter\n",
       "  Widgets Documentation</a> for setup instructions.\n",
       "</p>\n",
       "<p>\n",
       "  If you're reading this message in another notebook frontend (for example, a static\n",
       "  rendering on GitHub or <a href=\"https://nbviewer.jupyter.org/\">NBViewer</a>),\n",
       "  it may mean that your frontend doesn't currently support widgets.\n",
       "</p>\n"
      ],
      "text/plain": [
       "HBox(children=(Label(value='Loading sample', layout=Layout(width='20%')), IntProgress(value=0, max=10), Label(value='Time remaining:', layout=Layout(width='10%')), Label(value=' >> calculating << ')))"
      ]
     },
     "metadata": {},
     "output_type": "display_data"
    },
    {
     "data": {
      "application/vnd.jupyter.widget-view+json": {
       "model_id": "2fb1dd104ea74078ac5b94eb22acf72d",
       "version_major": 2,
       "version_minor": 0
      },
      "text/html": [
       "<p>Failed to display Jupyter Widget of type <code>interactive</code>.</p>\n",
       "<p>\n",
       "  If you're reading this message in Jupyter Notebook or JupyterLab, it may mean\n",
       "  that the widgets JavaScript is still loading. If this message persists, it\n",
       "  likely means that the widgets JavaScript library is either not installed or\n",
       "  not enabled. See the <a href=\"https://ipywidgets.readthedocs.io/en/stable/user_install.html\">Jupyter\n",
       "  Widgets Documentation</a> for setup instructions.\n",
       "</p>\n",
       "<p>\n",
       "  If you're reading this message in another notebook frontend (for example, a static\n",
       "  rendering on GitHub or <a href=\"https://nbviewer.jupyter.org/\">NBViewer</a>),\n",
       "  it may mean that your frontend doesn't currently support widgets.\n",
       "</p>\n"
      ],
      "text/plain": [
       "interactive(children=(IntSlider(value=0, continuous_update=False, description='index', max=9), Output()), _dom_classes=('widget-interact',))"
      ]
     },
     "metadata": {},
     "output_type": "display_data"
    },
    {
     "data": {
      "text/plain": [
       "<function __main__.plot>"
      ]
     },
     "execution_count": 3,
     "metadata": {},
     "output_type": "execute_result"
    }
   ],
   "source": [
    "list_files = list_files_ui.selected\n",
    "\n",
    "o_norm = Normalization()\n",
    "o_norm.load(file=list_files, notebook=True)\n",
    "data = o_norm.data['sample']['data']\n",
    "\n",
    "def plot(index):\n",
    "    fig, ax = plt.subplots(figsize=(5,5))\n",
    "    cax = ax.imshow(data[index], cmap='viridis')\n",
    "    fig.colorbar(cax)\n",
    "interact(plot,\n",
    "        index=widgets.IntSlider(min=0,\n",
    "                         max=len(data)-1,\n",
    "                         value=0,\n",
    "                         continuous_update=False\n",
    "                           ))"
   ]
  },
  {
   "cell_type": "markdown",
   "metadata": {
    "run_control": {
     "frozen": false,
     "read_only": false
    }
   },
   "source": [
    "# Crop "
   ]
  },
  {
   "cell_type": "markdown",
   "metadata": {
    "run_control": {
     "frozen": false,
     "read_only": false
    }
   },
   "source": [
    "## User input here "
   ]
  },
  {
   "cell_type": "code",
   "execution_count": 4,
   "metadata": {
    "run_control": {
     "frozen": false,
     "read_only": false
    }
   },
   "outputs": [],
   "source": [
    "x0_crop = 0\n",
    "x1_crop = 460\n",
    "y0_crop = 232\n",
    "y1_crop = 285"
   ]
  },
  {
   "cell_type": "markdown",
   "metadata": {
    "run_control": {
     "frozen": false,
     "read_only": false
    }
   },
   "source": [
    "# Cropping the data "
   ]
  },
  {
   "cell_type": "code",
   "execution_count": 5,
   "metadata": {
    "run_control": {
     "frozen": false,
     "read_only": false
    }
   },
   "outputs": [
    {
     "data": {
      "application/vnd.jupyter.widget-view+json": {
       "model_id": "cd87229e788c442eac0160c0c05b7cfc",
       "version_major": 2,
       "version_minor": 0
      },
      "text/html": [
       "<p>Failed to display Jupyter Widget of type <code>interactive</code>.</p>\n",
       "<p>\n",
       "  If you're reading this message in Jupyter Notebook or JupyterLab, it may mean\n",
       "  that the widgets JavaScript is still loading. If this message persists, it\n",
       "  likely means that the widgets JavaScript library is either not installed or\n",
       "  not enabled. See the <a href=\"https://ipywidgets.readthedocs.io/en/stable/user_install.html\">Jupyter\n",
       "  Widgets Documentation</a> for setup instructions.\n",
       "</p>\n",
       "<p>\n",
       "  If you're reading this message in another notebook frontend (for example, a static\n",
       "  rendering on GitHub or <a href=\"https://nbviewer.jupyter.org/\">NBViewer</a>),\n",
       "  it may mean that your frontend doesn't currently support widgets.\n",
       "</p>\n"
      ],
      "text/plain": [
       "interactive(children=(IntSlider(value=0, continuous_update=False, description='index', max=9), Output()), _dom_classes=('widget-interact',))"
      ]
     },
     "metadata": {},
     "output_type": "display_data"
    },
    {
     "data": {
      "text/plain": [
       "<function __main__.plot>"
      ]
     },
     "execution_count": 5,
     "metadata": {},
     "output_type": "execute_result"
    }
   ],
   "source": [
    "crop_data = [_data[y0_crop:y1_crop, x0_crop:x1_crop] for _data in data]\n",
    "\n",
    "def plot(index):\n",
    "    fig, ax = plt.subplots(figsize=(12,2))\n",
    "    cax = ax.imshow(crop_data[index], cmap='viridis')\n",
    "    fig.colorbar(cax)\n",
    "interact(plot,\n",
    "        index=widgets.IntSlider(min=0,\n",
    "                         max=len(data)-1,\n",
    "                         value=0,\n",
    "                         continuous_update=False\n",
    "                           ))"
   ]
  },
  {
   "cell_type": "markdown",
   "metadata": {
    "run_control": {
     "frozen": false,
     "read_only": false
    }
   },
   "source": [
    "# Trying to reverse signal\n",
    "\n",
    "Will take the max intensity and reverse all the values\n",
    "\n",
    "```\n",
    "new_pixel = max_value_of_image - old_pixel\n",
    "```"
   ]
  },
  {
   "cell_type": "code",
   "execution_count": 6,
   "metadata": {
    "run_control": {
     "frozen": false,
     "read_only": false
    }
   },
   "outputs": [
    {
     "data": {
      "application/vnd.jupyter.widget-view+json": {
       "model_id": "b448eb88261c49c4a4dad6dc0977b0e0",
       "version_major": 2,
       "version_minor": 0
      },
      "text/html": [
       "<p>Failed to display Jupyter Widget of type <code>interactive</code>.</p>\n",
       "<p>\n",
       "  If you're reading this message in Jupyter Notebook or JupyterLab, it may mean\n",
       "  that the widgets JavaScript is still loading. If this message persists, it\n",
       "  likely means that the widgets JavaScript library is either not installed or\n",
       "  not enabled. See the <a href=\"https://ipywidgets.readthedocs.io/en/stable/user_install.html\">Jupyter\n",
       "  Widgets Documentation</a> for setup instructions.\n",
       "</p>\n",
       "<p>\n",
       "  If you're reading this message in another notebook frontend (for example, a static\n",
       "  rendering on GitHub or <a href=\"https://nbviewer.jupyter.org/\">NBViewer</a>),\n",
       "  it may mean that your frontend doesn't currently support widgets.\n",
       "</p>\n"
      ],
      "text/plain": [
       "interactive(children=(IntSlider(value=0, continuous_update=False, description='index', max=9), Output()), _dom_classes=('widget-interact',))"
      ]
     },
     "metadata": {},
     "output_type": "display_data"
    },
    {
     "data": {
      "text/plain": [
       "<function __main__.plot>"
      ]
     },
     "execution_count": 6,
     "metadata": {},
     "output_type": "execute_result"
    }
   ],
   "source": [
    "max_values = [np.max(_data) for _data in crop_data]\n",
    "crop_data_reversed = [(_max_value - _data) for (_data, _max_value) in zip(crop_data, max_values)]\n",
    "\n",
    "def plot(index):\n",
    "    fig, ax = plt.subplots(figsize=(12,2))\n",
    "    cax = ax.imshow(crop_data_reversed[index], cmap='viridis')\n",
    "    fig.colorbar(cax)\n",
    "interact(plot,\n",
    "        index=widgets.IntSlider(min=0,\n",
    "                         max=len(data)-1,\n",
    "                         value=0,\n",
    "                         continuous_update=False\n",
    "                           ))"
   ]
  },
  {
   "cell_type": "markdown",
   "metadata": {
    "run_control": {
     "frozen": false,
     "read_only": false
    }
   },
   "source": [
    "# Basic histogram segmentation "
   ]
  },
  {
   "cell_type": "markdown",
   "metadata": {
    "run_control": {
     "frozen": false,
     "read_only": false
    }
   },
   "source": [
    "## User input here "
   ]
  },
  {
   "cell_type": "code",
   "execution_count": 7,
   "metadata": {
    "run_control": {
     "frozen": false,
     "read_only": false
    }
   },
   "outputs": [],
   "source": [
    "# define threshold value\n",
    "threshold = np.array(max_values) - 1  # we remove all the pixels that are below the max value"
   ]
  },
  {
   "cell_type": "markdown",
   "metadata": {
    "run_control": {
     "frozen": false,
     "read_only": false
    }
   },
   "source": [
    "## segmentation "
   ]
  },
  {
   "cell_type": "code",
   "execution_count": 8,
   "metadata": {
    "run_control": {
     "frozen": false,
     "read_only": false
    }
   },
   "outputs": [
    {
     "data": {
      "application/vnd.jupyter.widget-view+json": {
       "model_id": "301b3b26ffc54a2a853281bd864bc0fb",
       "version_major": 2,
       "version_minor": 0
      },
      "text/html": [
       "<p>Failed to display Jupyter Widget of type <code>interactive</code>.</p>\n",
       "<p>\n",
       "  If you're reading this message in Jupyter Notebook or JupyterLab, it may mean\n",
       "  that the widgets JavaScript is still loading. If this message persists, it\n",
       "  likely means that the widgets JavaScript library is either not installed or\n",
       "  not enabled. See the <a href=\"https://ipywidgets.readthedocs.io/en/stable/user_install.html\">Jupyter\n",
       "  Widgets Documentation</a> for setup instructions.\n",
       "</p>\n",
       "<p>\n",
       "  If you're reading this message in another notebook frontend (for example, a static\n",
       "  rendering on GitHub or <a href=\"https://nbviewer.jupyter.org/\">NBViewer</a>),\n",
       "  it may mean that your frontend doesn't currently support widgets.\n",
       "</p>\n"
      ],
      "text/plain": [
       "interactive(children=(IntSlider(value=0, continuous_update=False, description='index', max=9), Output()), _dom_classes=('widget-interact',))"
      ]
     },
     "metadata": {},
     "output_type": "display_data"
    },
    {
     "data": {
      "text/plain": [
       "<function __main__.plot>"
      ]
     },
     "execution_count": 8,
     "metadata": {},
     "output_type": "execute_result"
    }
   ],
   "source": [
    "segmented_data = []\n",
    "for _index, _data in enumerate(crop_data_reversed):\n",
    "    _index = _data <= threshold[_index]\n",
    "    _data[_index] = np.NaN\n",
    "    segmented_data.append(_data)\n",
    "    \n",
    "def plot(index):\n",
    "    fig, ax = plt.subplots(figsize=(12,2))\n",
    "    cax = ax.imshow(segmented_data[index], cmap='viridis')\n",
    "    fig.colorbar(cax)\n",
    "interact(plot,\n",
    "        index=widgets.IntSlider(min=0,\n",
    "                         max=len(data)-1,\n",
    "                         value=0,\n",
    "                         continuous_update=False\n",
    "                           ))"
   ]
  },
  {
   "cell_type": "markdown",
   "metadata": {
    "run_control": {
     "frozen": false,
     "read_only": false
    }
   },
   "source": [
    "# Profile along x-axis "
   ]
  },
  {
   "cell_type": "code",
   "execution_count": 9,
   "metadata": {
    "run_control": {
     "frozen": false,
     "read_only": false
    }
   },
   "outputs": [
    {
     "data": {
      "application/vnd.jupyter.widget-view+json": {
       "model_id": "f7a54f78992e49139119ac6817ba2afd",
       "version_major": 2,
       "version_minor": 0
      },
      "text/html": [
       "<p>Failed to display Jupyter Widget of type <code>interactive</code>.</p>\n",
       "<p>\n",
       "  If you're reading this message in Jupyter Notebook or JupyterLab, it may mean\n",
       "  that the widgets JavaScript is still loading. If this message persists, it\n",
       "  likely means that the widgets JavaScript library is either not installed or\n",
       "  not enabled. See the <a href=\"https://ipywidgets.readthedocs.io/en/stable/user_install.html\">Jupyter\n",
       "  Widgets Documentation</a> for setup instructions.\n",
       "</p>\n",
       "<p>\n",
       "  If you're reading this message in another notebook frontend (for example, a static\n",
       "  rendering on GitHub or <a href=\"https://nbviewer.jupyter.org/\">NBViewer</a>),\n",
       "  it may mean that your frontend doesn't currently support widgets.\n",
       "</p>\n"
      ],
      "text/plain": [
       "interactive(children=(IntSlider(value=0, continuous_update=False, description='index', max=9), Output()), _dom_classes=('widget-interact',))"
      ]
     },
     "metadata": {},
     "output_type": "display_data"
    },
    {
     "data": {
      "text/plain": [
       "<function __main__.plot>"
      ]
     },
     "execution_count": 9,
     "metadata": {},
     "output_type": "execute_result"
    }
   ],
   "source": [
    "profiles_x_axis = np.nansum(segmented_data, axis=1)\n",
    "def plot(index):\n",
    "    fig, ax = plt.subplots(figsize=(5,5))\n",
    "    cax = ax.plot(profiles_x_axis[index])\n",
    "    \n",
    "interact(plot,\n",
    "        index=widgets.IntSlider(min=0,\n",
    "                         max=len(data)-1,\n",
    "                         value=0,\n",
    "                         continuous_update=False\n",
    "                           ))"
   ]
  },
  {
   "cell_type": "markdown",
   "metadata": {
    "run_control": {
     "frozen": false,
     "read_only": false
    }
   },
   "source": [
    "NB: This clearly show that we can not use that profile to calculate the water intake pixel position"
   ]
  },
  {
   "cell_type": "markdown",
   "metadata": {
    "run_control": {
     "frozen": false,
     "read_only": false
    }
   },
   "source": [
    "# profile along user defined line \n",
    "\n",
    "* User defines start and end of line (using #6.2)\n",
    "* algorithm will then keep the pixel within a given width (number of pixels) of this line\n",
    "* profile along the line is display\n",
    "\n"
   ]
  },
  {
   "cell_type": "markdown",
   "metadata": {
    "run_control": {
     "frozen": false,
     "read_only": false
    }
   },
   "source": [
    "## User input here\n"
   ]
  },
  {
   "cell_type": "markdown",
   "metadata": {
    "run_control": {
     "frozen": false,
     "read_only": false
    }
   },
   "source": [
    "right and left point position for the linear profile"
   ]
  },
  {
   "cell_type": "code",
   "execution_count": 10,
   "metadata": {
    "run_control": {
     "frozen": false,
     "read_only": false
    }
   },
   "outputs": [],
   "source": [
    "x0, y0 = 450, 20\n",
    "x1, y1 = 104, 26"
   ]
  },
  {
   "cell_type": "markdown",
   "metadata": {
    "run_control": {
     "frozen": false,
     "read_only": false
    }
   },
   "source": [
    "## extract data "
   ]
  },
  {
   "cell_type": "code",
   "execution_count": 11,
   "metadata": {
    "run_control": {
     "frozen": false,
     "read_only": false
    }
   },
   "outputs": [],
   "source": [
    "%matplotlib inline"
   ]
  },
  {
   "cell_type": "code",
   "execution_count": 12,
   "metadata": {
    "run_control": {
     "frozen": false,
     "read_only": false
    }
   },
   "outputs": [
    {
     "name": "stderr",
     "output_type": "stream",
     "text": [
      "/Users/j35/anaconda/envs/py36/lib/python3.6/site-packages/ipykernel_launcher.py:35: RuntimeWarning: Mean of empty slice\n"
     ]
    },
    {
     "data": {
      "application/vnd.jupyter.widget-view+json": {
       "model_id": "6684776bc4614a4399da3ce468448dd7",
       "version_major": 2,
       "version_minor": 0
      },
      "text/html": [
       "<p>Failed to display Jupyter Widget of type <code>interactive</code>.</p>\n",
       "<p>\n",
       "  If you're reading this message in Jupyter Notebook or JupyterLab, it may mean\n",
       "  that the widgets JavaScript is still loading. If this message persists, it\n",
       "  likely means that the widgets JavaScript library is either not installed or\n",
       "  not enabled. See the <a href=\"https://ipywidgets.readthedocs.io/en/stable/user_install.html\">Jupyter\n",
       "  Widgets Documentation</a> for setup instructions.\n",
       "</p>\n",
       "<p>\n",
       "  If you're reading this message in another notebook frontend (for example, a static\n",
       "  rendering on GitHub or <a href=\"https://nbviewer.jupyter.org/\">NBViewer</a>),\n",
       "  it may mean that your frontend doesn't currently support widgets.\n",
       "</p>\n"
      ],
      "text/plain": [
       "interactive(children=(IntSlider(value=0, continuous_update=False, description='index', max=9), Output()), _dom_classes=('widget-interact',))"
      ]
     },
     "metadata": {},
     "output_type": "display_data"
    },
    {
     "data": {
      "text/plain": [
       "<function __main__.plot>"
      ]
     },
     "execution_count": 12,
     "metadata": {},
     "output_type": "execute_result"
    }
   ],
   "source": [
    "def _intermediates_points(p1, p2):\n",
    "    \"\"\"\"Return a list of nb_points equally spaced points\n",
    "    between p1 and p2\n",
    "\n",
    "    p1 = [x0, y0]\n",
    "    p2 = [x1, y1]\n",
    "    \"\"\"\n",
    "\n",
    "    # nb_points ?\n",
    "    nb_points = int(3 * max([np.abs(p1[0] - p2[0]), np.abs(p2[1] - p1[1])]))\n",
    "\n",
    "    x_spacing = (p2[0] - p1[0]) / (nb_points + 1)\n",
    "    y_spacing = (p2[1] - p1[1]) / (nb_points + 1)\n",
    "\n",
    "    full_array = [[np.int(p1[0] + i * x_spacing), np.int(p1[1] + i * y_spacing)]\n",
    "                  for i in range(1, nb_points + 1)]\n",
    "\n",
    "    clean_array = []\n",
    "    for _points in full_array:\n",
    "        if _points in clean_array:\n",
    "            continue\n",
    "        clean_array.append(_points)\n",
    "\n",
    "    return np.array(clean_array)\n",
    "\n",
    "full_line = _intermediates_points([x0,y0], [x1,y1])[::-1]\n",
    "x_axis_line = full_line[:,0]\n",
    "\n",
    "all_profiles_along_line = []\n",
    "width = 1 # 2 pixels on each side\n",
    "for _segmented_data in segmented_data:\n",
    "    _data = []\n",
    "    for _x_y in full_line:\n",
    "        _x, _y = _x_y\n",
    "        _data.append(np.nanmean(_segmented_data[_y-width:_y+width+1, _x]))\n",
    "    all_profiles_along_line.append(_data)\n",
    "\n",
    "def plot(index):\n",
    "    fig, ax = plt.subplots(ncols=1, nrows=3, figsize=(20,20))\n",
    "    cax = ax[0].imshow(segmented_data[index], cmap='viridis')\n",
    "    cax = ax[1].imshow(segmented_data[index], cmap='viridis')\n",
    "    for _x_y in full_line:\n",
    "        _x = _x_y[0]\n",
    "        _y = _x_y[1]\n",
    "        ax[1].scatter([_x], [_y])\n",
    "    \n",
    "    _xaxis = np.arange(len(all_profiles_along_line[index])) + x1\n",
    "    ax[2].plot(_xaxis, all_profiles_along_line[index])\n",
    "    \n",
    "    \n",
    "interact(plot,\n",
    "        index=widgets.IntSlider(min=0,\n",
    "                         max=len(data)-1,\n",
    "                         value=0,\n",
    "                         continuous_update=False\n",
    "                           ))"
   ]
  },
  {
   "cell_type": "markdown",
   "metadata": {
    "run_control": {
     "frozen": false,
     "read_only": false
    }
   },
   "source": [
    "I'm now plotting the length of the line the pixel corresponds to verus pixel poition"
   ]
  },
  {
   "cell_type": "code",
   "execution_count": 13,
   "metadata": {
    "run_control": {
     "frozen": false,
     "read_only": false
    }
   },
   "outputs": [
    {
     "data": {
      "application/vnd.jupyter.widget-view+json": {
       "model_id": "7e19072461ef4554889d154b010cdaa2",
       "version_major": 2,
       "version_minor": 0
      },
      "text/html": [
       "<p>Failed to display Jupyter Widget of type <code>interactive</code>.</p>\n",
       "<p>\n",
       "  If you're reading this message in Jupyter Notebook or JupyterLab, it may mean\n",
       "  that the widgets JavaScript is still loading. If this message persists, it\n",
       "  likely means that the widgets JavaScript library is either not installed or\n",
       "  not enabled. See the <a href=\"https://ipywidgets.readthedocs.io/en/stable/user_install.html\">Jupyter\n",
       "  Widgets Documentation</a> for setup instructions.\n",
       "</p>\n",
       "<p>\n",
       "  If you're reading this message in another notebook frontend (for example, a static\n",
       "  rendering on GitHub or <a href=\"https://nbviewer.jupyter.org/\">NBViewer</a>),\n",
       "  it may mean that your frontend doesn't currently support widgets.\n",
       "</p>\n"
      ],
      "text/plain": [
       "interactive(children=(IntSlider(value=0, continuous_update=False, description='index', max=9), Output()), _dom_classes=('widget-interact',))"
      ]
     },
     "metadata": {},
     "output_type": "display_data"
    },
    {
     "data": {
      "text/plain": [
       "<function __main__.plot>"
      ]
     },
     "execution_count": 13,
     "metadata": {},
     "output_type": "execute_result"
    }
   ],
   "source": [
    "def calculate_length_of_each_segment(profile=[]):\n",
    "\n",
    "    # replace nan values by -2\n",
    "    nan_substitute = -2\n",
    "    profile = np.array(profile)\n",
    "    profile_index = [np.isnan(profile)]\n",
    "    profile[profile_index] = nan_substitute\n",
    "    \n",
    "    x0 = 0\n",
    "    current_value = -1\n",
    "    \n",
    "    dict_segment = {}\n",
    "    \n",
    "    line_number = 0\n",
    "    start_flag = True\n",
    "    start_point = True\n",
    "    end_point = False\n",
    "    _dict = {}\n",
    "    \n",
    "    for _index in np.arange(len(profile)):\n",
    "        _live_value = profile[_index]\n",
    "#         print(\"live_value: {} at index: {}\".format(_live_value, _index))\n",
    "        # not nan value\n",
    "        # we reached an edge of a segment\n",
    "        if _live_value != current_value:\n",
    "#             print(\"live_value is different than current_value (start_point, end_point):({},{})\".format(start_point, end_point))\n",
    "\n",
    "            current_value = _live_value\n",
    "            \n",
    "            if start_flag:\n",
    "#                 print(\"-> starting a new line\")\n",
    "                _dict={}\n",
    "                _dict['start'] = _index\n",
    "                if current_value == nan_substitute:\n",
    "                    _dict['value'] = np.NaN\n",
    "                else:\n",
    "                    _dict['value'] = current_value\n",
    "                start_flag = not start_flag\n",
    "            else:\n",
    "#                 print(\"-> finishing a line\")\n",
    "                _dict['end'] = _index-1           \n",
    "                _dict['length'] = _dict['end'] - _dict['start']\n",
    "                dict_segment[str(line_number)] = _dict\n",
    "                line_number += 1\n",
    "                \n",
    "#                 print(\"-> and starting a new one\")\n",
    "                _dict={}\n",
    "                _dict['start'] = _index\n",
    "                if current_value == nan_substitute:\n",
    "                \n",
    "                    _dict['value'] = np.NaN\n",
    "                else:\n",
    "                    _dict['value'] = current_value\n",
    "                \n",
    "        current_value = _live_value\n",
    "        \n",
    "    _dict['end'] = _index\n",
    "    _dict['length'] = _dict['end'] - _dict['start']\n",
    "    dict_segment[str(line_number)] = _dict\n",
    "        \n",
    "    return dict_segment\n",
    "\n",
    "full_dict_array = []\n",
    "for _profile in all_profiles_along_line:\n",
    "    full_dict_array.append(calculate_length_of_each_segment(profile=_profile))\n",
    "\n",
    "def isolate_length_vs_x(dict_array):\n",
    "    nbr_point = len(dict_array)\n",
    "    x_axis = []\n",
    "    y_axis = []\n",
    "    for _key in dict_array.keys():\n",
    "        _entry = dict_array[_key]\n",
    "#         if not np.isnan(_entry['value']):\n",
    "#             x_axis.append(x1+ np.mean([_entry['start'], _entry['end']]))\n",
    "        _start = _entry['start']\n",
    "        _end = _entry['end']\n",
    "        for _x in np.arange(_start, _end+1):\n",
    "            x_axis.append(_x + x1)\n",
    "            y_axis.append(_entry['length'])\n",
    "    \n",
    "    return (x_axis, y_axis)\n",
    "\n",
    "length_vs_x = {}\n",
    "for index, dict_array in enumerate(full_dict_array):\n",
    "    [x_axis, y_axis] =isolate_length_vs_x(dict_array)\n",
    "    length_vs_x[str(index)] = {'x_axis': x_axis,\n",
    "                               'y_axis': y_axis}\n",
    "\n",
    "# display the length of each\n",
    "def plot(index):\n",
    "\n",
    "    fig, ax = plt.subplots(ncols=1, nrows=3, figsize=(10,10))\n",
    "    \n",
    "    # preview of crop image\n",
    "    cax = ax[0].imshow(segmented_data[index], cmap='viridis')\n",
    "\n",
    "    # display of length of lines\n",
    "    _xaxis = np.arange(len(all_profiles_along_line[index])) + x1\n",
    "    ax[1].plot(_xaxis, all_profiles_along_line[index])\n",
    "    ax[1].set_title(\"lines of continued max value\")\n",
    "    ax[1].set_ylabel(\"Counts\")\n",
    "    \n",
    " # length of lines vs pixel\n",
    "    x_axis = length_vs_x[str(index)]['x_axis']\n",
    "    y_axis = length_vs_x[str(index)]['y_axis']\n",
    "    ax[2].plot(x_axis, y_axis, '*r')\n",
    "    ax[2].set_title(\"length of corresponding lines for each pixel\")\n",
    "    ax[2].set_ylabel(\"Length of correspoonding line\")\n",
    "    ax[2].set_xlabel(\"Pixel\")\n",
    "    \n",
    "interact(plot,\n",
    "        index=widgets.IntSlider(min=0,\n",
    "                         max=len(data)-1,\n",
    "                         value=0,\n",
    "                         continuous_update=False\n",
    "                           ))"
   ]
  },
  {
   "cell_type": "markdown",
   "metadata": {
    "run_control": {
     "frozen": false,
     "read_only": false
    }
   },
   "source": [
    "# Calculate front of signal"
   ]
  },
  {
   "cell_type": "code",
   "execution_count": 14,
   "metadata": {
    "run_control": {
     "frozen": false,
     "read_only": false
    }
   },
   "outputs": [
    {
     "data": {
      "application/vnd.jupyter.widget-view+json": {
       "model_id": "c6cecc29e098458da67f6c74e838dbb3",
       "version_major": 2,
       "version_minor": 0
      },
      "text/html": [
       "<p>Failed to display Jupyter Widget of type <code>interactive</code>.</p>\n",
       "<p>\n",
       "  If you're reading this message in Jupyter Notebook or JupyterLab, it may mean\n",
       "  that the widgets JavaScript is still loading. If this message persists, it\n",
       "  likely means that the widgets JavaScript library is either not installed or\n",
       "  not enabled. See the <a href=\"https://ipywidgets.readthedocs.io/en/stable/user_install.html\">Jupyter\n",
       "  Widgets Documentation</a> for setup instructions.\n",
       "</p>\n",
       "<p>\n",
       "  If you're reading this message in another notebook frontend (for example, a static\n",
       "  rendering on GitHub or <a href=\"https://nbviewer.jupyter.org/\">NBViewer</a>),\n",
       "  it may mean that your frontend doesn't currently support widgets.\n",
       "</p>\n"
      ],
      "text/plain": [
       "interactive(children=(IntSlider(value=0, continuous_update=False, description='index', max=9), Output()), _dom_classes=('widget-interact',))"
      ]
     },
     "metadata": {},
     "output_type": "display_data"
    },
    {
     "data": {
      "text/plain": [
       "<function __main__.plot>"
      ]
     },
     "execution_count": 14,
     "metadata": {},
     "output_type": "execute_result"
    }
   ],
   "source": [
    "class MeanRangeCalculation():\n",
    "    '''\n",
    "    Mean value of all the counts between left_pixel and right pixel\n",
    "    '''\n",
    "\n",
    "    def __init__(self, data=None):\n",
    "        self.data = data\n",
    "        self.nbr_pixel = len(self.data)\n",
    "\n",
    "    def calculate_left_right_mean(self, pixel=-1):\n",
    "        _data = self.data\n",
    "        _nbr_pixel = self.nbr_pixel\n",
    "\n",
    "        self.left_mean = np.nanmean(_data[0:pixel+1])\n",
    "        self.right_mean = np.nanmean(_data[pixel+1:_nbr_pixel])\n",
    "\n",
    "    def calculate_delta_mean_square(self):\n",
    "        self.delta_square = np.square(self.left_mean - self.right_mean)\n",
    "\n",
    "peak_position = []\n",
    "end_pixel_cutoff = 1\n",
    "full_delta_array = []\n",
    "for _key in length_vs_x.keys():\n",
    "    \n",
    "    x_axis = length_vs_x[_key]['x_axis']\n",
    "    y_axis = length_vs_x[_key]['y_axis']\n",
    "    \n",
    "    o_range = MeanRangeCalculation(data = y_axis)\n",
    "    nbr_pixels = len(x_axis)\n",
    "    delta_array = []\n",
    "    for _pixel in np.arange(0, nbr_pixels-end_pixel_cutoff):\n",
    "        o_range.calculate_left_right_mean(pixel=_pixel)\n",
    "        o_range.calculate_delta_mean_square()\n",
    "        delta_array.append(o_range.delta_square)\n",
    "        \n",
    "    peak_value = delta_array.index(max(delta_array[0: nbr_pixels-end_pixel_cutoff]))\n",
    "    peak_position.append(peak_value+np.min([x0, x1]))\n",
    "    full_delta_array.append(delta_array)\n",
    "\n",
    "def plot(index):\n",
    "    fig, ax = plt.subplots()\n",
    "    ax.plot(x_axis[0: nbr_pixels-end_pixel_cutoff], full_delta_array[index], label='delta_array')\n",
    "    y_axis = length_vs_x[str(index)]['y_axis']\n",
    "    second_x_axis = np.arange(np.min([x0, x1]), np.min([x0, x1]) + len(y_axis))\n",
    "    ax.plot(second_x_axis, y_axis, 'r', label='length of lines')\n",
    "    ax.legend()\n",
    "    \n",
    "interact(plot,\n",
    "        index=widgets.IntSlider(min=0,\n",
    "                         max=len(data)-1,\n",
    "                         value=0,\n",
    "                         continuous_update=False\n",
    "                           ))"
   ]
  },
  {
   "cell_type": "code",
   "execution_count": 15,
   "metadata": {
    "run_control": {
     "frozen": false,
     "read_only": false
    }
   },
   "outputs": [
    {
     "data": {
      "application/vnd.jupyter.widget-view+json": {
       "model_id": "cc2b8a76924649eb835c30dd0bb9120a",
       "version_major": 2,
       "version_minor": 0
      },
      "text/html": [
       "<p>Failed to display Jupyter Widget of type <code>interactive</code>.</p>\n",
       "<p>\n",
       "  If you're reading this message in Jupyter Notebook or JupyterLab, it may mean\n",
       "  that the widgets JavaScript is still loading. If this message persists, it\n",
       "  likely means that the widgets JavaScript library is either not installed or\n",
       "  not enabled. See the <a href=\"https://ipywidgets.readthedocs.io/en/stable/user_install.html\">Jupyter\n",
       "  Widgets Documentation</a> for setup instructions.\n",
       "</p>\n",
       "<p>\n",
       "  If you're reading this message in another notebook frontend (for example, a static\n",
       "  rendering on GitHub or <a href=\"https://nbviewer.jupyter.org/\">NBViewer</a>),\n",
       "  it may mean that your frontend doesn't currently support widgets.\n",
       "</p>\n"
      ],
      "text/plain": [
       "interactive(children=(IntSlider(value=0, continuous_update=False, description='index', max=9), Output()), _dom_classes=('widget-interact',))"
      ]
     },
     "metadata": {},
     "output_type": "display_data"
    },
    {
     "data": {
      "text/plain": [
       "<function __main__.plot>"
      ]
     },
     "execution_count": 15,
     "metadata": {},
     "output_type": "execute_result"
    }
   ],
   "source": [
    "# display the length of each\n",
    "[height, width] = np.shape(segmented_data[0])\n",
    "\n",
    "def plot(index):\n",
    "\n",
    "    fig, ax = plt.subplots(ncols=1, nrows=3, figsize=(10,10))\n",
    "    \n",
    "    # preview of crop image\n",
    "    cax = ax[0].imshow(segmented_data[index], cmap='viridis')\n",
    "    print(peak_position[index])\n",
    "    _peak = patches.Rectangle((peak_position[index], 0),\n",
    "                             1,\n",
    "                             height,\n",
    "                             edgecolor = 'red',\n",
    "                             linewidth=2,\n",
    "                             fill=False)\n",
    "    ax[0].add_patch(_peak)\n",
    "    \n",
    "    # display of length of lines\n",
    "    _xaxis = np.arange(len(all_profiles_along_line[index]))+ np.min([x0, x1])\n",
    "    ax[1].plot(_xaxis, all_profiles_along_line[index])\n",
    "    ax[1].set_title(\"lines of continued max value\")\n",
    "    ax[1].set_ylabel(\"Counts\")\n",
    "    ax[1].axvline(peak_position[index], c='red')\n",
    " # length of lines vs pixel\n",
    "    x_axis = length_vs_x[str(index)]['x_axis']\n",
    "    y_axis = length_vs_x[str(index)]['y_axis']\n",
    "    ax[2].plot(x_axis, y_axis, '*r')\n",
    "    ax[2].set_title(\"length of corresponding lines for each pixel\")\n",
    "    ax[2].set_ylabel(\"Length of correspoonding line\")\n",
    "    ax[2].set_xlabel(\"Pixel\")\n",
    "    ax[2].axvline(peak_position[index], c='blue')\n",
    "    \n",
    "interact(plot,\n",
    "        index=widgets.IntSlider(min=0,\n",
    "                         max=len(data)-1,\n",
    "                         value=0,\n",
    "                         continuous_update=False\n",
    "                           ))"
   ]
  },
  {
   "cell_type": "markdown",
   "metadata": {
    "run_control": {
     "frozen": false,
     "read_only": false
    }
   },
   "source": [
    "# Display evolution of peak signal "
   ]
  },
  {
   "cell_type": "code",
   "execution_count": 16,
   "metadata": {
    "run_control": {
     "frozen": false,
     "read_only": false
    }
   },
   "outputs": [
    {
     "data": {
      "text/plain": [
       "<matplotlib.text.Text at 0x10b16ba90>"
      ]
     },
     "execution_count": 16,
     "metadata": {},
     "output_type": "execute_result"
    },
    {
     "data": {
      "image/png": "[encoded data removed]",
      "text/plain": [
       "<matplotlib.figure.Figure at 0x10e8ec710>"
      ]
     },
     "metadata": {},
     "output_type": "display_data"
    }
   ],
   "source": [
    "fig, ax = plt.subplots()\n",
    "ax.plot(peak_position, '*')\n",
    "ax.set_ylabel(\"Peak position\")\n",
    "ax.set_xlabel(\"File index\")"
   ]
  },
  {
   "cell_type": "code",
   "execution_count": null,
   "metadata": {
    "run_control": {
     "frozen": false,
     "read_only": false
    }
   },
   "outputs": [],
   "source": []
  },
  {
   "cell_type": "code",
   "execution_count": null,
   "metadata": {
    "collapsed": true
   },
   "outputs": [],
   "source": []
  },
  {
   "cell_type": "code",
   "execution_count": null,
   "metadata": {
    "collapsed": true
   },
   "outputs": [],
   "source": []
  }
 ],
 "metadata": {
  "kernelspec": {
   "display_name": "Python 3",
   "language": "python",
   "name": "python3"
  },
  "language_info": {
   "codemirror_mode": {
    "name": "ipython",
    "version": 3
   },
   "file_extension": ".py",
   "mimetype": "text/x-python",
   "name": "python",
   "nbconvert_exporter": "python",
   "pygments_lexer": "ipython3",
   "version": "3.6.2"
  },
  "toc": {
   "colors": {
    "hover_highlight": "#DAA520",
    "running_highlight": "#FF0000",
    "selected_highlight": "#FFD700"
   },
   "moveMenuLeft": true,
   "nav_menu": {
    "height": "138px",
    "width": "252px"
   },
   "navigate_menu": true,
   "number_sections": true,
   "sideBar": true,
   "threshold": 4,
   "toc_cell": false,
   "toc_section_display": "block",
   "toc_window_display": false
  }
 },
 "nbformat": 4,
 "nbformat_minor": 2
}
