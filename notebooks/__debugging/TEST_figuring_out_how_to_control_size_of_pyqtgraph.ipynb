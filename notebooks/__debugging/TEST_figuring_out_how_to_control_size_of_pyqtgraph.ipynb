{
 "cells": [
  {
   "cell_type": "code",
   "execution_count": null,
   "metadata": {
    "run_control": {
     "frozen": false,
     "read_only": false
    }
   },
   "outputs": [],
   "source": [
    "from PyQt5 import QtGui, QtCore"
   ]
  },
  {
   "cell_type": "code",
   "execution_count": null,
   "metadata": {
    "run_control": {
     "frozen": false,
     "read_only": false
    }
   },
   "outputs": [],
   "source": [
    "# -*- coding: utf-8 -*-\n",
    "\"\"\"\n",
    "This example demonstrates the use of ImageView, which is a high-level widget for \n",
    "displaying and analyzing 2D and 3D data. ImageView provides:\n",
    "\n",
    "  1. A zoomable region (ViewBox) for displaying the image\n",
    "  2. A combination histogram and gradient editor (HistogramLUTItem) for\n",
    "     controlling the visual appearance of the image\n",
    "  3. A timeline for selecting the currently displayed frame (for 3D data only).\n",
    "  4. Tools for very basic analysis of image data (see ROI and Norm buttons)\n",
    "\n",
    "\"\"\"\n",
    "## Add path to library (just for examples; you do not need this)\n",
    "#import initExample\n",
    "\n",
    "import numpy as np\n",
    "from pyqtgraph.Qt import QtCore, QtGui\n",
    "import pyqtgraph as pg\n",
    "\n",
    "# Interpret image data as row-major instead of col-major\n",
    "pg.setConfigOptions(imageAxisOrder='row-major')\n",
    "\n",
    "app = QtGui.QApplication([])\n",
    "\n",
    "## Create window with ImageView widget\n",
    "win = QtGui.QMainWindow()\n",
    "win.resize(800,800)\n",
    "imv = pg.ImageView()\n",
    "\n",
    "def refresh():\n",
    "    global imv, init_state\n",
    "    _item = imv.getImageItem()\n",
    "    _view = imv.getView()\n",
    "    _state = _view.getState()\n",
    "    _view.setState(init_state)\n",
    "    print(\"viewRange: {}\".format(_state['viewRange']))\n",
    "    print(\"targetRange: {}\".format(_state['targetRange']))\n",
    "    print()\n",
    "\n",
    "save_state = dict()\n",
    "    \n",
    "def restore_state():\n",
    "    global imv, save_state\n",
    "    _item = imv.getImageItem()\n",
    "    _view = imv.getView()\n",
    "    print(\"restoring state: {}\".format(save_state))\n",
    "    _view.setState(save_state)\n",
    "    \n",
    "def save_state():\n",
    "    global imv, save_state\n",
    "    _item = imv.getImageItem()\n",
    "    _view = imv.getView()\n",
    "    _save_state = _view.getState(copy=False)\n",
    "    import copy\n",
    "    save_state = copy.deepcopy(_save_state)\n",
    "    print(\"saved state: {}\".format(save_state))\n",
    "    \n",
    "    # reset state\n",
    "    #_view.setState(init_state)\n",
    "    \n",
    "# _roi = pg.ROI([0,0,200,200])\n",
    "# _roi.addScaleHandle([1,1],[0,0])\n",
    "# _roi.sigRegionChanged.connect(refresh)\n",
    "# imv.addItem(_roi)\n",
    "\n",
    "main_widget = QtGui.QWidget()\n",
    "_button = QtGui.QPushButton(\"push me\")\n",
    "vertical_layout = QtGui.QVBoxLayout()\n",
    "vertical_layout.addWidget(imv)\n",
    "vertical_layout.addWidget(_button)\n",
    "\n",
    "_save_button = QtGui.QPushButton(\"save\")\n",
    "vertical_layout.addWidget(_save_button)\n",
    "\n",
    "_set_state_button = QtGui.QPushButton(\"apply save state\")\n",
    "vertical_layout.addWidget(_set_state_button)\n",
    "\n",
    "_button.clicked.connect(refresh)\n",
    "_save_button.clicked.connect(save_state)        \n",
    "_set_state_button.clicked.connect(restore_state)\n",
    "\n",
    "main_widget.setLayout(vertical_layout)\n",
    "\n",
    "#win.setCentralWidget(imv)\n",
    "win.setCentralWidget(main_widget)\n",
    "win.show()\n",
    "win.setWindowTitle('pyqtgraph example: ImageView')\n",
    "\n",
    "## Create random 3D data set with noisy signals\n",
    "img = pg.gaussianFilter(np.random.normal(size=(200, 200)), (5, 5)) * 20 + 100\n",
    "img = img[np.newaxis,:,:]\n",
    "decay = np.exp(-np.linspace(0,0.3,100))[:,np.newaxis,np.newaxis]\n",
    "data = np.random.normal(size=(100, 200, 200))\n",
    "data += img * decay\n",
    "data += 2\n",
    "\n",
    "## Add time-varying signal\n",
    "sig = np.zeros(data.shape[0])\n",
    "sig[30:] += np.exp(-np.linspace(1,10, 70))\n",
    "sig[40:] += np.exp(-np.linspace(1,10, 60))\n",
    "sig[70:] += np.exp(-np.linspace(1,10, 30))\n",
    "\n",
    "sig = sig[:,np.newaxis,np.newaxis] * 3\n",
    "data[:,50:60,30:40] += sig\n",
    "\n",
    "## Display the data and assign each frame a time value from 1.0 to 3.0\n",
    "imv.setImage(data, xvals=np.linspace(1., 3., data.shape[0]))\n",
    "\n",
    "## Set a custom color map\n",
    "colors = [\n",
    "    (0, 0, 0),\n",
    "    (45, 5, 61),\n",
    "    (84, 42, 55),\n",
    "    (150, 87, 60),\n",
    "    (208, 171, 141),\n",
    "    (255, 255, 255)\n",
    "]\n",
    "cmap = pg.ColorMap(pos=np.linspace(0.0, 1.0, 6), color=colors)\n",
    "imv.setColorMap(cmap)\n",
    "\n",
    "_item = imv.getImageItem()\n",
    "_view = imv.getView()\n",
    "\n",
    "# save initial state\n",
    "init_state = _view.getState()\n",
    "\n",
    "#padding\n",
    "x0=0; x1=-7; y0=200; y1=200\n",
    "width = x1-x0\n",
    "height = y1-y0\n",
    "_view.setRange(rect=QtCore.QRectF(x0, y0, width, height))\n",
    "\n",
    "#zoom\n",
    "zoom_x0 = -25\n",
    "zoom_x1 = 29\n",
    "zoom_y0 = 167\n",
    "zoom_y1 = 225\n",
    "\n",
    "init_state = _view.getState()\n",
    "\n",
    "\n",
    "## Start Qt event loop unless running in interactive mode.\n",
    "if __name__ == '__main__':\n",
    "    import sys\n",
    "    if (sys.flags.interactive != 1) or not hasattr(QtCore, 'PYQT_VERSION'):\n",
    "        QtGui.QApplication.instance().exec_()\n"
   ]
  },
  {
   "cell_type": "code",
   "execution_count": null,
   "metadata": {
    "run_control": {
     "frozen": false,
     "read_only": false
    }
   },
   "outputs": [],
   "source": [
    "imv.getView().setState(save_state)"
   ]
  },
  {
   "cell_type": "code",
   "execution_count": null,
   "metadata": {
    "run_control": {
     "frozen": false,
     "read_only": false
    }
   },
   "outputs": [],
   "source": [
    "_item = imv.getImageItem()\n",
    "_view = imv.getView()"
   ]
  },
  {
   "cell_type": "code",
   "execution_count": null,
   "metadata": {
    "run_control": {
     "frozen": false,
     "read_only": false
    }
   },
   "outputs": [],
   "source": [
    "print(_view.itemBoundingRect(_item))"
   ]
  },
  {
   "cell_type": "code",
   "execution_count": null,
   "metadata": {
    "run_control": {
     "frozen": false,
     "read_only": false
    }
   },
   "outputs": [],
   "source": [
    "view_widget = _view.getViewWidget()"
   ]
  },
  {
   "cell_type": "code",
   "execution_count": null,
   "metadata": {
    "run_control": {
     "frozen": false,
     "read_only": false
    }
   },
   "outputs": [],
   "source": [
    "my_view.screenGeometry()"
   ]
  },
  {
   "cell_type": "code",
   "execution_count": null,
   "metadata": {
    "run_control": {
     "frozen": false,
     "read_only": false
    }
   },
   "outputs": [],
   "source": [
    "_item = imv.getImageItem()\n",
    "_view = imv.getView()\n",
    "_view.setRange(xRange=(-7.68, 207))"
   ]
  }
 ],
 "metadata": {
  "kernelspec": {
   "display_name": "Python 3",
   "language": "python",
   "name": "python3"
  },
  "language_info": {
   "codemirror_mode": {
    "name": "ipython",
    "version": 3
   },
   "file_extension": ".py",
   "mimetype": "text/x-python",
   "name": "python",
   "nbconvert_exporter": "python",
   "pygments_lexer": "ipython3",
   "version": "3.6.3"
  },
  "toc": {
   "colors": {
    "hover_highlight": "#DAA520",
    "running_highlight": "#FF0000",
    "selected_highlight": "#FFD700"
   },
   "moveMenuLeft": true,
   "nav_menu": {
    "height": "12px",
    "width": "252px"
   },
   "navigate_menu": true,
   "number_sections": true,
   "sideBar": true,
   "threshold": 4,
   "toc_cell": false,
   "toc_section_display": "block",
   "toc_window_display": false
  }
 },
 "nbformat": 4,
 "nbformat_minor": 2
}
