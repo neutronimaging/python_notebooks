{
 "cells": [
  {
   "cell_type": "code",
   "execution_count": null,
   "metadata": {},
   "outputs": [],
   "source": [
    "import os\n",
    "import numpy as np\n",
    "import pprint\n",
    "\n",
    "import matplotlib.pyplot as plt\n",
    "import time\n",
    "import datetime\n",
    "\n",
    "import pandas as pd\n",
    "from __code import time_utility\n",
    "\n",
    "from __code.images_and_metadata_extrapolation_matcher import ImagesAndMetadataExtrapolationMatcher"
   ]
  },
  {
   "cell_type": "markdown",
   "metadata": {},
   "source": [
    "# Case 1 - file name information in both files"
   ]
  },
  {
   "cell_type": "code",
   "execution_count": null,
   "metadata": {},
   "outputs": [],
   "source": [
    "ascii1 = '/Volumes/my_book_thunderbolt_duo/IPTS/IPTS-20444-Regina/TESTING_SET/images_timestamp_infos.txt'\n",
    "ascii2 = '/Volumes/my_book_thunderbolt_duo/IPTS/IPTS-20444-Regina/TESTING_SET/Sep_17_metadata_report_from_oncat.txt'"
   ]
  },
  {
   "cell_type": "code",
   "execution_count": null,
   "metadata": {},
   "outputs": [],
   "source": [
    "o_matcher = ImagesAndMetadataExtrapolationMatcher(ascii_file_1=ascii1, ascii_file_2=ascii2)"
   ]
  },
  {
   "cell_type": "code",
   "execution_count": null,
   "metadata": {},
   "outputs": [],
   "source": [
    "# pprint.pprint(\"ascii1\")\n",
    "# pprint.pprint(o_matcher.ascii_file_1_dataframe)\n",
    "\n",
    "# print(\"\")\n",
    "\n",
    "# pprint.pprint(\"ascii2\")\n",
    "# pprint.pprint(o_matcher.ascii_file_2_dataframe)"
   ]
  },
  {
   "cell_type": "code",
   "execution_count": null,
   "metadata": {},
   "outputs": [],
   "source": [
    "pprint.pprint(\"Data merged\")\n",
    "pprint.pprint(o_matcher.get_merged_dataframe())"
   ]
  },
  {
   "cell_type": "markdown",
   "metadata": {},
   "source": [
    "# Case 2 - No filename information in one of the metadata"
   ]
  },
  {
   "cell_type": "code",
   "execution_count": null,
   "metadata": {},
   "outputs": [],
   "source": [
    "ascii1 = '/Volumes/my_book_thunderbolt_duo/IPTS/IPTS-20444-Regina/TESTING_SET/images_timestamp_infos.txt'\n",
    "ascii3 = '/Volumes/my_book_thunderbolt_duo/IPTS/IPTS-20444-Regina/TESTING_SET/A49_3_at80C_4p1mm_120s_2_03_OCV_C03_2columns.txt'\n"
   ]
  },
  {
   "cell_type": "code",
   "execution_count": null,
   "metadata": {},
   "outputs": [],
   "source": [
    "o_matcher = ImagesAndMetadataExtrapolationMatcher(ascii_file_1=ascii1, ascii_file_2=ascii3)"
   ]
  },
  {
   "cell_type": "code",
   "execution_count": null,
   "metadata": {},
   "outputs": [],
   "source": [
    "# print(\"ascii1\")\n",
    "# print(o_matcher.ascii_file_1_dataframe)"
   ]
  },
  {
   "cell_type": "code",
   "execution_count": null,
   "metadata": {},
   "outputs": [],
   "source": [
    "# print(\"\\nascii2\")\n",
    "# print(o_matcher.ascii_file_2_dataframe)"
   ]
  },
  {
   "cell_type": "code",
   "execution_count": null,
   "metadata": {},
   "outputs": [],
   "source": [
    "ascii_file_1_dataframe = o_matcher.ascii_file_1_dataframe\n",
    "ascii_file_1_dataframe.set_index('timestamp_user_format')\n",
    "\n",
    "ascii_file_2_dataframe = o_matcher.ascii_file_2_dataframe\n",
    "ascii_file_2_dataframe.set_index(\"timestamp_user_format\");"
   ]
  },
  {
   "cell_type": "code",
   "execution_count": null,
   "metadata": {},
   "outputs": [],
   "source": [
    "merged_dataframe = pd.merge(ascii_file_1_dataframe, ascii_file_2_dataframe, on=\"timestamp_user_format\", how=\"outer\")\n",
    "merged_dataframe.sort_values(by='timestamp_user_format', inplace=True)\n",
    "merged_dataframe = merged_dataframe.reset_index(drop=True)\n",
    "merged_dataframe\n"
   ]
  },
  {
   "cell_type": "markdown",
   "metadata": {},
   "source": [
    "Ask which columns the user wants to extrapolate"
   ]
  },
  {
   "cell_type": "code",
   "execution_count": null,
   "metadata": {},
   "outputs": [],
   "source": [
    "list_columns = merged_dataframe.columns\n",
    "list_columns"
   ]
  },
  {
   "cell_type": "code",
   "execution_count": null,
   "metadata": {},
   "outputs": [],
   "source": [
    "def get_first_metadata_and_index_value(index=-1, metadata_array=[], direction='left'):\n",
    "    if direction == 'left':\n",
    "        coeff = -1\n",
    "    else:\n",
    "        coeff = +1\n",
    "        \n",
    "    while (np.isnan(metadata_array[index])):\n",
    "        index += coeff\n",
    "        \n",
    "        # if last file timestamp is > last metadata recorded, raise error\n",
    "        if index >= len(metadata_array):\n",
    "            raise ValueError(\"Not enough metadata to extrapolate value!\")\n",
    "        \n",
    "    return [metadata_array[index], index]"
   ]
  },
  {
   "cell_type": "code",
   "execution_count": null,
   "metadata": {},
   "outputs": [],
   "source": [
    "import time\n",
    "def convert_to_second(timestamp_value, timestamp_format=\"%Y-%m-%d %I:%M:%S\"):\n",
    "    d = datetime.datetime.strptime(timestamp_value, timestamp_format )\n",
    "    return time.mktime(d.timetuple())    "
   ]
  },
  {
   "cell_type": "code",
   "execution_count": null,
   "metadata": {},
   "outputs": [],
   "source": [
    "def calculate_extrapolated_metadata(global_index=-1, metadata_array=[], timestamp_array=[]):\n",
    "    \n",
    "#     print(\"calculate_extrapolated_metadata\")\n",
    "#     print(\"metadata_array: {}\".format(metadata_array))\n",
    "#     print(\"timestamp_array: {}\".format(timestamp_array))\n",
    "    \n",
    "    [left_metadata_value, left_index] = get_first_metadata_and_index_value(index=global_index, \n",
    "                                                                           metadata_array=metadata_array,\n",
    "                                                                           direction='left')\n",
    "    [right_metadata_value, right_index] = get_first_metadata_and_index_value(index=global_index,\n",
    "                                                                             metadata_array=metadata_array,\n",
    "                                                                             direction='right')\n",
    "    \n",
    "#     print(\"-> left_metadata_value: {}\".format(left_metadata_value))\n",
    "#     print(\"-> left_index: {}\".format(left_index))\n",
    "#     print(\"-> right_metadata_value: {}\".format(right_metadata_value))\n",
    "#     print(\"-> right_index: {}\".format(right_index))   \n",
    "    \n",
    "    left_timestamp_s_format = convert_to_second(timestamp_array[left_index])\n",
    "    right_timestamp_s_format = convert_to_second(timestamp_array[right_index])\n",
    "    \n",
    "    x_timestamp_s_format = convert_to_second(timestamp_array[global_index])\n",
    "    \n",
    "    extra_value = extrapolate_value(x=x_timestamp_s_format,\n",
    "                                   x_left=left_timestamp_s_format,\n",
    "                                   x_right=right_timestamp_s_format,\n",
    "                                   y_left=left_metadata_value,\n",
    "                                   y_right=right_metadata_value)\n",
    "    return extra_value\n",
    "    "
   ]
  },
  {
   "cell_type": "code",
   "execution_count": null,
   "metadata": {},
   "outputs": [],
   "source": [
    "def extrapolate_value(x=1, x_left=1, x_right=1, y_left=1, y_right=1):\n",
    "    \n",
    "#     print(\"in extrapolate_value\")\n",
    "#     print(\"--> x: {}\".format(x))\n",
    "#     print(\"--> x_left: {}\".format(x_left))\n",
    "#     print(\"--> x_right: {}\".format(x_right))\n",
    "#     print(\"--> y_left: {}\".format(y_left))\n",
    "#     print(\"--> y_right: {}\".format(y_right))\n",
    "    \n",
    "    coeff = (float(y_right) - float(y_left)) / (float(x_right) - float(x_left))\n",
    "#     print(\"---> coeff: {}\".format(coeff))\n",
    "    part1 = coeff * (float(x) - float(x_left))\n",
    "#     print(\"--> part1: {}\".format(part1))\n",
    "#     print(\"--> part1 + float(y_left): {}\".format(part1 + float(y_left)))\n",
    "    return part1 + float(y_left)"
   ]
  },
  {
   "cell_type": "code",
   "execution_count": null,
   "metadata": {},
   "outputs": [],
   "source": [
    "# let's pretend user selected \n",
    "columns_name_to_extrapolate = \"Voltage\"\n",
    "\n",
    "metadata_array = merged_dataframe['Voltage']\n",
    "timestamp_array = merged_dataframe['timestamp_user_format']\n",
    "\n",
    "# pprint.pprint(\"metadata array\")\n",
    "# pprint.pprint(metadata_array)\n",
    "\n",
    "new_metadata_array = []\n",
    "voltage_extrapolated_array = []\n",
    "for _index in np.arange(len(metadata_array)):\n",
    "    \n",
    "    _metadata_value = metadata_array[_index]\n",
    "    if np.isnan(_metadata_value):\n",
    "        _new_value = calculate_extrapolated_metadata(global_index=_index,\n",
    "                                                    metadata_array=metadata_array,\n",
    "                                                    timestamp_array=timestamp_array)\n",
    "        voltage_extrapolated_array.append(_new_value)\n",
    "    else:\n",
    "        _new_value = _metadata_value\n",
    "        \n",
    "    new_metadata_array.append(_new_value)\n",
    "   \n",
    "# pprint.pprint(\"new metadata_array\")\n",
    "# pprint.pprint(new_metadata_array)\n",
    "   "
   ]
  },
  {
   "cell_type": "code",
   "execution_count": null,
   "metadata": {},
   "outputs": [],
   "source": [
    "time_column = timestamp_array\n",
    "time_column_s = [convert_to_second(_time, timestamp_format=\"%Y-%m-%d %I:%M:%S\") for _time in time_column]"
   ]
  },
  {
   "cell_type": "code",
   "execution_count": null,
   "metadata": {},
   "outputs": [],
   "source": [
    "%matplotlib notebook"
   ]
  },
  {
   "cell_type": "code",
   "execution_count": null,
   "metadata": {},
   "outputs": [],
   "source": [
    "# voltage (metadata file)"
   ]
  },
  {
   "cell_type": "code",
   "execution_count": null,
   "metadata": {},
   "outputs": [],
   "source": [
    "timestamp_with_voltage_known = ascii_file_2_dataframe['timestamp_user_format']\n",
    "time_column_voltage_known = timestamp_with_voltage_known\n",
    "time_column_s_known = [convert_to_second(_time, timestamp_format=\"%Y-%m-%d %I:%M:%S\") for _time in time_column_voltage_known]\n",
    "voltage_column = ascii_file_2_dataframe['Voltage']"
   ]
  },
  {
   "cell_type": "code",
   "execution_count": null,
   "metadata": {},
   "outputs": [],
   "source": [
    "# time stamp vs file name file"
   ]
  },
  {
   "cell_type": "code",
   "execution_count": null,
   "metadata": {},
   "outputs": [],
   "source": [
    "list_index = list(np.where(np.isnan(merged_dataframe['Voltage'])))\n",
    "time_column_voltage_unknown = np.array(timestamp_array)[list_index]"
   ]
  },
  {
   "cell_type": "code",
   "execution_count": null,
   "metadata": {},
   "outputs": [],
   "source": [
    "#time_column_voltage_unknown = ascii_file_1_dataframe['timestamp_user_format']\n",
    "#time_column_voltage_unknown = time_column_voltage_unknown\n",
    "time_column_s_unknown = [convert_to_second(_time, timestamp_format=\"%Y-%m-%d %I:%M:%S\") for _time in time_column_voltage_unknown]\n"
   ]
  },
  {
   "cell_type": "code",
   "execution_count": null,
   "metadata": {},
   "outputs": [],
   "source": [
    "fig, ax = plt.subplots()\n",
    "ax.plot(time_column_s_known, voltage_column, '+', label='Time Stamp vs File Name')\n",
    "ax.set_xlabel(\"Time (s)\")\n",
    "ax.set_ylabel(\"Voltage\")\n",
    "\n",
    "for _vl in time_column_s_unknown:\n",
    "    ax.axvline(x=_vl, color='r', linestyle='--')\n",
    "\n",
    "ax.plot(time_column_s_unknown, voltage_extrapolated_array, '*g', label='Extrapolated metadata')\n",
    "#ax.axvline(x=time_column_s_unknown[0], color='r', linestyle='--', label=\"Regina's metadata\")\n",
    "\n",
    "ax.legend()"
   ]
  },
  {
   "cell_type": "code",
   "execution_count": null,
   "metadata": {},
   "outputs": [],
   "source": []
  },
  {
   "cell_type": "code",
   "execution_count": null,
   "metadata": {},
   "outputs": [],
   "source": []
  },
  {
   "cell_type": "code",
   "execution_count": null,
   "metadata": {},
   "outputs": [],
   "source": []
  },
  {
   "cell_type": "code",
   "execution_count": null,
   "metadata": {},
   "outputs": [],
   "source": []
  },
  {
   "cell_type": "code",
   "execution_count": null,
   "metadata": {},
   "outputs": [],
   "source": []
  },
  {
   "cell_type": "code",
   "execution_count": null,
   "metadata": {},
   "outputs": [],
   "source": []
  },
  {
   "cell_type": "code",
   "execution_count": null,
   "metadata": {},
   "outputs": [],
   "source": []
  },
  {
   "cell_type": "code",
   "execution_count": null,
   "metadata": {},
   "outputs": [],
   "source": []
  },
  {
   "cell_type": "markdown",
   "metadata": {},
   "source": [
    "Metadata from Regina's data set retrieve"
   ]
  },
  {
   "cell_type": "code",
   "execution_count": null,
   "metadata": {},
   "outputs": [],
   "source": [
    "_dataframe3 = pd.read_csv(ascii3)\n",
    "#_dataframe.set_index(INDEX)\n",
    "_dataframe3\n",
    "\n",
    "time_column = np.asarray(_dataframe3['time_user_format'])\n",
    "data_column_ascii1 = np.asarray(_dataframe3['Voltage'])\n",
    "#time_column\n",
    "time_column_ascii1 = [get_seconds(_time) for _time in time_column]\n"
   ]
  },
  {
   "cell_type": "markdown",
   "metadata": {},
   "source": [
    "Data coming from file_name vs time stamp"
   ]
  },
  {
   "cell_type": "code",
   "execution_count": null,
   "metadata": {},
   "outputs": [],
   "source": [
    "_dataframe1 = pd.read_csv(ascii1)\n",
    "#_dataframe.set_index(INDEX)\n",
    "_dataframe1"
   ]
  },
  {
   "cell_type": "code",
   "execution_count": null,
   "metadata": {},
   "outputs": [],
   "source": [
    "time_column = np.asarray(_dataframe1[' timestamp_user_format'])\n",
    "time_column_s = [get_seconds(_time, time_format=\"%Y-%m-%d %I:%M:%S\") for _time in time_column]"
   ]
  },
  {
   "cell_type": "code",
   "execution_count": null,
   "metadata": {},
   "outputs": [],
   "source": [
    "fig, ax = plt.subplots()\n",
    "ax.plot(time_column_ascii1, data_column_ascii1, '*-', label='Time Stamp vs File Name')\n",
    "ax.set_xlabel(\"Time (s)\")\n",
    "ax.set_ylabel(\"Voltage\")\n",
    "\n",
    "for _vl in time_column_s[1:]:\n",
    "    ax.axvline(x=_vl, color='r', linestyle='--')\n",
    "\n",
    "ax.axvline(x=time_column_s[0], color='r', linestyle='--', label=\"Regina's metadata\")\n",
    "\n",
    "ax.legend()\n"
   ]
  },
  {
   "cell_type": "markdown",
   "metadata": {},
   "source": [
    "Checking the conversion of time/date units"
   ]
  },
  {
   "cell_type": "code",
   "execution_count": null,
   "metadata": {},
   "outputs": [],
   "source": [
    "format1 = \"2018-09-18 12:12:7\"\n",
    "format1_reader = \"%Y-%m-%d %I:%M:%S\"\n",
    "format2 = \"09/18/2018 12:10:35\"\n",
    "format2_reader = \"%m/%d/%Y %I:%M:%S\""
   ]
  },
  {
   "cell_type": "code",
   "execution_count": null,
   "metadata": {},
   "outputs": [],
   "source": [
    "a=\"dfdfdf\"\n",
    "type(a) is list"
   ]
  },
  {
   "cell_type": "code",
   "execution_count": null,
   "metadata": {},
   "outputs": [],
   "source": [
    "global_format = time.strptime(format1.strip(), format1_reader)\n",
    "\n",
    "new_format = \"{}/{}/{} {}:{}:{:}\".format(global_format.tm_year,\n",
    "                                        global_format.tm_mon,\n",
    "                                        global_format.tm_mday,\n",
    "                                        global_format.tm_hour,\n",
    "                                        global_format.tm_min,\n",
    "                                        global_format.tm_sec)\n",
    "print(\"{} -> {}\".format(format1, new_format))"
   ]
  },
  {
   "cell_type": "code",
   "execution_count": null,
   "metadata": {},
   "outputs": [],
   "source": [
    "# global_format = time.strptime(format2.strip(), format2_reader)\n",
    "\n",
    "# new_format = \"{}/{}/{} {}:{}:{}\".format(global_format.tm_year,\n",
    "#                                         global_format.tm_mon,\n",
    "#                                         global_format.tm_mday,\n",
    "#                                         global_format.tm_hour,\n",
    "#                                         global_format.tm_min,\n",
    "#                                         global_format.tm_sec)\n",
    "# print(\"{} -> {}\".format(format2, new_format))"
   ]
  },
  {
   "cell_type": "code",
   "execution_count": null,
   "metadata": {},
   "outputs": [],
   "source": []
  },
  {
   "cell_type": "code",
   "execution_count": null,
   "metadata": {},
   "outputs": [],
   "source": [
    "_dataframe1"
   ]
  },
  {
   "cell_type": "code",
   "execution_count": null,
   "metadata": {},
   "outputs": [],
   "source": [
    "def format_time(old_format):\n",
    "    global_format = time.strptime(old_format.strip(), format1_reader)\n",
    "    new_format = \"{}/{}/{} {}:{}:{:02d}\".format(global_format.tm_year,\n",
    "                                        global_format.tm_mon,\n",
    "                                        global_format.tm_mday,\n",
    "                                        global_format.tm_hour,\n",
    "                                        global_format.tm_min,\n",
    "                                        global_format.tm_sec)\n",
    "    return new_format"
   ]
  },
  {
   "cell_type": "code",
   "execution_count": null,
   "metadata": {},
   "outputs": [],
   "source": [
    "data1_dt = _dataframe1[' timestamp_user_format']\n",
    "data1_dt"
   ]
  },
  {
   "cell_type": "code",
   "execution_count": null,
   "metadata": {},
   "outputs": [],
   "source": [
    "_dataframe1"
   ]
  },
  {
   "cell_type": "code",
   "execution_count": null,
   "metadata": {},
   "outputs": [],
   "source": [
    "for _index, _date in enumerate(data1_dt):\n",
    "    new_format = format_time(_date)\n",
    "    data1_dt[_index] = new_format"
   ]
  },
  {
   "cell_type": "code",
   "execution_count": null,
   "metadata": {},
   "outputs": [],
   "source": [
    "data1_dt"
   ]
  },
  {
   "cell_type": "code",
   "execution_count": null,
   "metadata": {},
   "outputs": [],
   "source": [
    "if \"##filename\" in _dataframe:\n",
    "    print(\"yes\")"
   ]
  },
  {
   "cell_type": "code",
   "execution_count": null,
   "metadata": {},
   "outputs": [],
   "source": [
    "o_matcher = ImagesAndMetadataExtrapolationMatcher(filename_vs_timestamp=ascii1,\n",
    "                                                  metadata_ascii_file=ascii2)"
   ]
  },
  {
   "cell_type": "markdown",
   "metadata": {},
   "source": [
    "output file"
   ]
  },
  {
   "cell_type": "code",
   "execution_count": null,
   "metadata": {},
   "outputs": [],
   "source": [
    "o_folder = SelectFolder(system=system, next_function=o_matcher.export_ascii)"
   ]
  },
  {
   "cell_type": "code",
   "execution_count": null,
   "metadata": {},
   "outputs": [],
   "source": []
  },
  {
   "cell_type": "code",
   "execution_count": null,
   "metadata": {},
   "outputs": [],
   "source": []
  },
  {
   "cell_type": "code",
   "execution_count": null,
   "metadata": {},
   "outputs": [],
   "source": []
  },
  {
   "cell_type": "code",
   "execution_count": null,
   "metadata": {},
   "outputs": [],
   "source": [
    "import pandas as pd"
   ]
  },
  {
   "cell_type": "code",
   "execution_count": null,
   "metadata": {},
   "outputs": [],
   "source": [
    "pd_ascii1 = pd.read_csv(ascii1)\n",
    "pd_ascii2 = pd.read_csv(ascii2)"
   ]
  },
  {
   "cell_type": "code",
   "execution_count": null,
   "metadata": {},
   "outputs": [],
   "source": [
    "pd_ascii1.set_index(\"#filename\")"
   ]
  },
  {
   "cell_type": "code",
   "execution_count": null,
   "metadata": {},
   "outputs": [],
   "source": [
    "pd_ascii2.set_index(\"#filename\")"
   ]
  },
  {
   "cell_type": "code",
   "execution_count": null,
   "metadata": {},
   "outputs": [],
   "source": [
    "merging_ascii = pd.merge(pd_ascii1, pd_ascii2, on='#filename', how='outer')\n",
    "merging_ascii"
   ]
  },
  {
   "cell_type": "code",
   "execution_count": null,
   "metadata": {},
   "outputs": [],
   "source": [
    "timestamp1 = \"2018-09-18 12:13:14\"\n",
    "timestamp2 = \"2018/09/18 12:13:14\"\n",
    "timestamp3 = \"18/09/2018 12:13:14\"\n"
   ]
  },
  {
   "cell_type": "code",
   "execution_count": null,
   "metadata": {},
   "outputs": [],
   "source": [
    "o_time = time_utility.TimestampFormatter(timestamp=timestamp3)"
   ]
  },
  {
   "cell_type": "code",
   "execution_count": null,
   "metadata": {},
   "outputs": [],
   "source": [
    "o_time.format()"
   ]
  },
  {
   "cell_type": "markdown",
   "metadata": {},
   "source": [
    "# Select Metadata Info to Keep "
   ]
  },
  {
   "cell_type": "markdown",
   "metadata": {
    "run_control": {
     "frozen": false,
     "read_only": false
    }
   },
   "source": [
    "**Allow users to define:**\n",
    "\n",
    " * reference_line_showing_end_of_metadata\n",
    " * start_of_data_after_how_many_lines_from_reference_line\n",
    " * index or label of time info column in big table"
   ]
  },
  {
   "cell_type": "code",
   "execution_count": null,
   "metadata": {
    "run_control": {
     "frozen": false,
     "read_only": false
    }
   },
   "outputs": [],
   "source": [
    "o_meta = MetadataFileParser(filename=o_file.metadata_file, \n",
    "                            meta_type='mpt',\n",
    "                            time_label='time/s',\n",
    "                            reference_line_showing_end_of_metadata='Number of loops',\n",
    "                            end_of_metadata_after_how_many_lines_from_reference_line=1)\n",
    "o_meta.parse()\n",
    "\n",
    "o_meta.select_data_to_keep()"
   ]
  },
  {
   "cell_type": "markdown",
   "metadata": {},
   "source": [
    "# Select Output Folder and Filename of new Formated Metadata File"
   ]
  },
  {
   "cell_type": "code",
   "execution_count": null,
   "metadata": {},
   "outputs": [],
   "source": [
    "o_meta.keep_only_columns_of_data_of_interest()\n",
    "o_meta.select_output_location()"
   ]
  },
  {
   "cell_type": "markdown",
   "metadata": {},
   "source": [
    "# Where to go Next "
   ]
  },
  {
   "cell_type": "markdown",
   "metadata": {},
   "source": [
    "Now, you probably want to run [this metadata_ascii_parser](./metadata_ascii_parser.ipynb) notebook in order to create a list of file names and their exact metadata values."
   ]
  },
  {
   "cell_type": "code",
   "execution_count": null,
   "metadata": {},
   "outputs": [],
   "source": []
  }
 ],
 "metadata": {
  "kernelspec": {
   "display_name": "Python 3",
   "language": "python",
   "name": "python3"
  },
  "language_info": {
   "codemirror_mode": {
    "name": "ipython",
    "version": 3
   },
   "file_extension": ".py",
   "mimetype": "text/x-python",
   "name": "python",
   "nbconvert_exporter": "python",
   "pygments_lexer": "ipython3",
   "version": "3.6.7"
  },
  "toc": {
   "colors": {
    "hover_highlight": "#DAA520",
    "running_highlight": "#FF0000",
    "selected_highlight": "#FFD700"
   },
   "moveMenuLeft": true,
   "nav_menu": {
    "height": "66px",
    "width": "252px"
   },
   "navigate_menu": true,
   "number_sections": true,
   "sideBar": true,
   "threshold": 4,
   "toc_cell": false,
   "toc_section_display": "block",
   "toc_window_display": false
  }
 },
 "nbformat": 4,
 "nbformat_minor": 2
}
