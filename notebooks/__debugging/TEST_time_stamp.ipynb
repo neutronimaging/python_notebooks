{
 "cells": [
  {
   "cell_type": "code",
   "execution_count": null,
   "metadata": {
    "run_control": {
     "frozen": false,
     "read_only": false
    }
   },
   "outputs": [],
   "source": [
    "# MacPro\n",
    "list_files = [\"/Volumes/my_book_thunderbolt_duo/IPTS/IPTS-19799/Day1/20180129_BanderaGrey_Dolomite_Dry_0040_0182.tiff\",\n",
    "             \"/Volumes/my_book_thunderbolt_duo/IPTS/IPTS-19921-Charles/02/im0000.tif\"]\n",
    "\n",
    "# unix\n",
    "#list_files = ['/HFIR/CG1DImaging/IPTS-19799/raw/radiographs/Day1/20180129_BanderaGrey_Dolomite_Dry_0040_0182.tif',]\n",
    "\n",
    "expected_time_stamp = [886107840.0457269,\n",
    "                       1517259840.5604978,]\n",
    "\n",
    "expected_user_time_stamp = [\"2018-01-29 16:04:00\",\n",
    "                            \"2018-03-21 12:14:31\",]"
   ]
  },
  {
   "cell_type": "code",
   "execution_count": null,
   "metadata": {},
   "outputs": [],
   "source": [
    "from PIL import Image\n",
    "import os\n",
    "import datetime\n",
    "import pytz\n",
    "\n",
    "class MetadataHandler(object):\n",
    "\n",
    "    @staticmethod\n",
    "    def get_time_stamp(file_name='', ext='tif'):\n",
    "\n",
    "        if ext == 'tif':\n",
    "            try:\n",
    "                o_image = Image.open(file_name)\n",
    "                o_dict = dict(o_image.tag_v2)\n",
    "                try:\n",
    "                    time_stamp_s = str(o_dict[65002])\n",
    "                    time_stamp_ns = str(o_dict[65003])\n",
    "                    time_stamp_string = \"{}.{}\".format(time_stamp_s, time_stamp_ns)\n",
    "                    time_stamp = float(time_stamp_string)\n",
    "                except:\n",
    "                    time_stamp = o_dict[65000]\n",
    "\n",
    "                time_stamp = MetadataHandler._convert_epics_timestamp_to_rfc3339_timestamp(time_stamp)\n",
    "            except:\n",
    "                time_stamp = os.path.getctime(file_name)\n",
    "        elif ext == 'fits':\n",
    "            time_stamp = os.path.getctime(file_name)\n",
    "\n",
    "        else:\n",
    "            raise NotImplemented\n",
    "\n",
    "        return time_stamp\n",
    "    \n",
    "    @staticmethod\n",
    "    def convert_to_human_readable_format(timestamp):\n",
    "        \"\"\"Convert the unix time stamp into a human readable time format\n",
    "\n",
    "        Format return will look like  \"2018-01-29 10:30:25\"\n",
    "        \"\"\"\n",
    "        return datetime.datetime.fromtimestamp(timestamp).strftime(\"%Y-%m-%d %H:%M:%S\")\n",
    "\n",
    "    @staticmethod\n",
    "    def _convert_epics_timestamp_to_rfc3339_timestamp(epics_timestamp):\n",
    "        # TIFF files from CG1D have EPICS timestamps.  From the Controls\n",
    "        # Wiki:\n",
    "        #\n",
    "        # > EPICS timestamp. The timestamp is made when the image is read\n",
    "        # > out from the camera. Format is seconds.nanoseconds since Jan 1st\n",
    "        # > 00:00 1990.\n",
    "\n",
    "        # Convert seconds since \"EPICS epoch\" to seconds since the \"UNIX\n",
    "        # epoch\" so that Python can understand it.  I got the offset by\n",
    "        # calculating the number of seconds between the two epochs at\n",
    "        # https://www.epochconverter.com/\n",
    "        EPOCH_OFFSET = 631152000\n",
    "        unix_epoch_timestamp = EPOCH_OFFSET + epics_timestamp\n",
    "  \n",
    "        return unix_epoch_timestamp\n",
    "\n",
    "#         # Use pytz magic to get an ORNL-localized version of a Python\n",
    "#     # datetime object.\n",
    "#         ornl_datetime = pytz.timezone('America/New_York').localize(\n",
    "#         datetime.datetime.fromtimestamp(unix_epoch_timestamp)\n",
    "#         )\n",
    "\n",
    "#         return str(ornl_datetime.isoformat())\n",
    "\n"
   ]
  },
  {
   "cell_type": "code",
   "execution_count": null,
   "metadata": {},
   "outputs": [],
   "source": [
    "for _index,_file in enumerate(list_files):\n",
    "    _time_stamp = MetadataHandler.get_time_stamp(file_name=_file, ext='tif')\n",
    "    assert MetadataHandler.convert_to_human_readable_format(_time_stamp) == expected_user_time_stamp[_index]"
   ]
  },
  {
   "cell_type": "markdown",
   "metadata": {},
   "source": [
    "Testing the type of the metadata"
   ]
  },
  {
   "cell_type": "code",
   "execution_count": null,
   "metadata": {},
   "outputs": [],
   "source": [
    "o_image = Image.open(list_files[0])\n",
    "o_dict = dict(o_image.tag_v2)\n",
    "type(o_dict[65002])"
   ]
  },
  {
   "cell_type": "code",
   "execution_count": null,
   "metadata": {},
   "outputs": [],
   "source": [
    "import platform"
   ]
  },
  {
   "cell_type": "code",
   "execution_count": null,
   "metadata": {},
   "outputs": [],
   "source": [
    "platform.system()"
   ]
  },
  {
   "cell_type": "code",
   "execution_count": null,
   "metadata": {},
   "outputs": [],
   "source": []
  }
 ],
 "metadata": {
  "kernelspec": {
   "display_name": "Python 3",
   "language": "python",
   "name": "python3"
  },
  "language_info": {
   "codemirror_mode": {
    "name": "ipython",
    "version": 3
   },
   "file_extension": ".py",
   "mimetype": "text/x-python",
   "name": "python",
   "nbconvert_exporter": "python",
   "pygments_lexer": "ipython3",
   "version": "3.6.3"
  },
  "toc": {
   "colors": {
    "hover_highlight": "#DAA520",
    "running_highlight": "#FF0000",
    "selected_highlight": "#FFD700"
   },
   "moveMenuLeft": true,
   "nav_menu": {
    "height": "12px",
    "width": "252px"
   },
   "navigate_menu": true,
   "number_sections": true,
   "sideBar": true,
   "threshold": 4,
   "toc_cell": false,
   "toc_section_display": "block",
   "toc_window_display": false
  }
 },
 "nbformat": 4,
 "nbformat_minor": 2
}
