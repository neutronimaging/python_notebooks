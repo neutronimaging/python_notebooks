{
 "cells": [
  {
   "cell_type": "markdown",
   "id": "5e729d95",
   "metadata": {
    "run_control": {
     "frozen": false,
     "read_only": false
    }
   },
   "source": [
    "[![Notebook Tutorial](__code/__all/notebook_tutorial.png)](https://neutronimaging.pages.ornl.gov/tutorial/notebooks/bragg_edge)\n",
    "\n",
    "<img src='__docs/__all/notebook_rules.png' />"
   ]
  },
  {
   "cell_type": "markdown",
   "id": "c8dbd778",
   "metadata": {
    "run_control": {
     "frozen": false,
     "read_only": false
    }
   },
   "source": [
    "# Select Your IPTS "
   ]
  },
  {
   "cell_type": "code",
   "execution_count": null,
   "id": "5ce3dff6",
   "metadata": {
    "run_control": {
     "frozen": false,
     "read_only": false
    }
   },
   "outputs": [],
   "source": [
    "from __code import system\n",
    "from __code.bragg_edge.bragg_edge import BraggEdge, Interface\n",
    "\n",
    "system.System.select_working_dir(facility='SNS', instrument='SNAP')\n",
    "from __code.__all import custom_style\n",
    "custom_style.style()"
   ]
  },
  {
   "cell_type": "markdown",
   "id": "6a778b58",
   "metadata": {
    "run_control": {
     "frozen": false,
     "read_only": false
    }
   },
   "source": [
    "# Select Time Spectra File"
   ]
  },
  {
   "cell_type": "code",
   "execution_count": null,
   "id": "ba914bad",
   "metadata": {
    "run_control": {
     "frozen": false,
     "read_only": false
    }
   },
   "outputs": [],
   "source": [
    "o_bragg = BraggEdge(working_dir=system.System.get_working_dir())\n",
    "o_bragg.select_just_time_spectra_file()"
   ]
  },
  {
   "cell_type": "markdown",
   "id": "000dfdbd",
   "metadata": {
    "run_control": {
     "frozen": false,
     "read_only": false
    }
   },
   "source": [
    "# Define Experiment Setup"
   ]
  },
  {
   "cell_type": "code",
   "execution_count": null,
   "id": "8d0517a8",
   "metadata": {
    "run_control": {
     "frozen": false,
     "read_only": false
    }
   },
   "outputs": [],
   "source": [
    "o_bragg.exp_setup()"
   ]
  },
  {
   "cell_type": "markdown",
   "id": "8adb5991",
   "metadata": {
    "run_control": {
     "frozen": false,
     "read_only": false
    }
   },
   "source": [
    "## Display Bragg Edges vs Signal"
   ]
  },
  {
   "cell_type": "code",
   "execution_count": null,
   "id": "0fad3901",
   "metadata": {
    "run_control": {
     "frozen": false,
     "read_only": false
    }
   },
   "outputs": [],
   "source": [
    "o_bragg.load_time_spectra()\n",
    "#o_bragg.calculate_counts_vs_file_index_of_regions_selected(list_roi=o_interface.list_roi)"
   ]
  },
  {
   "cell_type": "code",
   "execution_count": null,
   "id": "b01a9273",
   "metadata": {},
   "outputs": [],
   "source": [
    "o_bragg.lambda_array"
   ]
  },
  {
   "cell_type": "code",
   "execution_count": null,
   "id": "4e406be0",
   "metadata": {},
   "outputs": [],
   "source": [
    "o_bragg.tof_array"
   ]
  },
  {
   "cell_type": "code",
   "execution_count": null,
   "id": "a37a7bde",
   "metadata": {},
   "outputs": [],
   "source": []
  },
  {
   "cell_type": "code",
   "execution_count": null,
   "id": "84d64a4e",
   "metadata": {},
   "outputs": [],
   "source": []
  },
  {
   "cell_type": "code",
   "execution_count": null,
   "id": "db085c47",
   "metadata": {
    "lines_to_next_cell": 0,
    "run_control": {
     "frozen": false,
     "read_only": false
    }
   },
   "outputs": [],
   "source": [
    "from plotly.offline import plot, init_notebook_mode, iplot\n",
    "init_notebook_mode()\n",
    "import plotly.plotly as py\n",
    "import plotly.graph_objs as go\n",
    "from plotly import tools\n",
    "from ipywidgets.widgets import interact\n",
    "from ipywidgets import widgets\n"
   ]
  },
  {
   "cell_type": "code",
   "execution_count": null,
   "id": "c918dd9e",
   "metadata": {
    "lines_to_next_cell": 2
   },
   "outputs": [],
   "source": []
  },
  {
   "cell_type": "code",
   "execution_count": null,
   "id": "f34feea1",
   "metadata": {
    "lines_to_next_cell": 0,
    "run_control": {
     "frozen": false,
     "read_only": false
    }
   },
   "outputs": [],
   "source": [
    "bragg_edges = o_bragg.bragg_edges\n",
    "hkl = o_bragg.hkl\n",
    "lambda_array = o_bragg.lambda_array\n",
    "sum_cropped_data = o_bragg.final_image\n",
    "\n",
    "# format hkl labels\n",
    "_hkl_formated = {}\n",
    "for _material in hkl:\n",
    "    _hkl_string = []\n",
    "    for _hkl in hkl[_material]:\n",
    "        _hkl_s = \",\".join(str(x) for x in _hkl)\n",
    "        _hkl_s = _material + \"\\n\" + _hkl_s\n",
    "        _hkl_string.append(_hkl_s)\n",
    "    _hkl_formated[_material] = _hkl_string\n",
    "    \n",
    "trace = go.Scatter(\n",
    "    x = o_bragg.lambda_array,\n",
    "    y = o_bragg.counts_vs_file_index,\n",
    "    mode = 'markers')\n",
    "\n",
    "layout = go.Layout(\n",
    "    width = \"100%\",\n",
    "    height = 500,\n",
    "    title = \"Sum Counts vs TOF\",\n",
    "    xaxis = dict(\n",
    "        title = \"Lambda (Angstroms)\"\n",
    "                ),\n",
    "    yaxis = dict(\n",
    "        title = \"Sum Counts\"\n",
    "                ),\n",
    "    )\n",
    "\n",
    "max_x = 6\n",
    "y_off = 1\n",
    "\n",
    "for y_index, _material in enumerate(bragg_edges):\n",
    "    for _index, _value in enumerate(bragg_edges[_material]):\n",
    "        if _value > max_x:\n",
    "            continue\n",
    "        bragg_line = {\"type\": \"line\",\n",
    "                    'x0': _value,\n",
    "                    'x1': _value,\n",
    "                     'yref': \"paper\",\n",
    "                     'y0': 0,\n",
    "                     'y1': 1,\n",
    "                     'line': {\n",
    "                        'color': 'rgb(255, 0, 0)',\n",
    "                        'width': 1\n",
    "            }}\n",
    "        layout.shapes.append(bragg_line)\n",
    "        y_off = 1 - 0.25 * y_index\n",
    "    \n",
    "        # add labels to plots\n",
    "        _annot = dict(\n",
    "                    x=_value,\n",
    "                    y= y_off,\n",
    "                    text = _hkl_formated[_material][_index],\n",
    "                    yref=\"paper\",\n",
    "                    font=dict(\n",
    "                        family=\"Arial\",\n",
    "                        size=16,\n",
    "                        color=\"rgb(150,50,50)\"\n",
    "                    ),\n",
    "                    showarrow=True,\n",
    "                    arrowhead=3,\n",
    "                    ax=0,\n",
    "                    ay=-25)\n",
    "                \n",
    "        layout.annotations.append(_annot)\n",
    "        \n",
    "data = [trace]\n",
    "\n",
    "figure = go.Figure(data=data, layout=layout)\n",
    "iplot(figure)\n"
   ]
  },
  {
   "cell_type": "code",
   "execution_count": null,
   "id": "8d393fe6",
   "metadata": {
    "lines_to_next_cell": 2
   },
   "outputs": [],
   "source": []
  }
 ],
 "metadata": {
  "kernelspec": {
   "display_name": "Python 3",
   "language": "python",
   "name": "python3"
  }
 },
 "nbformat": 4,
 "nbformat_minor": 5
}
