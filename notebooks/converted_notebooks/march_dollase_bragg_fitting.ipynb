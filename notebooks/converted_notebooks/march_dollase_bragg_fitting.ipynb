{
 "cells": [
  {
   "cell_type": "code",
   "execution_count": null,
   "id": "da99d65d",
   "metadata": {},
   "outputs": [],
   "source": [
    "import os\n",
    "import json\n",
    "import numpy as np\n",
    "\n",
    "import matplotlib.pyplot as plt\n",
    "%matplotlib notebook"
   ]
  },
  {
   "cell_type": "code",
   "execution_count": null,
   "id": "699c7b4f",
   "metadata": {},
   "outputs": [],
   "source": [
    "# json file created by GUI from bragg_edge_fitting.ipynb notebook\n",
    "json_file = \"/Users/j35/Desktop/march_dollase_data.json\"\n",
    "assert os.path.exists(json_file)"
   ]
  },
  {
   "cell_type": "code",
   "execution_count": null,
   "id": "b8e272a2",
   "metadata": {},
   "outputs": [],
   "source": [
    "with open(json_file) as f:\n",
    "  data = json.load(f)"
   ]
  },
  {
   "cell_type": "code",
   "execution_count": null,
   "id": "5f62bc2d",
   "metadata": {},
   "outputs": [],
   "source": [
    "x_axis = data['xaxis']\n",
    "y_axis = data['yaxis']\n",
    "parameters = data['parameters']\n",
    "\n",
    "x_axis = np.array(x_axis)\n",
    "y_axis = np.array(y_axis)"
   ]
  },
  {
   "cell_type": "code",
   "execution_count": null,
   "id": "114fc983",
   "metadata": {
    "lines_to_next_cell": 2
   },
   "outputs": [],
   "source": [
    "parameters"
   ]
  },
  {
   "cell_type": "code",
   "execution_count": null,
   "id": "e23d3a42",
   "metadata": {},
   "outputs": [],
   "source": [
    "fig = plt.figure()\n",
    "ax = fig.add_subplot(111)\n",
    "ax.plot(x_axis, y_axis, '.')\n",
    "plt.show()"
   ]
  },
  {
   "cell_type": "code",
   "execution_count": null,
   "id": "e6ce11a4",
   "metadata": {},
   "outputs": [],
   "source": []
  }
 ],
 "metadata": {
  "kernelspec": {
   "display_name": "Python 3",
   "language": "python",
   "name": "python3"
  }
 },
 "nbformat": 4,
 "nbformat_minor": 5
}
