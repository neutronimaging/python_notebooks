{
 "cells": [
  {
   "cell_type": "markdown",
   "id": "4ae3a7ad",
   "metadata": {
    "run_control": {
     "frozen": false,
     "read_only": false
    }
   },
   "source": [
    "[![Notebook Tutorial](__code/__all/notebook_tutorial.png)](https://neutronimaging.pages.ornl.gov/tutorial/notebooks/bragg_edge_normalization_and_profile_extractor/#activate-search)\n",
    "<img src='__docs/__all/notebook_rules.png' />"
   ]
  },
  {
   "cell_type": "markdown",
   "id": "77b4d886",
   "metadata": {
    "run_control": {
     "frozen": false,
     "read_only": false
    }
   },
   "source": [
    "# Select Your IPTS "
   ]
  },
  {
   "cell_type": "code",
   "execution_count": null,
   "id": "d5c76838",
   "metadata": {
    "run_control": {
     "frozen": false,
     "read_only": false
    }
   },
   "outputs": [],
   "source": [
    "from __code import system\n",
    "from __code.bragg_edge.bragg_edge_normalization import BraggEdge\n",
    "from __code.bragg_edge.bragg_edge import Interface\n",
    "\n",
    "system.System.select_working_dir(facility='SNS', instrument='SNAP')\n",
    "from __code.__all import custom_style\n",
    "custom_style.style()\n",
    "\n",
    "from plotly.offline import plot, init_notebook_mode, iplot\n",
    "init_notebook_mode()"
   ]
  },
  {
   "cell_type": "markdown",
   "id": "370c3ac7",
   "metadata": {},
   "source": [
    "## Prepare UI engine "
   ]
  },
  {
   "cell_type": "code",
   "execution_count": null,
   "id": "22c6c437",
   "metadata": {
    "run_control": {
     "frozen": false,
     "read_only": false
    }
   },
   "outputs": [],
   "source": [
    "%gui qt"
   ]
  },
  {
   "cell_type": "markdown",
   "id": "2d9e41f9",
   "metadata": {
    "run_control": {
     "frozen": false,
     "read_only": false
    }
   },
   "source": [
    "# Select Raw Data Input Folder\n",
    "\n",
    "Data and time spectra files will be loaded"
   ]
  },
  {
   "cell_type": "code",
   "execution_count": null,
   "id": "139d12aa",
   "metadata": {
    "run_control": {
     "frozen": false,
     "read_only": false
    }
   },
   "outputs": [],
   "source": [
    "o_bragg = BraggEdge(working_dir=system.System.get_working_dir())\n",
    "o_bragg.select_working_folder()"
   ]
  },
  {
   "cell_type": "markdown",
   "id": "43d068cb",
   "metadata": {},
   "source": [
    "# Select Open Beam Input Folder "
   ]
  },
  {
   "cell_type": "code",
   "execution_count": null,
   "id": "72e4de3b",
   "metadata": {},
   "outputs": [],
   "source": [
    "o_bragg.select_ob_folder()"
   ]
  },
  {
   "cell_type": "markdown",
   "id": "4aed7d99",
   "metadata": {},
   "source": [
    "# Normalization"
   ]
  },
  {
   "cell_type": "markdown",
   "id": "57f599b2",
   "metadata": {
    "run_control": {
     "frozen": false,
     "read_only": false
    }
   },
   "source": [
    "### Select how many random files to use to select sample position"
   ]
  },
  {
   "cell_type": "code",
   "execution_count": null,
   "id": "e0841dee",
   "metadata": {
    "run_control": {
     "frozen": false,
     "read_only": false
    }
   },
   "outputs": [],
   "source": [
    "o_bragg.how_many_data_to_use_to_select_sample_roi()"
   ]
  },
  {
   "cell_type": "markdown",
   "id": "52cdeacc",
   "metadata": {
    "run_control": {
     "frozen": false,
     "read_only": false
    }
   },
   "source": [
    "### Select background region"
   ]
  },
  {
   "cell_type": "markdown",
   "id": "6a92f097",
   "metadata": {},
   "source": [
    "In order to improve the normalization you have the option to select a region in your images that **you know for sure is away from the sample**. The algorithm will use that **background** region to match it with the same region of the open beam (OB) images."
   ]
  },
  {
   "cell_type": "code",
   "execution_count": null,
   "id": "0fec2045",
   "metadata": {
    "run_control": {
     "frozen": false,
     "read_only": false
    }
   },
   "outputs": [],
   "source": [
    "o_interface = Interface(data=o_bragg.get_image_to_use_for_display())\n",
    "o_interface.show()"
   ]
  },
  {
   "cell_type": "markdown",
   "id": "52b92d91",
   "metadata": {},
   "source": [
    "## Perform normalization "
   ]
  },
  {
   "cell_type": "code",
   "execution_count": null,
   "id": "b8f55dc6",
   "metadata": {},
   "outputs": [],
   "source": [
    "o_bragg.normalization(list_rois=o_interface.roi_selected)"
   ]
  },
  {
   "cell_type": "markdown",
   "id": "af399a57",
   "metadata": {},
   "source": [
    "## Export normalized data "
   ]
  },
  {
   "cell_type": "code",
   "execution_count": null,
   "id": "4503914b",
   "metadata": {},
   "outputs": [],
   "source": [
    "o_bragg.export_normalized_data()"
   ]
  },
  {
   "cell_type": "markdown",
   "id": "042ff775",
   "metadata": {},
   "source": [
    "# Calculate Bragg edge profile"
   ]
  },
  {
   "cell_type": "markdown",
   "id": "1d622f73",
   "metadata": {
    "run_control": {
     "frozen": false,
     "read_only": false
    }
   },
   "source": [
    "## Define Experiment Setup"
   ]
  },
  {
   "cell_type": "code",
   "execution_count": null,
   "id": "74e3f6ee",
   "metadata": {
    "run_control": {
     "frozen": false,
     "read_only": false
    }
   },
   "outputs": [],
   "source": [
    "o_bragg.exp_setup()"
   ]
  },
  {
   "cell_type": "markdown",
   "id": "925bb5b5",
   "metadata": {},
   "source": [
    "## Define the position of your sample "
   ]
  },
  {
   "cell_type": "code",
   "execution_count": null,
   "id": "1ebccac9",
   "metadata": {},
   "outputs": [],
   "source": [
    "o_interface_sample = Interface(data=o_bragg.final_image)\n",
    "o_interface_sample.show()"
   ]
  },
  {
   "cell_type": "markdown",
   "id": "44475b19",
   "metadata": {},
   "source": [
    "## Calculate signal of sample region"
   ]
  },
  {
   "cell_type": "code",
   "execution_count": null,
   "id": "c6cb923a",
   "metadata": {},
   "outputs": [],
   "source": [
    "# o_bragg.calculate_counts_vs_file_index_of_regions_selected(list_roi=o_interface.list_roi)\n",
    "o_bragg.calculate_counts_vs_file_index_of_regions_selected(list_roi=o_interface_sample.roi_selected)\n",
    "o_bragg.load_time_spectra()"
   ]
  },
  {
   "cell_type": "markdown",
   "id": "772c06cf",
   "metadata": {
    "run_control": {
     "frozen": false,
     "read_only": false
    }
   },
   "source": [
    "# Display Bragg Edges vs Signal"
   ]
  },
  {
   "cell_type": "markdown",
   "id": "c60799f2",
   "metadata": {},
   "source": [
    "Run the next cell **only if** you want to display the signal Counts vs lambda "
   ]
  },
  {
   "cell_type": "code",
   "execution_count": null,
   "id": "55a3d381",
   "metadata": {
    "lines_to_next_cell": 0,
    "run_control": {
     "frozen": false,
     "read_only": false
    }
   },
   "outputs": [],
   "source": [
    "o_bragg.plot()"
   ]
  },
  {
   "cell_type": "markdown",
   "id": "21560326",
   "metadata": {},
   "source": [
    "# Export ASCII Data "
   ]
  },
  {
   "cell_type": "code",
   "execution_count": null,
   "id": "7bd34165",
   "metadata": {},
   "outputs": [],
   "source": [
    "o_bragg.select_output_data_folder()"
   ]
  },
  {
   "cell_type": "code",
   "execution_count": null,
   "id": "054aafa9",
   "metadata": {},
   "outputs": [],
   "source": []
  }
 ],
 "metadata": {
  "kernelspec": {
   "display_name": "Python 3",
   "language": "python",
   "name": "python3"
  }
 },
 "nbformat": 4,
 "nbformat_minor": 5
}
