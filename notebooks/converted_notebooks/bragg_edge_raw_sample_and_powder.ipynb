{
 "cells": [
  {
   "cell_type": "markdown",
   "id": "0a42d70b",
   "metadata": {
    "run_control": {
     "frozen": false,
     "read_only": false
    }
   },
   "source": [
    "[![Notebook Tutorial](__code/__all/notebook_tutorial.png)](https://neutronimaging.pages.ornl.gov/tutorial/notebooks/bragg_edge_raw_sample_and_powder)\n",
    "\n",
    "<img src='__docs/__all/notebook_rules.png' />"
   ]
  },
  {
   "cell_type": "markdown",
   "id": "0454bc6a",
   "metadata": {
    "run_control": {
     "frozen": false,
     "read_only": false
    }
   },
   "source": [
    "# Select Your IPTS "
   ]
  },
  {
   "cell_type": "code",
   "execution_count": null,
   "id": "78520092",
   "metadata": {
    "run_control": {
     "frozen": false,
     "read_only": false
    }
   },
   "outputs": [],
   "source": [
    "from __code import system\n",
    "from __code.bragg_edge.bragg_edge_raw_sample_and_powder import BraggEdge\n",
    "from __code.bragg_edge.bragg_edge import Interface\n",
    "\n",
    "system.System.select_working_dir(facility='SNS', instrument='SNAP')\n",
    "from __code.__all import custom_style\n",
    "custom_style.style()\n",
    "\n",
    "from plotly.offline import plot, init_notebook_mode, iplot\n",
    "init_notebook_mode()"
   ]
  },
  {
   "cell_type": "markdown",
   "id": "95f0c767",
   "metadata": {},
   "source": [
    "## Prepare UI engine "
   ]
  },
  {
   "cell_type": "code",
   "execution_count": null,
   "id": "be5de054",
   "metadata": {
    "run_control": {
     "frozen": false,
     "read_only": false
    }
   },
   "outputs": [],
   "source": [
    "%gui qt"
   ]
  },
  {
   "cell_type": "markdown",
   "id": "429b0d66",
   "metadata": {
    "run_control": {
     "frozen": false,
     "read_only": false
    }
   },
   "source": [
    "# Select Raw Data Input Folder\n",
    "\n",
    "Data and time spectra files will be loaded"
   ]
  },
  {
   "cell_type": "code",
   "execution_count": null,
   "id": "9cdfc09b",
   "metadata": {
    "run_control": {
     "frozen": false,
     "read_only": false
    }
   },
   "outputs": [],
   "source": [
    "o_bragg = BraggEdge(working_dir=system.System.get_working_dir())\n",
    "o_bragg.select_working_folder()"
   ]
  },
  {
   "cell_type": "markdown",
   "id": "067537fe",
   "metadata": {},
   "source": [
    "# Select Open Beam Input Folder "
   ]
  },
  {
   "cell_type": "code",
   "execution_count": null,
   "id": "29158d2f",
   "metadata": {},
   "outputs": [],
   "source": [
    "o_bragg.select_ob_folder()"
   ]
  },
  {
   "cell_type": "markdown",
   "id": "b6d8881b",
   "metadata": {},
   "source": [
    "# Select Background Region"
   ]
  },
  {
   "cell_type": "markdown",
   "id": "160cd0b7",
   "metadata": {
    "run_control": {
     "frozen": false,
     "read_only": false
    }
   },
   "source": [
    "### Select how many random files to use to select various ROIs"
   ]
  },
  {
   "cell_type": "code",
   "execution_count": null,
   "id": "71622cea",
   "metadata": {
    "run_control": {
     "frozen": false,
     "read_only": false
    }
   },
   "outputs": [],
   "source": [
    "o_bragg.how_many_data_to_use_to_select_sample_roi()"
   ]
  },
  {
   "cell_type": "markdown",
   "id": "6bf9c98b",
   "metadata": {
    "run_control": {
     "frozen": false,
     "read_only": false
    }
   },
   "source": [
    "### Select background region in integrated image"
   ]
  },
  {
   "cell_type": "code",
   "execution_count": null,
   "id": "c2c11157",
   "metadata": {
    "run_control": {
     "frozen": false,
     "read_only": false
    }
   },
   "outputs": [],
   "source": [
    "o_bragg.define_integrated_sample_to_use()\n",
    "o_background = Interface(data=o_bragg.final_image)\n",
    "o_background.show()"
   ]
  },
  {
   "cell_type": "markdown",
   "id": "d30762ee",
   "metadata": {},
   "source": [
    "# Normalize Data "
   ]
  },
  {
   "cell_type": "code",
   "execution_count": null,
   "id": "e7ec3333",
   "metadata": {},
   "outputs": [],
   "source": [
    "o_bragg.normalization(o_background=o_background)"
   ]
  },
  {
   "cell_type": "markdown",
   "id": "775c6d9d",
   "metadata": {},
   "source": [
    "# Powder Element(s) to Use to Compare the Bragg Edges  "
   ]
  },
  {
   "cell_type": "code",
   "execution_count": null,
   "id": "7c9b87d2",
   "metadata": {},
   "outputs": [],
   "source": [
    "o_bragg.list_elements()"
   ]
  },
  {
   "cell_type": "markdown",
   "id": "86a8a9d1",
   "metadata": {},
   "source": [
    "## List Bragg Edges "
   ]
  },
  {
   "cell_type": "code",
   "execution_count": null,
   "id": "1060e012",
   "metadata": {},
   "outputs": [],
   "source": [
    "o_bragg.list_powder_bragg_edges()"
   ]
  },
  {
   "cell_type": "markdown",
   "id": "46c9bf64",
   "metadata": {},
   "source": [
    "# Select Sample ROI "
   ]
  },
  {
   "cell_type": "code",
   "execution_count": null,
   "id": "cc40bd10",
   "metadata": {},
   "outputs": [],
   "source": [
    "o_sample = Interface(data=o_bragg.final_image)\n",
    "o_sample.show()"
   ]
  },
  {
   "cell_type": "markdown",
   "id": "d1cf2c38",
   "metadata": {
    "run_control": {
     "frozen": false,
     "read_only": false
    }
   },
   "source": [
    "# Define Experiment Setup"
   ]
  },
  {
   "cell_type": "code",
   "execution_count": null,
   "id": "86679b25",
   "metadata": {
    "run_control": {
     "frozen": false,
     "read_only": false
    }
   },
   "outputs": [],
   "source": [
    "o_bragg.exp_setup()"
   ]
  },
  {
   "cell_type": "markdown",
   "id": "7690f775",
   "metadata": {},
   "source": [
    "# Calculate Bragg Edges Data "
   ]
  },
  {
   "cell_type": "code",
   "execution_count": null,
   "id": "affe28d7",
   "metadata": {},
   "outputs": [],
   "source": [
    "o_bragg.calculate_counts_vs_file_index_of_regions_selected(list_roi=o_sample.list_roi)\n",
    "o_bragg.load_time_spectra()"
   ]
  },
  {
   "cell_type": "markdown",
   "id": "238a17c0",
   "metadata": {
    "run_control": {
     "frozen": false,
     "read_only": false
    }
   },
   "source": [
    "# Display Bragg Edges vs Signal"
   ]
  },
  {
   "cell_type": "markdown",
   "id": "e9973103",
   "metadata": {},
   "source": [
    "Run the next cell **only if** you want to display the signal Counts vs lambda "
   ]
  },
  {
   "cell_type": "code",
   "execution_count": null,
   "id": "2abc3f61",
   "metadata": {
    "lines_to_next_cell": 0,
    "run_control": {
     "frozen": false,
     "read_only": false
    }
   },
   "outputs": [],
   "source": [
    "o_bragg.plot()"
   ]
  },
  {
   "cell_type": "markdown",
   "id": "d178befd",
   "metadata": {},
   "source": [
    "# Export Data "
   ]
  },
  {
   "cell_type": "code",
   "execution_count": null,
   "id": "78cbc637",
   "metadata": {},
   "outputs": [],
   "source": [
    "o_bragg.select_output_data_folder()"
   ]
  },
  {
   "cell_type": "code",
   "execution_count": null,
   "id": "31aa2414",
   "metadata": {},
   "outputs": [],
   "source": [
    "o_bragg.select_output_table_folder()"
   ]
  },
  {
   "cell_type": "code",
   "execution_count": null,
   "id": "159874af",
   "metadata": {},
   "outputs": [],
   "source": []
  }
 ],
 "metadata": {
  "kernelspec": {
   "display_name": "Python 3",
   "language": "python",
   "name": "python3"
  }
 },
 "nbformat": 4,
 "nbformat_minor": 5
}
