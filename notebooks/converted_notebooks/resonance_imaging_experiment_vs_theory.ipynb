{
 "cells": [
  {
   "cell_type": "code",
   "execution_count": null,
   "id": "80eef1ff",
   "metadata": {
    "run_control": {
     "frozen": false,
     "read_only": false
    }
   },
   "outputs": [],
   "source": [
    "debugging = True\n",
    "IPTS = 19558"
   ]
  },
  {
   "cell_type": "markdown",
   "id": "f9da1fe6",
   "metadata": {
    "run_control": {
     "frozen": false,
     "read_only": false
    }
   },
   "source": [
    "# Description "
   ]
  },
  {
   "cell_type": "markdown",
   "id": "9a3bf506",
   "metadata": {
    "run_control": {
     "frozen": false,
     "read_only": false
    }
   },
   "source": [
    "Steps are:\n",
    " - load a stack of images\n",
    " - define your sample\n",
    " \n",
    "=> the average counts of the region vs the stack (index, TOF or lambda) will be displayed\n",
    "compared to the theory signal of a given set of layers."
   ]
  },
  {
   "cell_type": "markdown",
   "id": "257032bb",
   "metadata": {
    "run_control": {
     "frozen": false,
     "read_only": false
    }
   },
   "source": [
    "# Notebook Initialization "
   ]
  },
  {
   "cell_type": "code",
   "execution_count": null,
   "id": "a2ac6ad0",
   "metadata": {
    "run_control": {
     "frozen": false,
     "read_only": false
    }
   },
   "outputs": [],
   "source": [
    "from __code.__all import custom_style\n",
    "custom_style.style()"
   ]
  },
  {
   "cell_type": "code",
   "execution_count": null,
   "id": "17bbf476",
   "metadata": {
    "run_control": {
     "frozen": false,
     "read_only": false
    }
   },
   "outputs": [],
   "source": [
    "%gui qt"
   ]
  },
  {
   "cell_type": "code",
   "execution_count": null,
   "id": "f77c7848",
   "metadata": {
    "run_control": {
     "frozen": false,
     "marked": true,
     "read_only": false
    }
   },
   "outputs": [],
   "source": [
    "from __code.ui_builder import UiBuilder\n",
    "o_builder = UiBuilder(ui_name = 'ui_resonance_imaging_experiment_vs_theory.ui')\n",
    "o_builder = UiBuilder(ui_name = 'ui_resonance_imaging_layers_input.ui')\n",
    "\n",
    "from __code import file_handler, utilities\n",
    "from __code.display_counts_of_region_vs_stack_vs_theory import ImageWindow\n",
    "from __code.display_imaging_resonance_sample_definition import SampleWindow\n",
    "from NeuNorm.normalization import Normalization\n",
    "from __code.ipywe import fileselector\n",
    "\n",
    "import pprint\n",
    "\n",
    "if debugging:\n",
    "    ipts = IPTS\n",
    "else:\n",
    "    ipts = utilities.get_ipts()\n",
    "working_dir = utilities.get_working_dir(ipts=ipts, debugging=debugging)\n",
    "print(\"Working dir: {}\".format(working_dir))"
   ]
  },
  {
   "cell_type": "markdown",
   "id": "f434cc6e",
   "metadata": {
    "cell_style": "split",
    "run_control": {
     "frozen": false,
     "read_only": false
    }
   },
   "source": [
    "# Select Stack Folder"
   ]
  },
  {
   "cell_type": "code",
   "execution_count": null,
   "id": "e7229dd1",
   "metadata": {
    "format": "tab",
    "run_control": {
     "frozen": false,
     "read_only": false
    }
   },
   "outputs": [],
   "source": [
    "input_folder_ui = ipywe.fileselector.FileSelectorPanel(instruction='Select Input Folder',\n",
    "                                                       type='directory', \n",
    "                                                       start_dir=working_dir, \n",
    "                                                       multiple=False)\n",
    "input_folder_ui.show()"
   ]
  },
  {
   "cell_type": "markdown",
   "id": "9d6d4141",
   "metadata": {
    "run_control": {
     "frozen": false,
     "read_only": false
    }
   },
   "source": [
    "# Load Stack"
   ]
  },
  {
   "cell_type": "code",
   "execution_count": null,
   "id": "3941470c",
   "metadata": {
    "run_control": {
     "frozen": false,
     "read_only": false
    }
   },
   "outputs": [],
   "source": [
    "working_folder = input_folder_ui.selected\n",
    "o_norm = Normalization()\n",
    "o_norm.load(folder=working_folder, notebook=True)"
   ]
  },
  {
   "cell_type": "markdown",
   "id": "723c2288",
   "metadata": {
    "run_control": {
     "frozen": false,
     "read_only": false
    }
   },
   "source": [
    "# Define Sample "
   ]
  },
  {
   "cell_type": "code",
   "execution_count": null,
   "id": "aa9b4401",
   "metadata": {
    "run_control": {
     "frozen": false,
     "read_only": false
    }
   },
   "outputs": [],
   "source": [
    "_sample = SampleWindow(parent=None, debugging=debugging)\n",
    "_sample.show()"
   ]
  },
  {
   "cell_type": "markdown",
   "id": "06fee7ae",
   "metadata": {
    "run_control": {
     "frozen": false,
     "read_only": false
    }
   },
   "source": [
    "# Select Region and display Counts"
   ]
  },
  {
   "cell_type": "code",
   "execution_count": null,
   "id": "0bc003ed",
   "metadata": {
    "run_control": {
     "frozen": false,
     "read_only": false
    }
   },
   "outputs": [],
   "source": [
    "o_reso = _sample.o_reso\n",
    "\n",
    "_image = ImageWindow(\n",
    "    stack=(o_norm.data['sample']['data']), working_folder=working_folder, o_reso=o_reso)\n",
    "_image.show()"
   ]
  },
  {
   "cell_type": "markdown",
   "id": "f890a909",
   "metadata": {
    "run_control": {
     "frozen": false,
     "read_only": false
    }
   },
   "source": [
    "# Export "
   ]
  },
  {
   "cell_type": "markdown",
   "id": "2f52766f",
   "metadata": {
    "run_control": {
     "frozen": false,
     "read_only": false
    }
   },
   "source": [
    "UNDER CONSTRUCTION!"
   ]
  },
  {
   "cell_type": "code",
   "execution_count": null,
   "id": "bab42c8d",
   "metadata": {
    "run_control": {
     "frozen": false,
     "read_only": false
    }
   },
   "outputs": [],
   "source": []
  }
 ],
 "metadata": {
  "kernelspec": {
   "display_name": "Python 3",
   "language": "python",
   "name": "python3"
  }
 },
 "nbformat": 4,
 "nbformat_minor": 5
}
