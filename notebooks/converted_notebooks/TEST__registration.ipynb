{
 "cells": [
  {
   "cell_type": "markdown",
   "id": "cb6257ca",
   "metadata": {
    "run_control": {
     "frozen": false,
     "read_only": false
    }
   },
   "source": [
    "[![Notebook Tutorial](__code/__all/notebook_tutorial.png)](https://neutronimaging.pages.ornl.gov/en/tutorial/notebooks/registration/)"
   ]
  },
  {
   "cell_type": "markdown",
   "id": "617bc39e",
   "metadata": {
    "run_control": {
     "frozen": false,
     "read_only": false
    }
   },
   "source": [
    "<img src='__docs/__all/notebook_rules.png' />"
   ]
  },
  {
   "cell_type": "markdown",
   "id": "c9574d3f",
   "metadata": {
    "run_control": {
     "frozen": false,
     "read_only": false
    }
   },
   "source": [
    "# Select your IPTS "
   ]
  },
  {
   "cell_type": "code",
   "execution_count": null,
   "id": "3276ad2a",
   "metadata": {
    "run_control": {
     "frozen": false,
     "read_only": false
    }
   },
   "outputs": [],
   "source": [
    "from __code.ui_builder import UiBuilder\n",
    "o_builder = UiBuilder(ui_name = 'ui_registration.ui')\n",
    "o_builder = UiBuilder(ui_name = 'ui_registration_tool.ui')\n",
    "o_builder = UiBuilder(ui_name = 'ui_registration_auto_confirmation.ui')\n",
    "o_builder = UiBuilder(ui_name = 'ui_registration_markers.ui')\n",
    "o_builder = UiBuilder(ui_name = 'ui_registration_profile.ui')\n",
    "o_builder = UiBuilder(ui_name = 'ui_registration_profile_settings.ui')\n",
    "\n",
    "from __code import system\n",
    "from __code.registration.registration import RegistrationFileSelection, RegistrationUi\n",
    "\n",
    "system.System.select_working_dir()\n",
    "from __code.__all import custom_style\n",
    "custom_style.style()"
   ]
  },
  {
   "cell_type": "markdown",
   "id": "f0581ef6",
   "metadata": {
    "run_control": {
     "frozen": false,
     "read_only": false
    }
   },
   "source": [
    "# Python Import "
   ]
  },
  {
   "cell_type": "code",
   "execution_count": null,
   "id": "68d34958",
   "metadata": {
    "run_control": {
     "frozen": false,
     "read_only": false
    }
   },
   "outputs": [],
   "source": [
    "%gui qt"
   ]
  },
  {
   "cell_type": "markdown",
   "id": "78c235dc",
   "metadata": {
    "run_control": {
     "frozen": false,
     "read_only": false
    }
   },
   "source": [
    "# Select Images to Process"
   ]
  },
  {
   "cell_type": "code",
   "execution_count": null,
   "id": "be157f3b",
   "metadata": {
    "run_control": {
     "frozen": false,
     "read_only": false
    }
   },
   "outputs": [],
   "source": [
    "o_selection = RegistrationFileSelection(working_dir=system.System.get_working_dir())\n",
    "o_selection.select_data()"
   ]
  },
  {
   "cell_type": "markdown",
   "id": "20b7c774",
   "metadata": {
    "run_control": {
     "frozen": false,
     "read_only": false
    }
   },
   "source": [
    "# Launch Registration UI "
   ]
  },
  {
   "cell_type": "code",
   "execution_count": null,
   "id": "b9a9f3f9",
   "metadata": {
    "run_control": {
     "frozen": false,
     "read_only": false
    }
   },
   "outputs": [],
   "source": [
    "o_registration = RegistrationUi(data_dict=o_selection.data_dict['sample'])\n",
    "o_registration.show()"
   ]
  },
  {
   "cell_type": "markdown",
   "id": "cbd25987",
   "metadata": {
    "run_control": {
     "frozen": false,
     "read_only": false
    }
   },
   "source": [
    "DEBUGGING"
   ]
  },
  {
   "cell_type": "code",
   "execution_count": null,
   "id": "b742513e",
   "metadata": {
    "run_control": {
     "frozen": false,
     "read_only": false
    }
   },
   "outputs": [],
   "source": [
    "%gui qt"
   ]
  },
  {
   "cell_type": "code",
   "execution_count": null,
   "id": "4d24df74",
   "metadata": {
    "run_control": {
     "frozen": false,
     "read_only": false
    }
   },
   "outputs": [],
   "source": [
    "from __code.ui_builder import UiBuilder\n",
    "o_builder = UiBuilder(ui_name = 'ui_registration_profile.ui')\n",
    "\n",
    "from __code.registration.registration import RegistrationFileSelection\n",
    "from __code.registration.registration_profile import RegistrationProfileUi\n",
    "import os\n",
    "\n",
    "list_files = [\"/Users/j35/IPTS/charles/im0000.tif\",\n",
    "             \"/Users/j35/IPTS/charles/im0320.tif\",\n",
    "             \"/Users/j35/IPTS/charles/im0321.tif\",\n",
    "             \"/Users/j35/IPTS/charles/im0322.tif\",\n",
    "             \"/Users/j35/IPTS/charles/im0323.tif\",\n",
    "             \"/Users/j35/IPTS/charles/im0324.tif\",\n",
    "             \"/Users/j35/IPTS/charles/im0325.tif\",\n",
    "             \"/Users/j35/IPTS/charles/im0326.tif\",\n",
    "            ]\n",
    "\n",
    "list_files = [\"/Volumes/my_book_thunderbolt_duo/IPTS/IPTS-19921-Charles/02/Im0000.tif\",\n",
    "              \"/Volumes/my_book_thunderbolt_duo/IPTS/IPTS-19921-Charles/02/Im0032.tif\",\n",
    "              \"/Volumes/my_book_thunderbolt_duo/IPTS/IPTS-19921-Charles/02/Im0033.tif\",\n",
    "              \"/Volumes/my_book_thunderbolt_duo/IPTS/IPTS-19921-Charles/02/Im0034.tif\",\n",
    "              \"/Volumes/my_book_thunderbolt_duo/IPTS/IPTS-19921-Charles/02/Im0035.tif\",\n",
    "              \"/Volumes/my_book_thunderbolt_duo/IPTS/IPTS-19921-Charles/02/Im0036.tif\",\n",
    "              \"/Volumes/my_book_thunderbolt_duo/IPTS/IPTS-19921-Charles/02/Im0037.tif\",\n",
    "             ]\n",
    "\n",
    "import glob\n",
    "list_files = glob.glob(\"/Volumes/my_book_thunderbolt_duo/IPTS/IPTS-19921-Charles/registration_test_set/*.tif\")\n",
    "\n",
    "[os.path.exists(_file) for _file in list_files]"
   ]
  },
  {
   "cell_type": "code",
   "execution_count": null,
   "id": "39abab82",
   "metadata": {
    "run_control": {
     "frozen": false,
     "read_only": false
    }
   },
   "outputs": [],
   "source": [
    "o_regi = RegistrationFileSelection()\n",
    "o_regi.load_files(list_files)"
   ]
  },
  {
   "cell_type": "code",
   "execution_count": null,
   "id": "71f74896",
   "metadata": {
    "run_control": {
     "frozen": false,
     "read_only": false
    }
   },
   "outputs": [],
   "source": [
    "o_gui = RegistrationProfileUi(data_dict=o_regi.data_dict['sample'])\n",
    "o_gui.show()"
   ]
  },
  {
   "cell_type": "code",
   "execution_count": null,
   "id": "85ec7f9f",
   "metadata": {
    "run_control": {
     "frozen": false,
     "read_only": false
    }
   },
   "outputs": [],
   "source": []
  }
 ],
 "metadata": {
  "kernelspec": {
   "display_name": "Python 3",
   "language": "python",
   "name": "python3"
  }
 },
 "nbformat": 4,
 "nbformat_minor": 5
}
