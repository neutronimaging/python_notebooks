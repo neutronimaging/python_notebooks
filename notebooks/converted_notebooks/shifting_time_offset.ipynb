{
 "cells": [
  {
   "cell_type": "markdown",
   "id": "1906cff7",
   "metadata": {},
   "source": [
    "[![Notebook Tutorial](__code/__all/notebook_tutorial.png)](https://neutronimaging.pages.ornl.gov/tutorial/notebooks/shifting_time_offset/)\n",
    "\n",
    "<img src='__docs/__all/notebook_rules.png' />"
   ]
  },
  {
   "cell_type": "markdown",
   "id": "97c6371c",
   "metadata": {},
   "source": [
    "# Select Your IPTS "
   ]
  },
  {
   "cell_type": "code",
   "execution_count": null,
   "id": "5dac7956",
   "metadata": {},
   "outputs": [],
   "source": [
    "from __code.select_files_and_folders import SelectFiles, SelectFolder\n",
    "from __code.shifting_time_offset import ShiftTimeOffset\n",
    "\n",
    "from __code import system\n",
    "system.System.select_working_dir()\n",
    "from __code.__all import custom_style\n",
    "custom_style.style()"
   ]
  },
  {
   "cell_type": "markdown",
   "id": "7917c898",
   "metadata": {},
   "source": [
    "# Select Folder"
   ]
  },
  {
   "cell_type": "code",
   "execution_count": null,
   "id": "e62d243a",
   "metadata": {},
   "outputs": [],
   "source": [
    "o_shift = ShiftTimeOffset()\n",
    "o_select = SelectFolder(system=system, is_input_folder=True, next_function=o_shift.display_counts_vs_time)"
   ]
  },
  {
   "cell_type": "markdown",
   "id": "738712f6",
   "metadata": {},
   "source": [
    "# Repeat on other folders?"
   ]
  },
  {
   "cell_type": "code",
   "execution_count": null,
   "id": "9f63d211",
   "metadata": {},
   "outputs": [],
   "source": [
    "o_other_folders = SelectFolder(working_dir=o_shift.working_dir,\n",
    "                              is_input_folder=True,\n",
    "                              multiple_flags=True,\n",
    "                              next_function=o_shift.selected_other_folders)"
   ]
  },
  {
   "cell_type": "markdown",
   "id": "1f09bacc",
   "metadata": {},
   "source": [
    "# Output Images "
   ]
  },
  {
   "cell_type": "code",
   "execution_count": null,
   "id": "f374638d",
   "metadata": {},
   "outputs": [],
   "source": [
    "o_shift.offset_images()"
   ]
  },
  {
   "cell_type": "code",
   "execution_count": null,
   "id": "ef5f7c71",
   "metadata": {},
   "outputs": [],
   "source": []
  }
 ],
 "metadata": {
  "kernelspec": {
   "display_name": "Python 3",
   "language": "python",
   "name": "python3"
  }
 },
 "nbformat": 4,
 "nbformat_minor": 5
}
