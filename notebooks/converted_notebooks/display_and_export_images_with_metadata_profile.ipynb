{
 "cells": [
  {
   "cell_type": "markdown",
   "id": "43ad5d98",
   "metadata": {},
   "source": [
    "# Select Your IPTS "
   ]
  },
  {
   "cell_type": "code",
   "execution_count": null,
   "id": "59c03421",
   "metadata": {
    "run_control": {
     "frozen": false,
     "read_only": false
    }
   },
   "outputs": [],
   "source": [
    "from __code.display_and_export_images_with_metadata_profile import DisplayExportScreenshots\n",
    "from __code import system\n",
    "system.System.select_working_dir()\n",
    "from __code.__all import custom_style\n",
    "custom_style.style() "
   ]
  },
  {
   "cell_type": "markdown",
   "id": "5bdf9445",
   "metadata": {
    "run_control": {
     "frozen": false,
     "read_only": false
    }
   },
   "source": [
    "# Description "
   ]
  },
  {
   "cell_type": "markdown",
   "id": "30df7ffc",
   "metadata": {
    "run_control": {
     "frozen": false,
     "read_only": false
    }
   },
   "source": [
    "This notebook will display (and save) the images with the metadata profile calculated in the [file_name_and_metadata_vs_time_stamp](file_name_and_metadata_vs_time_stamp.ipynb).\n",
    "\n",
    "Then you will also have the option to export all the images and metadata profile plots."
   ]
  },
  {
   "cell_type": "markdown",
   "id": "bd019f9a",
   "metadata": {
    "run_control": {
     "frozen": false,
     "read_only": false
    }
   },
   "source": [
    "# Select Image Folder "
   ]
  },
  {
   "cell_type": "code",
   "execution_count": null,
   "id": "96921210",
   "metadata": {},
   "outputs": [],
   "source": [
    "o_display_export = DisplayExportScreenshots(working_dir=system.System.get_working_dir())\n",
    "o_display_export.select_input_folder()"
   ]
  },
  {
   "cell_type": "markdown",
   "id": "b0ae1570",
   "metadata": {
    "run_control": {
     "frozen": false,
     "read_only": false
    }
   },
   "source": [
    "# Select File Name vs Metatdata ASCII file"
   ]
  },
  {
   "cell_type": "markdown",
   "id": "e9bc74bb",
   "metadata": {
    "run_control": {
     "frozen": false,
     "read_only": false
    }
   },
   "source": [
    "This file should have been created by [file_name_and_metadata_vs_time_stamp](file_name_and_metadata_vs_time_stamp.ipynb)"
   ]
  },
  {
   "cell_type": "code",
   "execution_count": null,
   "id": "e284198d",
   "metadata": {},
   "outputs": [],
   "source": [
    "o_display_export.select_metadata_file()"
   ]
  },
  {
   "cell_type": "markdown",
   "id": "3b6530e0",
   "metadata": {
    "run_control": {
     "frozen": false,
     "read_only": false
    }
   },
   "source": [
    "# Display Images with Profile of metadata "
   ]
  },
  {
   "cell_type": "code",
   "execution_count": null,
   "id": "9409e25d",
   "metadata": {
    "run_control": {
     "frozen": false,
     "read_only": false
    }
   },
   "outputs": [],
   "source": [
    "o_display_export.display()"
   ]
  },
  {
   "cell_type": "markdown",
   "id": "83363bc8",
   "metadata": {
    "run_control": {
     "frozen": false,
     "read_only": false
    }
   },
   "source": [
    "# Output all screenshots"
   ]
  },
  {
   "cell_type": "code",
   "execution_count": null,
   "id": "0f4a1c67",
   "metadata": {
    "run_control": {
     "frozen": false,
     "marked": false,
     "read_only": false
    }
   },
   "outputs": [],
   "source": [
    "o_display_export.select_export_folder()"
   ]
  },
  {
   "cell_type": "code",
   "execution_count": null,
   "id": "96a5a2e2",
   "metadata": {
    "run_control": {
     "frozen": false,
     "read_only": false
    }
   },
   "outputs": [],
   "source": [
    "o_display_export.export()"
   ]
  },
  {
   "cell_type": "code",
   "execution_count": null,
   "id": "7c104f3c",
   "metadata": {
    "run_control": {
     "frozen": false,
     "read_only": false
    }
   },
   "outputs": [],
   "source": []
  }
 ],
 "metadata": {
  "kernelspec": {
   "display_name": "Python 3",
   "language": "python",
   "name": "python3"
  }
 },
 "nbformat": 4,
 "nbformat_minor": 5
}
