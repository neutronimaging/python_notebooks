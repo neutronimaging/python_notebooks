{
 "cells": [
  {
   "cell_type": "markdown",
   "id": "f3e1a46d",
   "metadata": {},
   "source": [
    "[![Notebook Tutorial](__code/__all/notebook_tutorial.png)](https://neutronimaging.pages.ornl.gov/tutorial/notebooks/extract_nexus_daslogs)\n",
    "\n",
    "<img src='__docs/__all/notebook_rules.png' />"
   ]
  },
  {
   "cell_type": "markdown",
   "id": "f6a2af5d",
   "metadata": {},
   "source": [
    "# Select your IPTS "
   ]
  },
  {
   "cell_type": "code",
   "execution_count": null,
   "id": "23e68723",
   "metadata": {},
   "outputs": [],
   "source": [
    "from __code.extract_nexus_daslogs import extract\n",
    "\n",
    "from __code import system\n",
    "system.System.select_working_dir()\n",
    "from __code.__all import custom_style\n",
    "custom_style.style()"
   ]
  },
  {
   "cell_type": "markdown",
   "id": "21da9c44",
   "metadata": {},
   "source": [
    "# Select list of NeXus to extract metadata from"
   ]
  },
  {
   "cell_type": "code",
   "execution_count": null,
   "id": "a2d605fc",
   "metadata": {},
   "outputs": [],
   "source": [
    "o_extract = extract.Extract(working_dir=system.System.get_working_dir())\n",
    "o_extract.select_nexus()"
   ]
  },
  {
   "cell_type": "code",
   "execution_count": null,
   "id": "5e2f0159",
   "metadata": {},
   "outputs": [],
   "source": [
    "o_extract.export()"
   ]
  },
  {
   "cell_type": "code",
   "execution_count": null,
   "id": "43eee99e",
   "metadata": {},
   "outputs": [],
   "source": []
  }
 ],
 "metadata": {
  "kernelspec": {
   "display_name": "Python 3",
   "language": "python",
   "name": "python3"
  }
 },
 "nbformat": 4,
 "nbformat_minor": 5
}
