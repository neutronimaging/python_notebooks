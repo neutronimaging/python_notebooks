{
 "cells": [
  {
   "cell_type": "markdown",
   "id": "54843648",
   "metadata": {},
   "source": [
    "[![Notebook Tutorial](__code/__all/notebook_tutorial.png)](https://neutronimaging.pages.ornl.gov/tutorial/notebooks/display_integrated_stack_of_images)\n",
    "\n",
    "<img src='__docs/__all/notebook_rules.png' />"
   ]
  },
  {
   "cell_type": "markdown",
   "id": "2e0bf44e",
   "metadata": {},
   "source": [
    "# Select Your IPTS "
   ]
  },
  {
   "cell_type": "code",
   "execution_count": null,
   "id": "3b6667e9",
   "metadata": {},
   "outputs": [],
   "source": [
    "from __code.display_integrated_stack_of_images import DisplayIntegratedStackOfImages\n",
    "\n",
    "%matplotlib notebook\n",
    "\n",
    "from __code import system\n",
    "system.System.select_working_dir()\n",
    "from __code.__all import custom_style\n",
    "custom_style.style()"
   ]
  },
  {
   "cell_type": "markdown",
   "id": "397e28d2",
   "metadata": {
    "run_control": {
     "frozen": false,
     "read_only": false
    }
   },
   "source": [
    "# Select Input Folder"
   ]
  },
  {
   "cell_type": "code",
   "execution_count": null,
   "id": "72db0f2e",
   "metadata": {},
   "outputs": [],
   "source": [
    "o_integrated = DisplayIntegratedStackOfImages(working_dir=system.System.get_working_dir())\n",
    "o_integrated.select_input_folder()"
   ]
  },
  {
   "cell_type": "markdown",
   "id": "87257613",
   "metadata": {
    "run_control": {
     "frozen": false,
     "read_only": false
    }
   },
   "source": [
    "# Load Stack"
   ]
  },
  {
   "cell_type": "code",
   "execution_count": null,
   "id": "d8138501",
   "metadata": {},
   "outputs": [],
   "source": [
    "o_integrated.display_integrated_stack()"
   ]
  },
  {
   "cell_type": "code",
   "execution_count": null,
   "id": "a8ef17bf",
   "metadata": {},
   "outputs": [],
   "source": []
  }
 ],
 "metadata": {
  "kernelspec": {
   "display_name": "Python 3",
   "language": "python",
   "name": "python3"
  }
 },
 "nbformat": 4,
 "nbformat_minor": 5
}
