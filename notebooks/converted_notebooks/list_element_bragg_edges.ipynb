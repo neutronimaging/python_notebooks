{
 "cells": [
  {
   "cell_type": "markdown",
   "id": "90aca491",
   "metadata": {
    "run_control": {
     "frozen": false,
     "read_only": false
    }
   },
   "source": [
    "[![Notebook Tutorial](__code/__all/notebook_tutorial.png)](https://neutronimaging.pages.ornl.gov/tutorial/notebooks/list_element_bragg_edges)\n",
    "\n",
    "<img src='__docs/__all/notebook_rules.png' />"
   ]
  },
  {
   "cell_type": "markdown",
   "id": "252fe0a0",
   "metadata": {
    "run_control": {
     "frozen": false,
     "read_only": false
    }
   },
   "source": [
    "# Import code"
   ]
  },
  {
   "cell_type": "code",
   "execution_count": null,
   "id": "275b0e9a",
   "metadata": {
    "run_control": {
     "frozen": false,
     "read_only": false
    }
   },
   "outputs": [],
   "source": [
    "from __code.bragg_edge.bragg_edge import BraggEdge, Interface\n",
    "from __code.__all import custom_style\n",
    "custom_style.style()"
   ]
  },
  {
   "cell_type": "markdown",
   "id": "6e520ccb",
   "metadata": {
    "run_control": {
     "frozen": false,
     "read_only": false
    }
   },
   "source": [
    "# Select Element"
   ]
  },
  {
   "cell_type": "code",
   "execution_count": null,
   "id": "7e607221",
   "metadata": {
    "run_control": {
     "frozen": false,
     "read_only": false
    }
   },
   "outputs": [],
   "source": [
    "o_bragg = BraggEdge()\n",
    "o_bragg.full_list_elements()"
   ]
  },
  {
   "cell_type": "markdown",
   "id": "e90fabb4",
   "metadata": {},
   "source": [
    "## List Bragg Edges "
   ]
  },
  {
   "cell_type": "code",
   "execution_count": null,
   "id": "135e6c34",
   "metadata": {},
   "outputs": [],
   "source": [
    "o_bragg.list_powder_bragg_edges()"
   ]
  },
  {
   "cell_type": "markdown",
   "id": "396015c3",
   "metadata": {},
   "source": [
    "## Export Table as CSV "
   ]
  },
  {
   "cell_type": "code",
   "execution_count": null,
   "id": "c9e1e6c7",
   "metadata": {},
   "outputs": [],
   "source": [
    "o_bragg.select_output_folder()"
   ]
  },
  {
   "cell_type": "code",
   "execution_count": null,
   "id": "9c1c9b5f",
   "metadata": {},
   "outputs": [],
   "source": []
  }
 ],
 "metadata": {
  "kernelspec": {
   "display_name": "Python 3",
   "language": "python",
   "name": "python3"
  }
 },
 "nbformat": 4,
 "nbformat_minor": 5
}
