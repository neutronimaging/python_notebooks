{
 "cells": [
  {
   "cell_type": "markdown",
   "id": "95065470",
   "metadata": {
    "run_control": {
     "frozen": false,
     "read_only": false
    }
   },
   "source": [
    "[![Notebook Tutorial](__code/__all/notebook_tutorial.png)](https://neutronimaging.pages.ornl.gov/tutorial/notebooks/calibrated_transmission/)"
   ]
  },
  {
   "cell_type": "markdown",
   "id": "08acdd3e",
   "metadata": {
    "run_control": {
     "frozen": false,
     "read_only": false
    }
   },
   "source": [
    "<img src='__docs/__all/notebook_rules.png' />"
   ]
  },
  {
   "cell_type": "markdown",
   "id": "0dfb3dc5",
   "metadata": {
    "run_control": {
     "frozen": false,
     "read_only": false
    }
   },
   "source": [
    "# Select your IPTS "
   ]
  },
  {
   "cell_type": "code",
   "execution_count": null,
   "id": "33d5d4b7",
   "metadata": {
    "run_control": {
     "frozen": false,
     "read_only": false
    }
   },
   "outputs": [],
   "source": [
    "from __code.ui_builder import UiBuilder\n",
    "o_builder = UiBuilder(ui_name = 'ui_calibrated_transmission.ui')\n",
    "\n",
    "from __code import system\n",
    "from __code.ipywe.myfileselector import FileSelection\n",
    "from __code.calibrated_transmission import CalibratedTransmissionUi\n",
    "\n",
    "system.System.select_working_dir()\n",
    "from __code.__all import custom_style\n",
    "custom_style.style()"
   ]
  },
  {
   "cell_type": "markdown",
   "id": "309ed612",
   "metadata": {
    "run_control": {
     "frozen": false,
     "read_only": false
    }
   },
   "source": [
    "# Python Import "
   ]
  },
  {
   "cell_type": "code",
   "execution_count": null,
   "id": "d179b6a5",
   "metadata": {
    "run_control": {
     "frozen": false,
     "read_only": false
    }
   },
   "outputs": [],
   "source": [
    "%gui qt"
   ]
  },
  {
   "cell_type": "markdown",
   "id": "668bbbdb",
   "metadata": {
    "run_control": {
     "frozen": false,
     "read_only": false
    }
   },
   "source": [
    "# Select Images to Process"
   ]
  },
  {
   "cell_type": "code",
   "execution_count": null,
   "id": "76ff8bdf",
   "metadata": {
    "run_control": {
     "frozen": false,
     "read_only": false
    }
   },
   "outputs": [],
   "source": [
    "o_selection = FileSelection(working_dir=system.System.get_working_dir())\n",
    "o_selection.select_data()"
   ]
  },
  {
   "cell_type": "markdown",
   "id": "3b60b8a7",
   "metadata": {
    "run_control": {
     "frozen": false,
     "read_only": false
    }
   },
   "source": [
    "# Launch UI "
   ]
  },
  {
   "cell_type": "code",
   "execution_count": null,
   "id": "a8ef79b3",
   "metadata": {
    "run_control": {
     "frozen": false,
     "read_only": false
    }
   },
   "outputs": [],
   "source": [
    "o_calibration = CalibratedTransmissionUi(working_dir=system.System.get_working_dir(), \n",
    "                                         data_dict=o_selection.data_dict['sample'])\n",
    "o_calibration.show()"
   ]
  },
  {
   "cell_type": "code",
   "execution_count": null,
   "id": "047ababb",
   "metadata": {
    "run_control": {
     "frozen": false,
     "read_only": false
    }
   },
   "outputs": [],
   "source": []
  }
 ],
 "metadata": {
  "kernelspec": {
   "display_name": "Python 3",
   "language": "python",
   "name": "python3"
  }
 },
 "nbformat": 4,
 "nbformat_minor": 5
}
