{
 "cells": [
  {
   "cell_type": "markdown",
   "id": "9802327b",
   "metadata": {},
   "source": [
    "[![Notebook Tutorial](__code/__all/notebook_tutorial.png)](https://neutronimaging.pages.ornl.gov/tutorial/notebooks/rotate_and_crop_images)\n",
    "\n",
    "<img src='__docs/__all/notebook_rules.png' />"
   ]
  },
  {
   "cell_type": "markdown",
   "id": "3ad8fedd",
   "metadata": {},
   "source": [
    "# Select Your IPTS"
   ]
  },
  {
   "cell_type": "code",
   "execution_count": null,
   "id": "af8d8925",
   "metadata": {},
   "outputs": [],
   "source": [
    "from __code.ui_builder import UiBuilder\n",
    "o_builder = UiBuilder(ui_name = 'ui_rotate_and_crop.ui')\n",
    "\n",
    "from __code.load_images import LoadImages\n",
    "from __code.rotate_and_crop_images import RotateAndCropImages, Export\n",
    "\n",
    "from __code import system\n",
    "system.System.select_working_dir()\n",
    "from __code.__all import custom_style\n",
    "custom_style.style()"
   ]
  },
  {
   "cell_type": "code",
   "execution_count": null,
   "id": "bdc28e58",
   "metadata": {
    "run_control": {
     "frozen": false,
     "read_only": false
    }
   },
   "outputs": [],
   "source": [
    "%gui qt"
   ]
  },
  {
   "cell_type": "markdown",
   "id": "bed2c391",
   "metadata": {
    "run_control": {
     "frozen": false,
     "read_only": false
    }
   },
   "source": [
    "# Select and Load Working Images"
   ]
  },
  {
   "cell_type": "markdown",
   "id": "5302c9d5",
   "metadata": {
    "run_control": {
     "frozen": false,
     "read_only": false
    }
   },
   "source": [
    "Select the images (tiff or fits) you want to crop and/or rotate"
   ]
  },
  {
   "cell_type": "code",
   "execution_count": null,
   "id": "7cbc5d33",
   "metadata": {
    "run_control": {
     "frozen": false,
     "read_only": false
    }
   },
   "outputs": [],
   "source": [
    "o_load = LoadImages(working_dir=system.System.get_working_dir())\n",
    "o_load.select_images(use_next=True)"
   ]
  },
  {
   "cell_type": "markdown",
   "id": "15d02001",
   "metadata": {
    "run_control": {
     "frozen": false,
     "read_only": false
    }
   },
   "source": [
    "# Select crop region and/or rotation angle "
   ]
  },
  {
   "cell_type": "code",
   "execution_count": null,
   "id": "18cf74aa",
   "metadata": {
    "run_control": {
     "frozen": false,
     "read_only": false
    }
   },
   "outputs": [],
   "source": [
    "list_images = o_load.list_images\n",
    "\n",
    "o_crop = RotateAndCropImages(o_load = o_load)\n",
    "o_crop.show()"
   ]
  },
  {
   "cell_type": "markdown",
   "id": "f0d20fa9",
   "metadata": {
    "run_control": {
     "frozen": false,
     "read_only": false
    }
   },
   "source": [
    "# Export Images "
   ]
  },
  {
   "cell_type": "code",
   "execution_count": null,
   "id": "db6475d1",
   "metadata": {
    "run_control": {
     "frozen": false,
     "read_only": false
    }
   },
   "outputs": [],
   "source": [
    "rotated_working_data = o_crop.rotated_working_data\n",
    "rotation_angle = o_crop.rotation_angle\n",
    "\n",
    "o_output_folder = Export(working_dir=system.System.get_working_dir(),\n",
    "                        data=rotated_working_data,\n",
    "                        list_files=list_images,\n",
    "                        rotation_angle=rotation_angle)\n",
    "o_output_folder.select_folder()"
   ]
  },
  {
   "cell_type": "markdown",
   "id": "7f48f2c3",
   "metadata": {
    "run_control": {
     "frozen": false,
     "read_only": false
    }
   },
   "source": [
    "Cleaning notebook memory"
   ]
  },
  {
   "cell_type": "code",
   "execution_count": null,
   "id": "8eb5a140",
   "metadata": {
    "lines_to_next_cell": 0,
    "run_control": {
     "frozen": false,
     "read_only": false
    }
   },
   "outputs": [],
   "source": [
    "try:\n",
    "    del o_crop\n",
    "    del o_load\n",
    "except:\n",
    "    pass"
   ]
  },
  {
   "cell_type": "code",
   "execution_count": null,
   "id": "1af6b4d9",
   "metadata": {
    "lines_to_next_cell": 2
   },
   "outputs": [],
   "source": []
  }
 ],
 "metadata": {
  "kernelspec": {
   "display_name": "Python 3",
   "language": "python",
   "name": "python3"
  }
 },
 "nbformat": 4,
 "nbformat_minor": 5
}
