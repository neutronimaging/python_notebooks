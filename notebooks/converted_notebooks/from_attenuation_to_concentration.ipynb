{
 "cells": [
  {
   "cell_type": "markdown",
   "id": "78881aba",
   "metadata": {
    "run_control": {
     "frozen": false,
     "read_only": false
    }
   },
   "source": [
    "[![Notebook Tutorial](__code/__all/notebook_tutorial.png)](https://neutronimaging.pages.ornl.gov/tutorial/notebooks/from_attenuation_to_concentration)"
   ]
  },
  {
   "cell_type": "markdown",
   "id": "5574c41b",
   "metadata": {
    "run_control": {
     "frozen": false,
     "read_only": false
    }
   },
   "source": [
    "<img src='__docs/__all/notebook_rules.png' />"
   ]
  },
  {
   "cell_type": "markdown",
   "id": "c73b021c",
   "metadata": {
    "run_control": {
     "frozen": false,
     "read_only": false
    }
   },
   "source": [
    "# Select Your IPTS "
   ]
  },
  {
   "cell_type": "code",
   "execution_count": null,
   "id": "47e96f2c",
   "metadata": {
    "run_control": {
     "frozen": false,
     "read_only": false
    }
   },
   "outputs": [],
   "source": [
    "from __code.from_attenuation_to_concentration import *\n",
    "\n",
    "from __code import system\n",
    "system.System.select_working_dir()\n",
    "from __code.__all import custom_style\n",
    "custom_style.style()"
   ]
  },
  {
   "cell_type": "markdown",
   "id": "d99eb88b",
   "metadata": {
    "run_control": {
     "frozen": false,
     "read_only": false
    }
   },
   "source": [
    "# Select Data Folder"
   ]
  },
  {
   "cell_type": "code",
   "execution_count": null,
   "id": "80cfc6e5",
   "metadata": {
    "run_control": {
     "frozen": false,
     "read_only": false
    }
   },
   "outputs": [],
   "source": [
    "o_convert = FromAttenuationToConcentration(working_dir=system.System.get_working_dir())\n",
    "o_convert.select_folder()"
   ]
  },
  {
   "cell_type": "markdown",
   "id": "fc435f5c",
   "metadata": {
    "run_control": {
     "frozen": false,
     "read_only": false
    }
   },
   "source": [
    "# Define conversion formula "
   ]
  },
  {
   "cell_type": "code",
   "execution_count": null,
   "id": "25651d30",
   "metadata": {
    "run_control": {
     "frozen": false,
     "read_only": false
    }
   },
   "outputs": [],
   "source": [
    "o_convert.define_conversion_formula()"
   ]
  },
  {
   "cell_type": "markdown",
   "id": "f359c0f3",
   "metadata": {
    "run_control": {
     "frozen": false,
     "read_only": false
    }
   },
   "source": [
    "# Converting Data "
   ]
  },
  {
   "cell_type": "code",
   "execution_count": null,
   "id": "d5795e98",
   "metadata": {
    "run_control": {
     "frozen": false,
     "read_only": false
    }
   },
   "outputs": [],
   "source": [
    "o_convert.converting_data()"
   ]
  },
  {
   "cell_type": "markdown",
   "id": "40c2c49e",
   "metadata": {
    "run_control": {
     "frozen": false,
     "read_only": false
    }
   },
   "source": [
    "# Select Output Folder Location"
   ]
  },
  {
   "cell_type": "code",
   "execution_count": null,
   "id": "93c6b4b7",
   "metadata": {
    "run_control": {
     "frozen": false,
     "read_only": false
    }
   },
   "outputs": [],
   "source": [
    "o_convert.select_output_folder()"
   ]
  },
  {
   "cell_type": "code",
   "execution_count": null,
   "id": "449b1d7e",
   "metadata": {
    "run_control": {
     "frozen": false,
     "read_only": false
    }
   },
   "outputs": [],
   "source": [
    "\n",
    "\n",
    "\n",
    "\n",
    "\n",
    "\n",
    "\n",
    "\n",
    "\n"
   ]
  }
 ],
 "metadata": {
  "kernelspec": {
   "display_name": "Python 3",
   "language": "python",
   "name": "python3"
  }
 },
 "nbformat": 4,
 "nbformat_minor": 5
}
