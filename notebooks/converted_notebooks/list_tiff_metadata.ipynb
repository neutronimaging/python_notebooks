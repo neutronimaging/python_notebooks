{
 "cells": [
  {
   "cell_type": "markdown",
   "id": "928c17a9",
   "metadata": {
    "run_control": {
     "frozen": false,
     "read_only": false
    }
   },
   "source": [
    "[![Notebook Tutorial](__code/__all/notebook_tutorial.png)](https://neutronimaging.pages.ornl.gov/tutorial/notebooks/list_tiff_metadata)"
   ]
  },
  {
   "cell_type": "markdown",
   "id": "fc89e19e",
   "metadata": {
    "run_control": {
     "frozen": false,
     "read_only": false
    }
   },
   "source": [
    "<img src='__docs/__all/notebook_rules.png' />"
   ]
  },
  {
   "cell_type": "markdown",
   "id": "f2cef5b6",
   "metadata": {
    "run_control": {
     "frozen": false,
     "read_only": false
    }
   },
   "source": [
    "# Select Your IPTS"
   ]
  },
  {
   "cell_type": "code",
   "execution_count": null,
   "id": "d213e2e4",
   "metadata": {
    "run_control": {
     "frozen": false,
     "read_only": false
    }
   },
   "outputs": [],
   "source": [
    "from __code.select_metadata_to_display import DisplayMetadata\n",
    "from __code import system\n",
    "system.System.select_working_dir()\n",
    "from __code.__all import custom_style\n",
    "custom_style.style()"
   ]
  },
  {
   "cell_type": "markdown",
   "id": "cc506bca",
   "metadata": {
    "run_control": {
     "frozen": false,
     "read_only": false
    }
   },
   "source": [
    "# Select TIFF Images"
   ]
  },
  {
   "cell_type": "code",
   "execution_count": null,
   "id": "fd20f2b2",
   "metadata": {
    "run_control": {
     "frozen": false,
     "read_only": false
    }
   },
   "outputs": [],
   "source": [
    "o_meta = DisplayMetadata(working_dir=system.System.get_working_dir())\n",
    "o_meta.select_images(instruction='Select TIFF images ...')"
   ]
  },
  {
   "cell_type": "markdown",
   "id": "b13c4ed6",
   "metadata": {
    "run_control": {
     "frozen": false,
     "read_only": false
    }
   },
   "source": [
    "# Select Metadata to Display"
   ]
  },
  {
   "cell_type": "markdown",
   "id": "cc85b53d",
   "metadata": {
    "run_control": {
     "frozen": false,
     "read_only": false
    }
   },
   "source": [
    "Display list of metadata (according to first tiff image)"
   ]
  },
  {
   "cell_type": "code",
   "execution_count": null,
   "id": "3460c876",
   "metadata": {
    "run_control": {
     "frozen": false,
     "read_only": false
    }
   },
   "outputs": [],
   "source": [
    "o_meta.display_metadata_list()"
   ]
  },
  {
   "cell_type": "markdown",
   "id": "196a294e",
   "metadata": {
    "run_control": {
     "frozen": false,
     "read_only": false
    }
   },
   "source": [
    "# Metadata Selected Displayed for all Files Loaded"
   ]
  },
  {
   "cell_type": "code",
   "execution_count": null,
   "id": "9e631b23",
   "metadata": {
    "run_control": {
     "frozen": false,
     "read_only": false
    }
   },
   "outputs": [],
   "source": [
    "o_meta.display_metadata_selected()"
   ]
  },
  {
   "cell_type": "markdown",
   "id": "4ce0515b",
   "metadata": {
    "run_control": {
     "frozen": false,
     "read_only": false
    }
   },
   "source": [
    "# Export Metadata Selected "
   ]
  },
  {
   "cell_type": "code",
   "execution_count": null,
   "id": "7f68b531",
   "metadata": {
    "run_control": {
     "frozen": false,
     "read_only": false
    }
   },
   "outputs": [],
   "source": [
    "o_meta.select_output_folder(instruction='Select Output Folder ...')"
   ]
  },
  {
   "cell_type": "code",
   "execution_count": null,
   "id": "2bb81c84",
   "metadata": {
    "run_control": {
     "frozen": false,
     "read_only": false
    }
   },
   "outputs": [],
   "source": [
    "o_meta.export()"
   ]
  },
  {
   "cell_type": "code",
   "execution_count": null,
   "id": "e6414ae1",
   "metadata": {
    "run_control": {
     "frozen": false,
     "read_only": false
    }
   },
   "outputs": [],
   "source": []
  }
 ],
 "metadata": {
  "kernelspec": {
   "display_name": "Python 3",
   "language": "python",
   "name": "python3"
  }
 },
 "nbformat": 4,
 "nbformat_minor": 5
}
