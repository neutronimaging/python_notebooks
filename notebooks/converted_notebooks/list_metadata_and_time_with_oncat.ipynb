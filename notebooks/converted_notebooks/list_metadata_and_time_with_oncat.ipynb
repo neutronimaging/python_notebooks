{
 "cells": [
  {
   "cell_type": "markdown",
   "id": "09eeac04",
   "metadata": {},
   "source": [
    "[![Notebook Tutorial](__code/__all/notebook_tutorial.png)](https://neutronimaging.pages.ornl.gov/tutorial/notebooks/list_metadata_and_time_with_oncat/)\n",
    "\n",
    "<img src='__docs/__all/notebook_rules.png' />"
   ]
  },
  {
   "cell_type": "markdown",
   "id": "1380091d",
   "metadata": {},
   "source": [
    "# Select Your IPTS "
   ]
  },
  {
   "cell_type": "code",
   "execution_count": null,
   "id": "94cdd4bd",
   "metadata": {},
   "outputs": [],
   "source": [
    "from __code.select_files_and_folders import SelectFiles, SelectFolder\n",
    "from __code.list_metadata_and_time_with_oncat import ListMetadata\n",
    "\n",
    "from __code import system\n",
    "system.System.select_working_dir()\n",
    "from __code.__all import custom_style\n",
    "custom_style.style()"
   ]
  },
  {
   "cell_type": "markdown",
   "id": "692965d1",
   "metadata": {},
   "source": [
    "# Select Images "
   ]
  },
  {
   "cell_type": "code",
   "execution_count": null,
   "id": "043a92ef",
   "metadata": {},
   "outputs": [],
   "source": [
    "o_select = SelectFiles(system=system)"
   ]
  },
  {
   "cell_type": "markdown",
   "id": "a87313a9",
   "metadata": {},
   "source": [
    "# Log in to ONCat "
   ]
  },
  {
   "cell_type": "code",
   "execution_count": null,
   "id": "5a6f9934",
   "metadata": {},
   "outputs": [],
   "source": [
    "o_list = ListMetadata()"
   ]
  },
  {
   "cell_type": "markdown",
   "id": "745ec1d3",
   "metadata": {},
   "source": [
    "# Select Metadata to Keep "
   ]
  },
  {
   "cell_type": "code",
   "execution_count": null,
   "id": "0f727e06",
   "metadata": {},
   "outputs": [],
   "source": [
    "o_list.select_metadata(system=system, list_of_files=o_select.list_of_files)"
   ]
  },
  {
   "cell_type": "markdown",
   "id": "c1d3d4e6",
   "metadata": {},
   "source": [
    "# Create and Export ASCII File"
   ]
  },
  {
   "cell_type": "code",
   "execution_count": null,
   "id": "bd8f43db",
   "metadata": {},
   "outputs": [],
   "source": [
    "o_output_folder = SelectFolder(system=system, next_function=o_list.export_ascii)"
   ]
  },
  {
   "cell_type": "code",
   "execution_count": null,
   "id": "964067b5",
   "metadata": {},
   "outputs": [],
   "source": []
  }
 ],
 "metadata": {
  "kernelspec": {
   "display_name": "Python 3",
   "language": "python",
   "name": "python3"
  }
 },
 "nbformat": 4,
 "nbformat_minor": 5
}
