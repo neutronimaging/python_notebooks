{
 "cells": [
  {
   "cell_type": "code",
   "execution_count": null,
   "id": "937fe39f",
   "metadata": {},
   "outputs": [],
   "source": [
    "import os\n",
    "import numpy as np\n",
    "import pprint\n",
    "\n",
    "import matplotlib.pyplot as plt\n",
    "import time\n",
    "import datetime\n",
    "\n",
    "import pandas as pd\n",
    "from __code import time_utility\n",
    "\n",
    "from __code.images_and_metadata_extrapolation_matcher import ImagesAndMetadataExtrapolationMatcher"
   ]
  },
  {
   "cell_type": "markdown",
   "id": "1881719d",
   "metadata": {},
   "source": [
    "# Case 1 - file name information in both files"
   ]
  },
  {
   "cell_type": "code",
   "execution_count": null,
   "id": "413b1a5b",
   "metadata": {},
   "outputs": [],
   "source": [
    "ascii1 = '/Volumes/my_book_thunderbolt_duo/IPTS/IPTS-20444-Regina/TESTING_SET/images_timestamp_infos.txt'\n",
    "ascii2 = '/Volumes/my_book_thunderbolt_duo/IPTS/IPTS-20444-Regina/TESTING_SET/Sep_17_metadata_report_from_oncat.txt'"
   ]
  },
  {
   "cell_type": "code",
   "execution_count": null,
   "id": "819d2bf9",
   "metadata": {},
   "outputs": [],
   "source": [
    "o_matcher = ImagesAndMetadataExtrapolationMatcher(ascii_file_1=ascii1, ascii_file_2=ascii2)"
   ]
  },
  {
   "cell_type": "code",
   "execution_count": null,
   "id": "b8f7248b",
   "metadata": {},
   "outputs": [],
   "source": [
    "# pprint.pprint(\"ascii1\")\n",
    "# pprint.pprint(o_matcher.ascii_file_1_dataframe)\n",
    "\n",
    "# print(\"\")\n",
    "\n",
    "# pprint.pprint(\"ascii2\")\n",
    "# pprint.pprint(o_matcher.ascii_file_2_dataframe)"
   ]
  },
  {
   "cell_type": "code",
   "execution_count": null,
   "id": "d791996d",
   "metadata": {},
   "outputs": [],
   "source": [
    "pprint.pprint(\"Data merged\")\n",
    "pprint.pprint(o_matcher.get_merged_dataframe())"
   ]
  },
  {
   "cell_type": "markdown",
   "id": "4477ad18",
   "metadata": {},
   "source": [
    "# Case 2 - No filename information in one of the metadata"
   ]
  },
  {
   "cell_type": "code",
   "execution_count": null,
   "id": "e7fdcdbe",
   "metadata": {
    "lines_to_next_cell": 2
   },
   "outputs": [],
   "source": [
    "ascii1 = '/Volumes/my_book_thunderbolt_duo/IPTS/IPTS-20444-Regina/TESTING_SET/images_timestamp_infos.txt'\n",
    "ascii3 = '/Volumes/my_book_thunderbolt_duo/IPTS/IPTS-20444-Regina/TESTING_SET/A49_3_at80C_4p1mm_120s_2_03_OCV_C03_2columns.txt'"
   ]
  },
  {
   "cell_type": "code",
   "execution_count": null,
   "id": "356f8e92",
   "metadata": {},
   "outputs": [],
   "source": [
    "o_matcher = ImagesAndMetadataExtrapolationMatcher(ascii_file_1=ascii1, ascii_file_2=ascii3)"
   ]
  },
  {
   "cell_type": "code",
   "execution_count": null,
   "id": "bc54e908",
   "metadata": {},
   "outputs": [],
   "source": [
    "# print(\"ascii1\")\n",
    "# print(o_matcher.ascii_file_1_dataframe)"
   ]
  },
  {
   "cell_type": "code",
   "execution_count": null,
   "id": "bd9e399a",
   "metadata": {},
   "outputs": [],
   "source": [
    "# print(\"\\nascii2\")\n",
    "# print(o_matcher.ascii_file_2_dataframe)"
   ]
  },
  {
   "cell_type": "code",
   "execution_count": null,
   "id": "9b9b11aa",
   "metadata": {},
   "outputs": [],
   "source": [
    "ascii_file_1_dataframe = o_matcher.ascii_file_1_dataframe\n",
    "ascii_file_1_dataframe.set_index('timestamp_user_format')\n",
    "\n",
    "ascii_file_2_dataframe = o_matcher.ascii_file_2_dataframe\n",
    "ascii_file_2_dataframe.set_index(\"timestamp_user_format\");"
   ]
  },
  {
   "cell_type": "code",
   "execution_count": null,
   "id": "e0a8e569",
   "metadata": {
    "lines_to_next_cell": 2
   },
   "outputs": [],
   "source": [
    "merged_dataframe = pd.merge(ascii_file_1_dataframe, ascii_file_2_dataframe, on=\"timestamp_user_format\", how=\"outer\")\n",
    "merged_dataframe.sort_values(by='timestamp_user_format', inplace=True)\n",
    "merged_dataframe = merged_dataframe.reset_index(drop=True)\n",
    "merged_dataframe"
   ]
  },
  {
   "cell_type": "markdown",
   "id": "22ae3442",
   "metadata": {},
   "source": [
    "Ask which columns the user wants to extrapolate"
   ]
  },
  {
   "cell_type": "code",
   "execution_count": null,
   "id": "f33bc081",
   "metadata": {},
   "outputs": [],
   "source": [
    "list_columns = merged_dataframe.columns\n",
    "list_columns"
   ]
  },
  {
   "cell_type": "code",
   "execution_count": null,
   "id": "b880ee00",
   "metadata": {},
   "outputs": [],
   "source": [
    "def get_first_metadata_and_index_value(index=-1, metadata_array=[], direction='left'):\n",
    "    if direction == 'left':\n",
    "        coeff = -1\n",
    "    else:\n",
    "        coeff = +1\n",
    "        \n",
    "    while (np.isnan(metadata_array[index])):\n",
    "        index += coeff\n",
    "        \n",
    "        # if last file timestamp is > last metadata recorded, raise error\n",
    "        if index >= len(metadata_array):\n",
    "            raise ValueError(\"Not enough metadata to extrapolate value!\")\n",
    "        \n",
    "    return [metadata_array[index], index]"
   ]
  },
  {
   "cell_type": "code",
   "execution_count": null,
   "id": "a33f3957",
   "metadata": {},
   "outputs": [],
   "source": [
    "import time\n",
    "def convert_to_second(timestamp_value, timestamp_format=\"%Y-%m-%d %I:%M:%S\"):\n",
    "    d = datetime.datetime.strptime(timestamp_value, timestamp_format )\n",
    "    return time.mktime(d.timetuple())    "
   ]
  },
  {
   "cell_type": "code",
   "execution_count": null,
   "id": "b401e221",
   "metadata": {},
   "outputs": [],
   "source": [
    "def calculate_extrapolated_metadata(global_index=-1, metadata_array=[], timestamp_array=[]):\n",
    "    \n",
    "#     print(\"calculate_extrapolated_metadata\")\n",
    "#     print(\"metadata_array: {}\".format(metadata_array))\n",
    "#     print(\"timestamp_array: {}\".format(timestamp_array))\n",
    "    \n",
    "    [left_metadata_value, left_index] = get_first_metadata_and_index_value(index=global_index, \n",
    "                                                                           metadata_array=metadata_array,\n",
    "                                                                           direction='left')\n",
    "    [right_metadata_value, right_index] = get_first_metadata_and_index_value(index=global_index,\n",
    "                                                                             metadata_array=metadata_array,\n",
    "                                                                             direction='right')\n",
    "    \n",
    "#     print(\"-> left_metadata_value: {}\".format(left_metadata_value))\n",
    "#     print(\"-> left_index: {}\".format(left_index))\n",
    "#     print(\"-> right_metadata_value: {}\".format(right_metadata_value))\n",
    "#     print(\"-> right_index: {}\".format(right_index))   \n",
    "    \n",
    "    left_timestamp_s_format = convert_to_second(timestamp_array[left_index])\n",
    "    right_timestamp_s_format = convert_to_second(timestamp_array[right_index])\n",
    "    \n",
    "    x_timestamp_s_format = convert_to_second(timestamp_array[global_index])\n",
    "    \n",
    "    extra_value = extrapolate_value(x=x_timestamp_s_format,\n",
    "                                   x_left=left_timestamp_s_format,\n",
    "                                   x_right=right_timestamp_s_format,\n",
    "                                   y_left=left_metadata_value,\n",
    "                                   y_right=right_metadata_value)\n",
    "    return extra_value\n",
    "    "
   ]
  },
  {
   "cell_type": "code",
   "execution_count": null,
   "id": "be75fdf8",
   "metadata": {},
   "outputs": [],
   "source": [
    "def extrapolate_value(x=1, x_left=1, x_right=1, y_left=1, y_right=1):\n",
    "    \n",
    "#     print(\"in extrapolate_value\")\n",
    "#     print(\"--> x: {}\".format(x))\n",
    "#     print(\"--> x_left: {}\".format(x_left))\n",
    "#     print(\"--> x_right: {}\".format(x_right))\n",
    "#     print(\"--> y_left: {}\".format(y_left))\n",
    "#     print(\"--> y_right: {}\".format(y_right))\n",
    "    \n",
    "    coeff = (float(y_right) - float(y_left)) / (float(x_right) - float(x_left))\n",
    "#     print(\"---> coeff: {}\".format(coeff))\n",
    "    part1 = coeff * (float(x) - float(x_left))\n",
    "#     print(\"--> part1: {}\".format(part1))\n",
    "#     print(\"--> part1 + float(y_left): {}\".format(part1 + float(y_left)))\n",
    "    return part1 + float(y_left)"
   ]
  },
  {
   "cell_type": "code",
   "execution_count": null,
   "id": "b0a3f26a",
   "metadata": {},
   "outputs": [],
   "source": [
    "# let's pretend user selected \n",
    "columns_name_to_extrapolate = \"Voltage\"\n",
    "\n",
    "metadata_array = merged_dataframe['Voltage']\n",
    "timestamp_array = merged_dataframe['timestamp_user_format']\n",
    "\n",
    "# pprint.pprint(\"metadata array\")\n",
    "# pprint.pprint(metadata_array)\n",
    "\n",
    "new_metadata_array = []\n",
    "voltage_extrapolated_array = []\n",
    "for _index in np.arange(len(metadata_array)):\n",
    "    \n",
    "    _metadata_value = metadata_array[_index]\n",
    "    if np.isnan(_metadata_value):\n",
    "        _new_value = calculate_extrapolated_metadata(global_index=_index,\n",
    "                                                    metadata_array=metadata_array,\n",
    "                                                    timestamp_array=timestamp_array)\n",
    "        voltage_extrapolated_array.append(_new_value)\n",
    "    else:\n",
    "        _new_value = _metadata_value\n",
    "        \n",
    "    new_metadata_array.append(_new_value)\n",
    "   \n",
    "# pprint.pprint(\"new metadata_array\")\n",
    "# pprint.pprint(new_metadata_array)\n",
    "   "
   ]
  },
  {
   "cell_type": "code",
   "execution_count": null,
   "id": "49640102",
   "metadata": {},
   "outputs": [],
   "source": [
    "time_column = timestamp_array\n",
    "time_column_s = [convert_to_second(_time, timestamp_format=\"%Y-%m-%d %I:%M:%S\") for _time in time_column]"
   ]
  },
  {
   "cell_type": "code",
   "execution_count": null,
   "id": "ccaac6d4",
   "metadata": {},
   "outputs": [],
   "source": [
    "%matplotlib notebook"
   ]
  },
  {
   "cell_type": "code",
   "execution_count": null,
   "id": "e6073364",
   "metadata": {},
   "outputs": [],
   "source": [
    "# voltage (metadata file)"
   ]
  },
  {
   "cell_type": "code",
   "execution_count": null,
   "id": "70054579",
   "metadata": {},
   "outputs": [],
   "source": [
    "timestamp_with_voltage_known = ascii_file_2_dataframe['timestamp_user_format']\n",
    "time_column_voltage_known = timestamp_with_voltage_known\n",
    "time_column_s_known = [convert_to_second(_time, timestamp_format=\"%Y-%m-%d %I:%M:%S\") for _time in time_column_voltage_known]\n",
    "voltage_column = ascii_file_2_dataframe['Voltage']"
   ]
  },
  {
   "cell_type": "code",
   "execution_count": null,
   "id": "af4600da",
   "metadata": {},
   "outputs": [],
   "source": [
    "# time stamp vs file name file"
   ]
  },
  {
   "cell_type": "code",
   "execution_count": null,
   "id": "b42e930a",
   "metadata": {},
   "outputs": [],
   "source": [
    "list_index = list(np.where(np.isnan(merged_dataframe['Voltage'])))\n",
    "time_column_voltage_unknown = np.array(timestamp_array)[list_index]"
   ]
  },
  {
   "cell_type": "code",
   "execution_count": null,
   "id": "30dc794a",
   "metadata": {
    "lines_to_next_cell": 2
   },
   "outputs": [],
   "source": [
    "#time_column_voltage_unknown = ascii_file_1_dataframe['timestamp_user_format']\n",
    "#time_column_voltage_unknown = time_column_voltage_unknown\n",
    "time_column_s_unknown = [convert_to_second(_time, timestamp_format=\"%Y-%m-%d %I:%M:%S\") for _time in time_column_voltage_unknown]"
   ]
  },
  {
   "cell_type": "code",
   "execution_count": null,
   "id": "163d42f3",
   "metadata": {
    "lines_to_next_cell": 0
   },
   "outputs": [],
   "source": [
    "fig, ax = plt.subplots()\n",
    "ax.plot(time_column_s_known, voltage_column, '+', label='Time Stamp vs File Name')\n",
    "ax.set_xlabel(\"Time (s)\")\n",
    "ax.set_ylabel(\"Voltage\")\n",
    "\n",
    "for _vl in time_column_s_unknown:\n",
    "    ax.axvline(x=_vl, color='r', linestyle='--')\n",
    "\n",
    "ax.plot(time_column_s_unknown, voltage_extrapolated_array, '*g', label='Extrapolated metadata')\n",
    "#ax.axvline(x=time_column_s_unknown[0], color='r', linestyle='--', label=\"Regina's metadata\")\n",
    "\n",
    "ax.legend()"
   ]
  },
  {
   "cell_type": "code",
   "execution_count": null,
   "id": "f17ec9b4",
   "metadata": {},
   "outputs": [],
   "source": []
  },
  {
   "cell_type": "code",
   "execution_count": null,
   "id": "e3ad43ae",
   "metadata": {},
   "outputs": [],
   "source": []
  },
  {
   "cell_type": "code",
   "execution_count": null,
   "id": "96863876",
   "metadata": {},
   "outputs": [],
   "source": []
  },
  {
   "cell_type": "code",
   "execution_count": null,
   "id": "fa0ddfb6",
   "metadata": {},
   "outputs": [],
   "source": []
  },
  {
   "cell_type": "code",
   "execution_count": null,
   "id": "09c6e360",
   "metadata": {},
   "outputs": [],
   "source": []
  },
  {
   "cell_type": "code",
   "execution_count": null,
   "id": "79540c83",
   "metadata": {},
   "outputs": [],
   "source": []
  },
  {
   "cell_type": "code",
   "execution_count": null,
   "id": "22b1d25b",
   "metadata": {},
   "outputs": [],
   "source": []
  },
  {
   "cell_type": "code",
   "execution_count": null,
   "id": "4606c0f5",
   "metadata": {
    "lines_to_next_cell": 2
   },
   "outputs": [],
   "source": []
  },
  {
   "cell_type": "markdown",
   "id": "986d3fca",
   "metadata": {},
   "source": [
    "Metadata from Regina's data set retrieve"
   ]
  },
  {
   "cell_type": "code",
   "execution_count": null,
   "id": "5d40ea73",
   "metadata": {},
   "outputs": [],
   "source": [
    "_dataframe3 = pd.read_csv(ascii3)\n",
    "#_dataframe.set_index(INDEX)\n",
    "_dataframe3\n",
    "\n",
    "time_column = np.asarray(_dataframe3['time_user_format'])\n",
    "data_column_ascii1 = np.asarray(_dataframe3['Voltage'])\n",
    "#time_column\n",
    "time_column_ascii1 = [get_seconds(_time) for _time in time_column]\n"
   ]
  },
  {
   "cell_type": "markdown",
   "id": "fe4bdb3f",
   "metadata": {},
   "source": [
    "Data coming from file_name vs time stamp"
   ]
  },
  {
   "cell_type": "code",
   "execution_count": null,
   "id": "9e61c099",
   "metadata": {},
   "outputs": [],
   "source": [
    "_dataframe1 = pd.read_csv(ascii1)\n",
    "#_dataframe.set_index(INDEX)\n",
    "_dataframe1"
   ]
  },
  {
   "cell_type": "code",
   "execution_count": null,
   "id": "77258842",
   "metadata": {},
   "outputs": [],
   "source": [
    "time_column = np.asarray(_dataframe1[' timestamp_user_format'])\n",
    "time_column_s = [get_seconds(_time, time_format=\"%Y-%m-%d %I:%M:%S\") for _time in time_column]"
   ]
  },
  {
   "cell_type": "code",
   "execution_count": null,
   "id": "79c7e13e",
   "metadata": {},
   "outputs": [],
   "source": [
    "fig, ax = plt.subplots()\n",
    "ax.plot(time_column_ascii1, data_column_ascii1, '*-', label='Time Stamp vs File Name')\n",
    "ax.set_xlabel(\"Time (s)\")\n",
    "ax.set_ylabel(\"Voltage\")\n",
    "\n",
    "for _vl in time_column_s[1:]:\n",
    "    ax.axvline(x=_vl, color='r', linestyle='--')\n",
    "\n",
    "ax.axvline(x=time_column_s[0], color='r', linestyle='--', label=\"Regina's metadata\")\n",
    "\n",
    "ax.legend()\n"
   ]
  },
  {
   "cell_type": "markdown",
   "id": "1874d4a6",
   "metadata": {},
   "source": [
    "Checking the conversion of time/date units"
   ]
  },
  {
   "cell_type": "code",
   "execution_count": null,
   "id": "d10f9100",
   "metadata": {},
   "outputs": [],
   "source": [
    "format1 = \"2018-09-18 12:12:7\"\n",
    "format1_reader = \"%Y-%m-%d %I:%M:%S\"\n",
    "format2 = \"09/18/2018 12:10:35\"\n",
    "format2_reader = \"%m/%d/%Y %I:%M:%S\""
   ]
  },
  {
   "cell_type": "code",
   "execution_count": null,
   "id": "89234985",
   "metadata": {},
   "outputs": [],
   "source": [
    "a=\"dfdfdf\"\n",
    "type(a) is list"
   ]
  },
  {
   "cell_type": "code",
   "execution_count": null,
   "id": "f014673c",
   "metadata": {},
   "outputs": [],
   "source": [
    "global_format = time.strptime(format1.strip(), format1_reader)\n",
    "\n",
    "new_format = \"{}/{}/{} {}:{}:{:}\".format(global_format.tm_year,\n",
    "                                        global_format.tm_mon,\n",
    "                                        global_format.tm_mday,\n",
    "                                        global_format.tm_hour,\n",
    "                                        global_format.tm_min,\n",
    "                                        global_format.tm_sec)\n",
    "print(\"{} -> {}\".format(format1, new_format))"
   ]
  },
  {
   "cell_type": "code",
   "execution_count": null,
   "id": "11ea4132",
   "metadata": {
    "lines_to_next_cell": 0
   },
   "outputs": [],
   "source": [
    "# global_format = time.strptime(format2.strip(), format2_reader)\n",
    "\n",
    "# new_format = \"{}/{}/{} {}:{}:{}\".format(global_format.tm_year,\n",
    "#                                         global_format.tm_mon,\n",
    "#                                         global_format.tm_mday,\n",
    "#                                         global_format.tm_hour,\n",
    "#                                         global_format.tm_min,\n",
    "#                                         global_format.tm_sec)\n",
    "# print(\"{} -> {}\".format(format2, new_format))"
   ]
  },
  {
   "cell_type": "code",
   "execution_count": null,
   "id": "3060ed3e",
   "metadata": {
    "lines_to_next_cell": 2
   },
   "outputs": [],
   "source": []
  },
  {
   "cell_type": "code",
   "execution_count": null,
   "id": "8ff78f8e",
   "metadata": {},
   "outputs": [],
   "source": [
    "_dataframe1"
   ]
  },
  {
   "cell_type": "code",
   "execution_count": null,
   "id": "4c7eb38c",
   "metadata": {},
   "outputs": [],
   "source": [
    "def format_time(old_format):\n",
    "    global_format = time.strptime(old_format.strip(), format1_reader)\n",
    "    new_format = \"{}/{}/{} {}:{}:{:02d}\".format(global_format.tm_year,\n",
    "                                        global_format.tm_mon,\n",
    "                                        global_format.tm_mday,\n",
    "                                        global_format.tm_hour,\n",
    "                                        global_format.tm_min,\n",
    "                                        global_format.tm_sec)\n",
    "    return new_format"
   ]
  },
  {
   "cell_type": "code",
   "execution_count": null,
   "id": "5b05eb1d",
   "metadata": {},
   "outputs": [],
   "source": [
    "data1_dt = _dataframe1[' timestamp_user_format']\n",
    "data1_dt"
   ]
  },
  {
   "cell_type": "code",
   "execution_count": null,
   "id": "c337e764",
   "metadata": {},
   "outputs": [],
   "source": [
    "_dataframe1"
   ]
  },
  {
   "cell_type": "code",
   "execution_count": null,
   "id": "d1f4bc01",
   "metadata": {},
   "outputs": [],
   "source": [
    "for _index, _date in enumerate(data1_dt):\n",
    "    new_format = format_time(_date)\n",
    "    data1_dt[_index] = new_format"
   ]
  },
  {
   "cell_type": "code",
   "execution_count": null,
   "id": "ee8fd45d",
   "metadata": {},
   "outputs": [],
   "source": [
    "data1_dt"
   ]
  },
  {
   "cell_type": "code",
   "execution_count": null,
   "id": "7cef733c",
   "metadata": {},
   "outputs": [],
   "source": [
    "if \"##filename\" in _dataframe:\n",
    "    print(\"yes\")"
   ]
  },
  {
   "cell_type": "code",
   "execution_count": null,
   "id": "460014ee",
   "metadata": {},
   "outputs": [],
   "source": [
    "o_matcher = ImagesAndMetadataExtrapolationMatcher(filename_vs_timestamp=ascii1,\n",
    "                                                  metadata_ascii_file=ascii2)"
   ]
  },
  {
   "cell_type": "markdown",
   "id": "ff078f11",
   "metadata": {},
   "source": [
    "output file"
   ]
  },
  {
   "cell_type": "code",
   "execution_count": null,
   "id": "4438e805",
   "metadata": {},
   "outputs": [],
   "source": [
    "o_folder = SelectFolder(system=system, next_function=o_matcher.export_ascii)"
   ]
  },
  {
   "cell_type": "code",
   "execution_count": null,
   "id": "55226adb",
   "metadata": {},
   "outputs": [],
   "source": []
  },
  {
   "cell_type": "code",
   "execution_count": null,
   "id": "7a32f2d8",
   "metadata": {},
   "outputs": [],
   "source": []
  },
  {
   "cell_type": "code",
   "execution_count": null,
   "id": "416bd05f",
   "metadata": {},
   "outputs": [],
   "source": []
  },
  {
   "cell_type": "code",
   "execution_count": null,
   "id": "215ec866",
   "metadata": {},
   "outputs": [],
   "source": [
    "import pandas as pd"
   ]
  },
  {
   "cell_type": "code",
   "execution_count": null,
   "id": "414f8f65",
   "metadata": {},
   "outputs": [],
   "source": [
    "pd_ascii1 = pd.read_csv(ascii1)\n",
    "pd_ascii2 = pd.read_csv(ascii2)"
   ]
  },
  {
   "cell_type": "code",
   "execution_count": null,
   "id": "b595c696",
   "metadata": {},
   "outputs": [],
   "source": [
    "pd_ascii1.set_index(\"#filename\")"
   ]
  },
  {
   "cell_type": "code",
   "execution_count": null,
   "id": "c1bc87f7",
   "metadata": {},
   "outputs": [],
   "source": [
    "pd_ascii2.set_index(\"#filename\")"
   ]
  },
  {
   "cell_type": "code",
   "execution_count": null,
   "id": "a87918c6",
   "metadata": {},
   "outputs": [],
   "source": [
    "merging_ascii = pd.merge(pd_ascii1, pd_ascii2, on='#filename', how='outer')\n",
    "merging_ascii"
   ]
  },
  {
   "cell_type": "code",
   "execution_count": null,
   "id": "0efa9ebf",
   "metadata": {
    "lines_to_next_cell": 2
   },
   "outputs": [],
   "source": [
    "timestamp1 = \"2018-09-18 12:13:14\"\n",
    "timestamp2 = \"2018/09/18 12:13:14\"\n",
    "timestamp3 = \"18/09/2018 12:13:14\""
   ]
  },
  {
   "cell_type": "code",
   "execution_count": null,
   "id": "2aa0e05f",
   "metadata": {},
   "outputs": [],
   "source": [
    "o_time = time_utility.TimestampFormatter(timestamp=timestamp3)"
   ]
  },
  {
   "cell_type": "code",
   "execution_count": null,
   "id": "7d8f5292",
   "metadata": {},
   "outputs": [],
   "source": [
    "o_time.format()"
   ]
  },
  {
   "cell_type": "markdown",
   "id": "0bf3bfc9",
   "metadata": {},
   "source": [
    "# Select Metadata Info to Keep "
   ]
  },
  {
   "cell_type": "markdown",
   "id": "2b22edb4",
   "metadata": {
    "run_control": {
     "frozen": false,
     "read_only": false
    }
   },
   "source": [
    "**Allow users to define:**\n",
    "\n",
    " * reference_line_showing_end_of_metadata\n",
    " * start_of_data_after_how_many_lines_from_reference_line\n",
    " * index or label of time info column in big table"
   ]
  },
  {
   "cell_type": "code",
   "execution_count": null,
   "id": "10ec94b6",
   "metadata": {
    "run_control": {
     "frozen": false,
     "read_only": false
    }
   },
   "outputs": [],
   "source": [
    "o_meta = MetadataFileParser(filename=o_file.metadata_file, \n",
    "                            meta_type='mpt',\n",
    "                            time_label='time/s',\n",
    "                            reference_line_showing_end_of_metadata='Number of loops',\n",
    "                            end_of_metadata_after_how_many_lines_from_reference_line=1)\n",
    "o_meta.parse()\n",
    "\n",
    "o_meta.select_data_to_keep()"
   ]
  },
  {
   "cell_type": "markdown",
   "id": "0b00df31",
   "metadata": {},
   "source": [
    "# Select Output Folder and Filename of new Formated Metadata File"
   ]
  },
  {
   "cell_type": "code",
   "execution_count": null,
   "id": "8775bb2e",
   "metadata": {},
   "outputs": [],
   "source": [
    "o_meta.keep_only_columns_of_data_of_interest()\n",
    "o_meta.select_output_location()"
   ]
  },
  {
   "cell_type": "markdown",
   "id": "10b6ebcc",
   "metadata": {},
   "source": [
    "# Where to go Next "
   ]
  },
  {
   "cell_type": "markdown",
   "id": "10731bc5",
   "metadata": {},
   "source": [
    "Now, you probably want to run [this metadata_ascii_parser](./metadata_ascii_parser.ipynb) notebook in order to create a list of file names and their exact metadata values."
   ]
  },
  {
   "cell_type": "code",
   "execution_count": null,
   "id": "56ce5def",
   "metadata": {},
   "outputs": [],
   "source": []
  }
 ],
 "metadata": {
  "kernelspec": {
   "display_name": "Python 3",
   "language": "python",
   "name": "python3"
  }
 },
 "nbformat": 4,
 "nbformat_minor": 5
}
