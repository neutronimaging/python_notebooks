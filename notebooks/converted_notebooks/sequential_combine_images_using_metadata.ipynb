{
 "cells": [
  {
   "cell_type": "markdown",
   "id": "2c9212e1",
   "metadata": {},
   "source": [
    "[![Notebook Tutorial](__code/__all/notebook_tutorial.png)](https://neutronimaging.pages.ornl.gov/tutorial/notebooks/sequential_combine_images_using_metadata/#activate-search)\n",
    "<img src='__docs/__all/notebook_rules.png' />"
   ]
  },
  {
   "cell_type": "markdown",
   "id": "b875303c",
   "metadata": {
    "run_control": {
     "frozen": false,
     "read_only": false
    }
   },
   "source": [
    "# Select Your IPTS "
   ]
  },
  {
   "cell_type": "code",
   "execution_count": null,
   "id": "35270d5c",
   "metadata": {
    "run_control": {
     "frozen": false,
     "read_only": false
    }
   },
   "outputs": [],
   "source": [
    "from __code.sequential_combine_images_using_metadata import SequentialCombineImagesUsingMetadata\n",
    "from __code import system\n",
    "system.System.select_working_dir()\n",
    "from __code.__all import custom_style\n",
    "custom_style.style()"
   ]
  },
  {
   "cell_type": "markdown",
   "id": "0fe4ac90",
   "metadata": {
    "run_control": {
     "frozen": false,
     "read_only": false
    }
   },
   "source": [
    "# Select Folder containing all images to merge "
   ]
  },
  {
   "cell_type": "code",
   "execution_count": null,
   "id": "b7d871dc",
   "metadata": {
    "run_control": {
     "frozen": false,
     "read_only": false
    }
   },
   "outputs": [],
   "source": [
    "o_merge = SequentialCombineImagesUsingMetadata(working_dir=system.System.get_working_dir())\n",
    "o_merge.select_folder()"
   ]
  },
  {
   "cell_type": "markdown",
   "id": "62d27d83",
   "metadata": {},
   "source": [
    "# Select Metadata to match "
   ]
  },
  {
   "cell_type": "markdown",
   "id": "2218ed1c",
   "metadata": {},
   "source": [
    "Only sequential runs having the **same metadata you are going to select** will be combined"
   ]
  },
  {
   "cell_type": "code",
   "execution_count": null,
   "id": "f8738a81",
   "metadata": {},
   "outputs": [],
   "source": [
    "o_merge.display_metadata_list()"
   ]
  },
  {
   "cell_type": "markdown",
   "id": "8f6887e4",
   "metadata": {
    "run_control": {
     "frozen": false,
     "read_only": false
    }
   },
   "source": [
    "# Merging Method"
   ]
  },
  {
   "cell_type": "code",
   "execution_count": null,
   "id": "8f08e039",
   "metadata": {
    "run_control": {
     "frozen": false,
     "read_only": false
    }
   },
   "outputs": [],
   "source": [
    "o_merge.how_to_combine()"
   ]
  },
  {
   "cell_type": "markdown",
   "id": "b8959f0b",
   "metadata": {},
   "source": [
    "# Create merging list - for checking purpose"
   ]
  },
  {
   "cell_type": "code",
   "execution_count": null,
   "id": "3960e16e",
   "metadata": {},
   "outputs": [],
   "source": [
    "o_merge.create_merging_list()"
   ]
  },
  {
   "cell_type": "markdown",
   "id": "335da225",
   "metadata": {},
   "source": [
    "Check merging list"
   ]
  },
  {
   "cell_type": "code",
   "execution_count": null,
   "id": "30645912",
   "metadata": {},
   "outputs": [],
   "source": [
    "o_merge.recap_merging_list()"
   ]
  },
  {
   "cell_type": "markdown",
   "id": "b922814e",
   "metadata": {
    "run_control": {
     "frozen": false,
     "read_only": false
    }
   },
   "source": [
    "# Select Output Folder and Merge"
   ]
  },
  {
   "cell_type": "code",
   "execution_count": null,
   "id": "247cb333",
   "metadata": {
    "lines_to_next_cell": 0,
    "run_control": {
     "frozen": false,
     "read_only": false
    }
   },
   "outputs": [],
   "source": [
    "o_merge.select_output_folder_and_merge()"
   ]
  },
  {
   "cell_type": "code",
   "execution_count": null,
   "id": "4212e556",
   "metadata": {
    "lines_to_next_cell": 2
   },
   "outputs": [],
   "source": []
  }
 ],
 "metadata": {
  "kernelspec": {
   "display_name": "Python 3",
   "language": "python",
   "name": "python3"
  }
 },
 "nbformat": 4,
 "nbformat_minor": 5
}
