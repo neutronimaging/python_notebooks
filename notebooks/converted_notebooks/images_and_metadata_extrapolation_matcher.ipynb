{
 "cells": [
  {
   "cell_type": "markdown",
   "id": "8ac6168a",
   "metadata": {},
   "source": [
    "[![Notebook Tutorial](__code/__all/notebook_tutorial.png)](https://neutronimaging.pages.ornl.gov/tutorial/notebooks/images_and_metadata_extrapolation_matcher/)\n",
    "\n",
    "<img src='__docs/__all/notebook_rules.png' />"
   ]
  },
  {
   "cell_type": "markdown",
   "id": "85ebb779",
   "metadata": {},
   "source": [
    "# Select your IPTS"
   ]
  },
  {
   "cell_type": "code",
   "execution_count": null,
   "id": "c9d24289",
   "metadata": {},
   "outputs": [],
   "source": [
    "from __code.select_files_and_folders import SelectAsciiFile, SelectFolder\n",
    "from __code.images_and_metadata_extrapolation_matcher import ImagesAndMetadataExtrapolationMatcher\n",
    "%matplotlib notebook\n",
    "from __code import system\n",
    "system.System.select_working_dir()\n",
    "from __code.__all import custom_style\n",
    "custom_style.style()"
   ]
  },
  {
   "cell_type": "markdown",
   "id": "eec7200b",
   "metadata": {
    "run_control": {
     "frozen": false,
     "read_only": false
    }
   },
   "source": [
    "# Select the File Name vs Time Stamp text File"
   ]
  },
  {
   "cell_type": "markdown",
   "id": "47562508",
   "metadata": {},
   "source": [
    "This file created by running [create_list_of_file_name_vs_time_stamp](create_list_of_file_name_vs_time_stamp.ipynb) notebook!"
   ]
  },
  {
   "cell_type": "code",
   "execution_count": null,
   "id": "c45909e5",
   "metadata": {},
   "outputs": [],
   "source": [
    "o_select_ascii1 = SelectAsciiFile(system=system)"
   ]
  },
  {
   "cell_type": "markdown",
   "id": "37d85b50",
   "metadata": {},
   "source": [
    "# Select Metadata vs Time Stamp text File "
   ]
  },
  {
   "cell_type": "markdown",
   "id": "e4365d83",
   "metadata": {},
   "source": [
    "File creatd by either\n",
    "\n",
    "- [metadata_ascii_parser](metadata_ascii_parser.ipynb)\n",
    "\n",
    "**or/and**\n",
    "\n",
    "- [list_metadata_and_time_with_oncat](list_metadata_and_time_with_oncat.ipynb)"
   ]
  },
  {
   "cell_type": "code",
   "execution_count": null,
   "id": "35be08b3",
   "metadata": {},
   "outputs": [],
   "source": [
    "o_select_ascii2 = SelectAsciiFile(system=system)"
   ]
  },
  {
   "cell_type": "markdown",
   "id": "0f98179d",
   "metadata": {},
   "source": [
    "# Select Data to Merge"
   ]
  },
  {
   "cell_type": "code",
   "execution_count": null,
   "id": "d84d5c50",
   "metadata": {},
   "outputs": [],
   "source": [
    "o_matcher = ImagesAndMetadataExtrapolationMatcher(ascii_file_1=o_select_ascii1.ascii_file,\n",
    "                                                  ascii_file_2=o_select_ascii2.ascii_file)"
   ]
  },
  {
   "cell_type": "markdown",
   "id": "2debf534",
   "metadata": {},
   "source": [
    "# Extrapolate and Display Results"
   ]
  },
  {
   "cell_type": "code",
   "execution_count": null,
   "id": "8d5b5cb7",
   "metadata": {},
   "outputs": [],
   "source": [
    "o_matcher.extrapolate_selected_metadata()"
   ]
  },
  {
   "cell_type": "markdown",
   "id": "7f40c403",
   "metadata": {},
   "source": [
    "# Select Output Folder "
   ]
  },
  {
   "cell_type": "code",
   "execution_count": null,
   "id": "611ce7de",
   "metadata": {},
   "outputs": [],
   "source": [
    "o_folder = SelectFolder(system=system, next_function=o_matcher.export_ascii)"
   ]
  },
  {
   "cell_type": "code",
   "execution_count": null,
   "id": "9e561e68",
   "metadata": {},
   "outputs": [],
   "source": []
  }
 ],
 "metadata": {
  "kernelspec": {
   "display_name": "Python 3",
   "language": "python",
   "name": "python3"
  }
 },
 "nbformat": 4,
 "nbformat_minor": 5
}
