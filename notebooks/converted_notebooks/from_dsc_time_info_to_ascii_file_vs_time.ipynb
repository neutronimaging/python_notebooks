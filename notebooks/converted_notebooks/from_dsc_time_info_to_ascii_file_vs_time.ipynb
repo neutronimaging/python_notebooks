{
 "cells": [
  {
   "cell_type": "code",
   "execution_count": null,
   "id": "045302d6",
   "metadata": {
    "run_control": {
     "frozen": false,
     "read_only": false
    }
   },
   "outputs": [],
   "source": [
    "IPTS = 17685"
   ]
  },
  {
   "cell_type": "markdown",
   "id": "c6cca33b",
   "metadata": {},
   "source": [
    "[![Notebook Tutorial](__code/__all/notebook_tutorial.png)](https://neutronimaging.pages.ornl.gov/tutorial/notebooks/from_dsc_time_to_ascii_file_vs_time)\n",
    "\n",
    "<img src='__docs/__all/notebook_rules.png' />"
   ]
  },
  {
   "cell_type": "code",
   "execution_count": null,
   "id": "a9cd11f7",
   "metadata": {},
   "outputs": [],
   "source": [
    "from __code.from_dsc_time_info_to_ascii_file_vs_time import CreateExportTimeStamp\n",
    "\n",
    "from __code import system\n",
    "system.System.select_working_dir()\n",
    "from __code.__all import custom_style\n",
    "custom_style.style()"
   ]
  },
  {
   "cell_type": "markdown",
   "id": "560f89ee",
   "metadata": {},
   "source": [
    "# Select DSC Folder "
   ]
  },
  {
   "cell_type": "code",
   "execution_count": null,
   "id": "d8f7aa7c",
   "metadata": {},
   "outputs": [],
   "source": [
    "o_dsc = CreateExportTimeStamp(working_dir=system.System.get_working_dir())"
   ]
  },
  {
   "cell_type": "markdown",
   "id": "bb7c394a",
   "metadata": {
    "run_control": {
     "frozen": false,
     "read_only": false
    }
   },
   "source": [
    "# Select TIFF Images Folder "
   ]
  },
  {
   "cell_type": "code",
   "execution_count": null,
   "id": "9d2b0b75",
   "metadata": {},
   "outputs": [],
   "source": [
    "o_dsc.select_tiff_folder()"
   ]
  },
  {
   "cell_type": "markdown",
   "id": "36adf98d",
   "metadata": {},
   "source": [
    "# Select Output Folder and Create Output File"
   ]
  },
  {
   "cell_type": "code",
   "execution_count": null,
   "id": "70d4a90f",
   "metadata": {},
   "outputs": [],
   "source": [
    "o_dsc.select_output_folder_and_create_ascii_file()"
   ]
  },
  {
   "cell_type": "code",
   "execution_count": null,
   "id": "ce3cadac",
   "metadata": {
    "run_control": {
     "frozen": false,
     "read_only": false
    }
   },
   "outputs": [],
   "source": []
  }
 ],
 "metadata": {
  "kernelspec": {
   "display_name": "Python 3",
   "language": "python",
   "name": "python3"
  }
 },
 "nbformat": 4,
 "nbformat_minor": 5
}
