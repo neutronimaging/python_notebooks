{
 "cells": [
  {
   "cell_type": "markdown",
   "id": "05c4129a",
   "metadata": {
    "run_control": {
     "frozen": false,
     "read_only": false
    }
   },
   "source": [
    "# Select Your IPTS"
   ]
  },
  {
   "cell_type": "code",
   "execution_count": null,
   "id": "7e0669de",
   "metadata": {
    "run_control": {
     "frozen": false,
     "read_only": false
    }
   },
   "outputs": [],
   "source": [
    "from __code import system\n",
    "system.System.select_working_dir()\n",
    "from __code.__all import custom_style\n",
    "custom_style.style()"
   ]
  },
  {
   "cell_type": "markdown",
   "id": "83a09c28",
   "metadata": {
    "run_control": {
     "frozen": false,
     "read_only": false
    }
   },
   "source": [
    "# Description"
   ]
  },
  {
   "cell_type": "markdown",
   "id": "22f7e1d5",
   "metadata": {
    "run_control": {
     "frozen": false,
     "read_only": false
    }
   },
   "source": [
    "1. Load images\n",
    "2. Display \n",
    "3. Change all negative value pixels to NaN\n",
    "4. Give statistics of pixels changed in ROI selected\n",
    "5. produce colorbar"
   ]
  },
  {
   "cell_type": "code",
   "execution_count": null,
   "id": "b823383a",
   "metadata": {
    "run_control": {
     "frozen": false,
     "read_only": false
    }
   },
   "outputs": [],
   "source": [
    "from __code.fix_images_with_negative_pixels import FixImages"
   ]
  },
  {
   "cell_type": "code",
   "execution_count": null,
   "id": "70652193",
   "metadata": {
    "run_control": {
     "frozen": false,
     "read_only": false
    }
   },
   "outputs": [],
   "source": [
    "%matplotlib notebook\n",
    "%matplotlib inline"
   ]
  },
  {
   "cell_type": "markdown",
   "id": "6697a416",
   "metadata": {
    "run_control": {
     "frozen": false,
     "read_only": false
    }
   },
   "source": [
    "# Select Images "
   ]
  },
  {
   "cell_type": "code",
   "execution_count": null,
   "id": "aa9fc19b",
   "metadata": {
    "run_control": {
     "frozen": false,
     "read_only": false
    }
   },
   "outputs": [],
   "source": [
    "_o_fix = FixImages(working_dir=system.System.get_working_dir())\n",
    "_o_fix.select_images()"
   ]
  },
  {
   "cell_type": "markdown",
   "id": "e89bff76",
   "metadata": {
    "run_control": {
     "frozen": false,
     "read_only": false
    }
   },
   "source": [
    "# Turn off all negative values "
   ]
  },
  {
   "cell_type": "code",
   "execution_count": null,
   "id": "1c4e4e42",
   "metadata": {
    "run_control": {
     "frozen": false,
     "read_only": false
    }
   },
   "outputs": [],
   "source": [
    "_o_fix.load()\n",
    "_o_fix.remove_negative_values()\n",
    "_o_fix.display_images()"
   ]
  },
  {
   "cell_type": "markdown",
   "id": "5ba0559d",
   "metadata": {
    "run_control": {
     "frozen": false,
     "read_only": false
    }
   },
   "source": [
    "# Display Images for Publication "
   ]
  },
  {
   "cell_type": "code",
   "execution_count": null,
   "id": "3735a570",
   "metadata": {
    "run_control": {
     "frozen": false,
     "read_only": false
    }
   },
   "outputs": [],
   "source": [
    "%matplotlib notebook"
   ]
  },
  {
   "cell_type": "code",
   "execution_count": null,
   "id": "ddf2575d",
   "metadata": {
    "run_control": {
     "frozen": false,
     "read_only": false
    }
   },
   "outputs": [],
   "source": [
    "_o_fix.display_images_pretty()"
   ]
  },
  {
   "cell_type": "markdown",
   "id": "4f9a43c3",
   "metadata": {
    "run_control": {
     "frozen": false,
     "read_only": false
    }
   },
   "source": [
    "# Export"
   ]
  },
  {
   "cell_type": "code",
   "execution_count": null,
   "id": "1e8d2625",
   "metadata": {
    "run_control": {
     "frozen": false,
     "read_only": false
    }
   },
   "outputs": [],
   "source": [
    "_o_fix.select_output_folder()"
   ]
  },
  {
   "cell_type": "code",
   "execution_count": null,
   "id": "e1d54a95",
   "metadata": {
    "run_control": {
     "frozen": false,
     "read_only": false
    }
   },
   "outputs": [],
   "source": [
    "_o_fix.export()"
   ]
  },
  {
   "cell_type": "code",
   "execution_count": null,
   "id": "c979847d",
   "metadata": {
    "run_control": {
     "frozen": false,
     "read_only": false
    }
   },
   "outputs": [],
   "source": []
  }
 ],
 "metadata": {
  "kernelspec": {
   "display_name": "Python 3",
   "language": "python",
   "name": "python3"
  }
 },
 "nbformat": 4,
 "nbformat_minor": 5
}
