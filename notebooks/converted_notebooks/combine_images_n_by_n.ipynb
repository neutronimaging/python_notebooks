{
 "cells": [
  {
   "cell_type": "markdown",
   "id": "cafedf3b",
   "metadata": {},
   "source": [
    "[![Notebook Tutorial](__code/__all/notebook_tutorial.png)](https://neutronimaging.pages.ornl.gov/tutorial/notebooks/combine_images_n_by_n)\n",
    "\n",
    "<img src='__docs/__all/notebook_rules.png' />"
   ]
  },
  {
   "cell_type": "markdown",
   "id": "2e653cc1",
   "metadata": {
    "run_control": {
     "frozen": false,
     "read_only": false
    }
   },
   "source": [
    "# Select Your IPTS "
   ]
  },
  {
   "cell_type": "code",
   "execution_count": null,
   "id": "b17589e4",
   "metadata": {
    "run_control": {
     "frozen": false,
     "read_only": false
    }
   },
   "outputs": [],
   "source": [
    "from __code.combine_images_n_by_n.combine_images_n_by_n import CombineImagesNByN as CombineImages\n",
    "from __code import system\n",
    "system.System.select_working_dir()\n",
    "from __code.__all import custom_style\n",
    "custom_style.style()"
   ]
  },
  {
   "cell_type": "markdown",
   "id": "c7daa6ad",
   "metadata": {
    "run_control": {
     "frozen": false,
     "read_only": false
    }
   },
   "source": [
    "# Select Folder with Images to Combine "
   ]
  },
  {
   "cell_type": "code",
   "execution_count": null,
   "id": "9e4311ce",
   "metadata": {
    "run_control": {
     "frozen": false,
     "read_only": false
    }
   },
   "outputs": [],
   "source": [
    "o_merge = CombineImages(working_dir=system.System.get_working_dir())\n",
    "o_merge.select_folder()"
   ]
  },
  {
   "cell_type": "markdown",
   "id": "dd8fc7f3",
   "metadata": {
    "run_control": {
     "frozen": false,
     "read_only": false
    }
   },
   "source": [
    "# Merging Arithmetic Method"
   ]
  },
  {
   "cell_type": "code",
   "execution_count": null,
   "id": "08cb2a32",
   "metadata": {
    "run_control": {
     "frozen": false,
     "read_only": false
    }
   },
   "outputs": [],
   "source": [
    "o_merge.how_to_combine()"
   ]
  },
  {
   "cell_type": "markdown",
   "id": "f17fd35e",
   "metadata": {},
   "source": [
    "# How many files do you want to combine together?\n",
    "\n",
    "ex: Selecting **2** will combine the first **2**, then the following **2**..."
   ]
  },
  {
   "cell_type": "code",
   "execution_count": null,
   "id": "eaaa5697",
   "metadata": {},
   "outputs": [],
   "source": [
    "o_merge.how_many_files()"
   ]
  },
  {
   "cell_type": "markdown",
   "id": "32eb7628",
   "metadata": {},
   "source": [
    "# Preview of how the files will be combined and renamed"
   ]
  },
  {
   "cell_type": "code",
   "execution_count": null,
   "id": "9ac9fb64",
   "metadata": {},
   "outputs": [],
   "source": [
    "o_merge.preview_result()"
   ]
  },
  {
   "cell_type": "markdown",
   "id": "68961cba",
   "metadata": {
    "run_control": {
     "frozen": false,
     "read_only": false
    }
   },
   "source": [
    "# Select Output Folder "
   ]
  },
  {
   "cell_type": "code",
   "execution_count": null,
   "id": "589efb1f",
   "metadata": {
    "lines_to_next_cell": 0,
    "run_control": {
     "frozen": false,
     "read_only": false
    }
   },
   "outputs": [],
   "source": [
    "o_merge.select_output_folder()"
   ]
  },
  {
   "cell_type": "code",
   "execution_count": null,
   "id": "6dfcf218",
   "metadata": {
    "lines_to_next_cell": 2
   },
   "outputs": [],
   "source": []
  }
 ],
 "metadata": {
  "kernelspec": {
   "display_name": "Python 3",
   "language": "python",
   "name": "python3"
  }
 },
 "nbformat": 4,
 "nbformat_minor": 5
}
