{
 "cells": [
  {
   "cell_type": "markdown",
   "id": "bd5c48e1",
   "metadata": {},
   "source": [
    "[![Notebook Tutorial](__code/__all/notebook_tutorial.png)](https://neutronimaging.pages.ornl.gov/tutorial/notebooks/mcp_chips_corrector)\n",
    "\n",
    "<img src='__docs/__all/notebook_rules.png' />"
   ]
  },
  {
   "cell_type": "markdown",
   "id": "668bcfd5",
   "metadata": {
    "run_control": {
     "frozen": false,
     "read_only": false
    }
   },
   "source": [
    "# Select Your IPTS "
   ]
  },
  {
   "cell_type": "code",
   "execution_count": null,
   "id": "de827045",
   "metadata": {
    "run_control": {
     "frozen": false,
     "read_only": false
    }
   },
   "outputs": [],
   "source": [
    "import warnings\n",
    "warnings.filterwarnings('ignore')\n",
    "\n",
    "from __code import system\n",
    "from __code.mcp_chips_corrector.mcp_chips_corrector import McpChipsCorrector\n",
    "from __code.mcp_chips_corrector.interface import Interface\n",
    "system.System.select_working_dir()\n",
    "from __code.__all import custom_style\n",
    "custom_style.style()"
   ]
  },
  {
   "cell_type": "markdown",
   "id": "0f110b2e",
   "metadata": {},
   "source": [
    "## UI Setup "
   ]
  },
  {
   "cell_type": "code",
   "execution_count": null,
   "id": "1b6a17d9",
   "metadata": {},
   "outputs": [],
   "source": [
    "%gui qt"
   ]
  },
  {
   "cell_type": "markdown",
   "id": "4e3265b5",
   "metadata": {
    "run_control": {
     "frozen": false,
     "read_only": false
    }
   },
   "source": [
    "# Select MCP data corrected folder"
   ]
  },
  {
   "cell_type": "code",
   "execution_count": null,
   "id": "33d8db76",
   "metadata": {
    "run_control": {
     "frozen": false,
     "read_only": false
    }
   },
   "outputs": [],
   "source": [
    "o_corrector = McpChipsCorrector(working_dir = system.System.get_working_dir())\n",
    "o_corrector.select_folder()"
   ]
  },
  {
   "cell_type": "markdown",
   "id": "45fbfea7",
   "metadata": {},
   "source": [
    "# Launch UI "
   ]
  },
  {
   "cell_type": "code",
   "execution_count": null,
   "id": "7ff3cbb0",
   "metadata": {},
   "outputs": [],
   "source": [
    "o_interface = Interface(o_corrector=o_corrector)\n",
    "o_interface.show()"
   ]
  }
 ],
 "metadata": {
  "kernelspec": {
   "display_name": "Python 3",
   "language": "python",
   "name": "python3"
  }
 },
 "nbformat": 4,
 "nbformat_minor": 5
}
