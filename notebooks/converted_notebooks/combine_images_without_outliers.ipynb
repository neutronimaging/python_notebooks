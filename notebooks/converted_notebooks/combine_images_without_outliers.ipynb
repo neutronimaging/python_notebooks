{
 "cells": [
  {
   "cell_type": "markdown",
   "id": "b19cab20",
   "metadata": {
    "run_control": {
     "frozen": false,
     "read_only": false
    }
   },
   "source": [
    "[![Notebook Tutorial](__code/__all/notebook_tutorial.png)](https://neutronimaging.pages.ornl.gov/tutorial/notebooks/combine_images_without_outliers/#activate-search)\n",
    "<img src='__docs/__all/notebook_rules.png' />"
   ]
  },
  {
   "cell_type": "markdown",
   "id": "3545c4ac",
   "metadata": {
    "run_control": {
     "frozen": false,
     "read_only": false
    }
   },
   "source": [
    "# Select Your IPTS "
   ]
  },
  {
   "cell_type": "code",
   "execution_count": null,
   "id": "4e584229",
   "metadata": {
    "run_control": {
     "frozen": false,
     "read_only": false
    }
   },
   "outputs": [],
   "source": [
    "from __code import system\n",
    "from __code.combine_images_without_outliers.combine_images import Interface\n",
    "\n",
    "system.System.select_working_dir(facility='SNS', instrument='VENUS')\n",
    "from __code.__all import custom_style\n",
    "custom_style.style()"
   ]
  },
  {
   "cell_type": "markdown",
   "id": "7e1fbc3f",
   "metadata": {},
   "source": [
    "# Select how you want to combine the first images "
   ]
  },
  {
   "cell_type": "code",
   "execution_count": null,
   "id": "6538da06",
   "metadata": {},
   "outputs": [],
   "source": [
    "o_combine = Interface(working_dir=system.System.get_working_dir())"
   ]
  },
  {
   "cell_type": "markdown",
   "id": "8a4b0106",
   "metadata": {},
   "source": [
    "# Select output folder "
   ]
  },
  {
   "cell_type": "code",
   "execution_count": null,
   "id": "25b033b9",
   "metadata": {},
   "outputs": [],
   "source": [
    "o_combine.select_output_folder()"
   ]
  },
  {
   "cell_type": "code",
   "execution_count": null,
   "id": "9d2bd64b",
   "metadata": {},
   "outputs": [],
   "source": []
  }
 ],
 "metadata": {
  "kernelspec": {
   "display_name": "Python 3",
   "language": "python",
   "name": "python3"
  }
 },
 "nbformat": 4,
 "nbformat_minor": 5
}
