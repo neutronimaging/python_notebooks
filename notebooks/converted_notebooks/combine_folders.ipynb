{
 "cells": [
  {
   "cell_type": "markdown",
   "id": "42b3340c",
   "metadata": {},
   "source": [
    "[![Notebook Tutorial](__code/__all/notebook_tutorial.png)](https://neutronimaging.pages.ornl.gov/tutorial/notebooks/combine_folders)\n",
    "\n",
    "<img src='__docs/__all/notebook_rules.png' />"
   ]
  },
  {
   "cell_type": "markdown",
   "id": "0435f264",
   "metadata": {},
   "source": [
    "# Select Your IPTS "
   ]
  },
  {
   "cell_type": "code",
   "execution_count": null,
   "id": "edda6f39",
   "metadata": {
    "run_control": {
     "frozen": false,
     "read_only": false
    }
   },
   "outputs": [],
   "source": [
    "from __code.combine_folders import CombineFolders\n",
    "from __code import system\n",
    "system.System.select_working_dir()\n",
    "from __code.__all import custom_style\n",
    "custom_style.style()"
   ]
  },
  {
   "cell_type": "markdown",
   "id": "3cf59bc3",
   "metadata": {
    "run_control": {
     "frozen": false,
     "read_only": false
    }
   },
   "source": [
    "# Select Folders to Merge "
   ]
  },
  {
   "cell_type": "code",
   "execution_count": null,
   "id": "89dec4fa",
   "metadata": {
    "run_control": {
     "frozen": false,
     "read_only": false
    }
   },
   "outputs": [],
   "source": [
    "o_merge = CombineFolders(working_dir=system.System.get_working_dir())\n",
    "o_merge.select_folders()"
   ]
  },
  {
   "cell_type": "markdown",
   "id": "675a1b1e",
   "metadata": {
    "run_control": {
     "frozen": false,
     "read_only": false
    }
   },
   "source": [
    "# Merging Method"
   ]
  },
  {
   "cell_type": "markdown",
   "id": "aef9df79",
   "metadata": {
    "run_control": {
     "frozen": false,
     "read_only": false
    }
   },
   "source": [
    "## How many folders do you want to combine together"
   ]
  },
  {
   "cell_type": "markdown",
   "id": "e224db83",
   "metadata": {
    "run_control": {
     "frozen": false,
     "read_only": false
    }
   },
   "source": [
    "ex: **2** will combine the first 2 folders selected, then the next 2, ...."
   ]
  },
  {
   "cell_type": "code",
   "execution_count": null,
   "id": "57366b25",
   "metadata": {
    "run_control": {
     "frozen": false,
     "read_only": false
    }
   },
   "outputs": [],
   "source": [
    "o_merge.how_many_folders()"
   ]
  },
  {
   "cell_type": "markdown",
   "id": "62563107",
   "metadata": {
    "run_control": {
     "frozen": false,
     "read_only": false
    }
   },
   "source": [
    "##  How do you want to combine them"
   ]
  },
  {
   "cell_type": "code",
   "execution_count": null,
   "id": "73f5933c",
   "metadata": {
    "run_control": {
     "frozen": false,
     "read_only": false
    }
   },
   "outputs": [],
   "source": [
    "o_merge.how_to_combine()"
   ]
  },
  {
   "cell_type": "markdown",
   "id": "3494ae13",
   "metadata": {},
   "source": [
    "## Do you want to copy over extra files (.txt, ...)\n",
    "\n",
    "If **yes**, the first folder selected will be the source of those files"
   ]
  },
  {
   "cell_type": "code",
   "execution_count": null,
   "id": "8f13d55b",
   "metadata": {},
   "outputs": [],
   "source": [
    "o_merge.extra_files()"
   ]
  },
  {
   "cell_type": "markdown",
   "id": "7e280c5c",
   "metadata": {
    "run_control": {
     "frozen": false,
     "read_only": false
    }
   },
   "source": [
    "# Select Output Folder "
   ]
  },
  {
   "cell_type": "code",
   "execution_count": null,
   "id": "2f541c5f",
   "metadata": {
    "lines_to_next_cell": 0,
    "run_control": {
     "frozen": false,
     "read_only": false
    }
   },
   "outputs": [],
   "source": [
    "o_merge.select_output_folder()"
   ]
  },
  {
   "cell_type": "code",
   "execution_count": null,
   "id": "156cc60b",
   "metadata": {
    "lines_to_next_cell": 2
   },
   "outputs": [],
   "source": []
  }
 ],
 "metadata": {
  "kernelspec": {
   "display_name": "Python 3",
   "language": "python",
   "name": "python3"
  }
 },
 "nbformat": 4,
 "nbformat_minor": 5
}
