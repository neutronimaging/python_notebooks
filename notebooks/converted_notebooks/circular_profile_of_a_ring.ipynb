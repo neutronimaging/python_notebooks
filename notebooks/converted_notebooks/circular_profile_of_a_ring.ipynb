{
 "cells": [
  {
   "cell_type": "markdown",
   "id": "c016123b",
   "metadata": {
    "run_control": {
     "frozen": false,
     "read_only": false
    }
   },
   "source": [
    "[![Notebook Tutorial](__code/__all/notebook_tutorial.png)](https://neutronimaging.pages.ornl.gov/tutorial/notebooks/circular_profile_of_a_ring/)"
   ]
  },
  {
   "cell_type": "markdown",
   "id": "e0cbb569",
   "metadata": {
    "run_control": {
     "frozen": false,
     "read_only": false
    }
   },
   "source": [
    "<img src='__docs/__all/notebook_rules.png' />"
   ]
  },
  {
   "cell_type": "markdown",
   "id": "602e1689",
   "metadata": {
    "run_control": {
     "frozen": false,
     "read_only": false
    }
   },
   "source": [
    "# Select Your IPTS"
   ]
  },
  {
   "cell_type": "code",
   "execution_count": null,
   "id": "0dcd4632",
   "metadata": {
    "run_control": {
     "frozen": false,
     "read_only": false
    }
   },
   "outputs": [],
   "source": [
    "import warnings\n",
    "warnings.filterwarnings('ignore')\n",
    "\n",
    "from __code.circular_profile_of_a_ring.interface_handler import InterfaceHandler\n",
    "from __code.circular_profile_of_a_ring.circular_profile_of_a_ring import CircularProfileOfARing\n",
    "\n",
    "from __code import system\n",
    "system.System.select_working_dir()\n",
    "from __code.__all import custom_style\n",
    "custom_style.style()"
   ]
  },
  {
   "cell_type": "code",
   "execution_count": null,
   "id": "152fcf94",
   "metadata": {
    "run_control": {
     "frozen": false,
     "read_only": false
    }
   },
   "outputs": [],
   "source": [
    "%gui qt"
   ]
  },
  {
   "cell_type": "markdown",
   "id": "a790fb7d",
   "metadata": {
    "run_control": {
     "frozen": false,
     "read_only": false
    }
   },
   "source": [
    "# Select folder containing reconstructed data"
   ]
  },
  {
   "cell_type": "code",
   "execution_count": null,
   "id": "18093910",
   "metadata": {
    "run_control": {
     "frozen": false,
     "read_only": false
    }
   },
   "outputs": [],
   "source": [
    "o_selection = CircularProfileOfARing(working_dir=system.System.get_working_dir())\n",
    "o_selection.select_input_folder()"
   ]
  },
  {
   "cell_type": "markdown",
   "id": "412c554b",
   "metadata": {
    "run_control": {
     "frozen": false,
     "read_only": false
    }
   },
   "source": [
    "# Launch User Interface"
   ]
  },
  {
   "cell_type": "code",
   "execution_count": null,
   "id": "3ee424e1",
   "metadata": {
    "lines_to_next_cell": 0,
    "run_control": {
     "frozen": false,
     "read_only": false
    }
   },
   "outputs": [],
   "source": [
    "o_select = InterfaceHandler(working_dir=system.System.get_working_dir(), \n",
    "                            o_norm=o_selection.o_norm)"
   ]
  },
  {
   "cell_type": "code",
   "execution_count": null,
   "id": "407d10ef",
   "metadata": {
    "lines_to_next_cell": 2
   },
   "outputs": [],
   "source": []
  }
 ],
 "metadata": {
  "kernelspec": {
   "display_name": "Python 3",
   "language": "python",
   "name": "python3"
  }
 },
 "nbformat": 4,
 "nbformat_minor": 5
}
