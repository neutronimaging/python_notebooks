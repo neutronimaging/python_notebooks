{
 "cells": [
  {
   "cell_type": "markdown",
   "id": "697163d3",
   "metadata": {
    "run_control": {
     "frozen": false,
     "read_only": false
    }
   },
   "source": [
    "# select Your IPTS "
   ]
  },
  {
   "cell_type": "code",
   "execution_count": null,
   "id": "e18faf62",
   "metadata": {
    "run_control": {
     "frozen": false,
     "read_only": false
    }
   },
   "outputs": [],
   "source": [
    "from __code.file_name_and_metadata_vs_time_stamp import FileNameMetadataTimeStamp\n",
    "\n",
    "from __code import system\n",
    "system.System.select_working_dir()\n",
    "from __code.__all import custom_style\n",
    "custom_style.style()"
   ]
  },
  {
   "cell_type": "markdown",
   "id": "8bf3f525",
   "metadata": {
    "run_control": {
     "frozen": false,
     "read_only": false
    }
   },
   "source": [
    "# Description "
   ]
  },
  {
   "cell_type": "markdown",
   "id": "b25f7022",
   "metadata": {
    "run_control": {
     "frozen": false,
     "read_only": false
    }
   },
   "source": [
    "The goal of this notebook is __to match__ the **file names** (fits or tif) with their **metadata** (imported from an ascii file)\n",
    "\n",
    "The program will retrieve the time stamp of the imported file and will match them with the metadata ascii file. \n",
    "\n",
    "To work, the metadata will need to have the following format\n",
    "\n",
    "**furnace.txt**\n",
    "```\n",
    "#time, metadata\n",
    "120000, 0\n",
    "120001, 5\n",
    "120010, 10\n",
    "120020, 30\n",
    "```\n",
    "\n",
    "A preview of the **metadata** value vs **file index** and **relative time** will be displayed. \n",
    "\n",
    "Export of the data into an ascii file using the following format\n",
    "```\n",
    "#metadata, file_name, time_stamp\n",
    "```\n"
   ]
  },
  {
   "cell_type": "markdown",
   "id": "f1c83161",
   "metadata": {
    "run_control": {
     "frozen": false,
     "read_only": false
    }
   },
   "source": [
    "# Python Import"
   ]
  },
  {
   "cell_type": "code",
   "execution_count": null,
   "id": "8436ee18",
   "metadata": {
    "run_control": {
     "frozen": false,
     "read_only": false
    }
   },
   "outputs": [],
   "source": [
    "%matplotlib notebook"
   ]
  },
  {
   "cell_type": "code",
   "execution_count": null,
   "id": "f8b64d48",
   "metadata": {
    "run_control": {
     "frozen": false,
     "read_only": false
    }
   },
   "outputs": [],
   "source": [
    "# from __code.file_name_and_metadata_vs_time_stamp import FileNameMetadataTimeStamp"
   ]
  },
  {
   "cell_type": "code",
   "execution_count": null,
   "id": "e50705d5",
   "metadata": {
    "lines_to_next_cell": 2,
    "run_control": {
     "frozen": false,
     "read_only": false
    }
   },
   "outputs": [],
   "source": [
    "from __code import utilities\n",
    "#from __code import utilities, gui_widgets, file_handler\n",
    "# import ipywe.fileselector\n",
    "# from IPython.core.display import display, HTML\n",
    "# import pandas as pd\n",
    "# import numpy as np\n",
    "# from pprint import pprint\n",
    "\n",
    "# from ipywidgets import widgets\n",
    "# from IPython.core.display import display, HTML            \n",
    "  \n",
    "import matplotlib.pyplot as plt\n",
    "%matplotlib notebook\n",
    "\n",
    "# from IPython import display as display_ipython\n",
    "\n",
    "from plotly.offline import plot, init_notebook_mode, iplot\n",
    "init_notebook_mode()\n",
    "import plotly.plotly as py\n",
    "import plotly.graph_objs as go\n"
   ]
  },
  {
   "cell_type": "markdown",
   "id": "a49bb556",
   "metadata": {
    "run_control": {
     "frozen": false,
     "read_only": false
    }
   },
   "source": [
    "# Select Image Folder"
   ]
  },
  {
   "cell_type": "code",
   "execution_count": null,
   "id": "38c2b9b6",
   "metadata": {
    "run_control": {
     "frozen": false,
     "read_only": false
    }
   },
   "outputs": [],
   "source": [
    "o_meta_file_time = FileNameMetadataTimeStamp(working_dir=system.System.get_working_dir())\n",
    "o_meta_file_time.select_image_folder()"
   ]
  },
  {
   "cell_type": "markdown",
   "id": "ba7d75b6",
   "metadata": {
    "run_control": {
     "frozen": false,
     "read_only": false
    }
   },
   "source": [
    "# Select Metadata Ascii File "
   ]
  },
  {
   "cell_type": "code",
   "execution_count": null,
   "id": "348e9cc3",
   "metadata": {
    "run_control": {
     "frozen": false,
     "read_only": false
    }
   },
   "outputs": [],
   "source": [
    "o_meta_file_time.select_metadata_file()"
   ]
  },
  {
   "cell_type": "markdown",
   "id": "be6f5523",
   "metadata": {
    "run_control": {
     "frozen": false,
     "read_only": false
    }
   },
   "source": [
    "# Format and Merging Data"
   ]
  },
  {
   "cell_type": "code",
   "execution_count": null,
   "id": "8abe18bc",
   "metadata": {
    "run_control": {
     "frozen": false,
     "read_only": false
    }
   },
   "outputs": [],
   "source": [
    "if my_system == 'mac':\n",
    "    my_header = [None, \"furnace vacuum2\", None, \"furnace vacuum1\", None, \"tolerance\",\n",
    "                None, \"%power\", None, \"OT Temp\", None, \"Ramp SP\", None,\n",
    "                \"OT SP\", None, \"Setpoint\", None, \"Sample\", None]\n",
    "else:\n",
    "    my_header = [None, \"furnace\\ vacuum2\", None, \"furnace\\ vacuum1\", None, \"tolerance\",\n",
    "                None, \"%power\", None, \"OT\\ Temp\", None, \"Ramp\\ SP\", None,\n",
    "                \"OT\\ SP\", None, \"Setpoint\", None, \"Sample\", None]"
   ]
  },
  {
   "cell_type": "code",
   "execution_count": null,
   "id": "a0d1f9c3",
   "metadata": {
    "run_control": {
     "frozen": false,
     "read_only": false
    }
   },
   "outputs": [],
   "source": [
    "o_meta_file_time.format_files(metadata_header=my_header)\n",
    "o_meta_file_time.merging_formated_files()"
   ]
  },
  {
   "cell_type": "markdown",
   "id": "ecedcb7f",
   "metadata": {
    "run_control": {
     "frozen": false,
     "read_only": false
    }
   },
   "source": [
    "# Preview "
   ]
  },
  {
   "cell_type": "code",
   "execution_count": null,
   "id": "fb9f0002",
   "metadata": {
    "run_control": {
     "frozen": false,
     "read_only": false
    }
   },
   "outputs": [],
   "source": [
    "o_meta_file_time.preview()"
   ]
  },
  {
   "cell_type": "code",
   "execution_count": null,
   "id": "3d4dd7a2",
   "metadata": {
    "run_control": {
     "frozen": false,
     "read_only": false
    }
   },
   "outputs": [],
   "source": [
    "trace = go.Scatter(x=o_meta_file_time.file_index,\n",
    "                           y=o_meta_file_time.metadata_array,\n",
    "                           mode='markers',\n",
    "                           name='Metadata Profile vs File Index')\n",
    "\n",
    "layout = go.Layout(width=\"100%\",\n",
    "                   height=500,\n",
    "                   showlegend=False,\n",
    "                   title='Profile of Metadata vs File Index',\n",
    "                   xaxis={'title': 'File Index'},\n",
    "                   yaxis={'title': 'Metadata Value'},\n",
    "                   )\n",
    "\n",
    "data = [trace]\n",
    "figure = go.Figure(data=data, layout=layout)\n",
    "iplot(figure)"
   ]
  },
  {
   "cell_type": "markdown",
   "id": "525bfe2f",
   "metadata": {
    "run_control": {
     "frozen": false,
     "read_only": false
    }
   },
   "source": [
    "# Export data "
   ]
  },
  {
   "cell_type": "code",
   "execution_count": null,
   "id": "1e949434",
   "metadata": {
    "run_control": {
     "frozen": false,
     "read_only": false
    }
   },
   "outputs": [],
   "source": [
    "o_meta_file_time.select_export_folder()"
   ]
  },
  {
   "cell_type": "code",
   "execution_count": null,
   "id": "196f00a4",
   "metadata": {
    "run_control": {
     "frozen": false,
     "read_only": false
    }
   },
   "outputs": [],
   "source": [
    "o_meta_file_time.export()"
   ]
  }
 ],
 "metadata": {
  "kernelspec": {
   "display_name": "Python 3",
   "language": "python",
   "name": "python3"
  }
 },
 "nbformat": 4,
 "nbformat_minor": 5
}
