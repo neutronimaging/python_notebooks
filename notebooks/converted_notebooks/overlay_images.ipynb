{
 "cells": [
  {
   "cell_type": "markdown",
   "id": "1e8412e2",
   "metadata": {
    "run_control": {
     "frozen": false,
     "read_only": false
    }
   },
   "source": [
    "[![Notebook Tutorial](__code/__all/notebook_tutorial.png)](https://neutronimaging.pages.ornl.gov/tutorial/notebooks/overlay_images/)"
   ]
  },
  {
   "cell_type": "markdown",
   "id": "75b1878e",
   "metadata": {
    "run_control": {
     "frozen": false,
     "read_only": false
    }
   },
   "source": [
    "<img src='__docs/__all/notebook_rules.png' />"
   ]
  },
  {
   "cell_type": "markdown",
   "id": "d5331e1b",
   "metadata": {
    "run_control": {
     "frozen": false,
     "read_only": false
    }
   },
   "source": [
    "# Select Your IPTS"
   ]
  },
  {
   "cell_type": "code",
   "execution_count": null,
   "id": "83ae07c8",
   "metadata": {
    "run_control": {
     "frozen": false,
     "read_only": false
    }
   },
   "outputs": [],
   "source": [
    "import warnings\n",
    "warnings.filterwarnings('ignore')\n",
    "\n",
    "from __code.overlay_images.interface_handler import InterfaceHandler\n",
    "from __code.overlay_images.overlay_images import OverlayImages\n",
    "\n",
    "from __code import system\n",
    "system.System.select_working_dir()\n",
    "from __code.__all import custom_style\n",
    "custom_style.style()"
   ]
  },
  {
   "cell_type": "code",
   "execution_count": null,
   "id": "9864c3b3",
   "metadata": {
    "run_control": {
     "frozen": false,
     "read_only": false
    }
   },
   "outputs": [],
   "source": [
    "%gui qt"
   ]
  },
  {
   "cell_type": "markdown",
   "id": "87572ae1",
   "metadata": {
    "run_control": {
     "frozen": false,
     "read_only": false
    }
   },
   "source": [
    "# Select folder containing high resolution images"
   ]
  },
  {
   "cell_type": "code",
   "execution_count": null,
   "id": "30c1d813",
   "metadata": {
    "run_control": {
     "frozen": false,
     "read_only": false
    }
   },
   "outputs": [],
   "source": [
    "o_data = OverlayImages(working_dir=system.System.get_working_dir())\n",
    "o_data.select_input_folder(data_type='high resolution')"
   ]
  },
  {
   "cell_type": "markdown",
   "id": "7f8e41f2",
   "metadata": {},
   "source": [
    "# Select folder containing low resolution images "
   ]
  },
  {
   "cell_type": "code",
   "execution_count": null,
   "id": "5985254d",
   "metadata": {},
   "outputs": [],
   "source": [
    "o_data.select_input_folder(data_type='low resolution')"
   ]
  },
  {
   "cell_type": "markdown",
   "id": "5402ef2a",
   "metadata": {
    "run_control": {
     "frozen": false,
     "read_only": false
    }
   },
   "source": [
    "# Launch User Interface"
   ]
  },
  {
   "cell_type": "code",
   "execution_count": null,
   "id": "f3269a48",
   "metadata": {
    "lines_to_next_cell": 0,
    "run_control": {
     "frozen": false,
     "read_only": false
    }
   },
   "outputs": [],
   "source": [
    "o_interface = InterfaceHandler(o_norm_high_res=o_data.o_norm_high_res,\n",
    "                               o_norm_low_res=o_data.o_norm_low_res,\n",
    "                               working_dir=o_data.working_dir)"
   ]
  },
  {
   "cell_type": "code",
   "execution_count": null,
   "id": "063de741",
   "metadata": {
    "lines_to_next_cell": 2
   },
   "outputs": [],
   "source": []
  }
 ],
 "metadata": {
  "kernelspec": {
   "display_name": "Python 3",
   "language": "python",
   "name": "python3"
  }
 },
 "nbformat": 4,
 "nbformat_minor": 5
}
