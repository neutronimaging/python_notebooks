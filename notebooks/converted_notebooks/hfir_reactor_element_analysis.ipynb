{
 "cells": [
  {
   "cell_type": "markdown",
   "id": "26e583cc",
   "metadata": {
    "run_control": {
     "frozen": false,
     "read_only": false
    }
   },
   "source": [
    "[![Notebook Tutorial](__code/__all/notebook_tutorial.png)](https://neutronimaging.pages.ornl.gov/tutorial/notebooks/hfir_reactor_element_analysis/)"
   ]
  },
  {
   "cell_type": "markdown",
   "id": "d35a0d62",
   "metadata": {
    "run_control": {
     "frozen": false,
     "read_only": false
    }
   },
   "source": [
    "<img src='__docs/__all/notebook_rules.png' />"
   ]
  },
  {
   "cell_type": "markdown",
   "id": "725b941d",
   "metadata": {
    "run_control": {
     "frozen": false,
     "read_only": false
    }
   },
   "source": [
    "# Select Your IPTS"
   ]
  },
  {
   "cell_type": "code",
   "execution_count": null,
   "id": "1f15aea7",
   "metadata": {
    "run_control": {
     "frozen": false,
     "read_only": false
    }
   },
   "outputs": [],
   "source": [
    "import warnings\n",
    "warnings.filterwarnings('ignore')\n",
    "\n",
    "from __code.hfir_reactor_element_analysis.hfir_reactor_element_analysis import HfirReactorElementAnalysis\n",
    "from __code.hfir_reactor_element_analysis.interface_handler import InterfaceHandler\n",
    "\n",
    "from __code import system\n",
    "system.System.select_working_dir()\n",
    "from __code.__all import custom_style\n",
    "custom_style.style()"
   ]
  },
  {
   "cell_type": "code",
   "execution_count": null,
   "id": "e8d4123d",
   "metadata": {
    "run_control": {
     "frozen": false,
     "read_only": false
    }
   },
   "outputs": [],
   "source": [
    "%gui qt"
   ]
  },
  {
   "cell_type": "markdown",
   "id": "2284f295",
   "metadata": {
    "run_control": {
     "frozen": false,
     "read_only": false
    }
   },
   "source": [
    "# Select ASCII file \n",
    "\n",
    "This file should have been created by the [circular_profile_of_a_ring](circular_profile_of_a_ring.ipynb) notebook."
   ]
  },
  {
   "cell_type": "code",
   "execution_count": null,
   "id": "0962b510",
   "metadata": {
    "run_control": {
     "frozen": false,
     "read_only": false
    }
   },
   "outputs": [],
   "source": [
    "o_selection = HfirReactorElementAnalysis(working_dir=system.System.get_working_dir())\n",
    "o_selection.select_ascii_file()"
   ]
  },
  {
   "cell_type": "code",
   "execution_count": null,
   "id": "b91c9023",
   "metadata": {
    "lines_to_next_cell": 2
   },
   "outputs": [],
   "source": [
    "o_select = InterfaceHandler(working_dir=system.System.get_working_dir(), \n",
    "                            o_selection=o_selection)"
   ]
  },
  {
   "cell_type": "markdown",
   "id": "5b767850",
   "metadata": {},
   "source": [
    "# DEBUG "
   ]
  },
  {
   "cell_type": "code",
   "execution_count": null,
   "id": "24241111",
   "metadata": {},
   "outputs": [],
   "source": [
    "from __code.hfir_reactor_element_analysis.hfir_reactor_element_analysis import HfirReactorElementAnalysis\n",
    "from __code.hfir_reactor_element_analysis.interface_handler import InterfaceHandler\n",
    "import os\n",
    "\n",
    "ascii_file_name = '/Users/j35/IPTS/HFIR-Reactor/HFIR-Reactor_profiles_top.csv'\n",
    "assert os.path.exists(ascii_file_name)"
   ]
  },
  {
   "cell_type": "code",
   "execution_count": null,
   "id": "6fb3a0c1",
   "metadata": {},
   "outputs": [],
   "source": [
    "%gui qt"
   ]
  },
  {
   "cell_type": "code",
   "execution_count": null,
   "id": "6058ebd5",
   "metadata": {
    "lines_to_next_cell": 0
   },
   "outputs": [],
   "source": [
    "o_selection = HfirReactorElementAnalysis(working_dir=\"/Users/j35/IPTS/HFIR-Reactor/\")\n",
    "o_selection.load_ascii(ascii_file_name)\n",
    "\n",
    "o_select = InterfaceHandler(working_dir=\"/Users/j35/IPTS/HFIR-Reactor/\", \n",
    "                            o_selection=o_selection)"
   ]
  },
  {
   "cell_type": "code",
   "execution_count": null,
   "id": "3a380704",
   "metadata": {
    "lines_to_next_cell": 2
   },
   "outputs": [],
   "source": []
  }
 ],
 "metadata": {
  "kernelspec": {
   "display_name": "Python 3",
   "language": "python",
   "name": "python3"
  }
 },
 "nbformat": 4,
 "nbformat_minor": 5
}
