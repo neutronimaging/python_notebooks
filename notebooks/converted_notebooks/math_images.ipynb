{
 "cells": [
  {
   "cell_type": "markdown",
   "id": "5118caa7",
   "metadata": {},
   "source": [
    "[![Notebook Tutorial](__code/__all/notebook_tutorial.png)](https://neutronimaging.pages.ornl.gov/tutorial/notebooks/math_images)\n",
    "\n",
    "<img src='__docs/__all/notebook_rules.png' />"
   ]
  },
  {
   "cell_type": "markdown",
   "id": "181a055d",
   "metadata": {},
   "source": [
    "# Select Your IPTS "
   ]
  },
  {
   "cell_type": "code",
   "execution_count": null,
   "id": "55bf61c5",
   "metadata": {
    "run_control": {
     "frozen": false,
     "read_only": false
    }
   },
   "outputs": [],
   "source": [
    "from __code.math_images import MathImages\n",
    "from __code import system\n",
    "system.System.select_working_dir()\n",
    "from __code.__all import custom_style\n",
    "custom_style.style()"
   ]
  },
  {
   "cell_type": "markdown",
   "id": "d6ac8cf3",
   "metadata": {
    "run_control": {
     "frozen": false,
     "read_only": false
    }
   },
   "source": [
    "# Select Images to Operate On"
   ]
  },
  {
   "cell_type": "code",
   "execution_count": null,
   "id": "68ea2584",
   "metadata": {
    "run_control": {
     "frozen": false,
     "read_only": false
    }
   },
   "outputs": [],
   "source": [
    "o_math = MathImages(working_dir=system.System.get_working_dir())\n",
    "o_math.select_files()"
   ]
  },
  {
   "cell_type": "markdown",
   "id": "f62a52eb",
   "metadata": {
    "run_control": {
     "frozen": false,
     "read_only": false
    }
   },
   "source": [
    "# Select Image to Use in Operation"
   ]
  },
  {
   "cell_type": "code",
   "execution_count": null,
   "id": "d80bd11b",
   "metadata": {
    "run_control": {
     "frozen": false,
     "read_only": false
    }
   },
   "outputs": [],
   "source": [
    "o_math.select_target_image()"
   ]
  },
  {
   "cell_type": "markdown",
   "id": "08f588f3",
   "metadata": {
    "run_control": {
     "frozen": false,
     "read_only": false
    }
   },
   "source": [
    "##  Operation to Use"
   ]
  },
  {
   "cell_type": "code",
   "execution_count": null,
   "id": "b57a3569",
   "metadata": {
    "run_control": {
     "frozen": false,
     "read_only": false
    }
   },
   "outputs": [],
   "source": [
    "o_math.which_math()"
   ]
  },
  {
   "cell_type": "markdown",
   "id": "b5b0ac25",
   "metadata": {},
   "source": [
    "## Recap"
   ]
  },
  {
   "cell_type": "code",
   "execution_count": null,
   "id": "7f6cd904",
   "metadata": {},
   "outputs": [],
   "source": [
    "o_math.recap()"
   ]
  },
  {
   "cell_type": "markdown",
   "id": "22fed399",
   "metadata": {
    "run_control": {
     "frozen": false,
     "read_only": false
    }
   },
   "source": [
    "# Select Output Folder "
   ]
  },
  {
   "cell_type": "code",
   "execution_count": null,
   "id": "3e54688e",
   "metadata": {
    "lines_to_next_cell": 0,
    "run_control": {
     "frozen": false,
     "read_only": false
    }
   },
   "outputs": [],
   "source": [
    "o_math.select_output_folder()"
   ]
  },
  {
   "cell_type": "code",
   "execution_count": null,
   "id": "d4333824",
   "metadata": {
    "lines_to_next_cell": 2
   },
   "outputs": [],
   "source": []
  }
 ],
 "metadata": {
  "kernelspec": {
   "display_name": "Python 3",
   "language": "python",
   "name": "python3"
  }
 },
 "nbformat": 4,
 "nbformat_minor": 5
}
