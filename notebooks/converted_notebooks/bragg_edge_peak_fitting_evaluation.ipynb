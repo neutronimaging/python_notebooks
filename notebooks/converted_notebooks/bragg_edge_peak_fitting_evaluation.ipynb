{
 "cells": [
  {
   "cell_type": "markdown",
   "id": "7a5d40f2",
   "metadata": {
    "run_control": {
     "frozen": false,
     "read_only": false
    }
   },
   "source": [
    "[![Notebook Tutorial](__code/__all/notebook_tutorial.png)](https://neutronimaging.pages.ornl.gov/tutorial/notebooks/bragg_edge_peak_fitting)\n",
    "<img src='__docs/__all/notebook_rules.png' />"
   ]
  },
  {
   "cell_type": "markdown",
   "id": "419d8e4a",
   "metadata": {
    "run_control": {
     "frozen": false,
     "read_only": false
    }
   },
   "source": [
    "# Select Your IPTS "
   ]
  },
  {
   "cell_type": "code",
   "execution_count": null,
   "id": "85b92e78",
   "metadata": {
    "run_control": {
     "frozen": false,
     "read_only": false
    }
   },
   "outputs": [],
   "source": [
    "from __code import system\n",
    "from __code.bragg_edge.bragg_edge_peak_fitting_evaluation import BraggEdge, Interface\n",
    "\n",
    "system.System.select_working_dir(facility='SNS', instrument='VENUS')\n",
    "from __code.__all import custom_style\n",
    "custom_style.style()\n",
    "\n",
    "from plotly.offline import plot, init_notebook_mode, iplot\n",
    "init_notebook_mode()"
   ]
  },
  {
   "cell_type": "markdown",
   "id": "83157956",
   "metadata": {},
   "source": [
    "## Prepare UI engine "
   ]
  },
  {
   "cell_type": "code",
   "execution_count": null,
   "id": "cf4ce88d",
   "metadata": {
    "run_control": {
     "frozen": false,
     "read_only": false
    }
   },
   "outputs": [],
   "source": [
    "%gui qt"
   ]
  },
  {
   "cell_type": "markdown",
   "id": "e7f25d47",
   "metadata": {
    "run_control": {
     "frozen": false,
     "read_only": false
    }
   },
   "source": [
    "# Select Normalized Data Input Folder\n",
    "\n",
    "Data and time spectra files will be loaded"
   ]
  },
  {
   "cell_type": "code",
   "execution_count": null,
   "id": "786f7b87",
   "metadata": {
    "run_control": {
     "frozen": false,
     "read_only": false
    }
   },
   "outputs": [],
   "source": [
    "o_bragg = BraggEdge(working_dir=system.System.get_working_dir())\n",
    "o_bragg.select_working_folder()"
   ]
  },
  {
   "cell_type": "markdown",
   "id": "6dadda46",
   "metadata": {},
   "source": [
    "# Select Open Beam Data Input folder "
   ]
  },
  {
   "cell_type": "code",
   "execution_count": null,
   "id": "73ea2f28",
   "metadata": {
    "jupyter": {
     "outputs_hidden": true
    }
   },
   "outputs": [],
   "source": [
    "o_bragg.select_ob_folder()"
   ]
  },
  {
   "cell_type": "markdown",
   "id": "71c7d6c3",
   "metadata": {},
   "source": [
    "# Select sample region and peak to fit"
   ]
  },
  {
   "cell_type": "markdown",
   "id": "29fa60b8",
   "metadata": {},
   "source": [
    "### Select how many random files to use to select region to fit"
   ]
  },
  {
   "cell_type": "code",
   "execution_count": null,
   "id": "9dff86a3",
   "metadata": {},
   "outputs": [],
   "source": [
    "o_bragg.how_many_data_to_use_to_select_sample_roi()"
   ]
  },
  {
   "cell_type": "markdown",
   "id": "c6f452c3",
   "metadata": {},
   "source": [
    "### fit ui "
   ]
  },
  {
   "cell_type": "code",
   "execution_count": null,
   "id": "179f6e59",
   "metadata": {},
   "outputs": [],
   "source": [
    "o_interface = Interface(o_bragg=o_bragg, spectra_file=o_bragg.spectra_file)\n",
    "o_interface.show()"
   ]
  },
  {
   "cell_type": "markdown",
   "id": "e784acf3",
   "metadata": {},
   "source": [
    "# DEBUGGING"
   ]
  },
  {
   "cell_type": "code",
   "execution_count": null,
   "id": "f79de5ee",
   "metadata": {},
   "outputs": [],
   "source": [
    "from __code import system\n",
    "from __code.bragg_edge.peak_fitting_evaluation.bragg_edge_peak_fitting import BraggEdge, Interface"
   ]
  },
  {
   "cell_type": "code",
   "execution_count": null,
   "id": "b4d29344",
   "metadata": {},
   "outputs": [],
   "source": [
    "%gui qt"
   ]
  },
  {
   "cell_type": "code",
   "execution_count": null,
   "id": "85245e41",
   "metadata": {},
   "outputs": [],
   "source": [
    "import os\n",
    "\n",
    "# small data set\n",
    "# data_path = \"/Volumes/G-DRIVE/IPTS/VENUS/shared/testing_normalized/\"\n",
    "# spectra_file = os.path.join(data_path, \"Image019_Spectra.txt\")\n",
    "\n",
    "# full data set\n",
    "#data_path = \"/Volumes/G-DRIVE/IPTS/SNAP/Si_normalized/Si_powder_1_Angs_20C_corrected_normalized\"\n",
    "#spectra_file = os.path.join(data_path, \"normalized_Spectra.txt\")\n",
    "data_path = \"/Volumes/G-DRIVE/IPTS/IPTS-26171-testing_ibeatles/10_InconelPowder_1.5Hrs_Corrected_normalized/\"\n",
    "spectra_file = \"/Volumes/G-DRIVE/IPTS/IPTS-26171-testing_ibeatles/10_InconelPowder_1.5Hrs_Corrected_normalized/20210910_Run_52256_InconelPowder_0008_0646026_Spectra.txt\"\n",
    "\n",
    "import glob\n",
    "list_data = glob.glob(data_path + \"*.tif\")\n",
    "assert os.path.exists(spectra_file)\n",
    "\n",
    "o_bragg = BraggEdge(working_dir=data_path)\n",
    "o_bragg.load_data(data_path)"
   ]
  },
  {
   "cell_type": "code",
   "execution_count": null,
   "id": "8cc76dca",
   "metadata": {},
   "outputs": [],
   "source": [
    "o_interface = Interface(o_bragg=o_bragg,\n",
    "                        working_dir=data_path,\n",
    "                        spectra_file=spectra_file)\n",
    "o_interface.show()"
   ]
  },
  {
   "cell_type": "code",
   "execution_count": null,
   "id": "24bae87d",
   "metadata": {},
   "outputs": [],
   "source": []
  },
  {
   "cell_type": "code",
   "execution_count": null,
   "id": "d8a0c0e6",
   "metadata": {},
   "outputs": [],
   "source": []
  },
  {
   "cell_type": "code",
   "execution_count": null,
   "id": "05ab003c",
   "metadata": {},
   "outputs": [],
   "source": []
  },
  {
   "cell_type": "code",
   "execution_count": null,
   "id": "7fe2d006",
   "metadata": {},
   "outputs": [],
   "source": []
  },
  {
   "cell_type": "code",
   "execution_count": null,
   "id": "532688bb",
   "metadata": {},
   "outputs": [],
   "source": []
  },
  {
   "cell_type": "markdown",
   "id": "56f2aafb",
   "metadata": {},
   "source": [
    "# DEBUGGING using import straight "
   ]
  },
  {
   "cell_type": "code",
   "execution_count": null,
   "id": "2998f86b",
   "metadata": {},
   "outputs": [],
   "source": [
    "from __code import system\n",
    "from __code.bragg_edge.peak_fitting_evaluation.bragg_edge_peak_fitting import BraggEdge, Interface"
   ]
  },
  {
   "cell_type": "code",
   "execution_count": null,
   "id": "1dccf0b7",
   "metadata": {},
   "outputs": [],
   "source": [
    "%gui qt"
   ]
  },
  {
   "cell_type": "code",
   "execution_count": null,
   "id": "0c92fe4b",
   "metadata": {},
   "outputs": [],
   "source": [
    "data_path = \"/Volumes/G-Drive/IPTS/SNAP/Si_normalized/Si_powder_1_Angs_20C_corrected_normalized\"\n",
    "o_interface = Interface(working_dir=data_path)\n",
    "o_interface.show()"
   ]
  },
  {
   "cell_type": "code",
   "execution_count": null,
   "id": "696cfc51",
   "metadata": {},
   "outputs": [],
   "source": []
  },
  {
   "cell_type": "code",
   "execution_count": null,
   "id": "bfb1756c",
   "metadata": {},
   "outputs": [],
   "source": []
  },
  {
   "cell_type": "code",
   "execution_count": null,
   "id": "3fedaeb7",
   "metadata": {},
   "outputs": [],
   "source": []
  }
 ],
 "metadata": {
  "kernelspec": {
   "display_name": "Python 3",
   "language": "python",
   "name": "python3"
  }
 },
 "nbformat": 4,
 "nbformat_minor": 5
}
