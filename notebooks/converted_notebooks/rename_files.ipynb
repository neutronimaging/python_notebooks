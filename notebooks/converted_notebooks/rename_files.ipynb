{
 "cells": [
  {
   "cell_type": "markdown",
   "id": "665a8ad9",
   "metadata": {
    "run_control": {
     "frozen": false,
     "read_only": false
    }
   },
   "source": [
    "[![Notebook Tutorial](__code/__all/notebook_tutorial.png)](https://neutronimaging.pages.ornl.gov/tutorial/notebooks/rename_files/)"
   ]
  },
  {
   "cell_type": "markdown",
   "id": "8c3ae0ab",
   "metadata": {
    "run_control": {
     "frozen": false,
     "read_only": false
    }
   },
   "source": [
    "<img src='__docs/__all/notebook_rules.png' />"
   ]
  },
  {
   "cell_type": "markdown",
   "id": "ebeb3f6a",
   "metadata": {
    "run_control": {
     "frozen": false,
     "read_only": false
    }
   },
   "source": [
    "# Select your IPTS "
   ]
  },
  {
   "cell_type": "code",
   "execution_count": null,
   "id": "b56e94ed",
   "metadata": {
    "run_control": {
     "frozen": false,
     "read_only": false
    }
   },
   "outputs": [],
   "source": [
    "from __code.rename_files.rename_files import NamingSchemaDefinition, FormatFileNameIndex\n",
    "from __code import system\n",
    "system.System.select_working_dir()\n",
    "from __code.__all import custom_style\n",
    "custom_style.style()"
   ]
  },
  {
   "cell_type": "markdown",
   "id": "d75a9121",
   "metadata": {
    "run_control": {
     "frozen": false,
     "read_only": false
    }
   },
   "source": [
    "# Select input folder and define new naming schema"
   ]
  },
  {
   "cell_type": "markdown",
   "id": "5c07fd55",
   "metadata": {},
   "source": []
  },
  {
   "cell_type": "code",
   "execution_count": null,
   "id": "2ade0905",
   "metadata": {
    "run_control": {
     "frozen": false,
     "read_only": false
    }
   },
   "outputs": [],
   "source": [
    "o_format = FormatFileNameIndex(working_dir=system.System.get_working_dir())\n",
    "o_format.select_input_folder()"
   ]
  },
  {
   "cell_type": "markdown",
   "id": "e9687cd6",
   "metadata": {},
   "source": [
    "# Checking new names"
   ]
  },
  {
   "cell_type": "code",
   "execution_count": null,
   "id": "53423384",
   "metadata": {},
   "outputs": [],
   "source": [
    "o_format.o_schema.check_new_names()"
   ]
  },
  {
   "cell_type": "markdown",
   "id": "d21c7c21",
   "metadata": {
    "run_control": {
     "frozen": false,
     "read_only": false
    }
   },
   "source": [
    "# Select output folder"
   ]
  },
  {
   "cell_type": "code",
   "execution_count": null,
   "id": "242819e2",
   "metadata": {
    "lines_to_next_cell": 0,
    "run_control": {
     "frozen": false,
     "read_only": false
    }
   },
   "outputs": [],
   "source": [
    "o_format.o_schema.select_export_folder()"
   ]
  },
  {
   "cell_type": "code",
   "execution_count": null,
   "id": "cecf3ec6",
   "metadata": {
    "lines_to_next_cell": 2
   },
   "outputs": [],
   "source": []
  }
 ],
 "metadata": {
  "kernelspec": {
   "display_name": "Python 3",
   "language": "python",
   "name": "python3"
  }
 },
 "nbformat": 4,
 "nbformat_minor": 5
}
