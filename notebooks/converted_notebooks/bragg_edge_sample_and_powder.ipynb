{
 "cells": [
  {
   "cell_type": "markdown",
   "id": "d1a2c757",
   "metadata": {
    "run_control": {
     "frozen": false,
     "read_only": false
    }
   },
   "source": [
    "<img src='__docs/__all/notebook_rules.png' />"
   ]
  },
  {
   "cell_type": "markdown",
   "id": "adc98d0e",
   "metadata": {
    "run_control": {
     "frozen": false,
     "read_only": false
    }
   },
   "source": [
    "# Select Your IPTS "
   ]
  },
  {
   "cell_type": "code",
   "execution_count": null,
   "id": "08640caf",
   "metadata": {
    "run_control": {
     "frozen": false,
     "read_only": false
    }
   },
   "outputs": [],
   "source": [
    "from __code import system\n",
    "from __code.bragg_edge.bragg_edge_sample_and_powder import BraggEdge\n",
    "from __code.bragg_edge.bragg_edge import Interface\n",
    "\n",
    "system.System.select_working_dir(facility='SNS', instrument='SNAP')\n",
    "from __code.__all import custom_style\n",
    "custom_style.style()\n",
    "\n",
    "from plotly.offline import plot, init_notebook_mode, iplot\n",
    "init_notebook_mode()"
   ]
  },
  {
   "cell_type": "markdown",
   "id": "a56f6816",
   "metadata": {},
   "source": [
    "## Prepare UI engine "
   ]
  },
  {
   "cell_type": "code",
   "execution_count": null,
   "id": "ff4298a3",
   "metadata": {
    "run_control": {
     "frozen": false,
     "read_only": false
    }
   },
   "outputs": [],
   "source": [
    "%gui qt"
   ]
  },
  {
   "cell_type": "markdown",
   "id": "fb5ccbcf",
   "metadata": {
    "run_control": {
     "frozen": false,
     "read_only": false
    }
   },
   "source": [
    "# Select Raw Data Input Folder\n",
    "\n",
    "Data and time spectra files will be loaded"
   ]
  },
  {
   "cell_type": "code",
   "execution_count": null,
   "id": "ff2df4f5",
   "metadata": {
    "run_control": {
     "frozen": false,
     "read_only": false
    }
   },
   "outputs": [],
   "source": [
    "o_bragg = BraggEdge(working_dir=system.System.get_working_dir())\n",
    "o_bragg.select_working_folder()"
   ]
  },
  {
   "cell_type": "markdown",
   "id": "cd7997cf",
   "metadata": {},
   "source": [
    "# Select Open Beam Input Folder "
   ]
  },
  {
   "cell_type": "code",
   "execution_count": null,
   "id": "de3ed27b",
   "metadata": {},
   "outputs": [],
   "source": [
    "o_bragg.select_ob_folder()"
   ]
  },
  {
   "cell_type": "markdown",
   "id": "019f8b7f",
   "metadata": {},
   "source": [
    "# Select ROI of sample "
   ]
  },
  {
   "cell_type": "markdown",
   "id": "94d52de2",
   "metadata": {
    "run_control": {
     "frozen": false,
     "read_only": false
    }
   },
   "source": [
    "### Select how many random files to use to select sample position"
   ]
  },
  {
   "cell_type": "code",
   "execution_count": null,
   "id": "01c14044",
   "metadata": {
    "run_control": {
     "frozen": false,
     "read_only": false
    }
   },
   "outputs": [],
   "source": [
    "o_bragg.how_many_data_to_use_to_select_sample_roi()"
   ]
  },
  {
   "cell_type": "markdown",
   "id": "b300c055",
   "metadata": {
    "run_control": {
     "frozen": false,
     "read_only": false
    }
   },
   "source": [
    "### Select location of sample on integrated image"
   ]
  },
  {
   "cell_type": "code",
   "execution_count": null,
   "id": "73a1ba65",
   "metadata": {
    "run_control": {
     "frozen": false,
     "read_only": false
    }
   },
   "outputs": [],
   "source": [
    "o_bragg.define_sample_roi()\n",
    "o_interface = Interface(data=o_bragg.final_image)\n",
    "o_interface.show()"
   ]
  },
  {
   "cell_type": "markdown",
   "id": "887775b7",
   "metadata": {},
   "source": [
    "# Normalize Data "
   ]
  },
  {
   "cell_type": "code",
   "execution_count": null,
   "id": "a77ce85a",
   "metadata": {},
   "outputs": [],
   "source": [
    "o_bragg.normalization_with_ob(list_rois=o_interface.list_roi)"
   ]
  },
  {
   "cell_type": "markdown",
   "id": "3e5b52c1",
   "metadata": {},
   "source": [
    "# Powder element(s) to use to compare data  "
   ]
  },
  {
   "cell_type": "code",
   "execution_count": null,
   "id": "0abbb2c1",
   "metadata": {},
   "outputs": [],
   "source": [
    "o_bragg.list_elements()"
   ]
  },
  {
   "cell_type": "markdown",
   "id": "8439f9d8",
   "metadata": {},
   "source": [
    "## List Bragg Edges "
   ]
  },
  {
   "cell_type": "code",
   "execution_count": null,
   "id": "24753a82",
   "metadata": {},
   "outputs": [],
   "source": [
    "o_bragg.list_powder_bragg_edges()"
   ]
  },
  {
   "cell_type": "markdown",
   "id": "dbcd1d0f",
   "metadata": {
    "run_control": {
     "frozen": false,
     "read_only": false
    }
   },
   "source": [
    "# Define Experiment Setup"
   ]
  },
  {
   "cell_type": "code",
   "execution_count": null,
   "id": "e5f17f6f",
   "metadata": {
    "run_control": {
     "frozen": false,
     "read_only": false
    }
   },
   "outputs": [],
   "source": [
    "o_bragg.exp_setup()"
   ]
  },
  {
   "cell_type": "markdown",
   "id": "f8231e4c",
   "metadata": {},
   "source": [
    "# Calculate Bragg Edges Data "
   ]
  },
  {
   "cell_type": "code",
   "execution_count": null,
   "id": "f30804b2",
   "metadata": {},
   "outputs": [],
   "source": [
    "o_bragg.calculate_counts_vs_file_index_of_regions_selected(list_roi=o_interface.list_roi)\n",
    "o_bragg.load_time_spectra()"
   ]
  },
  {
   "cell_type": "markdown",
   "id": "0422c164",
   "metadata": {
    "run_control": {
     "frozen": false,
     "read_only": false
    }
   },
   "source": [
    "# Display Bragg Edges vs Signal"
   ]
  },
  {
   "cell_type": "markdown",
   "id": "99b99ba9",
   "metadata": {},
   "source": [
    "Run the next cell **only if** you want to display the signal Counts vs lambda "
   ]
  },
  {
   "cell_type": "code",
   "execution_count": null,
   "id": "9dc5a545",
   "metadata": {
    "lines_to_next_cell": 0,
    "run_control": {
     "frozen": false,
     "read_only": false
    }
   },
   "outputs": [],
   "source": [
    "o_bragg.plot()"
   ]
  },
  {
   "cell_type": "markdown",
   "id": "61980668",
   "metadata": {},
   "source": [
    "# Export Data "
   ]
  },
  {
   "cell_type": "code",
   "execution_count": null,
   "id": "fad86192",
   "metadata": {},
   "outputs": [],
   "source": [
    "o_bragg.select_output_data_folder()"
   ]
  },
  {
   "cell_type": "code",
   "execution_count": null,
   "id": "c249c57a",
   "metadata": {},
   "outputs": [],
   "source": []
  }
 ],
 "metadata": {
  "kernelspec": {
   "display_name": "Python 3",
   "language": "python",
   "name": "python3"
  }
 },
 "nbformat": 4,
 "nbformat_minor": 5
}
