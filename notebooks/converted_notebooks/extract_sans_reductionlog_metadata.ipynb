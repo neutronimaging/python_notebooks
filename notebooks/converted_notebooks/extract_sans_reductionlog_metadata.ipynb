{
 "cells": [
  {
   "cell_type": "markdown",
   "id": "baa092e1",
   "metadata": {},
   "source": [
    "[![Notebook Tutorial](__code/__all/notebook_tutorial.png)](https://neutronimaging.pages.ornl.gov/tutorial/notebooks/extract_sans_reductionlog_metadata)\n",
    "\n",
    "<img src='__docs/__all/notebook_rules.png' />"
   ]
  },
  {
   "cell_type": "markdown",
   "id": "be6c4bc9",
   "metadata": {},
   "source": [
    "# Select Instrument"
   ]
  },
  {
   "cell_type": "code",
   "execution_count": null,
   "id": "dfdb7fe5",
   "metadata": {},
   "outputs": [],
   "source": [
    "from __code.sans import extract\n",
    "from __code.__all import custom_style\n",
    "custom_style.style()\n",
    "\n",
    "initializer = extract.Initializer()\n",
    "initializer.select_instrument()"
   ]
  },
  {
   "cell_type": "markdown",
   "id": "17032dd3",
   "metadata": {},
   "source": [
    "# Select your ReductionLog files and then the Metadata to extract "
   ]
  },
  {
   "cell_type": "code",
   "execution_count": null,
   "id": "3d064567",
   "metadata": {},
   "outputs": [],
   "source": [
    "working_dir = initializer.get_working_dir()\n",
    "o_extract = extract.Extract(working_dir=working_dir,\n",
    "                           instrument=initializer.get_instrument())\n",
    "o_extract.select_reductionlog()"
   ]
  },
  {
   "cell_type": "markdown",
   "id": "1a48e8b5",
   "metadata": {},
   "source": [
    "# Select output folder"
   ]
  },
  {
   "cell_type": "code",
   "execution_count": null,
   "id": "19816472",
   "metadata": {},
   "outputs": [],
   "source": [
    "o_extract.export()"
   ]
  },
  {
   "cell_type": "code",
   "execution_count": null,
   "id": "640f1825",
   "metadata": {},
   "outputs": [],
   "source": []
  }
 ],
 "metadata": {
  "kernelspec": {
   "display_name": "Python 3",
   "language": "python",
   "name": "python3"
  }
 },
 "nbformat": 4,
 "nbformat_minor": 5
}
