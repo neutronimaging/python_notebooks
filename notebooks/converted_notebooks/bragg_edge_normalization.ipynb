{
 "cells": [
  {
   "cell_type": "markdown",
   "id": "5c451afa",
   "metadata": {
    "run_control": {
     "frozen": false,
     "read_only": false
    }
   },
   "source": [
    "[![Notebook Tutorial](__code/__all/notebook_tutorial.png)](https://neutronimaging.pages.ornl.gov/tutorial/notebooks/bragg_edge_normalization/#activate-search)\n",
    "<img src='__docs/__all/notebook_rules.png' />"
   ]
  },
  {
   "cell_type": "markdown",
   "id": "5566b714",
   "metadata": {
    "run_control": {
     "frozen": false,
     "read_only": false
    }
   },
   "source": [
    "# Select Your IPTS "
   ]
  },
  {
   "cell_type": "code",
   "execution_count": null,
   "id": "0590a78b",
   "metadata": {
    "run_control": {
     "frozen": false,
     "read_only": false
    }
   },
   "outputs": [],
   "source": [
    "from __code import system\n",
    "from __code.bragg_edge.bragg_edge_normalization import BraggEdge\n",
    "\n",
    "system.System.select_working_dir(facility='SNS', instrument='SNAP')\n",
    "from __code.__all import custom_style\n",
    "custom_style.style()\n",
    "\n",
    "from plotly.offline import plot, init_notebook_mode, iplot\n",
    "init_notebook_mode()"
   ]
  },
  {
   "cell_type": "markdown",
   "id": "cfe1c2e8",
   "metadata": {},
   "source": [
    "## Prepare UI Engine "
   ]
  },
  {
   "cell_type": "code",
   "execution_count": null,
   "id": "2271066d",
   "metadata": {
    "run_control": {
     "frozen": false,
     "read_only": false
    }
   },
   "outputs": [],
   "source": [
    "%gui qt"
   ]
  },
  {
   "cell_type": "markdown",
   "id": "6cb3c88f",
   "metadata": {
    "run_control": {
     "frozen": false,
     "read_only": false
    }
   },
   "source": [
    "# Select Raw Data Input Folder\n",
    "time spectra files will be loaded"
   ]
  },
  {
   "cell_type": "code",
   "execution_count": null,
   "id": "1ab422e9",
   "metadata": {
    "run_control": {
     "frozen": false,
     "read_only": false
    }
   },
   "outputs": [],
   "source": [
    "o_bragg = BraggEdge(working_dir=system.System.get_working_dir())\n",
    "o_bragg.select_working_folder()"
   ]
  },
  {
   "cell_type": "markdown",
   "id": "7d1baa41",
   "metadata": {},
   "source": [
    "# Select mode of normalization "
   ]
  },
  {
   "cell_type": "code",
   "execution_count": null,
   "id": "684d6060",
   "metadata": {},
   "outputs": [],
   "source": [
    "o_bragg.normalization_settings_widgets()"
   ]
  },
  {
   "cell_type": "markdown",
   "id": "291ec69a",
   "metadata": {},
   "source": [
    "# Export Normalized Data and Time Spectra File"
   ]
  },
  {
   "cell_type": "code",
   "execution_count": null,
   "id": "004c19e7",
   "metadata": {},
   "outputs": [],
   "source": [
    "o_bragg.normalization()"
   ]
  },
  {
   "cell_type": "code",
   "execution_count": null,
   "id": "0f28589e",
   "metadata": {},
   "outputs": [],
   "source": []
  },
  {
   "cell_type": "code",
   "execution_count": null,
   "id": "aa78f1e4",
   "metadata": {},
   "outputs": [],
   "source": []
  }
 ],
 "metadata": {
  "kernelspec": {
   "display_name": "Python 3",
   "language": "python",
   "name": "python3"
  }
 },
 "nbformat": 4,
 "nbformat_minor": 5
}
