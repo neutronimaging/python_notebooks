{
 "cells": [
  {
   "cell_type": "markdown",
   "id": "4db86c5f",
   "metadata": {
    "run_control": {
     "frozen": false,
     "read_only": false
    }
   },
   "source": [
    "# Select Your IPTS "
   ]
  },
  {
   "cell_type": "code",
   "execution_count": null,
   "id": "0c5f5dec",
   "metadata": {
    "run_control": {
     "frozen": false,
     "read_only": false
    }
   },
   "outputs": [],
   "source": [
    "# #from __code.filename_metadata_match import FilenameMetadataMatch\n",
    "\n",
    "# from __code import system\n",
    "# system.System.select_working_dir()\n",
    "# from __code.__all import custom_style\n",
    "# custom_style.style()"
   ]
  },
  {
   "cell_type": "code",
   "execution_count": null,
   "id": "589bc504",
   "metadata": {
    "run_control": {
     "frozen": false,
     "read_only": false
    }
   },
   "outputs": [],
   "source": [
    "import ipywe.fileselector\n",
    "from IPython.core.display import HTML\n",
    "from __code.time_utility import RetrieveTimeStamp\n",
    "import os\n",
    "\n",
    "class FilenameMetadataMatch(object):\n",
    "\n",
    "    data_folder = ''\n",
    "    metadata_file = ''\n",
    "    \n",
    "    list_data_time_stamp = None\n",
    "    \n",
    "    def __init__(self, working_dir='./'):\n",
    "        self.working_dir = working_dir\n",
    "\n",
    "    def select_input_folder(self):\n",
    "        _instruction = \"Select Input Folder ...\"\n",
    "        self.input_folder_ui = ipywe.fileselector.FileSelectorPanel(instruction=_instruction,\n",
    "                                                                    start_dir=self.working_dir,\n",
    "                                                                    next=self.select_input_folder_done,\n",
    "                                                                    type='directory',\n",
    "                                                                   )\n",
    "        self.input_folder_ui.show()\n",
    "        \n",
    "    def select_input_folder_done(self, folder):\n",
    "        self.data_folder = folder\n",
    "        display(HTML('Folder Selected: <span style=\"font-size: 20px; color:green\">' + folder))\n",
    "\n",
    "    def select_metadata_file(self):\n",
    "        _instruction = \"Select Metadata File ...\"\n",
    "        self.metadata_ui = ipywe.fileselector.FileSelectorPanel(instruction=_instruction,\n",
    "                                                                start_dir=self.working_dir,\n",
    "                                                                next=self.select_metadata_file_done,\n",
    "                                                               )\n",
    "        self.metadata_ui.show()\n",
    "        \n",
    "    def select_metadata_file_done(self, metadata_file):\n",
    "        self.metadata_file = metadata_file\n",
    "        display(HTML('Metadata File Selected: <span style=\"font-size: 20px; color:green\">' + metadata_file))\n",
    "        \n",
    "    def retrieve_time_stamp(self):\n",
    "        o_retriever = RetrieveTimeStamp(folder=self.data_folder)\n",
    "        o_retriever._run()\n",
    "        self.list_data_time_stamp = o_retriever\n",
    "    \n",
    "    def load_metadata(self):\n",
    "        metadata_file = self.metadata_file\n",
    "    "
   ]
  },
  {
   "cell_type": "markdown",
   "id": "4de54e6f",
   "metadata": {
    "run_control": {
     "frozen": false,
     "read_only": false
    }
   },
   "source": [
    "# Select Input Folder "
   ]
  },
  {
   "cell_type": "markdown",
   "id": "fad5294a",
   "metadata": {},
   "source": [
    "This is where we select the folder of images that we will need to match with the metadat "
   ]
  },
  {
   "cell_type": "code",
   "execution_count": null,
   "id": "ead8b797",
   "metadata": {
    "run_control": {
     "frozen": false,
     "read_only": false
    }
   },
   "outputs": [],
   "source": [
    "#o_match = FilenameMetadataMatch(working_dir=system.System.get_working_dir())\n",
    "o_match = FilenameMetadataMatch(working_dir='/Volumes/my_book_thunderbolt_duo/IPTS/IPTS-20444-Regina/')\n",
    "o_match.select_input_folder()"
   ]
  },
  {
   "cell_type": "markdown",
   "id": "d7b71344",
   "metadata": {
    "run_control": {
     "frozen": false,
     "read_only": false
    }
   },
   "source": [
    "# Select Metadata File "
   ]
  },
  {
   "cell_type": "markdown",
   "id": "8f8ddf81",
   "metadata": {},
   "source": [
    "We need to select here the metadata file (*.mpt)"
   ]
  },
  {
   "cell_type": "code",
   "execution_count": null,
   "id": "42f28168",
   "metadata": {
    "run_control": {
     "frozen": false,
     "read_only": false
    }
   },
   "outputs": [],
   "source": [
    "o_match.select_metadata_file()"
   ]
  },
  {
   "cell_type": "markdown",
   "id": "a07d18ea",
   "metadata": {
    "run_control": {
     "frozen": false,
     "read_only": false
    }
   },
   "source": [
    "# Retrieve Time Stamp"
   ]
  },
  {
   "cell_type": "code",
   "execution_count": null,
   "id": "02f383bc",
   "metadata": {
    "run_control": {
     "frozen": false,
     "read_only": false
    }
   },
   "outputs": [],
   "source": [
    "o_match.retrieve_time_stamp()"
   ]
  },
  {
   "cell_type": "markdown",
   "id": "864e09f7",
   "metadata": {
    "run_control": {
     "frozen": false,
     "read_only": false
    }
   },
   "source": [
    "# Load Metadata File"
   ]
  },
  {
   "cell_type": "markdown",
   "id": "b1d65331",
   "metadata": {
    "run_control": {
     "frozen": false,
     "read_only": false
    }
   },
   "source": [
    "# DEBUGGING STARTS HERE"
   ]
  },
  {
   "cell_type": "code",
   "execution_count": null,
   "id": "8d056037",
   "metadata": {
    "run_control": {
     "frozen": false,
     "read_only": false
    }
   },
   "outputs": [],
   "source": [
    "import pandas as pd\n",
    "import codecs\n",
    "from __code.file_handler import get_file_extension\n",
    "from ipywidgets import widgets\n",
    "import os\n",
    "import pprint\n",
    "\n",
    "#metadata_file = o_match.metadata_file\n",
    "import glob\n",
    "import platform\n",
    "\n",
    "if platform.node() == 'mac95470':\n",
    "    git_dir = os.path.abspath(os.path.expanduser('~/git/'))\n",
    "else:\n",
    "    git_dir = '/Volumes/my_book_thunderbolt_duo/git/'\n",
    "    \n",
    "metadata_list_files = glob.glob(git_dir + '/standards/ASCII/*.mpt')\n",
    "\n",
    "index_file = 2\n",
    "\n",
    "metadata_file = metadata_list_files[index_file]\n",
    "print(\"Loading file: {}\".format(metadata_file))\n",
    "\n",
    "assert os.path.exists(metadata_file)"
   ]
  },
  {
   "cell_type": "markdown",
   "id": "7f026c28",
   "metadata": {
    "run_control": {
     "frozen": false,
     "read_only": false
    }
   },
   "source": [
    "**Allow users to define:**\n",
    "\n",
    " * reference_line_showing_end_of_metadata\n",
    " * start_of_data_after_how_many_lines_from_reference_line\n",
    " * index or label of time info column in big table"
   ]
  },
  {
   "cell_type": "code",
   "execution_count": null,
   "id": "3ec19043",
   "metadata": {},
   "outputs": [],
   "source": [
    "from __code.metadata_ascii_parser import *"
   ]
  },
  {
   "cell_type": "code",
   "execution_count": null,
   "id": "f8c52216",
   "metadata": {
    "run_control": {
     "frozen": false,
     "read_only": false
    }
   },
   "outputs": [],
   "source": [
    "o_meta = MetadataFileParser(filename=metadata_file, \n",
    "                            meta_type='mpt',\n",
    "                            time_label='time/s',\n",
    "                            reference_line_showing_end_of_metadata='Number of loops',\n",
    "                            end_of_metadata_after_how_many_lines_from_reference_line=1)\n",
    "o_meta.parse()"
   ]
  },
  {
   "cell_type": "code",
   "execution_count": null,
   "id": "5e7531c8",
   "metadata": {
    "run_control": {
     "frozen": false,
     "read_only": false
    }
   },
   "outputs": [],
   "source": [
    "o_meta.select_data_to_keep()"
   ]
  },
  {
   "cell_type": "code",
   "execution_count": null,
   "id": "f214e1ff",
   "metadata": {},
   "outputs": [],
   "source": [
    "o_meta.keep_only_columns_of_data_of_interest()\n",
    "o_meta.select_output_location()"
   ]
  },
  {
   "cell_type": "code",
   "execution_count": null,
   "id": "6206b06c",
   "metadata": {},
   "outputs": [],
   "source": [
    "# data = o_meta.get_data()"
   ]
  },
  {
   "cell_type": "code",
   "execution_count": null,
   "id": "a7ef32d6",
   "metadata": {},
   "outputs": [],
   "source": [
    "# metadata_to_keep = np.array(o_meta.box.children[1].value)"
   ]
  },
  {
   "cell_type": "code",
   "execution_count": null,
   "id": "5929818e",
   "metadata": {},
   "outputs": [],
   "source": [
    "# new_data = data[metadata_to_keep]"
   ]
  },
  {
   "cell_type": "code",
   "execution_count": null,
   "id": "4e307ff8",
   "metadata": {
    "lines_to_next_cell": 0
   },
   "outputs": [],
   "source": [
    "# data = new_data.reset_index()\n",
    "# data.rename(index=str, columns={\"index\": \"TimeStamp\"})"
   ]
  },
  {
   "cell_type": "code",
   "execution_count": null,
   "id": "75b88d91",
   "metadata": {
    "lines_to_next_cell": 2
   },
   "outputs": [],
   "source": []
  }
 ],
 "metadata": {
  "kernelspec": {
   "display_name": "Python 3",
   "language": "python",
   "name": "python3"
  }
 },
 "nbformat": 4,
 "nbformat_minor": 5
}
