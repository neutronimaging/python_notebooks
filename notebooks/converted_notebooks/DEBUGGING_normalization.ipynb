{
 "cells": [
  {
   "cell_type": "markdown",
   "id": "7823608a",
   "metadata": {
    "run_control": {
     "frozen": false,
     "read_only": false
    }
   },
   "source": [
    "[![Notebook Tutorial](__code/__all/notebook_tutorial.png)](https://neutronimaging.pages.ornl.gov/tutorial/notebooks/normalization)\n",
    "\n",
    "<img src='__docs/__all/notebook_rules.png' />"
   ]
  },
  {
   "cell_type": "markdown",
   "id": "07558af3",
   "metadata": {
    "run_control": {
     "frozen": false,
     "read_only": false
    }
   },
   "source": [
    "# Select Your IPTS "
   ]
  },
  {
   "cell_type": "code",
   "execution_count": null,
   "id": "08f03d88",
   "metadata": {
    "run_control": {
     "frozen": false,
     "read_only": false
    }
   },
   "outputs": [],
   "source": [
    "from __code.normalization import *\n",
    "\n",
    "from __code.ui_builder import UiBuilder\n",
    "o_builder = UiBuilder(ui_name = 'ui_roi_selection.ui')\n",
    "from __code.roi_selection_ui import Interface\n",
    "\n",
    "from __code import system\n",
    "system.System.select_working_dir()\n",
    "from __code.__all import custom_style\n",
    "custom_style.style()"
   ]
  },
  {
   "cell_type": "markdown",
   "id": "04891271",
   "metadata": {
    "run_control": {
     "frozen": false,
     "read_only": false
    }
   },
   "source": [
    "# Python Import"
   ]
  },
  {
   "cell_type": "code",
   "execution_count": null,
   "id": "9ada8dc8",
   "metadata": {
    "run_control": {
     "frozen": false,
     "read_only": false
    }
   },
   "outputs": [],
   "source": [
    "%gui qt"
   ]
  },
  {
   "cell_type": "markdown",
   "id": "c1518e3d",
   "metadata": {
    "run_control": {
     "frozen": false,
     "read_only": false
    }
   },
   "source": [
    "# Select Images (Sample, OB, and DF)"
   ]
  },
  {
   "cell_type": "code",
   "execution_count": null,
   "id": "e23a7fa6",
   "metadata": {
    "run_control": {
     "frozen": false,
     "read_only": false
    }
   },
   "outputs": [],
   "source": [
    "files = Files()\n",
    "sample_panel = SampleSelectionPanel(working_dir=system.System.get_working_dir())\n",
    "sample_panel.init_ui(files=files)\n",
    "wizard = WizardPanel(sample_panel=sample_panel)"
   ]
  },
  {
   "cell_type": "code",
   "execution_count": null,
   "id": "32c6dde4",
   "metadata": {},
   "outputs": [],
   "source": [
    "#DEBUGGING\n",
    "o_norm = sample_panel.o_norm_handler\n",
    "o_norm.o_norm.data['ob']['data']"
   ]
  },
  {
   "cell_type": "code",
   "execution_count": null,
   "id": "b96d374b",
   "metadata": {},
   "outputs": [],
   "source": [
    "o_norm.o_norm.data['sample']['data']"
   ]
  },
  {
   "cell_type": "markdown",
   "id": "15c0ddfb",
   "metadata": {
    "run_control": {
     "frozen": false,
     "read_only": false
    }
   },
   "source": [
    "# Select Background Region "
   ]
  },
  {
   "cell_type": "code",
   "execution_count": null,
   "id": "f8c5d761",
   "metadata": {
    "run_control": {
     "frozen": false,
     "read_only": false
    }
   },
   "outputs": [],
   "source": [
    "o_norm = sample_panel.o_norm_handler\n",
    "o_gui = Interface(o_norm=o_norm.o_norm)\n",
    "o_gui.show()"
   ]
  },
  {
   "cell_type": "code",
   "execution_count": null,
   "id": "5f4b2ccb",
   "metadata": {},
   "outputs": [],
   "source": [
    "o_norm.debugging_roi"
   ]
  },
  {
   "cell_type": "markdown",
   "id": "4a0a6f5a",
   "metadata": {
    "run_control": {
     "frozen": false,
     "read_only": false
    }
   },
   "source": [
    "# Normalization"
   ]
  },
  {
   "cell_type": "code",
   "execution_count": null,
   "id": "d705b6c3",
   "metadata": {
    "run_control": {
     "frozen": false,
     "read_only": false
    }
   },
   "outputs": [],
   "source": [
    "o_norm.run_normalization(dict_roi=o_gui.roi_selected)"
   ]
  },
  {
   "cell_type": "code",
   "execution_count": null,
   "id": "9ac9f115",
   "metadata": {
    "lines_to_end_of_cell_marker": 2
   },
   "outputs": [],
   "source": [
    "#DEBUGGING\n",
    "o_norm.o_norm.data['sample']"
   ]
  },
  {
   "cell_type": "code",
   "execution_count": null,
   "id": "63a17254",
   "metadata": {},
   "outputs": [],
   "source": [
    "o_norm.o_norm.get_normalized_data()"
   ]
  },
  {
   "cell_type": "markdown",
   "id": "f763712d",
   "metadata": {
    "run_control": {
     "frozen": false,
     "read_only": false
    }
   },
   "source": [
    "# Export "
   ]
  },
  {
   "cell_type": "code",
   "execution_count": null,
   "id": "6156cb87",
   "metadata": {
    "run_control": {
     "frozen": false,
     "read_only": false
    }
   },
   "outputs": [],
   "source": [
    "o_norm.select_export_folder(ipts_folder=sample_panel.ipts_dir)"
   ]
  },
  {
   "cell_type": "code",
   "execution_count": null,
   "id": "ef217f9d",
   "metadata": {
    "lines_to_next_cell": 0,
    "run_control": {
     "frozen": false,
     "read_only": false
    }
   },
   "outputs": [],
   "source": [
    "o_norm.export()"
   ]
  },
  {
   "cell_type": "code",
   "execution_count": null,
   "id": "c0a07487",
   "metadata": {},
   "outputs": [],
   "source": []
  },
  {
   "cell_type": "code",
   "execution_count": null,
   "id": "f1bf9562",
   "metadata": {
    "lines_to_next_cell": 2
   },
   "outputs": [],
   "source": []
  },
  {
   "cell_type": "code",
   "execution_count": null,
   "id": "1f3bee0d",
   "metadata": {},
   "outputs": [],
   "source": [
    "o_norm.debugging_roi."
   ]
  },
  {
   "cell_type": "code",
   "execution_count": null,
   "id": "8f9cc73d",
   "metadata": {},
   "outputs": [],
   "source": []
  },
  {
   "cell_type": "code",
   "execution_count": null,
   "id": "76c66bcc",
   "metadata": {},
   "outputs": [],
   "source": [
    "from NeuNorm.normalization import Normalization\n",
    "from NeuNorm.roi import ROI\n",
    "\n",
    "from pathlib import Path\n",
    "\n",
    "import matplotlib.pyplot as plt\n",
    "%matplotlib notebook"
   ]
  },
  {
   "cell_type": "code",
   "execution_count": null,
   "id": "9488f3e7",
   "metadata": {},
   "outputs": [],
   "source": [
    "my_roi = ROI(x0=118, y0=18, x1=259, y1=489)\n",
    "o_norm.o_norm.normalization(roi=my_roi)"
   ]
  },
  {
   "cell_type": "code",
   "execution_count": null,
   "id": "42416040",
   "metadata": {},
   "outputs": [],
   "source": [
    "#o_norm.o_norm.data['ob']\n",
    "plt.imshow(o_norm.o_norm.data['ob']['data'][0])"
   ]
  },
  {
   "cell_type": "code",
   "execution_count": null,
   "id": "17f3de92",
   "metadata": {},
   "outputs": [],
   "source": [
    "divided = o_norm.data.sample[0] / o_norm.data.ob[0]\n",
    "plt.figure()\n",
    "plt.imshow(divided)\n",
    "\n",
    "\n"
   ]
  },
  {
   "cell_type": "code",
   "execution_count": null,
   "id": "ab9bb019",
   "metadata": {},
   "outputs": [],
   "source": [
    "import matplotlib.pyplot as plt\n",
    "%matplotlib notebook"
   ]
  },
  {
   "cell_type": "code",
   "execution_count": null,
   "id": "e1193559",
   "metadata": {
    "lines_to_next_cell": 0,
    "run_control": {
     "frozen": false,
     "read_only": false
    }
   },
   "outputs": [],
   "source": [
    "plt.imshow(o_norm.normalized_data_array[0])"
   ]
  },
  {
   "cell_type": "code",
   "execution_count": null,
   "id": "df0580ae",
   "metadata": {
    "lines_to_next_cell": 2
   },
   "outputs": [],
   "source": []
  }
 ],
 "metadata": {
  "kernelspec": {
   "display_name": "Python 3",
   "language": "python",
   "name": "python3"
  }
 },
 "nbformat": 4,
 "nbformat_minor": 5
}
