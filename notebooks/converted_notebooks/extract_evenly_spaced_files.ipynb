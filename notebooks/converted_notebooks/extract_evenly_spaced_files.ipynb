{
 "cells": [
  {
   "cell_type": "markdown",
   "id": "dcc86361",
   "metadata": {},
   "source": [
    "[![Notebook Tutorial](__code/__all/notebook_tutorial.png)](https://neutronimaging.pages.ornl.gov/tutorial/notebooks/extract_evenly_spaced_files)\n",
    "\n",
    "<img src='__docs/__all/notebook_rules.png' />"
   ]
  },
  {
   "cell_type": "markdown",
   "id": "53ee3395",
   "metadata": {
    "run_control": {
     "frozen": false,
     "read_only": false
    }
   },
   "source": [
    "# Select Your IPTS "
   ]
  },
  {
   "cell_type": "code",
   "execution_count": null,
   "id": "87518297",
   "metadata": {
    "run_control": {
     "frozen": false,
     "read_only": false
    }
   },
   "outputs": [],
   "source": [
    "from __code.extract_evenly_spaced_files.main import ExtractEvenlySpacedFiles as EESF\n",
    "from __code.extract_evenly_spaced_files.interface_handler import Interface\n",
    "from __code import system\n",
    "system.System.select_working_dir()\n",
    "from __code.__all import custom_style\n",
    "custom_style.style()"
   ]
  },
  {
   "cell_type": "code",
   "execution_count": null,
   "id": "8dbfa7a0",
   "metadata": {},
   "outputs": [],
   "source": [
    "%gui qt"
   ]
  },
  {
   "cell_type": "markdown",
   "id": "e84b87bc",
   "metadata": {},
   "source": [
    "# How to sort the data"
   ]
  },
  {
   "cell_type": "code",
   "execution_count": null,
   "id": "ecb1cbcb",
   "metadata": {},
   "outputs": [],
   "source": [
    "o_extract = EESF(working_dir=system.System.get_working_dir())\n",
    "o_extract.sorting_method()"
   ]
  },
  {
   "cell_type": "markdown",
   "id": "49b058f5",
   "metadata": {
    "run_control": {
     "frozen": false,
     "read_only": false
    }
   },
   "source": [
    "# Select Folder with Images to Extract "
   ]
  },
  {
   "cell_type": "code",
   "execution_count": null,
   "id": "ba0ca3a0",
   "metadata": {},
   "outputs": [],
   "source": [
    "o_extract.select_folder()"
   ]
  },
  {
   "cell_type": "markdown",
   "id": "63ea69ff",
   "metadata": {},
   "source": [
    "# Extraction Method to Use"
   ]
  },
  {
   "cell_type": "code",
   "execution_count": null,
   "id": "6dcd5b6b",
   "metadata": {},
   "outputs": [],
   "source": [
    "o_extract.how_to_extract()"
   ]
  },
  {
   "cell_type": "markdown",
   "id": "abfae0e3",
   "metadata": {},
   "source": [
    "# Manual review and/or selection of files (optional)\n",
    "\n",
    "**WARNING** This step will require to load the entire stack of images you selected, so that may take some time!"
   ]
  },
  {
   "cell_type": "code",
   "execution_count": null,
   "id": "9fe574b4",
   "metadata": {},
   "outputs": [],
   "source": [
    "o_inteface = Interface(o_extract=o_extract)"
   ]
  },
  {
   "cell_type": "markdown",
   "id": "de1fac66",
   "metadata": {},
   "source": [
    "# Renamed files ?\n",
    "\n",
    "This will replace the last part of the name (file counter digit)\n",
    "\n",
    "for example:\n",
    "    \n",
    "    original first file:  20191030_object1_0070_004_594_0003.tiff\n",
    "    new first file name:  20191030_object1_0070_004_594_0000.tiff"
   ]
  },
  {
   "cell_type": "code",
   "execution_count": null,
   "id": "27721da3",
   "metadata": {},
   "outputs": [],
   "source": [
    "o_extract.renamed_files()"
   ]
  },
  {
   "cell_type": "markdown",
   "id": "5f3a9275",
   "metadata": {},
   "source": [
    "# Select output folder "
   ]
  },
  {
   "cell_type": "code",
   "execution_count": null,
   "id": "d31402a4",
   "metadata": {
    "lines_to_next_cell": 0,
    "run_control": {
     "frozen": false,
     "read_only": false
    }
   },
   "outputs": [],
   "source": [
    "o_extract.select_output_folder()"
   ]
  },
  {
   "cell_type": "code",
   "execution_count": null,
   "id": "2961379a",
   "metadata": {
    "lines_to_next_cell": 2
   },
   "outputs": [],
   "source": []
  }
 ],
 "metadata": {
  "kernelspec": {
   "display_name": "Python 3",
   "language": "python",
   "name": "python3"
  }
 },
 "nbformat": 4,
 "nbformat_minor": 5
}
