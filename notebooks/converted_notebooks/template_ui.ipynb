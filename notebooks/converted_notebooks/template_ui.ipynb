{
 "cells": [
  {
   "cell_type": "markdown",
   "id": "8755cb32",
   "metadata": {
    "run_control": {
     "frozen": false,
     "read_only": false
    }
   },
   "source": [
    "# Select Your IPTS"
   ]
  },
  {
   "cell_type": "code",
   "execution_count": null,
   "id": "e56c5598",
   "metadata": {
    "run_control": {
     "frozen": false,
     "read_only": false
    }
   },
   "outputs": [],
   "source": [
    "import warnings\n",
    "warnings.filterwarnings('ignore')\n",
    "\n",
    "from __code.ui_builder import UiBuilder\n",
    "o_builder = UiBuilder(ui_name = 'ui_panoramic_stitching.ui')\n",
    "\n",
    "from __code.panoramic_stitching import Interface, InterfaceHandler\n",
    "\n",
    "from __code import system\n",
    "system.System.select_working_dir()\n",
    "from __code.__all import custom_style\n",
    "custom_style.style()"
   ]
  },
  {
   "cell_type": "code",
   "execution_count": null,
   "id": "d12bc98c",
   "metadata": {
    "run_control": {
     "frozen": false,
     "read_only": false
    }
   },
   "outputs": [],
   "source": [
    "%gui qt"
   ]
  },
  {
   "cell_type": "markdown",
   "id": "49ccc2a0",
   "metadata": {
    "run_control": {
     "frozen": false,
     "read_only": false
    }
   },
   "source": [
    "# Description "
   ]
  },
  {
   "cell_type": "markdown",
   "id": "535ccfcb",
   "metadata": {
    "run_control": {
     "frozen": false,
     "read_only": false
    }
   },
   "source": [
    "This is just a template notebook for more complex UI that required pyqtgraph"
   ]
  },
  {
   "cell_type": "markdown",
   "id": "2b0ffe1b",
   "metadata": {
    "run_control": {
     "frozen": false,
     "read_only": false
    }
   },
   "source": [
    "# Select Images"
   ]
  },
  {
   "cell_type": "code",
   "execution_count": null,
   "id": "b5486d23",
   "metadata": {
    "run_control": {
     "frozen": false,
     "read_only": false
    }
   },
   "outputs": [],
   "source": [
    "o_template = InterfaceHandler(working_dir=system.System.get_working_dir())\n",
    "o_template.select_images(instruction='Select tiff or Fits Images ...')"
   ]
  },
  {
   "cell_type": "markdown",
   "id": "da19f507",
   "metadata": {
    "run_control": {
     "frozen": false,
     "read_only": false
    }
   },
   "source": [
    "# Display Images"
   ]
  },
  {
   "cell_type": "code",
   "execution_count": null,
   "id": "a76aa62f",
   "metadata": {
    "run_control": {
     "frozen": false,
     "read_only": false
    }
   },
   "outputs": [],
   "source": [
    "o_template.load()\n",
    "o_interface = Interface(o_norm=o_template.o_norm)\n",
    "o_interface.show()"
   ]
  },
  {
   "cell_type": "code",
   "execution_count": null,
   "id": "acccdd2c",
   "metadata": {
    "run_control": {
     "frozen": false,
     "read_only": false
    }
   },
   "outputs": [],
   "source": []
  }
 ],
 "metadata": {
  "kernelspec": {
   "display_name": "Python 3",
   "language": "python",
   "name": "python3"
  }
 },
 "nbformat": 4,
 "nbformat_minor": 5
}
