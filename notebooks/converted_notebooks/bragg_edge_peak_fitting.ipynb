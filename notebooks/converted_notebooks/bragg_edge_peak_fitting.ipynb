{
 "cells": [
  {
   "cell_type": "markdown",
   "id": "f913bdcf",
   "metadata": {
    "run_control": {
     "frozen": false,
     "read_only": false
    }
   },
   "source": [
    "[![Notebook Tutorial](__code/__all/notebook_tutorial.png)](https://neutronimaging.pages.ornl.gov/tutorial/notebooks/bragg_edge_peak_fitting/#activate-search)\n",
    "<img src='__docs/__all/notebook_rules.png' />"
   ]
  },
  {
   "cell_type": "markdown",
   "id": "48598c53",
   "metadata": {
    "run_control": {
     "frozen": false,
     "read_only": false
    }
   },
   "source": [
    "# Select Your IPTS "
   ]
  },
  {
   "cell_type": "code",
   "execution_count": null,
   "id": "47dd8ef8",
   "metadata": {
    "run_control": {
     "frozen": false,
     "read_only": false
    }
   },
   "outputs": [],
   "source": [
    "from __code import system\n",
    "from __code.bragg_edge.bragg_edge_peak_fitting import BraggEdge, Interface\n",
    "\n",
    "system.System.select_working_dir(facility='SNS', instrument='VENUS')\n",
    "from __code.__all import custom_style\n",
    "custom_style.style()\n",
    "\n",
    "# from plotly.offline import plot, init_notebook_mode, iplot\n",
    "# init_notebook_mode()"
   ]
  },
  {
   "cell_type": "markdown",
   "id": "4886c463",
   "metadata": {},
   "source": [
    "## Prepare UI engine "
   ]
  },
  {
   "cell_type": "code",
   "execution_count": null,
   "id": "18cf1078",
   "metadata": {
    "run_control": {
     "frozen": false,
     "read_only": false
    }
   },
   "outputs": [],
   "source": [
    "%gui qt"
   ]
  },
  {
   "cell_type": "markdown",
   "id": "a4a34435",
   "metadata": {
    "run_control": {
     "frozen": false,
     "read_only": false
    }
   },
   "source": [
    "# Select Normalized Data Input Folder\n",
    "\n",
    "Data and time spectra files will be loaded"
   ]
  },
  {
   "cell_type": "code",
   "execution_count": null,
   "id": "c434f12d",
   "metadata": {
    "run_control": {
     "frozen": false,
     "read_only": false
    }
   },
   "outputs": [],
   "source": [
    "o_bragg = BraggEdge(working_dir=system.System.get_working_dir())\n",
    "o_bragg.select_working_folder()"
   ]
  },
  {
   "cell_type": "markdown",
   "id": "6d1dfa7e",
   "metadata": {},
   "source": [
    "# Select Open Beam Data Input folder "
   ]
  },
  {
   "cell_type": "code",
   "execution_count": null,
   "id": "db54d26c",
   "metadata": {
    "jupyter": {
     "outputs_hidden": true
    }
   },
   "outputs": [],
   "source": [
    "o_bragg.select_ob_folder()"
   ]
  },
  {
   "cell_type": "markdown",
   "id": "3f458005",
   "metadata": {},
   "source": [
    "# Select sample region and peak to fit"
   ]
  },
  {
   "cell_type": "markdown",
   "id": "b2fbcbb9",
   "metadata": {},
   "source": [
    "### Select how many random files to use to select region to fit"
   ]
  },
  {
   "cell_type": "code",
   "execution_count": null,
   "id": "3240d43b",
   "metadata": {},
   "outputs": [],
   "source": [
    "o_bragg.how_many_data_to_use_to_select_sample_roi()"
   ]
  },
  {
   "cell_type": "markdown",
   "id": "bff9f5e1",
   "metadata": {},
   "source": [
    "### fit ui "
   ]
  },
  {
   "cell_type": "code",
   "execution_count": null,
   "id": "36ea6585",
   "metadata": {},
   "outputs": [],
   "source": [
    "o_interface = Interface(o_bragg=o_bragg, spectra_file=o_bragg.spectra_file)\n",
    "o_interface.show()"
   ]
  },
  {
   "cell_type": "markdown",
   "id": "1b506c3e",
   "metadata": {},
   "source": [
    "# DEBUGGING"
   ]
  },
  {
   "cell_type": "code",
   "execution_count": null,
   "id": "a0a8bf2a",
   "metadata": {},
   "outputs": [],
   "source": [
    "from __code import system\n",
    "from __code.bragg_edge.bragg_edge_peak_fitting import BraggEdge, Interface"
   ]
  },
  {
   "cell_type": "code",
   "execution_count": null,
   "id": "f8395f77",
   "metadata": {},
   "outputs": [],
   "source": [
    "%gui qt"
   ]
  },
  {
   "cell_type": "code",
   "execution_count": null,
   "id": "bc5a413e",
   "metadata": {},
   "outputs": [],
   "source": [
    "data_path = \"/Users/j35/IPTS/VENUS/IPTS-25778_normalized\"\n",
    "import glob\n",
    "import os\n",
    "list_data = glob.glob(data_path + \"*.tif\")\n",
    "spectra_file = os.path.join(data_path, \"Image019_Spectra.txt\")\n",
    "assert os.path.exists(spectra_file)"
   ]
  },
  {
   "cell_type": "code",
   "execution_count": null,
   "id": "d02938b0",
   "metadata": {},
   "outputs": [],
   "source": [
    "o_bragg = BraggEdge(working_dir=data_path)\n",
    "o_bragg.load_data(data_path)"
   ]
  },
  {
   "cell_type": "code",
   "execution_count": null,
   "id": "21fb6feb",
   "metadata": {},
   "outputs": [],
   "source": [
    "o_interface = Interface(o_bragg=o_bragg,\n",
    "                        working_dir=data_path,\n",
    "                        spectra_file=spectra_file)\n",
    "o_interface.show()"
   ]
  },
  {
   "cell_type": "markdown",
   "id": "30b57b97",
   "metadata": {},
   "source": [
    "# DEBUGGING using import straight "
   ]
  },
  {
   "cell_type": "code",
   "execution_count": null,
   "id": "dc93ed0e",
   "metadata": {},
   "outputs": [],
   "source": [
    "from __code import system\n",
    "from __code.bragg_edge.bragg_edge_peak_fitting import BraggEdge, Interface"
   ]
  },
  {
   "cell_type": "code",
   "execution_count": null,
   "id": "b187a11e",
   "metadata": {},
   "outputs": [],
   "source": [
    "%gui qt"
   ]
  },
  {
   "cell_type": "code",
   "execution_count": null,
   "id": "2979675d",
   "metadata": {},
   "outputs": [],
   "source": [
    "data_path = \"/Users/j35/IPTS/SNAP/Si_normalized\"\n",
    "o_interface = Interface(working_dir=data_path)\n",
    "o_interface.show()"
   ]
  },
  {
   "cell_type": "code",
   "execution_count": null,
   "id": "4b138e2c",
   "metadata": {},
   "outputs": [],
   "source": []
  }
 ],
 "metadata": {
  "kernelspec": {
   "display_name": "Python 3",
   "language": "python",
   "name": "python3"
  }
 },
 "nbformat": 4,
 "nbformat_minor": 5
}
