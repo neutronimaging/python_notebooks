{
 "cells": [
  {
   "cell_type": "code",
   "execution_count": null,
   "id": "9f7320f7",
   "metadata": {},
   "outputs": [],
   "source": [
    "import os, shutil, numpy as np, glob, time, pickle as pkl, imars3d\n",
    "from imars3d.jnbui import ct_wizard, imageslider\n",
    "from imars3d.ImageFile import ImageFile\n",
    "\n",
    "# Be patient, this may take a little while too\n",
    "# %matplotlib notebook\n",
    "%matplotlib inline\n",
    "from matplotlib import pyplot as plt"
   ]
  },
  {
   "cell_type": "markdown",
   "id": "215f8ae9",
   "metadata": {},
   "source": [
    "# Input Settings"
   ]
  },
  {
   "cell_type": "code",
   "execution_count": null,
   "id": "63db79e6",
   "metadata": {},
   "outputs": [],
   "source": [
    "data_folder = '/Volumes/G-DRIVE/IPTS/IPTS-25519-iMars3D-command-line/raw/ct_scans/2021_07_21_1in/'\n",
    "ob_folder = '/Volumes/G-DRIVE/IPTS/IPTS-25519-iMars3D-command-line/raw/ob/2021_07_21_1in/'\n",
    "df_folder = '/Volumes/G-DRIVE/IPTS/IPTS-25519-iMars3D-command-line/raw/df/2021_07_19/'"
   ]
  },
  {
   "cell_type": "code",
   "execution_count": null,
   "id": "cfd5aedd",
   "metadata": {},
   "outputs": [],
   "source": [
    "ct_sig = \"treated_1inch\"\n",
    "ct_scan_root = \"/Volumes/G-DRIVE/IPTS/IPTS-25519-iMars3D-command-line/raw/ct_scans/\"\n",
    "ct_dir = \"/Volumes/G-DRIVE/IPTS/IPTS-25519-iMars3D-command-line/raw/ct_scans/2021_07_21_1in/\"\n",
    "iptsdir = \"/Volumes/G-DRIVE/IPTS/IPTS-25519-iMars3D-command-line/\"\n",
    "outdir = \"/Volumes/G-DRIVE/IPTS/IPTS-25519-iMars3D-command-line/shared/processed_data/2021_07_21_1in\"\n",
    "instrument = \"CG1D\"\n",
    "ob_dir = \"/Volumes/G-DRIVE/IPTS/IPTS-25519-iMars3D-command-line/raw/ob/\"\n",
    "data_dir = \"/Volumes/G-DRIVE/IPTS/IPTS-25519-iMars3D-command-line/raw/\"\n",
    "workdir = \"/Volumes/G-DRIVE/IPTS/sandbox/work.imars3d/2021_07_21_1in\"\n",
    "df_files = glob.glob(os.path.join(df_folder, \"*.tiff\"))\n",
    "scan = \"2021_07_21_1in\"\n",
    "ipts = 25519\n",
    "ob_files = glob.glob(os.path.join(ob_folder, \"*.tiff\"))\n",
    "ct_subdir = \"2021_07_21_1in\"\n",
    "df_dir = \"/Volumes/G-DRIVE/IPTS/IPTS-25519-iMars3D-command-line/raw/df/\"\n",
    "facility = \"HFIR\"\n",
    "ct_scans_subdir = glob.glob(os.path.dirname(data_folder) + \"/*\")"
   ]
  },
  {
   "cell_type": "markdown",
   "id": "44e19b2e",
   "metadata": {},
   "source": [
    "# Create CT data object"
   ]
  },
  {
   "cell_type": "code",
   "execution_count": null,
   "id": "f6b3f39a",
   "metadata": {},
   "outputs": [],
   "source": [
    "from imars3d.CT import CT"
   ]
  },
  {
   "cell_type": "code",
   "execution_count": null,
   "id": "b0fac227",
   "metadata": {},
   "outputs": [],
   "source": [
    "ct = CT(data_dir,\n",
    "       CT_subdir=ct_dir,\n",
    "       CT_identifier=ct_sig,\n",
    "       workdir=workdir,\n",
    "       outdir=outdir,\n",
    "       ob_files=ob_files,\n",
    "       df_files=df_files)"
   ]
  },
  {
   "cell_type": "markdown",
   "id": "efa37302",
   "metadata": {},
   "source": [
    "# preprocess "
   ]
  },
  {
   "cell_type": "code",
   "execution_count": null,
   "id": "611e407a",
   "metadata": {},
   "outputs": [],
   "source": [
    "%%time\n",
    "ppd = ct.preprocess()"
   ]
  },
  {
   "cell_type": "code",
   "execution_count": null,
   "id": "8fc0de9e",
   "metadata": {},
   "outputs": [],
   "source": [
    "xmin = 500\n",
    "ymin = 0\n",
    "xmax = 1600\n",
    "ymax = 2047"
   ]
  },
  {
   "cell_type": "code",
   "execution_count": null,
   "id": "ee1b0b59",
   "metadata": {},
   "outputs": [],
   "source": [
    "%%time\n",
    "ct.recon(crop_window=(xmin, ymin, xmax, ymax))"
   ]
  },
  {
   "cell_type": "code",
   "execution_count": null,
   "id": "bbea1777",
   "metadata": {},
   "outputs": [],
   "source": []
  }
 ],
 "metadata": {
  "kernelspec": {
   "display_name": "Python 3 (ipykernel)",
   "language": "python",
   "name": "python3"
  }
 },
 "nbformat": 4,
 "nbformat_minor": 5
}
