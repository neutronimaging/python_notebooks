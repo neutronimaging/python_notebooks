{
 "cells": [
  {
   "cell_type": "markdown",
   "id": "041d9e7e",
   "metadata": {},
   "source": [
    "[![Notebook Tutorial](__code/__all/notebook_tutorial.png)](https://neutronimaging.pages.ornl.gov/tutorial/notebooks/fix_images)\n",
    "\n",
    "<img src='__docs/__all/notebook_rules.png' />"
   ]
  },
  {
   "cell_type": "markdown",
   "id": "9e6ea08b",
   "metadata": {
    "run_control": {
     "frozen": false,
     "read_only": false
    }
   },
   "source": [
    "# Select Your IPTS"
   ]
  },
  {
   "cell_type": "code",
   "execution_count": null,
   "id": "a816c8bf",
   "metadata": {
    "run_control": {
     "frozen": false,
     "read_only": false
    }
   },
   "outputs": [],
   "source": [
    "import warnings\n",
    "warnings.filterwarnings('ignore')\n",
    "\n",
    "from __code.fix_images import FixImages\n",
    "\n",
    "%matplotlib notebook\n",
    "from __code import system\n",
    "system.System.select_working_dir()\n",
    "\n",
    "from __code.__all import custom_style\n",
    "custom_style.style()"
   ]
  },
  {
   "cell_type": "markdown",
   "id": "10604296",
   "metadata": {
    "run_control": {
     "frozen": false,
     "read_only": false
    }
   },
   "source": [
    "# Select Images"
   ]
  },
  {
   "cell_type": "code",
   "execution_count": null,
   "id": "866e7276",
   "metadata": {
    "run_control": {
     "frozen": false,
     "read_only": false
    }
   },
   "outputs": [],
   "source": [
    "_o_fix = FixImages(working_dir=system.System.get_working_dir())\n",
    "_o_fix.select_images()"
   ]
  },
  {
   "cell_type": "markdown",
   "id": "663cd7e6",
   "metadata": {
    "run_control": {
     "frozen": false,
     "read_only": false
    }
   },
   "source": [
    "# Give statistics "
   ]
  },
  {
   "cell_type": "code",
   "execution_count": null,
   "id": "56c27745",
   "metadata": {
    "run_control": {
     "frozen": false,
     "read_only": false
    }
   },
   "outputs": [],
   "source": [
    "_o_fix.load()\n",
    "_o_fix.give_statistics()"
   ]
  },
  {
   "cell_type": "markdown",
   "id": "b44171fd",
   "metadata": {
    "run_control": {
     "frozen": false,
     "read_only": false
    }
   },
   "source": [
    "# Display Images and Histograms "
   ]
  },
  {
   "cell_type": "code",
   "execution_count": null,
   "id": "c0cc8a8a",
   "metadata": {
    "run_control": {
     "frozen": false,
     "read_only": false
    }
   },
   "outputs": [],
   "source": [
    "_o_fix.display_and_fix()"
   ]
  },
  {
   "cell_type": "markdown",
   "id": "ef5ec403",
   "metadata": {
    "run_control": {
     "frozen": false,
     "read_only": false
    }
   },
   "source": [
    "# Export Images"
   ]
  },
  {
   "cell_type": "code",
   "execution_count": null,
   "id": "03fc9239",
   "metadata": {
    "run_control": {
     "frozen": false,
     "read_only": false
    }
   },
   "outputs": [],
   "source": [
    "_o_fix.select_folder_and_export_images()"
   ]
  },
  {
   "cell_type": "code",
   "execution_count": null,
   "id": "233f0f7f",
   "metadata": {
    "run_control": {
     "frozen": false,
     "read_only": false
    }
   },
   "outputs": [],
   "source": []
  }
 ],
 "metadata": {
  "kernelspec": {
   "display_name": "Python 3",
   "language": "python",
   "name": "python3"
  }
 },
 "nbformat": 4,
 "nbformat_minor": 5
}
