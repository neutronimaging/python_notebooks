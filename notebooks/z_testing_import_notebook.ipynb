{
 "cells": [
  {
   "cell_type": "markdown",
   "id": "cec7a49a",
   "metadata": {},
   "source": [
    "# Testing all imports\n",
    "\n",
    "Last release: 12/16/22 "
   ]
  },
  {
   "cell_type": "code",
   "execution_count": null,
   "id": "a2150b32",
   "metadata": {},
   "outputs": [],
   "source": [
    "from __code import system\n",
    "system.System.select_working_dir()\n",
    "from __code.__all import custom_style\n",
    "custom_style.style()"
   ]
  },
  {
   "cell_type": "markdown",
   "id": "e978388b",
   "metadata": {},
   "source": [
    "* [bin images](bin_images.ipynb)"
   ]
  },
  {
   "cell_type": "code",
   "execution_count": null,
   "id": "bf778e62",
   "metadata": {},
   "outputs": [],
   "source": [
    "from __code.bin_images import BinHandler"
   ]
  },
  {
   "cell_type": "markdown",
   "id": "e2e38d18",
   "metadata": {},
   "source": [
    "* [bragg edge normalization](bragg_edge_normalization.ipynb)    "
   ]
  },
  {
   "cell_type": "code",
   "execution_count": null,
   "id": "c0f5c4c9",
   "metadata": {},
   "outputs": [],
   "source": [
    "from __code.bragg_edge.bragg_edge_normalization import BraggEdge"
   ]
  },
  {
   "cell_type": "markdown",
   "id": "cdf6f4af",
   "metadata": {},
   "source": [
    "* [bragg edge normalized sample and powder](bragg_edge_normalized_sample_and_powder.ipynb)"
   ]
  },
  {
   "cell_type": "code",
   "execution_count": null,
   "id": "86807f12",
   "metadata": {},
   "outputs": [],
   "source": [
    "from __code.bragg_edge.bragg_edge import BraggEdge, Interface"
   ]
  },
  {
   "cell_type": "markdown",
   "id": "dac575ce",
   "metadata": {},
   "source": [
    "* [bragg edge raw sample and powder](bragg_edge_raw_sample_and_powder.ipynb)"
   ]
  },
  {
   "cell_type": "code",
   "execution_count": null,
   "id": "abc5cab3",
   "metadata": {},
   "outputs": [],
   "source": [
    "from __code.bragg_edge.bragg_edge_raw_sample_and_powder import BraggEdge\n",
    "from __code.bragg_edge.bragg_edge import Interface"
   ]
  },
  {
   "cell_type": "markdown",
   "id": "a33ab420",
   "metadata": {},
   "source": [
    "* [bragg edge profile](bragg_edge_profile.ipynb)"
   ]
  },
  {
   "cell_type": "code",
   "execution_count": null,
   "id": "eda2a4e6",
   "metadata": {},
   "outputs": [],
   "source": [
    "from __code.bragg_edge.bragg_edge_normalization import BraggEdge\n",
    "from __code.bragg_edge.bragg_edge import Interface"
   ]
  },
  {
   "cell_type": "markdown",
   "id": "1dd4ffb1",
   "metadata": {},
   "source": [
    "* [list element bragg edges](list_element_bragg_edges.ipynb)"
   ]
  },
  {
   "cell_type": "code",
   "execution_count": null,
   "id": "5585bda3",
   "metadata": {},
   "outputs": [],
   "source": [
    "from __code.bragg_edge.bragg_edge import BraggEdge, Interface"
   ]
  },
  {
   "cell_type": "markdown",
   "id": "3afb8721",
   "metadata": {},
   "source": [
    "* [calibrated transmission](calibrated_transmission.ipynb)"
   ]
  },
  {
   "cell_type": "code",
   "execution_count": null,
   "id": "af801e50",
   "metadata": {},
   "outputs": [],
   "source": [
    "from __code.ui_builder import UiBuilder\n",
    "o_builder = UiBuilder(ui_name = 'ui_calibrated_transmission.ui')\n",
    "\n",
    "from __code.ipywe.myfileselector import FileSelection\n",
    "from __code.calibrated_transmission import CalibratedTransmissionUi"
   ]
  },
  {
   "cell_type": "markdown",
   "id": "9d3c3d59",
   "metadata": {},
   "source": [
    "* [circular profile of a ring](circular_profile_of_a_ring.ipynb)"
   ]
  },
  {
   "cell_type": "code",
   "execution_count": null,
   "id": "91aebbf1",
   "metadata": {},
   "outputs": [],
   "source": [
    "from __code.circular_profile_of_a_ring.interface_handler import InterfaceHandler\n",
    "from __code.circular_profile_of_a_ring.circular_profile_of_a_ring import CircularProfileOfARing"
   ]
  },
  {
   "cell_type": "markdown",
   "id": "7ae3209d",
   "metadata": {},
   "source": [
    "* [combine all images selected](combine_all_images_selected.ipynb)"
   ]
  },
  {
   "cell_type": "code",
   "execution_count": null,
   "id": "6f19d5f5",
   "metadata": {},
   "outputs": [],
   "source": [
    "from __code.combine_images import CombineImages"
   ]
  },
  {
   "cell_type": "markdown",
   "id": "eb7b8611",
   "metadata": {},
   "source": [
    "* [combine folders](combine_folders.ipynb)"
   ]
  },
  {
   "cell_type": "code",
   "execution_count": null,
   "id": "1d0d016f",
   "metadata": {},
   "outputs": [],
   "source": [
    "from __code.combine_folders import CombineFolders"
   ]
  },
  {
   "cell_type": "markdown",
   "id": "ade0525e",
   "metadata": {},
   "source": [
    "* [combine images n by n](combine_images_n_by_n.ipynb)"
   ]
  },
  {
   "cell_type": "code",
   "execution_count": null,
   "id": "a2ae1ff4",
   "metadata": {},
   "outputs": [],
   "source": [
    "from __code.combine_images_n_by_n.combine_images_n_by_n import CombineImagesNByN as CombineImages"
   ]
  },
  {
   "cell_type": "markdown",
   "id": "732561ec",
   "metadata": {},
   "source": [
    "* [combine images without outliers](combine_images_without_outliers.ipynb)"
   ]
  },
  {
   "cell_type": "code",
   "execution_count": null,
   "id": "926b32b4",
   "metadata": {},
   "outputs": [],
   "source": [
    "from __code.combine_images_without_outliers.combine_images import Interface"
   ]
  },
  {
   "cell_type": "markdown",
   "id": "d8562dac",
   "metadata": {},
   "source": [
    "* [create list of file name vs time stamp](create_list_of_file_name_vs_time_stamp.ipynb)"
   ]
  },
  {
   "cell_type": "code",
   "execution_count": null,
   "id": "6fb83a08",
   "metadata": {},
   "outputs": [],
   "source": [
    "from __code.create_list_of_file_name_vs_time_stamp import CreateListFileName"
   ]
  },
  {
   "cell_type": "markdown",
   "id": "7b21e0a3",
   "metadata": {},
   "source": [
    "* [cylindrical geometry correction](cylindrical_geometry_correction.ipynb)"
   ]
  },
  {
   "cell_type": "code",
   "execution_count": null,
   "id": "b3cbc214",
   "metadata": {},
   "outputs": [],
   "source": [
    "from __code.ui_builder import UiBuilder\n",
    "o_builder = UiBuilder(ui_name = 'ui_profile.ui')\n",
    "from __code.ipywe.myfileselector import FileSelection\n",
    "from __code.profile import ProfileUi"
   ]
  },
  {
   "cell_type": "markdown",
   "id": "e03a256d",
   "metadata": {},
   "source": [
    "* [deal images](deal_images.ipynb)"
   ]
  },
  {
   "cell_type": "code",
   "execution_count": null,
   "id": "e1376908",
   "metadata": {},
   "outputs": [],
   "source": [
    "from __code.deal import Deal"
   ]
  },
  {
   "cell_type": "markdown",
   "id": "914fd159",
   "metadata": {},
   "source": [
    "* [display and export images with metadata profile](display_and_export_images_with_metadata_profile.ipynb)"
   ]
  },
  {
   "cell_type": "code",
   "execution_count": null,
   "id": "35d247e7",
   "metadata": {},
   "outputs": [],
   "source": [
    "from __code.display_and_export_images_with_metadata_profile import DisplayExportScreenshots"
   ]
  },
  {
   "cell_type": "markdown",
   "id": "06732e0e",
   "metadata": {},
   "source": [
    "* [display and export images with timestamp](display_and_export_images_with_timestamp.ipynb)"
   ]
  },
  {
   "cell_type": "code",
   "execution_count": null,
   "id": "66c9d055",
   "metadata": {},
   "outputs": [],
   "source": [
    "from __code.display_and_export_images_with_time_stamp import DisplayExportScreenshots"
   ]
  },
  {
   "cell_type": "markdown",
   "id": "ab17a400",
   "metadata": {},
   "source": [
    "* [display counts of region vs stack](display_counts_of_region_vs_stack.ipynb)"
   ]
  },
  {
   "cell_type": "code",
   "execution_count": null,
   "id": "cc77d9a0",
   "metadata": {},
   "outputs": [],
   "source": [
    "from __code.ui_builder import UiBuilder\n",
    "o_builder = UiBuilder(ui_name = 'ui_display_counts_of_region_vs_stack.ui')\n",
    "\n",
    "from __code.display_counts_of_region_vs_stack import ImageWindow, DisplayCountsVsStack"
   ]
  },
  {
   "cell_type": "markdown",
   "id": "0b9b2186",
   "metadata": {},
   "source": [
    "* [display file names vs time stamp](display_file_names_vs_time_stamp.ipynb)"
   ]
  },
  {
   "cell_type": "code",
   "execution_count": null,
   "id": "2445c3f0",
   "metadata": {},
   "outputs": [],
   "source": [
    "from __code.display_file_names_vs_time_stamp import DisplayFileNamesVsTimeStamp"
   ]
  },
  {
   "cell_type": "markdown",
   "id": "fb3de9f1",
   "metadata": {},
   "source": [
    "* [display integrated stack of images](display_integrated_stack_of_images.ipynb)"
   ]
  },
  {
   "cell_type": "code",
   "execution_count": null,
   "id": "ec290889",
   "metadata": {},
   "outputs": [],
   "source": [
    "from __code.display_integrated_stack_of_images import DisplayIntegratedStackOfImages"
   ]
  },
  {
   "cell_type": "markdown",
   "id": "8bec10cd",
   "metadata": {},
   "source": [
    "* [dual energy](dual_energy.ipynb)"
   ]
  },
  {
   "cell_type": "code",
   "execution_count": null,
   "id": "946fb6be",
   "metadata": {},
   "outputs": [],
   "source": [
    "from __code.dual_energy.dual_energy import Interface, DualEnergy"
   ]
  },
  {
   "cell_type": "markdown",
   "id": "71cf9c6a",
   "metadata": {},
   "source": [
    "* [extract evenly spaced files](extract_evenly_spaced_files.ipynb)"
   ]
  },
  {
   "cell_type": "code",
   "execution_count": null,
   "id": "1a17df55",
   "metadata": {},
   "outputs": [],
   "source": [
    "from __code.extract_evenly_spaced_files.main import ExtractEvenlySpacedFiles as EESF\n",
    "from __code.extract_evenly_spaced_files.interface_handler import Interface"
   ]
  },
  {
   "cell_type": "markdown",
   "id": "7826c7af",
   "metadata": {},
   "source": [
    "* [extract NeXus daslogs](extract_nexus_daslogs.ipynb)"
   ]
  },
  {
   "cell_type": "code",
   "execution_count": null,
   "id": "7d5dd1fd",
   "metadata": {},
   "outputs": [],
   "source": [
    "from __code.extract_nexus_daslogs import extract"
   ]
  },
  {
   "cell_type": "markdown",
   "id": "921ce9d5",
   "metadata": {},
   "source": [
    "* [fix images](fix_images.ipynb)"
   ]
  },
  {
   "cell_type": "code",
   "execution_count": null,
   "id": "a08ad42b",
   "metadata": {},
   "outputs": [],
   "source": [
    "from __code.fix_images import FixImages"
   ]
  },
  {
   "cell_type": "markdown",
   "id": "02e3e022",
   "metadata": {},
   "source": [
    "* [fix images with negative pixels](fix_images_with_negative_pixels.ipynb)"
   ]
  },
  {
   "cell_type": "code",
   "execution_count": null,
   "id": "58edb09a",
   "metadata": {},
   "outputs": [],
   "source": [
    "from __code.fix_images_with_negative_pixels import FixImages"
   ]
  },
  {
   "cell_type": "markdown",
   "id": "32a84bfa",
   "metadata": {},
   "source": [
    "* [from attenuation to concentration](from_attenuation_to_concentration.ipynb)"
   ]
  },
  {
   "cell_type": "code",
   "execution_count": null,
   "id": "ab7c33f0",
   "metadata": {},
   "outputs": [],
   "source": [
    "from __code.from_attenuation_to_concentration import *"
   ]
  },
  {
   "cell_type": "markdown",
   "id": "1b82c1f8",
   "metadata": {},
   "source": [
    "* [from dsc_time info to ascii file vs time](from_dsc_time_info_to_ascii_file_vs_time.ipynb)"
   ]
  },
  {
   "cell_type": "code",
   "execution_count": null,
   "id": "f33d4743",
   "metadata": {},
   "outputs": [],
   "source": [
    "from __code.from_dsc_time_info_to_ascii_file_vs_time import CreateExportTimeStamp"
   ]
  },
  {
   "cell_type": "markdown",
   "id": "b04ddc6e",
   "metadata": {},
   "source": [
    "* [group images by cycle for panoramic stitching](group_images_by_cycle_for_panoramic_stitching.ipynb)"
   ]
  },
  {
   "cell_type": "code",
   "execution_count": null,
   "id": "fdf6ec85",
   "metadata": {},
   "outputs": [],
   "source": [
    "from __code.group_images_by_cycle_for_panoramic_stitching.group_images import GroupImages  "
   ]
  },
  {
   "cell_type": "markdown",
   "id": "6588fb72",
   "metadata": {},
   "source": [
    "* [group_images_by_cycle_for_grating_experiment](group_images_by_cycle_for_grating_experiment.ipynb)"
   ]
  },
  {
   "cell_type": "code",
   "execution_count": null,
   "id": "2e736f6d",
   "metadata": {},
   "outputs": [],
   "source": [
    "from __code.group_images_by_cycle_for_grating_experiment.group_images import GroupImages"
   ]
  },
  {
   "cell_type": "markdown",
   "id": "0be05763",
   "metadata": {},
   "source": [
    "* [HFIR reactor element analysis](hfir_reactor_element_analysis.ipynb)"
   ]
  },
  {
   "cell_type": "code",
   "execution_count": null,
   "id": "57c76aa2",
   "metadata": {},
   "outputs": [],
   "source": [
    "from __code.hfir_reactor_element_analysis.hfir_reactor_element_analysis import HfirReactorElementAnalysis\n",
    "from __code.hfir_reactor_element_analysis.interface_handler import InterfaceHandler"
   ]
  },
  {
   "cell_type": "markdown",
   "id": "f3c84549",
   "metadata": {},
   "source": [
    "* [images and metadata extrapolation matcher](images_and_metadata_extrapolation_matcher.ipynb)"
   ]
  },
  {
   "cell_type": "code",
   "execution_count": null,
   "id": "731c0ed5",
   "metadata": {},
   "outputs": [],
   "source": [
    "from __code.select_files_and_folders import SelectAsciiFile, SelectFolder\n",
    "from __code.images_and_metadata_extrapolation_matcher import ImagesAndMetadataExtrapolationMatcher"
   ]
  },
  {
   "cell_type": "markdown",
   "id": "39bb7914",
   "metadata": {},
   "source": [
    "* [integrated roi counts vs file name and time stamp](integrated_roi_counts_vs_file_name_and_time_stamp.ipynb)"
   ]
  },
  {
   "cell_type": "code",
   "execution_count": null,
   "id": "6626ec9c",
   "metadata": {},
   "outputs": [],
   "source": [
    "o_builder = UiBuilder(ui_name = 'ui_integrated_roi_counts_vs_file_name_and_time_stamp.ui')\n",
    "from __code.ipywe.myfileselector import FileSelection\n",
    "from __code.integrated_roi_counts_vs_file_name_and_time_stamp import IntegratedRoiUi"
   ]
  },
  {
   "cell_type": "markdown",
   "id": "965df8f4",
   "metadata": {},
   "source": [
    "* [list element bragg edges](list_element_bragg_edges.ipynb)"
   ]
  },
  {
   "cell_type": "code",
   "execution_count": null,
   "id": "62dba027",
   "metadata": {},
   "outputs": [],
   "source": [
    "from __code.bragg_edge.bragg_edge import BraggEdge, Interface"
   ]
  },
  {
   "cell_type": "markdown",
   "id": "fbc44a42",
   "metadata": {},
   "source": [
    "* [list metadata and time with oncat](list_metadata_and_time_with_oncat.ipynb)"
   ]
  },
  {
   "cell_type": "code",
   "execution_count": null,
   "id": "957f7c66",
   "metadata": {},
   "outputs": [],
   "source": [
    "from __code.select_files_and_folders import SelectFiles, SelectFolder\n",
    "from __code.list_metadata_and_time_with_oncat import ListMetadata"
   ]
  },
  {
   "cell_type": "markdown",
   "id": "3dc69e03",
   "metadata": {},
   "source": [
    "* [list tiff metadata](list_tiff_metadata.ipynb)"
   ]
  },
  {
   "cell_type": "code",
   "execution_count": null,
   "id": "1be1963d",
   "metadata": {},
   "outputs": [],
   "source": [
    "from __code.select_metadata_to_display import DisplayMetadata"
   ]
  },
  {
   "cell_type": "markdown",
   "id": "554f8490",
   "metadata": {},
   "source": [
    "* [math images](math_images.ipynb)"
   ]
  },
  {
   "cell_type": "code",
   "execution_count": null,
   "id": "ede014a5",
   "metadata": {},
   "outputs": [],
   "source": [
    "from __code.math_images import MathImages"
   ]
  },
  {
   "cell_type": "markdown",
   "id": "0ea76799",
   "metadata": {},
   "source": [
    "* [mcp chips corrector](mcp_chips_corrector.ipynb)"
   ]
  },
  {
   "cell_type": "code",
   "execution_count": null,
   "id": "75346f69",
   "metadata": {},
   "outputs": [],
   "source": [
    "from __code.mcp_chips_corrector.mcp_chips_corrector import McpChipsCorrector\n",
    "from __code.mcp_chips_corrector.interface import Interface"
   ]
  },
  {
   "cell_type": "markdown",
   "id": "21ce0c75",
   "metadata": {},
   "source": [
    "* [metadata ascii parser](metadata_ascii_parser.ipynb)"
   ]
  },
  {
   "cell_type": "code",
   "execution_count": null,
   "id": "0a9ce337",
   "metadata": {},
   "outputs": [],
   "source": [
    "from __code.metadata_ascii_parser import *"
   ]
  },
  {
   "cell_type": "markdown",
   "id": "7060c8be",
   "metadata": {},
   "source": [
    "* [metadata overlapping images](metadata_overlapping_images.ipynb)"
   ]
  },
  {
   "cell_type": "code",
   "execution_count": null,
   "id": "c815ec5a",
   "metadata": {},
   "outputs": [],
   "source": [
    "from __code.ipywe.myfileselector import FileSelection\n",
    "from __code.metadata_overlapping_images.metadata_overlapping_images import MetadataOverlappingImagesUi"
   ]
  },
  {
   "cell_type": "markdown",
   "id": "c05f175a",
   "metadata": {},
   "source": [
    "* [normalization](normalization.ipynb)"
   ]
  },
  {
   "cell_type": "code",
   "execution_count": null,
   "id": "4c3ed33a",
   "metadata": {},
   "outputs": [],
   "source": [
    "from __code.normalization.normalization import *\n",
    "from __code.roi_selection_ui import Interface"
   ]
  },
  {
   "cell_type": "markdown",
   "id": "2bd15ee8",
   "metadata": {},
   "source": [
    "* [normalization with simplify selection](normalization_with_simplify_selection.ipynb)"
   ]
  },
  {
   "cell_type": "code",
   "execution_count": null,
   "id": "af40b4e2",
   "metadata": {},
   "outputs": [],
   "source": [
    "from __code.normalization.normalization_with_simplify_selection import NormalizationWithSimplifySelection"
   ]
  },
  {
   "cell_type": "markdown",
   "id": "5e854232",
   "metadata": {},
   "source": [
    "* [outliers filtering](outliers_filtering_tool.ipynb)"
   ]
  },
  {
   "cell_type": "code",
   "execution_count": null,
   "id": "544f611d",
   "metadata": {},
   "outputs": [],
   "source": [
    "from __code.outliers_filtering.main import Interface, InterfaceHandler"
   ]
  },
  {
   "cell_type": "markdown",
   "id": "b1b28d52",
   "metadata": {},
   "source": [
    "* [overlay images](overlay_images.ipynb)"
   ]
  },
  {
   "cell_type": "code",
   "execution_count": null,
   "id": "0083413b",
   "metadata": {},
   "outputs": [],
   "source": [
    "from __code.overlay_images.interface_handler import InterfaceHandler\n",
    "from __code.overlay_images.overlay_images import OverlayImages"
   ]
  },
  {
   "cell_type": "markdown",
   "id": "41b8f8d8",
   "metadata": {},
   "source": [
    "* [panoramic stitching](panoramic_stitching.ipynb)"
   ]
  },
  {
   "cell_type": "code",
   "execution_count": null,
   "id": "57f77748",
   "metadata": {},
   "outputs": [],
   "source": [
    "from __code.panoramic_stitching.panoramic_stitching import PanoramicStitching"
   ]
  },
  {
   "cell_type": "markdown",
   "id": "8188cd8b",
   "metadata": {},
   "source": [
    "* [panoramic stitching for tof](panoramic_stitching_for_tof.ipynb)"
   ]
  },
  {
   "cell_type": "code",
   "execution_count": null,
   "id": "44b0f94a",
   "metadata": {},
   "outputs": [],
   "source": [
    "from __code.panoramic_stitching_for_tof.panoramic_stitching_for_tof import PanoramicStitching"
   ]
  },
  {
   "cell_type": "markdown",
   "id": "373646a4",
   "metadata": {},
   "source": [
    "* [bragg edge profile](bragg_edge_profile.ipynb)"
   ]
  },
  {
   "cell_type": "code",
   "execution_count": null,
   "id": "c1a0bd29",
   "metadata": {},
   "outputs": [],
   "source": [
    "from __code.bragg_edge.bragg_edge_normalization import BraggEdge\n",
    "from __code.bragg_edge.bragg_edge import Interface"
   ]
  },
  {
   "cell_type": "markdown",
   "id": "e756f36b",
   "metadata": {},
   "source": [
    "* [profile](profile.ipynb)"
   ]
  },
  {
   "cell_type": "code",
   "execution_count": null,
   "id": "f80f7a41",
   "metadata": {},
   "outputs": [],
   "source": [
    "o_builder = UiBuilder(ui_name = 'ui_profile.ui')\n",
    "from __code.ipywe.myfileselector import FileSelection\n",
    "from __code.profile import ProfileUi"
   ]
  },
  {
   "cell_type": "markdown",
   "id": "fdad8580",
   "metadata": {},
   "source": [
    "* [radial profile](radial_profile.ipynb)"
   ]
  },
  {
   "cell_type": "code",
   "execution_count": null,
   "id": "6b20eb36",
   "metadata": {},
   "outputs": [],
   "source": [
    "from __code.ipywe.myfileselector import FileSelection\n",
    "from __code.radial_profile.radial_profile import RadialProfile, SelectRadialParameters"
   ]
  },
  {
   "cell_type": "markdown",
   "id": "b241f827",
   "metadata": {},
   "source": [
    "* [water intake profile_calculator](water_intake_profile_calculator.ipynb)"
   ]
  },
  {
   "cell_type": "code",
   "execution_count": null,
   "id": "1b73359f",
   "metadata": {},
   "outputs": [],
   "source": [
    "o_builder = UiBuilder(ui_name = 'ui_water_intake_profile.ui')\n",
    "from __code.roi_selection_ui import Interface\n",
    "from __code.water_intake_profile_calculator import WaterIntakeProfileCalculator, WaterIntakeProfileSelector"
   ]
  },
  {
   "cell_type": "markdown",
   "id": "8c946ddd",
   "metadata": {},
   "source": [
    "* [radial profile](radial_profile.ipynb)"
   ]
  },
  {
   "cell_type": "code",
   "execution_count": null,
   "id": "70cefb16",
   "metadata": {},
   "outputs": [],
   "source": [
    "from __code.radial_profile.radial_profile import RadialProfile, SelectRadialParameters"
   ]
  },
  {
   "cell_type": "markdown",
   "id": "28779784",
   "metadata": {},
   "source": [
    "* [registration](registration.ipynb)"
   ]
  },
  {
   "cell_type": "code",
   "execution_count": null,
   "id": "a2cc846f",
   "metadata": {},
   "outputs": [],
   "source": [
    "from __code.registration.registration import RegistrationUi"
   ]
  },
  {
   "cell_type": "markdown",
   "id": "a6725cee",
   "metadata": {},
   "source": [
    "* [rename files](rename_files.ipynb)"
   ]
  },
  {
   "cell_type": "code",
   "execution_count": null,
   "id": "ceea4542",
   "metadata": {},
   "outputs": [],
   "source": [
    "from __code.rename_files.rename_files import NamingSchemaDefinition, FormatFileNameIndex"
   ]
  },
  {
   "cell_type": "markdown",
   "id": "8908f31d",
   "metadata": {},
   "source": [
    "* [resonance imaging experiment vs theory](resonance_imaging_experiment_vs_theory.ipynb)"
   ]
  },
  {
   "cell_type": "code",
   "execution_count": null,
   "id": "edf64a59",
   "metadata": {},
   "outputs": [],
   "source": [
    "o_builder = UiBuilder(ui_name = 'ui_resonance_imaging_experiment_vs_theory.ui')\n",
    "o_builder = UiBuilder(ui_name = 'ui_resonance_imaging_layers_input.ui')\n",
    "\n",
    "from __code import file_handler, utilities\n",
    "from __code.display_counts_of_region_vs_stack_vs_theory import ImageWindow\n",
    "from __code.display_imaging_resonance_sample_definition import SampleWindow\n",
    "from NeuNorm.normalization import Normalization\n",
    "from __code.ipywe import fileselector"
   ]
  },
  {
   "cell_type": "markdown",
   "id": "1e3c5a3b",
   "metadata": {},
   "source": [
    "* [roi statistics for a stack of images](roi_statistics_vs_stack.ipynb)"
   ]
  },
  {
   "cell_type": "code",
   "execution_count": null,
   "id": "23905125",
   "metadata": {},
   "outputs": [],
   "source": [
    "from __code.roi_statistics_vs_stack.main import ImageWindow, FileHandler"
   ]
  },
  {
   "cell_type": "markdown",
   "id": "2e22fbdd",
   "metadata": {},
   "source": [
    "* [rotate and crop images](rotate_and_crop_images.ipynb)"
   ]
  },
  {
   "cell_type": "code",
   "execution_count": null,
   "id": "ee152dbc",
   "metadata": {},
   "outputs": [],
   "source": [
    "o_builder = UiBuilder(ui_name = 'ui_rotate_and_crop.ui')\n",
    "from __code.load_images import LoadImages\n",
    "from __code.rotate_and_crop_images import RotateAndCropImages, Export"
   ]
  },
  {
   "cell_type": "markdown",
   "id": "8647a6b2",
   "metadata": {},
   "source": [
    "* [scale overlapping images](scale_overlapping_images.ipynb)"
   ]
  },
  {
   "cell_type": "code",
   "execution_count": null,
   "id": "3f34c9e6",
   "metadata": {},
   "outputs": [],
   "source": [
    "o_builder = UiBuilder(ui_name = 'ui_scale_overlapping_images.ui')\n",
    "from __code.ipywe.myfileselector import FileSelection"
   ]
  },
  {
   "cell_type": "markdown",
   "id": "d1e4b4e7",
   "metadata": {},
   "source": [
    "* [sequential combine images using metadata](sequential_combine_images_using_metadata.ipynb)"
   ]
  },
  {
   "cell_type": "code",
   "execution_count": null,
   "id": "e2687b79",
   "metadata": {},
   "outputs": [],
   "source": [
    "from __code.sequential_combine_images_using_metadata import SequentialCombineImagesUsingMetadata"
   ]
  },
  {
   "cell_type": "markdown",
   "id": "54f9637b",
   "metadata": {},
   "source": [
    "* [shifting time offset](shifting_time_offset.ipynb)"
   ]
  },
  {
   "cell_type": "code",
   "execution_count": null,
   "id": "661611cb",
   "metadata": {},
   "outputs": [],
   "source": [
    "from __code.select_files_and_folders import SelectFiles, SelectFolder\n",
    "from __code.shifting_time_offset import ShiftTimeOffset"
   ]
  },
  {
   "cell_type": "markdown",
   "id": "ba47de05",
   "metadata": {},
   "source": [
    "* [water intake profile_calculator](water_intake_profile_calculator.ipynb)"
   ]
  },
  {
   "cell_type": "code",
   "execution_count": null,
   "id": "61be5319",
   "metadata": {},
   "outputs": [],
   "source": [
    "o_builder = UiBuilder(ui_name = 'ui_water_intake_profile.ui')\n",
    "from __code.water_intake_profile_calculator import WaterIntakeProfileCalculator, WaterIntakeProfileSelector"
   ]
  },
  {
   "cell_type": "markdown",
   "id": "3b244142",
   "metadata": {},
   "source": [
    "* [wave front dynamics](wave_front_dynamics.ipynb)"
   ]
  },
  {
   "cell_type": "code",
   "execution_count": null,
   "id": "801fe60e",
   "metadata": {},
   "outputs": [],
   "source": [
    "from __code.wave_front_dynamics.wave_front_dynamics import WaveFrontDynamics, WaveFrontDynamicsUI"
   ]
  },
  {
   "cell_type": "code",
   "execution_count": null,
   "id": "dc0dc50e",
   "metadata": {},
   "outputs": [],
   "source": []
  }
 ],
 "metadata": {
  "kernelspec": {
   "display_name": "Python 3 (ipykernel)",
   "language": "python",
   "name": "python3"
  },
  "language_info": {
   "codemirror_mode": {
    "name": "ipython",
    "version": 3
   },
   "file_extension": ".py",
   "mimetype": "text/x-python",
   "name": "python",
   "nbconvert_exporter": "python",
   "pygments_lexer": "ipython3",
   "version": "3.8.15"
  }
 },
 "nbformat": 4,
 "nbformat_minor": 5
}
