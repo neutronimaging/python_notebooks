{
 "cells": [
  {
   "cell_type": "markdown",
   "id": "0",
   "metadata": {},
   "source": [
    "# Testing all imports\n",
    "\n",
    "Last release: 12/16/22 "
   ]
  },
  {
   "cell_type": "code",
   "execution_count": null,
   "id": "1",
   "metadata": {},
   "outputs": [],
   "source": [
    "from __code import system\n",
    "system.System.select_working_dir()\n",
    "from __code.__all import custom_style\n",
    "custom_style.style()"
   ]
  },
  {
   "cell_type": "markdown",
   "id": "2",
   "metadata": {},
   "source": [
    "* [bin images](bin_images.ipynb)"
   ]
  },
  {
   "cell_type": "code",
   "execution_count": null,
   "id": "3",
   "metadata": {},
   "outputs": [],
   "source": [
    "from __code.bin_images import BinHandler"
   ]
  },
  {
   "cell_type": "markdown",
   "id": "4",
   "metadata": {},
   "source": [
    "* [bragg edge normalization](bragg_edge_normalization.ipynb)    "
   ]
  },
  {
   "cell_type": "code",
   "execution_count": null,
   "id": "5",
   "metadata": {},
   "outputs": [],
   "source": [
    "from __code.bragg_edge.bragg_edge_normalization import BraggEdge"
   ]
  },
  {
   "cell_type": "markdown",
   "id": "6",
   "metadata": {},
   "source": [
    "* [bragg edge normalized sample and powder](bragg_edge_normalized_sample_and_powder.ipynb)"
   ]
  },
  {
   "cell_type": "code",
   "execution_count": null,
   "id": "7",
   "metadata": {},
   "outputs": [],
   "source": [
    "from __code.bragg_edge.bragg_edge import BraggEdge, Interface"
   ]
  },
  {
   "cell_type": "markdown",
   "id": "8",
   "metadata": {},
   "source": [
    "* [bragg edge raw sample and powder](bragg_edge_raw_sample_and_powder.ipynb)"
   ]
  },
  {
   "cell_type": "code",
   "execution_count": null,
   "id": "9",
   "metadata": {},
   "outputs": [],
   "source": [
    "from __code.bragg_edge.bragg_edge_raw_sample_and_powder import BraggEdge\n",
    "from __code.bragg_edge.bragg_edge import Interface"
   ]
  },
  {
   "cell_type": "markdown",
   "id": "10",
   "metadata": {},
   "source": [
    "* [bragg edge profile](bragg_edge_profile.ipynb)"
   ]
  },
  {
   "cell_type": "code",
   "execution_count": null,
   "id": "11",
   "metadata": {},
   "outputs": [],
   "source": [
    "from __code.bragg_edge.bragg_edge_normalization import BraggEdge\n",
    "from __code.bragg_edge.bragg_edge import Interface"
   ]
  },
  {
   "cell_type": "markdown",
   "id": "12",
   "metadata": {},
   "source": [
    "* [list element bragg edges](list_element_bragg_edges.ipynb)"
   ]
  },
  {
   "cell_type": "code",
   "execution_count": null,
   "id": "13",
   "metadata": {},
   "outputs": [],
   "source": [
    "from __code.bragg_edge.bragg_edge import BraggEdge, Interface"
   ]
  },
  {
   "cell_type": "markdown",
   "id": "14",
   "metadata": {},
   "source": [
    "* [calibrated transmission](calibrated_transmission.ipynb)"
   ]
  },
  {
   "cell_type": "code",
   "execution_count": null,
   "id": "15",
   "metadata": {},
   "outputs": [],
   "source": [
    "from __code.ui_builder import UiBuilder\n",
    "o_builder = UiBuilder(ui_name = 'ui_calibrated_transmission.ui')\n",
    "\n",
    "from __code.ipywe.myfileselector import FileSelection\n",
    "from __code.calibrated_transmission import CalibratedTransmissionUi"
   ]
  },
  {
   "cell_type": "markdown",
   "id": "16",
   "metadata": {},
   "source": [
    "* [circular profile of a ring](circular_profile_of_a_ring.ipynb)"
   ]
  },
  {
   "cell_type": "code",
   "execution_count": null,
   "id": "17",
   "metadata": {},
   "outputs": [],
   "source": [
    "from __code.circular_profile_of_a_ring.interface_handler import InterfaceHandler\n",
    "from __code.circular_profile_of_a_ring.circular_profile_of_a_ring import CircularProfileOfARing"
   ]
  },
  {
   "cell_type": "markdown",
   "id": "18",
   "metadata": {},
   "source": [
    "* [combine all images selected](combine_all_images_selected.ipynb)"
   ]
  },
  {
   "cell_type": "code",
   "execution_count": null,
   "id": "19",
   "metadata": {},
   "outputs": [],
   "source": [
    "from __code.combine_images import CombineImages"
   ]
  },
  {
   "cell_type": "markdown",
   "id": "20",
   "metadata": {},
   "source": [
    "* [combine folders](combine_folders.ipynb)"
   ]
  },
  {
   "cell_type": "code",
   "execution_count": null,
   "id": "21",
   "metadata": {},
   "outputs": [],
   "source": [
    "from __code.combine_folders import CombineFolders"
   ]
  },
  {
   "cell_type": "markdown",
   "id": "22",
   "metadata": {},
   "source": [
    "* [combine images n by n](combine_images_n_by_n.ipynb)"
   ]
  },
  {
   "cell_type": "code",
   "execution_count": null,
   "id": "23",
   "metadata": {},
   "outputs": [],
   "source": [
    "from __code.combine_images_n_by_n.combine_images_n_by_n import CombineImagesNByN as CombineImages"
   ]
  },
  {
   "cell_type": "markdown",
   "id": "24",
   "metadata": {},
   "source": [
    "* [combine images without outliers](combine_images_without_outliers.ipynb)"
   ]
  },
  {
   "cell_type": "code",
   "execution_count": null,
   "id": "25",
   "metadata": {},
   "outputs": [],
   "source": [
    "from __code.combine_images_without_outliers.combine_images import Interface"
   ]
  },
  {
   "cell_type": "markdown",
   "id": "26",
   "metadata": {},
   "source": [
    "* [create list of file name vs time stamp](create_list_of_file_name_vs_time_stamp.ipynb)"
   ]
  },
  {
   "cell_type": "code",
   "execution_count": null,
   "id": "27",
   "metadata": {},
   "outputs": [],
   "source": [
    "from __code.create_list_of_file_name_vs_time_stamp import CreateListFileName"
   ]
  },
  {
   "cell_type": "markdown",
   "id": "28",
   "metadata": {},
   "source": [
    "* [cylindrical geometry correction](cylindrical_geometry_correction.ipynb)"
   ]
  },
  {
   "cell_type": "code",
   "execution_count": null,
   "id": "29",
   "metadata": {},
   "outputs": [],
   "source": [
    "from __code.ui_builder import UiBuilder\n",
    "o_builder = UiBuilder(ui_name = 'ui_profile.ui')\n",
    "from __code.ipywe.myfileselector import FileSelection\n",
    "from __code.profile import ProfileUi"
   ]
  },
  {
   "cell_type": "markdown",
   "id": "30",
   "metadata": {},
   "source": [
    "* [deal images](deal_images.ipynb)"
   ]
  },
  {
   "cell_type": "code",
   "execution_count": null,
   "id": "31",
   "metadata": {},
   "outputs": [],
   "source": [
    "from __code.deal import Deal"
   ]
  },
  {
   "cell_type": "markdown",
   "id": "32",
   "metadata": {},
   "source": [
    "* [display and export images with metadata profile](display_and_export_images_with_metadata_profile.ipynb)"
   ]
  },
  {
   "cell_type": "code",
   "execution_count": null,
   "id": "33",
   "metadata": {},
   "outputs": [],
   "source": [
    "from __code.display_and_export_images_with_metadata_profile import DisplayExportScreenshots"
   ]
  },
  {
   "cell_type": "markdown",
   "id": "34",
   "metadata": {},
   "source": [
    "* [display and export images with timestamp](display_and_export_images_with_timestamp.ipynb)"
   ]
  },
  {
   "cell_type": "code",
   "execution_count": null,
   "id": "35",
   "metadata": {},
   "outputs": [],
   "source": [
    "from __code.display_and_export_images_with_time_stamp import DisplayExportScreenshots"
   ]
  },
  {
   "cell_type": "markdown",
   "id": "36",
   "metadata": {},
   "source": [
    "* [display counts of region vs stack](display_counts_of_region_vs_stack.ipynb)"
   ]
  },
  {
   "cell_type": "code",
   "execution_count": null,
   "id": "37",
   "metadata": {},
   "outputs": [],
   "source": [
    "from __code.ui_builder import UiBuilder\n",
    "o_builder = UiBuilder(ui_name = 'ui_display_counts_of_region_vs_stack.ui')\n",
    "\n",
    "from __code.display_counts_of_region_vs_stack import ImageWindow, DisplayCountsVsStack"
   ]
  },
  {
   "cell_type": "markdown",
   "id": "38",
   "metadata": {},
   "source": [
    "* [display file names vs time stamp](display_file_names_vs_time_stamp.ipynb)"
   ]
  },
  {
   "cell_type": "code",
   "execution_count": null,
   "id": "39",
   "metadata": {},
   "outputs": [],
   "source": [
    "from __code.display_file_names_vs_time_stamp import DisplayFileNamesVsTimeStamp"
   ]
  },
  {
   "cell_type": "markdown",
   "id": "40",
   "metadata": {},
   "source": [
    "* [display integrated stack of images](display_integrated_stack_of_images.ipynb)"
   ]
  },
  {
   "cell_type": "code",
   "execution_count": null,
   "id": "41",
   "metadata": {},
   "outputs": [],
   "source": [
    "from __code.display_integrated_stack_of_images import DisplayIntegratedStackOfImages"
   ]
  },
  {
   "cell_type": "markdown",
   "id": "42",
   "metadata": {},
   "source": [
    "* [dual energy](dual_energy.ipynb)"
   ]
  },
  {
   "cell_type": "code",
   "execution_count": null,
   "id": "43",
   "metadata": {},
   "outputs": [],
   "source": [
    "from __code.dual_energy.dual_energy import Interface, DualEnergy"
   ]
  },
  {
   "cell_type": "markdown",
   "id": "44",
   "metadata": {},
   "source": [
    "* [extract evenly spaced files](extract_evenly_spaced_files.ipynb)"
   ]
  },
  {
   "cell_type": "code",
   "execution_count": null,
   "id": "45",
   "metadata": {},
   "outputs": [],
   "source": [
    "from __code.extract_evenly_spaced_files.main import ExtractEvenlySpacedFiles as EESF\n",
    "from __code.extract_evenly_spaced_files.interface_handler import Interface"
   ]
  },
  {
   "cell_type": "markdown",
   "id": "46",
   "metadata": {},
   "source": [
    "* [extract NeXus daslogs](extract_nexus_daslogs.ipynb)"
   ]
  },
  {
   "cell_type": "code",
   "execution_count": null,
   "id": "47",
   "metadata": {},
   "outputs": [],
   "source": [
    "from __code.extract_nexus_daslogs import extract"
   ]
  },
  {
   "cell_type": "markdown",
   "id": "48",
   "metadata": {},
   "source": [
    "* [fix images](fix_images.ipynb)"
   ]
  },
  {
   "cell_type": "code",
   "execution_count": null,
   "id": "49",
   "metadata": {},
   "outputs": [],
   "source": [
    "from __code.fix_images import FixImages"
   ]
  },
  {
   "cell_type": "markdown",
   "id": "50",
   "metadata": {},
   "source": [
    "* [fix images with negative pixels](fix_images_with_negative_pixels.ipynb)"
   ]
  },
  {
   "cell_type": "code",
   "execution_count": null,
   "id": "51",
   "metadata": {},
   "outputs": [],
   "source": [
    "from __code.fix_images_with_negative_pixels import FixImages"
   ]
  },
  {
   "cell_type": "markdown",
   "id": "52",
   "metadata": {},
   "source": [
    "* [from attenuation to concentration](from_attenuation_to_concentration.ipynb)"
   ]
  },
  {
   "cell_type": "code",
   "execution_count": null,
   "id": "53",
   "metadata": {},
   "outputs": [],
   "source": [
    "from __code.from_attenuation_to_concentration import *"
   ]
  },
  {
   "cell_type": "markdown",
   "id": "54",
   "metadata": {},
   "source": [
    "* [from dsc_time info to ascii file vs time](from_dsc_time_info_to_ascii_file_vs_time.ipynb)"
   ]
  },
  {
   "cell_type": "code",
   "execution_count": null,
   "id": "55",
   "metadata": {},
   "outputs": [],
   "source": [
    "from __code.from_dsc_time_info_to_ascii_file_vs_time import CreateExportTimeStamp"
   ]
  },
  {
   "cell_type": "markdown",
   "id": "56",
   "metadata": {},
   "source": [
    "* [group images by cycle for panoramic stitching](group_images_by_cycle_for_panoramic_stitching.ipynb)"
   ]
  },
  {
   "cell_type": "code",
   "execution_count": null,
   "id": "57",
   "metadata": {},
   "outputs": [],
   "source": [
    "from __code.group_images_by_cycle_for_panoramic_stitching.group_images import GroupImages  "
   ]
  },
  {
   "cell_type": "markdown",
   "id": "58",
   "metadata": {},
   "source": [
    "* [group_images_by_cycle_for_grating_experiment](group_images_by_cycle_for_grating_experiment.ipynb)"
   ]
  },
  {
   "cell_type": "code",
   "execution_count": null,
   "id": "59",
   "metadata": {},
   "outputs": [],
   "source": [
    "from __code.group_images_by_cycle_for_grating_experiment.group_images import GroupImages"
   ]
  },
  {
   "cell_type": "markdown",
   "id": "60",
   "metadata": {},
   "source": [
    "* [HFIR reactor element analysis](hfir_reactor_element_analysis.ipynb)"
   ]
  },
  {
   "cell_type": "code",
   "execution_count": null,
   "id": "61",
   "metadata": {},
   "outputs": [],
   "source": [
    "from __code.hfir_reactor_element_analysis.hfir_reactor_element_analysis import HfirReactorElementAnalysis\n",
    "from __code.hfir_reactor_element_analysis.interface_handler import InterfaceHandler"
   ]
  },
  {
   "cell_type": "markdown",
   "id": "62",
   "metadata": {},
   "source": [
    "* [images and metadata extrapolation matcher](images_and_metadata_extrapolation_matcher.ipynb)"
   ]
  },
  {
   "cell_type": "code",
   "execution_count": null,
   "id": "63",
   "metadata": {},
   "outputs": [],
   "source": [
    "from __code.select_files_and_folders import SelectAsciiFile, SelectFolder\n",
    "from __code.images_and_metadata_extrapolation_matcher import ImagesAndMetadataExtrapolationMatcher"
   ]
  },
  {
   "cell_type": "markdown",
   "id": "64",
   "metadata": {},
   "source": [
    "* [integrated roi counts vs file name and time stamp](integrated_roi_counts_vs_file_name_and_time_stamp.ipynb)"
   ]
  },
  {
   "cell_type": "code",
   "execution_count": null,
   "id": "65",
   "metadata": {},
   "outputs": [],
   "source": [
    "o_builder = UiBuilder(ui_name = 'ui_integrated_roi_counts_vs_file_name_and_time_stamp.ui')\n",
    "from __code.ipywe.myfileselector import FileSelection\n",
    "from __code.integrated_roi_counts_vs_file_name_and_time_stamp import IntegratedRoiUi"
   ]
  },
  {
   "cell_type": "markdown",
   "id": "66",
   "metadata": {},
   "source": [
    "* [list element bragg edges](list_element_bragg_edges.ipynb)"
   ]
  },
  {
   "cell_type": "code",
   "execution_count": null,
   "id": "67",
   "metadata": {},
   "outputs": [],
   "source": [
    "from __code.bragg_edge.bragg_edge import BraggEdge, Interface"
   ]
  },
  {
   "cell_type": "markdown",
   "id": "68",
   "metadata": {},
   "source": [
    "* [list metadata and time with oncat](list_metadata_and_time_with_oncat.ipynb)"
   ]
  },
  {
   "cell_type": "code",
   "execution_count": null,
   "id": "69",
   "metadata": {},
   "outputs": [],
   "source": [
    "from __code.select_files_and_folders import SelectFiles, SelectFolder\n",
    "from __code.list_metadata_and_time_with_oncat import ListMetadata"
   ]
  },
  {
   "cell_type": "markdown",
   "id": "70",
   "metadata": {},
   "source": [
    "* [list tiff metadata](list_tiff_metadata.ipynb)"
   ]
  },
  {
   "cell_type": "code",
   "execution_count": null,
   "id": "71",
   "metadata": {},
   "outputs": [],
   "source": [
    "from __code.select_metadata_to_display import DisplayMetadata"
   ]
  },
  {
   "cell_type": "markdown",
   "id": "72",
   "metadata": {},
   "source": [
    "* [math images](math_images.ipynb)"
   ]
  },
  {
   "cell_type": "code",
   "execution_count": null,
   "id": "73",
   "metadata": {},
   "outputs": [],
   "source": [
    "from __code.math_images import MathImages"
   ]
  },
  {
   "cell_type": "markdown",
   "id": "74",
   "metadata": {},
   "source": [
    "* [mcp chips corrector](mcp_chips_corrector.ipynb)"
   ]
  },
  {
   "cell_type": "code",
   "execution_count": null,
   "id": "75",
   "metadata": {},
   "outputs": [],
   "source": [
    "from __code.mcp_chips_corrector.mcp_chips_corrector import McpChipsCorrector\n",
    "from __code.mcp_chips_corrector.interface import Interface"
   ]
  },
  {
   "cell_type": "markdown",
   "id": "76",
   "metadata": {},
   "source": [
    "* [metadata ascii parser](metadata_ascii_parser.ipynb)"
   ]
  },
  {
   "cell_type": "code",
   "execution_count": null,
   "id": "77",
   "metadata": {},
   "outputs": [],
   "source": [
    "from __code.metadata_ascii_parser import *"
   ]
  },
  {
   "cell_type": "markdown",
   "id": "78",
   "metadata": {},
   "source": [
    "* [metadata overlapping images](metadata_overlapping_images.ipynb)"
   ]
  },
  {
   "cell_type": "code",
   "execution_count": null,
   "id": "79",
   "metadata": {},
   "outputs": [],
   "source": [
    "from __code.ipywe.myfileselector import FileSelection\n",
    "from __code.metadata_overlapping_images.metadata_overlapping_images import MetadataOverlappingImagesUi"
   ]
  },
  {
   "cell_type": "markdown",
   "id": "80",
   "metadata": {},
   "source": [
    "* [normalization](normalization.ipynb)"
   ]
  },
  {
   "cell_type": "code",
   "execution_count": null,
   "id": "81",
   "metadata": {},
   "outputs": [],
   "source": [
    "from __code.normalization.normalization import *\n",
    "from __code.roi_selection_ui import Interface"
   ]
  },
  {
   "cell_type": "markdown",
   "id": "82",
   "metadata": {},
   "source": [
    "* [normalization with simplify selection](normalization_with_simplify_selection.ipynb)"
   ]
  },
  {
   "cell_type": "code",
   "execution_count": null,
   "id": "83",
   "metadata": {},
   "outputs": [],
   "source": [
    "from __code.normalization.normalization_with_simplify_selection import NormalizationWithSimplifySelection"
   ]
  },
  {
   "cell_type": "markdown",
   "id": "84",
   "metadata": {},
   "source": [
    "* [outliers filtering](outliers_filtering_tool.ipynb)"
   ]
  },
  {
   "cell_type": "code",
   "execution_count": null,
   "id": "85",
   "metadata": {},
   "outputs": [],
   "source": [
    "from __code.outliers_filtering.main import Interface, InterfaceHandler"
   ]
  },
  {
   "cell_type": "markdown",
   "id": "86",
   "metadata": {},
   "source": [
    "* [overlay images](overlay_images.ipynb)"
   ]
  },
  {
   "cell_type": "code",
   "execution_count": null,
   "id": "87",
   "metadata": {},
   "outputs": [],
   "source": [
    "from __code.overlay_images.interface_handler import InterfaceHandler\n",
    "from __code.overlay_images.overlay_images import OverlayImages"
   ]
  },
  {
   "cell_type": "markdown",
   "id": "88",
   "metadata": {},
   "source": [
    "* [panoramic stitching](panoramic_stitching.ipynb)"
   ]
  },
  {
   "cell_type": "code",
   "execution_count": null,
   "id": "89",
   "metadata": {},
   "outputs": [],
   "source": [
    "from __code.panoramic_stitching.panoramic_stitching import PanoramicStitching"
   ]
  },
  {
   "cell_type": "markdown",
   "id": "90",
   "metadata": {},
   "source": [
    "* [panoramic stitching for tof](panoramic_stitching_for_tof.ipynb)"
   ]
  },
  {
   "cell_type": "code",
   "execution_count": null,
   "id": "91",
   "metadata": {},
   "outputs": [],
   "source": [
    "from __code.panoramic_stitching_for_tof.panoramic_stitching_for_tof import PanoramicStitching"
   ]
  },
  {
   "cell_type": "markdown",
   "id": "92",
   "metadata": {},
   "source": [
    "* [bragg edge profile](bragg_edge_profile.ipynb)"
   ]
  },
  {
   "cell_type": "code",
   "execution_count": null,
   "id": "93",
   "metadata": {},
   "outputs": [],
   "source": [
    "from __code.bragg_edge.bragg_edge_normalization import BraggEdge\n",
    "from __code.bragg_edge.bragg_edge import Interface"
   ]
  },
  {
   "cell_type": "markdown",
   "id": "94",
   "metadata": {},
   "source": [
    "* [profile](profile.ipynb)"
   ]
  },
  {
   "cell_type": "code",
   "execution_count": null,
   "id": "95",
   "metadata": {},
   "outputs": [],
   "source": [
    "o_builder = UiBuilder(ui_name = 'ui_profile.ui')\n",
    "from __code.ipywe.myfileselector import FileSelection\n",
    "from __code.profile import ProfileUi"
   ]
  },
  {
   "cell_type": "markdown",
   "id": "96",
   "metadata": {},
   "source": [
    "* [radial profile](radial_profile.ipynb)"
   ]
  },
  {
   "cell_type": "code",
   "execution_count": null,
   "id": "97",
   "metadata": {},
   "outputs": [],
   "source": [
    "from __code.ipywe.myfileselector import FileSelection\n",
    "from __code.radial_profile.radial_profile import RadialProfile, SelectRadialParameters"
   ]
  },
  {
   "cell_type": "markdown",
   "id": "98",
   "metadata": {},
   "source": [
    "* [water intake profile_calculator](water_intake_profile_calculator.ipynb)"
   ]
  },
  {
   "cell_type": "code",
   "execution_count": null,
   "id": "99",
   "metadata": {},
   "outputs": [],
   "source": [
    "o_builder = UiBuilder(ui_name = 'ui_water_intake_profile.ui')\n",
    "from __code.roi_selection_ui import Interface\n",
    "from __code.water_intake_profile_calculator import WaterIntakeProfileCalculator, WaterIntakeProfileSelector"
   ]
  },
  {
   "cell_type": "markdown",
   "id": "100",
   "metadata": {},
   "source": [
    "* [radial profile](radial_profile.ipynb)"
   ]
  },
  {
   "cell_type": "code",
   "execution_count": null,
   "id": "101",
   "metadata": {},
   "outputs": [],
   "source": [
    "from __code.radial_profile.radial_profile import RadialProfile, SelectRadialParameters"
   ]
  },
  {
   "cell_type": "markdown",
   "id": "102",
   "metadata": {},
   "source": [
    "* [registration](registration.ipynb)"
   ]
  },
  {
   "cell_type": "code",
   "execution_count": null,
   "id": "103",
   "metadata": {},
   "outputs": [],
   "source": [
    "from __code.registration.registration import RegistrationUi"
   ]
  },
  {
   "cell_type": "markdown",
   "id": "104",
   "metadata": {},
   "source": [
    "* [rename files](rename_files.ipynb)"
   ]
  },
  {
   "cell_type": "code",
   "execution_count": null,
   "id": "105",
   "metadata": {},
   "outputs": [],
   "source": [
    "from __code.rename_files.rename_files import NamingSchemaDefinition, FormatFileNameIndex"
   ]
  },
  {
   "cell_type": "markdown",
   "id": "106",
   "metadata": {},
   "source": [
    "* [resonance imaging experiment vs theory](resonance_imaging_experiment_vs_theory.ipynb)"
   ]
  },
  {
   "cell_type": "code",
   "execution_count": null,
   "id": "107",
   "metadata": {},
   "outputs": [],
   "source": [
    "o_builder = UiBuilder(ui_name = 'ui_resonance_imaging_experiment_vs_theory.ui')\n",
    "o_builder = UiBuilder(ui_name = 'ui_resonance_imaging_layers_input.ui')\n",
    "\n",
    "from __code import file_handler, utilities\n",
    "from __code.display_counts_of_region_vs_stack_vs_theory import ImageWindow\n",
    "from __code.display_imaging_resonance_sample_definition import SampleWindow\n",
    "from NeuNorm.normalization import Normalization\n",
    "from __code.ipywe import fileselector"
   ]
  },
  {
   "cell_type": "markdown",
   "id": "108",
   "metadata": {},
   "source": [
    "* [roi statistics for a stack of images](roi_statistics_vs_stack.ipynb)"
   ]
  },
  {
   "cell_type": "code",
   "execution_count": null,
   "id": "109",
   "metadata": {},
   "outputs": [],
   "source": [
    "from __code.roi_statistics_vs_stack.main import ImageWindow, FileHandler"
   ]
  },
  {
   "cell_type": "markdown",
   "id": "110",
   "metadata": {},
   "source": [
    "* [rotate and crop images](rotate_and_crop_images.ipynb)"
   ]
  },
  {
   "cell_type": "code",
   "execution_count": null,
   "id": "111",
   "metadata": {},
   "outputs": [],
   "source": [
    "o_builder = UiBuilder(ui_name = 'ui_rotate_and_crop.ui')\n",
    "from __code.load_images import LoadImages\n",
    "from __code.rotate_and_crop_images import RotateAndCropImages, Export"
   ]
  },
  {
   "cell_type": "markdown",
   "id": "112",
   "metadata": {},
   "source": [
    "* [scale overlapping images](scale_overlapping_images.ipynb)"
   ]
  },
  {
   "cell_type": "code",
   "execution_count": null,
   "id": "113",
   "metadata": {},
   "outputs": [],
   "source": [
    "o_builder = UiBuilder(ui_name = 'ui_scale_overlapping_images.ui')\n",
    "from __code.ipywe.myfileselector import FileSelection"
   ]
  },
  {
   "cell_type": "markdown",
   "id": "114",
   "metadata": {},
   "source": [
    "* [sequential combine images using metadata](sequential_combine_images_using_metadata.ipynb)"
   ]
  },
  {
   "cell_type": "code",
   "execution_count": null,
   "id": "115",
   "metadata": {},
   "outputs": [],
   "source": [
    "from __code.sequential_combine_images_using_metadata import SequentialCombineImagesUsingMetadata"
   ]
  },
  {
   "cell_type": "markdown",
   "id": "116",
   "metadata": {},
   "source": [
    "* [shifting time offset](shifting_time_offset.ipynb)"
   ]
  },
  {
   "cell_type": "code",
   "execution_count": null,
   "id": "117",
   "metadata": {},
   "outputs": [],
   "source": [
    "from __code.select_files_and_folders import SelectFiles, SelectFolder\n",
    "from __code.shifting_time_offset import ShiftTimeOffset"
   ]
  },
  {
   "cell_type": "markdown",
   "id": "118",
   "metadata": {},
   "source": [
    "* [water intake profile_calculator](water_intake_profile_calculator.ipynb)"
   ]
  },
  {
   "cell_type": "code",
   "execution_count": null,
   "id": "119",
   "metadata": {},
   "outputs": [],
   "source": [
    "o_builder = UiBuilder(ui_name = 'ui_water_intake_profile.ui')\n",
    "from __code.water_intake_profile_calculator import WaterIntakeProfileCalculator, WaterIntakeProfileSelector"
   ]
  },
  {
   "cell_type": "markdown",
   "id": "120",
   "metadata": {},
   "source": [
    "* [wave front dynamics](wave_front_dynamics.ipynb)"
   ]
  },
  {
   "cell_type": "code",
   "execution_count": null,
   "id": "121",
   "metadata": {},
   "outputs": [],
   "source": [
    "from __code.wave_front_dynamics.wave_front_dynamics import WaveFrontDynamics, WaveFrontDynamicsUI"
   ]
  },
  {
   "cell_type": "code",
   "execution_count": null,
   "id": "122",
   "metadata": {},
   "outputs": [],
   "source": []
  }
 ],
 "metadata": {
  "kernelspec": {
   "display_name": "Python 3 (ipykernel)",
   "language": "python",
   "name": "python3"
  },
  "language_info": {
   "codemirror_mode": {
    "name": "ipython",
    "version": 3
   },
   "file_extension": ".py",
   "mimetype": "text/x-python",
   "name": "python",
   "nbconvert_exporter": "python",
   "pygments_lexer": "ipython3",
   "version": "3.8.15"
  }
 },
 "nbformat": 4,
 "nbformat_minor": 5
}
