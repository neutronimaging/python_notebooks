{
 "cells": [
  {
   "cell_type": "markdown",
   "metadata": {
    "run_control": {
     "frozen": false,
     "read_only": false
    }
   },
   "source": [
    "[![Notebook Tutorial](__code/__all/notebook_tutorial.png)](https://neutronimaging.ornl.gov/tutorials/imaging-notebooks/timepix3/timepix3-histogram-hdf5-mcp-detector/)\n",
    "\n",
    "<img src='__docs/__all/notebook_rules.png' />"
   ]
  },
  {
   "cell_type": "markdown",
   "metadata": {
    "run_control": {
     "frozen": false,
     "read_only": false
    }
   },
   "source": [
    "# Select Your IPTS "
   ]
  },
  {
   "cell_type": "code",
   "execution_count": null,
   "metadata": {
    "run_control": {
     "frozen": false,
     "read_only": false
    }
   },
   "outputs": [],
   "source": [
    "from __code import system\n",
    "from __code.timepix3_histo_hdf5_mcp_detector.timepix3_histo_hdf5_mcp_detector import Timepix3HistoHdf5McpDetector\n",
    "\n",
    "import h5py\n",
    "\n",
    "system.System.select_working_dir(facility='SNS', instrument='SNAP')\n",
    "from __code.__all import custom_style\n",
    "custom_style.style()\n",
    "\n",
    "import matplotlib.pyplot as plt\n",
    "%matplotlib notebook"
   ]
  },
  {
   "cell_type": "markdown",
   "metadata": {},
   "source": [
    "# Prepare UI engine "
   ]
  },
  {
   "cell_type": "code",
   "execution_count": null,
   "metadata": {},
   "outputs": [],
   "source": [
    "%gui qt"
   ]
  },
  {
   "cell_type": "markdown",
   "metadata": {},
   "source": [
    "# Select Histo MCP HDF5 File  \n",
    "DEBUGGING "
   ]
  },
  {
   "cell_type": "code",
   "execution_count": null,
   "metadata": {},
   "outputs": [],
   "source": [
    "# DEBUGGING ONLY\n",
    "\n",
    "#working_dir = \"/Users/j35/SNS/SNAP/IPTS-30008/nexus/\"\n",
    "working_dir = \"/Volumes/JeanHardDrive/SNS/SNAP/IPTS-30008/nexus/\"\n",
    "nexus_filename = \"run58704_histo.h5\"\n",
    "\n",
    "#o_timepix3 = Timepix3EventNexus(working_dir=system.System.get_working_dir())\n",
    "o_timepix3 = Timepix3HistoHdf5McpDetector(working_dir=working_dir)\n",
    "#o_timepix3.select_nexus()\n",
    "\n",
    "import os\n",
    "nexus_file = os.path.join(working_dir, nexus_filename)\n",
    "# print(nexus_file)\n",
    "assert os.path.exists(nexus_file)\n",
    "o_timepix3.load_nexus(nexus_file_name=nexus_file)\n"
   ]
  },
  {
   "cell_type": "markdown",
   "metadata": {},
   "source": [
    "# Integrated Signal"
   ]
  },
  {
   "cell_type": "code",
   "execution_count": null,
   "metadata": {},
   "outputs": [],
   "source": [
    "o_timepix3.preview_integrated_stack()"
   ]
  },
  {
   "cell_type": "markdown",
   "metadata": {},
   "source": [
    "# Select Region to Integrate for Each Image"
   ]
  },
  {
   "cell_type": "code",
   "execution_count": null,
   "metadata": {},
   "outputs": [],
   "source": [
    "o_timepix3.select_roi()"
   ]
  },
  {
   "cell_type": "code",
   "execution_count": null,
   "metadata": {},
   "outputs": [],
   "source": []
  },
  {
   "cell_type": "code",
   "execution_count": null,
   "metadata": {},
   "outputs": [],
   "source": []
  },
  {
   "cell_type": "code",
   "execution_count": null,
   "metadata": {},
   "outputs": [],
   "source": []
  },
  {
   "cell_type": "code",
   "execution_count": null,
   "metadata": {},
   "outputs": [],
   "source": []
  },
  {
   "cell_type": "code",
   "execution_count": null,
   "metadata": {},
   "outputs": [],
   "source": []
  },
  {
   "cell_type": "markdown",
   "metadata": {},
   "source": [
    "# Select Histo NeXus - MCP detectors"
   ]
  },
  {
   "cell_type": "code",
   "execution_count": null,
   "metadata": {},
   "outputs": [],
   "source": [
    "# DEBUGGING ONLY\n",
    "\n",
    "#MCP\n",
    "working_dir = \"/Users/j35/SNS/SNAP/IPTS-30008/nexus/\"\n",
    "#nexus_filename = \"run58704_events.h5\"\n",
    "nexus_filename = \"run58575_events.h5\"\n",
    "\n",
    "#o_event = Timepix3EventNexus(working_dir=system.System.get_working_dir())\n",
    "o_event = Timepix3EventNexus(working_dir=working_dir)\n",
    "#o_event.select_nexus()\n",
    "\n",
    "import os\n",
    "nexus_file = os.path.join(working_dir, nexus_filename)\n",
    "print(nexus_file)\n",
    "assert os.path.exists(nexus_file)\n",
    "o_event.load_nexus(nexus_file_name=nexus_file)\n",
    "# o_event.rebin_and_display_data()"
   ]
  }
 ],
 "metadata": {
  "kernelspec": {
   "display_name": "Python 3 (ipykernel)",
   "language": "python",
   "name": "python3"
  },
  "language_info": {
   "codemirror_mode": {
    "name": "ipython",
    "version": 3
   },
   "file_extension": ".py",
   "mimetype": "text/x-python",
   "name": "python",
   "nbconvert_exporter": "python",
   "pygments_lexer": "ipython3",
   "version": "3.8.13"
  }
 },
 "nbformat": 4,
 "nbformat_minor": 2
}
