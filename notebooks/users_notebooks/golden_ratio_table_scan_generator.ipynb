{
 "cells": [
  {
   "cell_type": "markdown",
   "id": "0",
   "metadata": {},
   "source": [
    "# Example of the output file format "
   ]
  },
  {
   "cell_type": "markdown",
   "id": "1",
   "metadata": {},
   "source": [
    "CG1D:Det:Q1:TIFF1:FilePath,CG1D:Det:Q1:TIFF1:FileName,CG1D:Det:Q1:AcquireTime,CG1D:Mot:SmallRot2,CG1D:Scan:IncrementRunNo.PROC,CG1D:Scan:RunNoRestore.PROC,Camera,Camera\n",
    "/data/IPTS-25781/raw/ct_scans/2022_11_07_DAS,das_test_1,2.4,1.0,1,1,QHY 90,QHY 90\n",
    "/data/IPTS-25781/raw/ct_scans/2022_11_07_DAS,das_test_2,2.4,2.0,1,1,QHY 90,QHY 90\n",
    "/data/IPTS-25781/raw/ct_scans/2022_11_07_DAS,das_test_3,2.4,3.0,1,1,QHY 90,QHY 90\n",
    "/data/IPTS-25781/raw/ct_scans/2022_11_07_DAS,das_test_4,2.4,4.,1,1,QHY 90,QHY 90\n",
    "/data/IPTS-25781/raw/ct_scans/2022_11_07_DAS,das_test_5,2.4,5.0,1,1,QHY 90,QHY 90"
   ]
  },
  {
   "cell_type": "code",
   "execution_count": null,
   "id": "2",
   "metadata": {},
   "outputs": [],
   "source": [
    "import numpy as np\n",
    "\n",
    "def make_ascii_file(data=[], output_file_name=''):\n",
    "    f = open(output_file_name, 'w')\n",
    "    for _data in data:\n",
    "        _line = str(_data) + '\\n'\n",
    "        f.write(_line)\n",
    "\n",
    "    f.close()"
   ]
  },
  {
   "cell_type": "markdown",
   "id": "3",
   "metadata": {},
   "source": [
    "# User input "
   ]
  },
  {
   "cell_type": "code",
   "execution_count": null,
   "id": "4",
   "metadata": {},
   "outputs": [],
   "source": [
    "file_path = \"/data/IPTS-25265/raw/ct_scans/2022_11_08_1image_30s_1000angles/\"\n",
    "acquisition_time_s = 30\n",
    "nbr_projections_per_angle = 1\n",
    "name_of_rotation_stage = \"CG1D:Mot:SmallRot2\"\n",
    "name_of_camera = \"QHY 90\"\n",
    "\n",
    "name_of_the_table_scan_file = \"/Users/j35/Desktop/table_scan_1image_30s_1000angles.csv\""
   ]
  },
  {
   "cell_type": "markdown",
   "id": "5",
   "metadata": {},
   "source": [
    "# golden ratio file (created by neuit.sns.gov)"
   ]
  },
  {
   "cell_type": "code",
   "execution_count": null,
   "id": "6",
   "metadata": {},
   "outputs": [],
   "source": [
    "with open(\"Data.csv\") as stream:\n",
    "    lines = stream.readlines()\n",
    "    \n",
    "angle_values = [\"%.2f\"%(float(l)) for l in lines[1:]]\n",
    "angle_values.insert(1, \"90.00\")\n",
    "\n",
    "import pprint\n",
    "# pprint.pprint(angle_values)"
   ]
  },
  {
   "cell_type": "code",
   "execution_count": null,
   "id": "7",
   "metadata": {},
   "outputs": [],
   "source": [
    "file_name = []\n",
    "csv_file = [f\"CG1D:Det:Q1:TIFF1:FilePath,CG1D:Det:Q1:TIFF1:FileName,CG1D:Det:Q1:AcquireTime,{name_of_rotation_stage},CG1D:Scan:IncrementRunNo.PROC,CG1D:Scan:RunNoRestore.PROC,Camera,Camera\"]\n",
    "\n",
    "for angle in angle_values:\n",
    "    angle_value_as_list = angle.split(\".\")\n",
    "    angle_values_as_list_padded = [f\"{int(_value):03d}\" for _value in angle_value_as_list]\n",
    "    angle_value = \"_\".join(angle_values_as_list_padded)\n",
    "    for pro in np.arange(nbr_projections_per_angle):\n",
    "        file_name = f\"image_{angle_value}\"\n",
    "        _entry = f\"{file_path},{file_name},{acquisition_time_s},{angle},1,1,{name_of_camera},{name_of_camera}\"\n",
    "        csv_file.append(_entry)\n",
    "    \n",
    "make_ascii_file(data=csv_file, output_file_name=name_of_the_table_scan_file)"
   ]
  },
  {
   "cell_type": "code",
   "execution_count": null,
   "id": "8",
   "metadata": {},
   "outputs": [],
   "source": [
    "e_name = []\n",
    "# for angle in angle_values:\n",
    "#     angle_value_as_list = angle.split(\".\")\n",
    "#     angle_values_as_list_padded = [f\"{int(_value):03d}\" for _value in angle_value_as_list]\n",
    "#     angle_value = \"_\".join(angle_values_as_list_padded)\n",
    "#     file_name.append(f\"image_{angle_value}\")\n",
    "    \n",
    "# csv_file = [f\"CG1D:Det:Q1:TIFF1:FilePath,CG1D:Det:Q1:TIFF1:FileName,CG1D:Det:Q1:AcquireTime,{name_of_rotation_stage},CG1D:Scan:IncrementRunNo.PROC,CG1D:Scan:RunNoRestore.PROC,Camera,Camera\"]\n",
    "# for row_index in np.arange(len(angle_values)):\n",
    "#     _entry = f\"{file_path},{file_name[row_index]},{acquisition_time_s},{angle_values[row_index]},1,1,{name_of_camera},{name_of_camera}\"\n",
    "#     csv_file.append(_entry)\n",
    "    \n",
    "# make_ascii_file(data=csv_file, output_file_name=name_of_the_table_scan_file)# fil"
   ]
  },
  {
   "cell_type": "code",
   "execution_count": null,
   "id": "9",
   "metadata": {},
   "outputs": [],
   "source": []
  }
 ],
 "metadata": {
  "kernelspec": {
   "display_name": "Python 3 (ipykernel)",
   "language": "python",
   "name": "python3"
  },
  "language_info": {
   "codemirror_mode": {
    "name": "ipython",
    "version": 3
   },
   "file_extension": ".py",
   "mimetype": "text/x-python",
   "name": "python",
   "nbconvert_exporter": "python",
   "pygments_lexer": "ipython3",
   "version": "3.8.13"
  }
 },
 "nbformat": 4,
 "nbformat_minor": 5
}
