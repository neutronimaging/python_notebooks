{
 "cells": [
  {
   "cell_type": "markdown",
   "id": "590534c5",
   "metadata": {},
   "source": [
    "<img src='../__docs/__all/notebook_rules.png' />"
   ]
  },
  {
   "cell_type": "markdown",
   "id": "454ae0d7",
   "metadata": {},
   "source": [
    "**Workflow of this notebook**\n",
    "\n",
    "* **User**: select the images to work with.\n",
    "* *Notebook*: load images\n",
    "* **User**: rotate the images to make sure the sample to work with is perfectly vertical\n",
    "* **User**: select region to work with by cropping the raw data\n",
    "* *OPTIONAL*: **User** export the cropped images\n",
    "* **User**: select part of the image that does not contain the sample\n",
    "* **User**: select part of the image that does containt the sample\n",
    "* *Notebook*: remove background from sample part\n",
    "* *Notebook*: display profiles\n",
    "* *Notebook*: apply geometry correction to all profiles\n",
    "* **User**: select where to output the images corrected, profiles ascii files and metadata file."
   ]
  },
  {
   "cell_type": "markdown",
   "id": "fbe9a87d",
   "metadata": {},
   "source": [
    "# Python Import "
   ]
  },
  {
   "cell_type": "code",
   "execution_count": null,
   "id": "3b163f71",
   "metadata": {},
   "outputs": [],
   "source": [
    "import os\n",
    "import sys\n",
    "module_path = os.path.abspath(os.path.join('..'))\n",
    "if module_path not in sys.path:\n",
    "    sys.path.append(module_path)\n",
    "\n",
    "%matplotlib notebook\n",
    "\n",
    "from __code import system\n",
    "system.System.select_working_dir()\n",
    "\n",
    "from ipts_27939_code.ipts_27939 import IPTS_27939\n"
   ]
  },
  {
   "cell_type": "markdown",
   "id": "95dd7a94",
   "metadata": {},
   "source": [
    "# Select Images "
   ]
  },
  {
   "cell_type": "code",
   "execution_count": null,
   "id": "2b40525a",
   "metadata": {},
   "outputs": [],
   "source": [
    "o_ipts = IPTS_27939(working_dir=system.System.get_working_dir())\n",
    "o_ipts.select_images()"
   ]
  },
  {
   "cell_type": "markdown",
   "id": "ec048df0",
   "metadata": {},
   "source": [
    "# Visualize Raw Data"
   ]
  },
  {
   "cell_type": "markdown",
   "id": "57f3ddcf",
   "metadata": {},
   "source": [
    "The data are rotated 90 degrees to work with the cylindrical geometry algorithm"
   ]
  },
  {
   "cell_type": "code",
   "execution_count": null,
   "id": "c38e7c58",
   "metadata": {},
   "outputs": [],
   "source": [
    "o_ipts.visualize_raw_images()"
   ]
  },
  {
   "cell_type": "markdown",
   "id": "1799d570",
   "metadata": {},
   "source": [
    "# Rotate sample to make sure it's perfectly vertical\n",
    "\n",
    "Use the **vertical guide** to help you find the perfect vertical to your sample.\n",
    "\n",
    "<img src='ipts_27939_code/static/example_of_bad_and_good_alignments.png' />\n",
    "\n",
    "Feel free to use the **green** and **blue** horizontal profiles helper to make sure the sample is perfectly vertical. To do so, place one of the two profile helper near the top of the sampel and the other one, near the bottom and make sure the edge is perfectly aligned top to bottom.\n",
    "\n",
    "<img src='ipts_27939_code/static/example_rotation_guides.png' />"
   ]
  },
  {
   "cell_type": "code",
   "execution_count": null,
   "id": "8c1224ac",
   "metadata": {},
   "outputs": [],
   "source": [
    "o_ipts.rotate_images()"
   ]
  },
  {
   "cell_type": "markdown",
   "id": "ea6e666a",
   "metadata": {},
   "source": [
    "# crop sample to region of interest "
   ]
  },
  {
   "cell_type": "markdown",
   "id": "739cb616",
   "metadata": {},
   "source": [
    "By playing with the **left**, **right**, **top** and **bottom** sliders, select a region surrounding the data you want to work with.\n",
    "\n",
    "Use the **profile marker** to make sure the crop region is tight around the sample.\n",
    "\n",
    "<html>\n",
    "    <br>\n",
    "    <font color=\"red\">Warning:</color>\n",
    "    </html>\n",
    "\n",
    "* Make sure you include the container in the selection (edges should have a value of 1)\n",
    "and \n",
    "* a part of the container without sample inside (will be used for normalization)\n",
    "\n",
    "For example:\n",
    "\n",
    "<img src='ipts_27939_code/static/example_crop_region.png' />"
   ]
  },
  {
   "cell_type": "code",
   "execution_count": null,
   "id": "3840d87f",
   "metadata": {},
   "outputs": [],
   "source": [
    "o_ipts.apply_rotation()\n",
    "o_ipts.select_crop_region()"
   ]
  },
  {
   "cell_type": "markdown",
   "id": "618b7c68",
   "metadata": {},
   "source": [
    "## Visualize result of cropping "
   ]
  },
  {
   "cell_type": "code",
   "execution_count": null,
   "id": "d395fe3c",
   "metadata": {},
   "outputs": [],
   "source": [
    "o_ipts.visualize_crop()"
   ]
  },
  {
   "cell_type": "markdown",
   "id": "8c561bd3",
   "metadata": {},
   "source": [
    "## Export cropped images (optional)"
   ]
  },
  {
   "cell_type": "code",
   "execution_count": null,
   "id": "ad10c72d",
   "metadata": {},
   "outputs": [],
   "source": [
    "o_ipts.export_cropped_images()"
   ]
  },
  {
   "cell_type": "markdown",
   "id": "71ab0234",
   "metadata": {},
   "source": [
    "# Select background\n",
    "\n",
    "Select a part of the tube that does not contain the sample. The horizontal profile of this region, integrated over the y-axis, will be used as the background signal to remove from the data.\n",
    "\n",
    "__for example:__\n",
    "\n",
    "<img src='ipts_27939_code/static/example_background_selection.png' />"
   ]
  },
  {
   "cell_type": "code",
   "execution_count": null,
   "id": "0f4a7e45",
   "metadata": {},
   "outputs": [],
   "source": [
    "o_ipts.background_range_selection()"
   ]
  },
  {
   "cell_type": "markdown",
   "id": "2794fb78",
   "metadata": {},
   "source": [
    "# Select sample\n",
    "\n",
    "Select the **top** and **bottom** limit of your sample. \n",
    "\n",
    "__For example:__\n",
    "\n",
    "<img src='ipts_27939_code/static/example_of_sample_selection.png' />\n"
   ]
  },
  {
   "cell_type": "code",
   "execution_count": null,
   "id": "e859b7f2",
   "metadata": {},
   "outputs": [],
   "source": [
    "o_ipts.sample_region_selection()"
   ]
  },
  {
   "cell_type": "markdown",
   "id": "c8435e28",
   "metadata": {},
   "source": [
    "# Removing tube background from sample"
   ]
  },
  {
   "cell_type": "code",
   "execution_count": null,
   "id": "9b7308cf",
   "metadata": {},
   "outputs": [],
   "source": [
    "o_ipts.remove_background_signal()"
   ]
  },
  {
   "cell_type": "markdown",
   "id": "e48c0b77",
   "metadata": {},
   "source": [
    "# Profiles to work with "
   ]
  },
  {
   "cell_type": "code",
   "execution_count": null,
   "id": "1cdf9349",
   "metadata": {},
   "outputs": [],
   "source": [
    "o_ipts.display_of_profiles()"
   ]
  },
  {
   "cell_type": "markdown",
   "id": "9a685d26",
   "metadata": {},
   "source": [
    "# Applying geometry correction "
   ]
  },
  {
   "cell_type": "code",
   "execution_count": null,
   "id": "766fc3f3",
   "metadata": {},
   "outputs": [],
   "source": [
    "o_ipts.correct_cylinder_geometry()"
   ]
  },
  {
   "cell_type": "markdown",
   "id": "b6c891c9",
   "metadata": {},
   "source": [
    "# Export \n",
    "\n",
    "This will export:\n",
    " - the corrected cropped images\n",
    " - the full horizontal profiles of each image"
   ]
  },
  {
   "cell_type": "code",
   "execution_count": null,
   "id": "fc2dc5f2",
   "metadata": {},
   "outputs": [],
   "source": [
    "o_ipts.export_profiles()"
   ]
  },
  {
   "cell_type": "code",
   "execution_count": null,
   "id": "c61d396e",
   "metadata": {},
   "outputs": [],
   "source": []
  }
 ],
 "metadata": {
  "kernelspec": {
   "display_name": "Python 3 (ipykernel)",
   "language": "python",
   "name": "python3"
  },
  "language_info": {
   "codemirror_mode": {
    "name": "ipython",
    "version": 3
   },
   "file_extension": ".py",
   "mimetype": "text/x-python",
   "name": "python",
   "nbconvert_exporter": "python",
   "pygments_lexer": "ipython3",
   "version": "3.8.13"
  }
 },
 "nbformat": 4,
 "nbformat_minor": 5
}
