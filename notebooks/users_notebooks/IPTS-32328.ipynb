{
 "cells": [
  {
   "cell_type": "markdown",
   "id": "0",
   "metadata": {},
   "source": [
    "<img src='../__docs/__all/notebook_rules.png' />"
   ]
  },
  {
   "cell_type": "markdown",
   "id": "29caa0e6-9921-407f-911b-76d9eed4af94",
   "metadata": {},
   "source": [
    "## Full workflow\n",
    "\n",
    "* create file name list vs time stamp -> [create_list_of_file_name_vs_time_stamp.ipynb](../create_list_of_file_name_vs_time_stamp.ipynb)\n",
    "* normalize by first image -> [normalization.ipynb](../normalization.ipynb)\n",
    "* crop and create stack of images to work on -> [rotate_and_crop_images.ipynb](../rotate_and_crop_images.ipynb)\n",
    "* create profile -> [profile.ipynb](../profile.ipynb)"
   ]
  },
  {
   "cell_type": "code",
   "execution_count": null,
   "id": "648a9c7b-f171-4842-8553-00e9f1c5bd7a",
   "metadata": {},
   "outputs": [],
   "source": [
    "import os\n",
    "import pandas as pd\n",
    "import numpy as np\n",
    "\n",
    "import plotly.graph_objects as go\n",
    "import plotly.offline as pyo\n",
    "pyo.init_notebook_mode()\n",
    "import plotly.express as px\n",
    "\n",
    "import plotly.io as pio\n",
    "pio.renderers.default = 'iframe'\n",
    "\n",
    "import re"
   ]
  },
  {
   "cell_type": "markdown",
   "id": "cbfd30e9-f7c8-4ee5-b55f-70bfbf3b1972",
   "metadata": {},
   "source": [
    "# User input here"
   ]
  },
  {
   "cell_type": "code",
   "execution_count": null,
   "id": "dd7902e9-76e7-416f-a78e-df62faa972ed",
   "metadata": {},
   "outputs": [],
   "source": [
    "ipts_root_folder = \"/Users/j35/HFIR/CG1D/IPTS-32328/\"\n",
    "assert os.path.exists(ipts_root_folder)\n",
    "\n",
    "data_folder = \"2024_03_07/2024_03_07_batteries_2D_cycling_timestamp_infos.txt\"\n",
    "\n",
    "profile_file = os.path.join(ipts_root_folder, \"2024_03_07/profile_sample1.txt\")\n",
    "assert os.path.exists(profile_file)\n",
    "\n",
    "images_combine_by = 3"
   ]
  },
  {
   "cell_type": "markdown",
   "id": "6680ac48-0173-4d06-8367-b5820f1d7ecc",
   "metadata": {},
   "source": [
    "# Load file_name_vs_time_stamp \n",
    "\n",
    "We need to match each file to its time stamp"
   ]
  },
  {
   "cell_type": "code",
   "execution_count": null,
   "id": "a83d1627-80f1-47bc-aa72-723cef4cd50d",
   "metadata": {},
   "outputs": [],
   "source": [
    "file_name_vs_time_stamp = os.path.join(ipts_root_folder, data_folder)\n",
    "assert os.path.exists(file_name_vs_time_stamp)"
   ]
  },
  {
   "cell_type": "markdown",
   "id": "ef05aa5b-bd7b-4c59-b41c-befcfb838312",
   "metadata": {},
   "source": [
    "Load ASCII"
   ]
  },
  {
   "cell_type": "code",
   "execution_count": null,
   "id": "955b7657-2ce0-4090-9c52-9d7d456ed90d",
   "metadata": {},
   "outputs": [],
   "source": [
    "pd_data = pd.read_csv(file_name_vs_time_stamp)"
   ]
  },
  {
   "cell_type": "code",
   "execution_count": null,
   "id": "de51958d-9d20-4ff7-bb55-497be9d089df",
   "metadata": {},
   "outputs": [],
   "source": [
    "pd_data"
   ]
  },
  {
   "cell_type": "markdown",
   "id": "09a4f88b-b0e2-4250-9bb4-0f06a474e0fa",
   "metadata": {},
   "source": [
    "Extract file names and time offset, and keep only base file names"
   ]
  },
  {
   "cell_type": "code",
   "execution_count": null,
   "id": "2fe36a59-03e2-4f15-a53b-3521c8bb42c1",
   "metadata": {},
   "outputs": [],
   "source": [
    "list_files = list(pd_data['#filename'])\n",
    "short_list_files = [os.path.basename(_file) for _file in list_files]\n",
    "list_timeoffset = list(pd_data[' timeoffset(s)'])"
   ]
  },
  {
   "cell_type": "markdown",
   "id": "59fedea3-00bf-4096-8564-1c74516840ce",
   "metadata": {},
   "source": [
    "if data have been combined, use timeoffset accordingly"
   ]
  },
  {
   "cell_type": "code",
   "execution_count": null,
   "id": "3b4a5e12-f3af-43a7-b36a-447e9074f04e",
   "metadata": {},
   "outputs": [],
   "source": [
    "combine_factor = images_combine_by\n",
    "combined_list_timeoffset_s = list_timeoffset[0::combine_factor]\n",
    "combined_list_timeoffset_mn = [_t/60 for _t in combined_list_timeoffset_s]\n",
    "combined_list_timeoffset_hr = [_t/60 for _t in combined_list_timeoffset_mn]\n",
    "\n",
    "fig = go.Figure()\n",
    "fig.add_trace(go.Scatter(y=combined_list_timeoffset_hr,\n",
    "                        mode='markers'))\n",
    "fig.update_layout(title=\"Time offset vs file index\",\n",
    "                  xaxis_title=\"file index\",\n",
    "                  yaxis_title=\"time offset (hr)\",\n",
    "                  )\n",
    "fig.show()"
   ]
  },
  {
   "cell_type": "markdown",
   "id": "354025dc-0329-4fab-ae43-014e5db180d9",
   "metadata": {},
   "source": [
    "Create correct time offset axis in hours"
   ]
  },
  {
   "cell_type": "markdown",
   "id": "76e87031-3050-4c13-859f-c7e830ce35f3",
   "metadata": {},
   "source": [
    "# User input here! "
   ]
  },
  {
   "cell_type": "code",
   "execution_count": null,
   "id": "7e1bb526-f2c9-4791-997f-45d454e8add8",
   "metadata": {},
   "outputs": [],
   "source": [
    "max_hour = 16"
   ]
  },
  {
   "cell_type": "code",
   "execution_count": null,
   "id": "fa04efa4-eb33-4fad-b9c0-c4d349bb9b7d",
   "metadata": {},
   "outputs": [],
   "source": []
  },
  {
   "cell_type": "code",
   "execution_count": null,
   "id": "1105dc42-5488-4fe9-8965-60151cec0663",
   "metadata": {},
   "outputs": [],
   "source": [
    "def get_closest_index(array=None, value=None):\n",
    "    idx = (np.abs(np.array(array) - value)).argmin()\n",
    "    return idx\n",
    "\n",
    "list_hr_to_display = np.arange(max_hour)\n",
    "list_index_hr_to_display = []\n",
    "for _hr in list_hr_to_display:\n",
    "    _index = get_closest_index(array=combined_list_timeoffset_hr,\n",
    "                               value=_hr)\n",
    "    list_index_hr_to_display.append(_index)\n",
    "\n",
    "tick_values = list_index_hr_to_display\n",
    "tick_text = [str(_hr) for _hr in list_hr_to_display]"
   ]
  },
  {
   "cell_type": "markdown",
   "id": "aee71c02-4ab8-421d-ac88-f84873210f5e",
   "metadata": {},
   "source": [
    "\n",
    "Checking that they are correctly sorted"
   ]
  },
  {
   "cell_type": "code",
   "execution_count": null,
   "id": "65ea152c-4529-438a-8e0a-44cea598dbee",
   "metadata": {},
   "outputs": [],
   "source": [
    "fig = go.Figure()\n",
    "fig.add_trace(go.Scatter(y=list_timeoffset,\n",
    "                        mode='markers'))\n",
    "fig.update_layout(title=\"Time offset vs file index\",\n",
    "                  xaxis_title=\"file index\",\n",
    "                  yaxis_title=\"time offset (s)\",\n",
    "                  )\n",
    "fig.show()"
   ]
  },
  {
   "cell_type": "markdown",
   "id": "970ad3ad-aff3-4d65-9373-3f2fc104fcce",
   "metadata": {},
   "source": [
    "# Load profile "
   ]
  },
  {
   "cell_type": "markdown",
   "id": "861b74bd-2dc2-4614-be9a-8a2cb2b0efbc",
   "metadata": {},
   "source": [
    "working with sample 1 of 24_03_07"
   ]
  },
  {
   "cell_type": "code",
   "execution_count": null,
   "id": "84cfb544-de63-4896-8545-da63e03c9c84",
   "metadata": {},
   "outputs": [],
   "source": [
    "with open(profile_file, 'r') as f:\n",
    "    content = f.readlines()"
   ]
  },
  {
   "cell_type": "code",
   "execution_count": null,
   "id": "a10f460e-92f9-433a-a35e-5b535ab51c9d",
   "metadata": {},
   "outputs": [],
   "source": [
    "# extract number of files (nbr of colons = number of files + 1)\n",
    "\n",
    "pattern = r\"\\#\\w*\\s{1}\\w*\\s{1}\\w*\\s{1}\\((\\d*)\\s{1}\\w*\\)\"\n",
    "\n",
    "list_of_files_row = 0\n",
    "nbr_files = 0\n",
    "for index, line in enumerate(content):\n",
    "    if line.startswith(\"#List of files \"):\n",
    "        list_of_files_row = index + 1\n",
    "        m = re.match(pattern, line)\n",
    "        if m:\n",
    "            print(f\"list of files: {m.group(1)}\")\n",
    "            nbr_files = int(m.group(1))\n",
    "# print(f\"{list_of_files_row =}\")"
   ]
  },
  {
   "cell_type": "code",
   "execution_count": null,
   "id": "fda15d6a-d0a7-4c0e-854e-32ea802733b2",
   "metadata": {},
   "outputs": [],
   "source": [
    "# extract name of files\n",
    "list_of_files = list(pd.read_csv(profile_file, skiprows=6, nrows=nbr_files, names=['file name']))"
   ]
  },
  {
   "cell_type": "code",
   "execution_count": null,
   "id": "f2b2ce70-8618-4c53-8887-e59a2bcea36f",
   "metadata": {},
   "outputs": [],
   "source": [
    "# extract data\n",
    "column_names = ['pixel offset']\n",
    "for _index in np.arange(nbr_files):\n",
    "    column_names.append(f\"file#{_index}\")\n",
    "pd_data = pd.read_csv(profile_file, names=column_names, comment='#')\n",
    "\n",
    "nbr_pixel = len(pd_data['pixel offset'])"
   ]
  },
  {
   "cell_type": "code",
   "execution_count": null,
   "id": "6c17493b-7195-4050-9167-5adc128921a8",
   "metadata": {},
   "outputs": [],
   "source": [
    "# make 2D array\n",
    "data_2d = np.zeros((nbr_pixel, nbr_files))\n",
    "for _row in np.arange(nbr_pixel):\n",
    "    for _col in np.arange(nbr_files):\n",
    "        _col_data = pd_data[column_names[_col+1]][_row]\n",
    "        data_2d[_row, _col] = _col_data"
   ]
  },
  {
   "cell_type": "code",
   "execution_count": null,
   "id": "f1059a41-f373-48e7-bc7c-bcd8bb54929f",
   "metadata": {},
   "outputs": [],
   "source": [
    "fig = go.Figure(data = go.Contour(z=data_2d))\n",
    "fig.update_layout(title=os.path.basename(profile_file),\n",
    "                  xaxis = dict(tickmode='array',\n",
    "                               tickvals=tick_values,\n",
    "                               ticktext=tick_text),\n",
    "                  xaxis_title=\"Time offset (hours)\",\n",
    "                  yaxis_title=\"Pixel counts normalized by first image\")\n",
    "\n"
   ]
  },
  {
   "cell_type": "code",
   "execution_count": null,
   "id": "9c282dc5-8665-4eb0-84ba-e1f49d240679",
   "metadata": {},
   "outputs": [],
   "source": [
    "fig = go.Figure(data = go.Heatmap(z=data_2d, zsmooth='best'))\n",
    "fig.update_layout(title=os.path.basename(profile_file),\n",
    "                  xaxis = dict(tickmode='array',\n",
    "                               tickvals=tick_values,\n",
    "                               ticktext=tick_text),\n",
    "                  xaxis_title=\"Time offset (hours)\",\n",
    "                  yaxis_title=\"Pixel counts normalized by first image\")\n",
    "                  "
   ]
  },
  {
   "cell_type": "markdown",
   "id": "95563ab3-cac4-4133-931a-66841c3712ce",
   "metadata": {},
   "source": [
    "Transmission normalized by first image:\n",
    " * value of 1 means no change\n",
    " * value > 1 means transmission compare to the first image is higher\n",
    " * value < 1 means transmission compare to the first image is lower"
   ]
  },
  {
   "cell_type": "code",
   "execution_count": null,
   "id": "f00875b2-43cc-4def-8d94-c23ca2963ccf",
   "metadata": {},
   "outputs": [],
   "source": []
  },
  {
   "cell_type": "code",
   "execution_count": null,
   "id": "688c656a-8350-4e0b-a0fa-cd8f4998dd84",
   "metadata": {},
   "outputs": [],
   "source": []
  },
  {
   "cell_type": "code",
   "execution_count": null,
   "id": "30",
   "metadata": {},
   "outputs": [],
   "source": []
  }
 ],
 "metadata": {
  "kernelspec": {
   "display_name": "Python 3 (ipykernel)",
   "language": "python",
   "name": "python3"
  },
  "language_info": {
   "codemirror_mode": {
    "name": "ipython",
    "version": 3
   },
   "file_extension": ".py",
   "mimetype": "text/x-python",
   "name": "python",
   "nbconvert_exporter": "python",
   "pygments_lexer": "ipython3",
   "version": "3.12.2"
  }
 },
 "nbformat": 4,
 "nbformat_minor": 5
}
