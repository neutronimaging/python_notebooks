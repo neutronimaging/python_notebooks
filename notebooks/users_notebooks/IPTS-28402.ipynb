{
 "cells": [
  {
   "cell_type": "markdown",
   "id": "0",
   "metadata": {},
   "source": [
    "<img src='../__docs/__all/notebook_rules.png' />"
   ]
  },
  {
   "cell_type": "markdown",
   "id": "1",
   "metadata": {},
   "source": [
    "**Workflow of this notebook**\n",
    "\n",
    "* **User**: select the images to work with.\n",
    "* *Notebook*: load and automatically rotate the data 90 degrees to match the algorithm orientation \n",
    "* **User**: select region to work with by cropping the raw data\n",
    "* **User**: select horizontal range of profile to combine\n",
    "* *Notebook*: use that range and combine the data using a mean\n",
    "* *Notebook*: display the profiles to work with, one profile per image loaded\n",
    "* **User**: select the position (edges) of the inner and outer cylinders\n",
    "* *Notebook*: clean the edges by removing data outside of the outer cylinder\n",
    "* *Notebook*: switch from transmission to attenuation mode\n",
    "* *Notebook*: calculate the number of counts per pixel in the outer cylinder\n",
    "* *Notebook*: apply geometry correction to all profiles\n",
    "* **User**: now working on the inner cylinder, check or redefine the edges of the inner cylinder\n",
    "* *Notebook*: apply geometry correction to inner cylinder\n",
    "* **User**: select where to output the ascii files that will contains the profiles."
   ]
  },
  {
   "cell_type": "markdown",
   "id": "2",
   "metadata": {},
   "source": [
    "# Python Import "
   ]
  },
  {
   "cell_type": "code",
   "execution_count": null,
   "id": "3",
   "metadata": {},
   "outputs": [],
   "source": [
    "import os\n",
    "import sys\n",
    "module_path = os.path.abspath(os.path.join('..'))\n",
    "if module_path not in sys.path:\n",
    "    sys.path.append(module_path)\n",
    "\n",
    "%matplotlib notebook\n",
    "\n",
    "from __code import system\n",
    "system.System.select_working_dir()\n",
    "\n",
    "from ipts_28402_code.ipts_28402 import IPTS_28402\n"
   ]
  },
  {
   "cell_type": "markdown",
   "id": "4",
   "metadata": {},
   "source": [
    "# Select Images "
   ]
  },
  {
   "cell_type": "code",
   "execution_count": null,
   "id": "5",
   "metadata": {},
   "outputs": [],
   "source": [
    "o_ipts = IPTS_28402(working_dir=system.System.get_working_dir())\n",
    "o_ipts.select_images()"
   ]
  },
  {
   "cell_type": "markdown",
   "id": "6",
   "metadata": {},
   "source": [
    "# Visualize Raw Data"
   ]
  },
  {
   "cell_type": "markdown",
   "id": "7",
   "metadata": {},
   "source": [
    "The data are rotated 90 degrees to work with the cylindrical geometry algorithm"
   ]
  },
  {
   "cell_type": "code",
   "execution_count": null,
   "id": "8",
   "metadata": {},
   "outputs": [],
   "source": [
    "o_ipts.visualize_raw_images()"
   ]
  },
  {
   "cell_type": "markdown",
   "id": "9",
   "metadata": {},
   "source": [
    "# crop sample to region of interest "
   ]
  },
  {
   "cell_type": "markdown",
   "id": "10",
   "metadata": {},
   "source": [
    "By playing with the **left**, **right**, **top** and **bottom** sliders, select a region surrounding the data you\n",
    "want to correct.\n",
    "<html>\n",
    "    <br>\n",
    "    <font color=\"red\">Warning:</color>\n",
    "    </html>\n",
    "Make sure you include the external cylinder (container) in the selection."
   ]
  },
  {
   "cell_type": "code",
   "execution_count": null,
   "id": "11",
   "metadata": {},
   "outputs": [],
   "source": [
    "o_ipts.select_crop_region()"
   ]
  },
  {
   "cell_type": "markdown",
   "id": "12",
   "metadata": {},
   "source": [
    "## Visualize result of cropping "
   ]
  },
  {
   "cell_type": "code",
   "execution_count": null,
   "id": "13",
   "metadata": {},
   "outputs": [],
   "source": [
    "o_ipts.visualize_crop()"
   ]
  },
  {
   "cell_type": "markdown",
   "id": "14",
   "metadata": {},
   "source": [
    "# Selection of the profiles to correct\n",
    "\n",
    "Select the **top limit** and **bottom limit** profiles to correct. The program will integrate vertically all the counts between those two limits."
   ]
  },
  {
   "cell_type": "code",
   "execution_count": null,
   "id": "15",
   "metadata": {},
   "outputs": [],
   "source": [
    "o_ipts.selection_of_profiles_limit()"
   ]
  },
  {
   "cell_type": "markdown",
   "id": "16",
   "metadata": {},
   "source": [
    "# Profiles to work with "
   ]
  },
  {
   "cell_type": "code",
   "execution_count": null,
   "id": "17",
   "metadata": {},
   "outputs": [],
   "source": [
    "o_ipts.display_of_profiles()"
   ]
  },
  {
   "cell_type": "markdown",
   "id": "18",
   "metadata": {},
   "source": [
    "# Let's define the position of the cylinders edges "
   ]
  },
  {
   "cell_type": "code",
   "execution_count": null,
   "id": "19",
   "metadata": {},
   "outputs": [],
   "source": [
    "o_ipts.cylinders_positions()"
   ]
  },
  {
   "cell_type": "markdown",
   "id": "20",
   "metadata": {},
   "source": [
    "# Cleaning edges\n",
    "\n",
    "Data outside of the cylinders must be removed. To do so, the algorithm will use the **outer_radius** value you defined in the previous cell and will only keep the data within that region."
   ]
  },
  {
   "cell_type": "code",
   "execution_count": null,
   "id": "21",
   "metadata": {},
   "outputs": [],
   "source": [
    "o_ipts.cleaning_edges()"
   ]
  },
  {
   "cell_type": "markdown",
   "id": "22",
   "metadata": {},
   "source": [
    "# Switching to attenuation mode  "
   ]
  },
  {
   "cell_type": "code",
   "execution_count": null,
   "id": "23",
   "metadata": {},
   "outputs": [],
   "source": [
    "o_ipts.switching_to_attenuation_mode()"
   ]
  },
  {
   "cell_type": "markdown",
   "id": "24",
   "metadata": {},
   "source": [
    "# Calculate number of counts per pixel in outer cylinder."
   ]
  },
  {
   "cell_type": "code",
   "execution_count": null,
   "id": "25",
   "metadata": {},
   "outputs": [],
   "source": [
    "o_ipts.outer_cylinder_geometry_correction()"
   ]
  },
  {
   "cell_type": "markdown",
   "id": "26",
   "metadata": {},
   "source": [
    "# Applying outer cylinder correction to all profiles"
   ]
  },
  {
   "cell_type": "code",
   "execution_count": null,
   "id": "27",
   "metadata": {},
   "outputs": [],
   "source": [
    "o_ipts.full_profile_with_only_outer_cylinder_corrected()"
   ]
  },
  {
   "cell_type": "markdown",
   "id": "28",
   "metadata": {},
   "source": [
    "# Working on inner cylinder "
   ]
  },
  {
   "cell_type": "markdown",
   "id": "29",
   "metadata": {},
   "source": [
    "We find the center, radius and truncate outside cylinder, keeping only the data from the inner cylinder\n",
    "\n",
    "**Instructions**\n",
    "In the following plot, make sure the edges you predefined before are still matching the edge of the inner cylinder profile."
   ]
  },
  {
   "cell_type": "code",
   "execution_count": null,
   "id": "30",
   "metadata": {},
   "outputs": [],
   "source": [
    "o_ipts.crop_to_inner_cylinder()"
   ]
  },
  {
   "cell_type": "code",
   "execution_count": null,
   "id": "31",
   "metadata": {},
   "outputs": [],
   "source": [
    "o_ipts.correct_inner_cylinder_geometry()"
   ]
  },
  {
   "cell_type": "markdown",
   "id": "32",
   "metadata": {},
   "source": [
    "# Export profile(s) corrected into text file(s)\n",
    "\n",
    "Select the folder where you want to create the text files, comma separated file, of the inner cylinder profiles corrected. Each image will have its own text file."
   ]
  },
  {
   "cell_type": "code",
   "execution_count": null,
   "id": "33",
   "metadata": {},
   "outputs": [],
   "source": [
    "o_ipts.export_profiles()"
   ]
  },
  {
   "cell_type": "code",
   "execution_count": null,
   "id": "34",
   "metadata": {},
   "outputs": [],
   "source": []
  },
  {
   "cell_type": "code",
   "execution_count": null,
   "id": "35",
   "metadata": {},
   "outputs": [],
   "source": []
  }
 ],
 "metadata": {
  "kernelspec": {
   "display_name": "Python 3",
   "language": "python",
   "name": "python3"
  },
  "language_info": {
   "codemirror_mode": {
    "name": "ipython",
    "version": 3
   },
   "file_extension": ".py",
   "mimetype": "text/x-python",
   "name": "python",
   "nbconvert_exporter": "python",
   "pygments_lexer": "ipython3",
   "version": "3.7.12"
  }
 },
 "nbformat": 4,
 "nbformat_minor": 5
}
