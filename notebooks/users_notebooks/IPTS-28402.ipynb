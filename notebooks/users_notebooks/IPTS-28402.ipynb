{
 "cells": [
  {
   "cell_type": "markdown",
   "id": "590534c5",
   "metadata": {},
   "source": [
    "<img src='../__docs/__all/notebook_rules.png' />"
   ]
  },
  {
   "cell_type": "markdown",
   "id": "454ae0d7",
   "metadata": {},
   "source": [
    "**Workflow of this notebook**\n",
    "\n",
    "* **User**: select the images to work with.\n",
    "* *Notebook*: load and automatically rotate the data 90 degrees to match the algorithm orientation \n",
    "* **User**: select region to work with by cropping the raw data\n",
    "* **User**: select horizontal range of profile to combine\n",
    "* *Notebook*: use that range and combine the data using a mean\n",
    "* *Notebook*: display the profiles to work with, one profile per image loaded\n",
    "* **User**: select the position (edges) of the inner and outer cylinders\n",
    "* *Notebook*: clean the edges by removing data outside of the outer cylinder\n",
    "* *Notebook*: switch from transmission to attenuation mode\n",
    "* *Notebook*: calculate the number of counts per pixel in the outer cylinder\n",
    "* *Notebook*: apply geometry correction to all profiles\n",
    "* **User**: now working on the inner cylinder, check or redefine the edges of the inner cylinder\n",
    "* *Notebook*: apply geometry correction to inner cylinder\n",
    "* **User**: select where to output the ascii files that will contains the profiles."
   ]
  },
  {
   "cell_type": "markdown",
   "id": "fbe9a87d",
   "metadata": {},
   "source": [
    "# Python Import "
   ]
  },
  {
   "cell_type": "code",
   "execution_count": null,
   "id": "3b163f71",
   "metadata": {},
   "outputs": [],
   "source": [
    "import os\n",
    "import sys\n",
    "module_path = os.path.abspath(os.path.join('..'))\n",
    "if module_path not in sys.path:\n",
    "    sys.path.append(module_path)\n",
    "\n",
    "%matplotlib notebook\n",
    "\n",
    "from __code import system\n",
    "system.System.select_working_dir()\n",
    "\n",
    "from ipts_28402_code.ipts_28402 import IPTS_28402\n"
   ]
  },
  {
   "cell_type": "markdown",
   "id": "95dd7a94",
   "metadata": {},
   "source": [
    "# Select Images "
   ]
  },
  {
   "cell_type": "code",
   "execution_count": null,
   "id": "2b40525a",
   "metadata": {},
   "outputs": [],
   "source": [
    "o_ipts = IPTS_28402(working_dir=system.System.get_working_dir())\n",
    "o_ipts.select_images()"
   ]
  },
  {
   "cell_type": "markdown",
   "id": "ec048df0",
   "metadata": {},
   "source": [
    "# Visualize Raw Data"
   ]
  },
  {
   "cell_type": "markdown",
   "id": "57f3ddcf",
   "metadata": {},
   "source": [
    "The data are rotated 90 degrees to work with the cylindrical geometry algorithm"
   ]
  },
  {
   "cell_type": "code",
   "execution_count": null,
   "id": "c38e7c58",
   "metadata": {},
   "outputs": [],
   "source": [
    "o_ipts.visualize_raw_images()"
   ]
  },
  {
   "cell_type": "markdown",
   "id": "ea6e666a",
   "metadata": {},
   "source": [
    "# crop sample to region of interest "
   ]
  },
  {
   "cell_type": "markdown",
   "id": "739cb616",
   "metadata": {},
   "source": [
    "By playing with the **left**, **right**, **top** and **bottom** sliders, select a region surrounding the data you\n",
    "want to correct.\n",
    "<html>\n",
    "    <br>\n",
    "    <font color=\"red\">Warning:</color>\n",
    "    </html>\n",
    "Make sure you include the external cylinder (container) in the selection."
   ]
  },
  {
   "cell_type": "code",
   "execution_count": null,
   "id": "3840d87f",
   "metadata": {},
   "outputs": [],
   "source": [
    "o_ipts.select_crop_region()"
   ]
  },
  {
   "cell_type": "markdown",
   "id": "618b7c68",
   "metadata": {},
   "source": [
    "## Visualize result of cropping "
   ]
  },
  {
   "cell_type": "code",
   "execution_count": null,
   "id": "d395fe3c",
   "metadata": {},
   "outputs": [],
   "source": [
    "o_ipts.visualize_crop()"
   ]
  },
  {
   "cell_type": "markdown",
   "id": "2794fb78",
   "metadata": {},
   "source": [
    "# Selection of the profiles to correct\n",
    "\n",
    "Select the **top limit** and **bottom limit** profiles to correct. The program will integrate vertically all the counts between those two limits."
   ]
  },
  {
   "cell_type": "code",
   "execution_count": null,
   "id": "e859b7f2",
   "metadata": {},
   "outputs": [],
   "source": [
    "o_ipts.selection_of_profiles_limit()"
   ]
  },
  {
   "cell_type": "markdown",
   "id": "a22f5adf",
   "metadata": {},
   "source": [
    "# Profiles to work with "
   ]
  },
  {
   "cell_type": "code",
   "execution_count": null,
   "id": "9e13bd2a",
   "metadata": {},
   "outputs": [],
   "source": [
    "o_ipts.display_of_profiles()"
   ]
  },
  {
   "cell_type": "markdown",
   "id": "886a92e9",
   "metadata": {},
   "source": [
    "# Let's define the position of the cylinders edges "
   ]
  },
  {
   "cell_type": "code",
   "execution_count": null,
   "id": "be34511b",
   "metadata": {},
   "outputs": [],
   "source": [
    "o_ipts.cylinders_positions()"
   ]
  },
  {
   "cell_type": "markdown",
   "id": "d054cee6",
   "metadata": {},
   "source": [
    "# Cleaning edges\n",
    "\n",
    "Data outside of the cylinders must be removed. To do so, the algorithm will use the **outer_radius** value you defined in the previous cell and will only keep the data within that region."
   ]
  },
  {
   "cell_type": "code",
   "execution_count": null,
   "id": "7c7a444a",
   "metadata": {},
   "outputs": [],
   "source": [
    "o_ipts.cleaning_edges()"
   ]
  },
  {
   "cell_type": "markdown",
   "id": "cace2d1b",
   "metadata": {},
   "source": [
    "# Switching to attenuation mode  "
   ]
  },
  {
   "cell_type": "code",
   "execution_count": null,
   "id": "1019d880",
   "metadata": {},
   "outputs": [],
   "source": [
    "o_ipts.switching_to_attenuation_mode()"
   ]
  },
  {
   "cell_type": "markdown",
   "id": "da043421",
   "metadata": {},
   "source": [
    "# Calculate number of counts per pixel in outer cylinder."
   ]
  },
  {
   "cell_type": "code",
   "execution_count": null,
   "id": "9816c5d4",
   "metadata": {},
   "outputs": [],
   "source": [
    "o_ipts.outer_cylinder_geometry_correction()"
   ]
  },
  {
   "cell_type": "markdown",
   "id": "14250376",
   "metadata": {},
   "source": [
    "# Applying outer cylinder correction to all profiles"
   ]
  },
  {
   "cell_type": "code",
   "execution_count": null,
   "id": "ca3edec0",
   "metadata": {},
   "outputs": [],
   "source": [
    "o_ipts.full_profile_with_only_outer_cylinder_corrected()"
   ]
  },
  {
   "cell_type": "markdown",
   "id": "9eb6811a",
   "metadata": {},
   "source": [
    "# Working on inner cylinder "
   ]
  },
  {
   "cell_type": "markdown",
   "id": "98aac940",
   "metadata": {},
   "source": [
    "We find the center, radius and truncate outside cylinder, keeping only the data from the inner cylinder\n",
    "\n",
    "**Instructions**\n",
    "In the following plot, make sure the edges you predefined before are still matching the edge of the inner cylinder profile."
   ]
  },
  {
   "cell_type": "code",
   "execution_count": null,
   "id": "7aeb7d2f",
   "metadata": {},
   "outputs": [],
   "source": [
    "o_ipts.crop_to_inner_cylinder()"
   ]
  },
  {
   "cell_type": "code",
   "execution_count": null,
   "id": "3d112fe9",
   "metadata": {},
   "outputs": [],
   "source": [
    "o_ipts.correct_inner_cylinder_geometry()"
   ]
  },
  {
   "cell_type": "markdown",
   "id": "b6c891c9",
   "metadata": {},
   "source": [
    "# Export profile(s) corrected into text file(s)\n",
    "\n",
    "Select the folder where you want to create the text files, comma separated file, of the inner cylinder profiles corrected. Each image will have its own text file."
   ]
  },
  {
   "cell_type": "code",
   "execution_count": null,
   "id": "fc2dc5f2",
   "metadata": {},
   "outputs": [],
   "source": [
    "o_ipts.export_profiles()"
   ]
  },
  {
   "cell_type": "code",
   "execution_count": null,
   "id": "5d1a4a75",
   "metadata": {},
   "outputs": [],
   "source": []
  },
  {
   "cell_type": "code",
   "execution_count": null,
   "id": "6c751ae5",
   "metadata": {},
   "outputs": [],
   "source": []
  }
 ],
 "metadata": {
  "kernelspec": {
   "display_name": "Python 3",
   "language": "python",
   "name": "python3"
  },
  "language_info": {
   "codemirror_mode": {
    "name": "ipython",
    "version": 3
   },
   "file_extension": ".py",
   "mimetype": "text/x-python",
   "name": "python",
   "nbconvert_exporter": "python",
   "pygments_lexer": "ipython3",
   "version": "3.7.12"
  }
 },
 "nbformat": 4,
 "nbformat_minor": 5
}
