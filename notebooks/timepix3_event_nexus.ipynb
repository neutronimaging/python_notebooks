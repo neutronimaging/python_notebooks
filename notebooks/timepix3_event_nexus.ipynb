{
 "cells": [
  {
   "cell_type": "markdown",
   "metadata": {
    "run_control": {
     "frozen": false,
     "read_only": false
    }
   },
   "source": [
    "[![Notebook Tutorial](__code/__all/notebook_tutorial.png)](https://neutronimaging.ornl.gov/tutorial/notebooks/timepix3_event_nexus)\n",
    "\n",
    "<img src='__docs/__all/notebook_rules.png' />"
   ]
  },
  {
   "cell_type": "markdown",
   "metadata": {
    "run_control": {
     "frozen": false,
     "read_only": false
    }
   },
   "source": [
    "# Select Your IPTS "
   ]
  },
  {
   "cell_type": "code",
   "execution_count": null,
   "metadata": {
    "run_control": {
     "frozen": false,
     "read_only": false
    }
   },
   "outputs": [],
   "source": [
    "from __code import system\n",
    "from __code.timepix3_event_nexus.timepix3_event_nexus import Timepix3EventNexus\n",
    "\n",
    "import h5py\n",
    "\n",
    "system.System.select_working_dir(facility='SNS', instrument='SNAP')\n",
    "from __code.__all import custom_style\n",
    "custom_style.style()\n",
    "\n",
    "import matplotlib.pyplot as plt\n",
    "%matplotlib notebook"
   ]
  },
  {
   "cell_type": "markdown",
   "metadata": {},
   "source": [
    "## Prepare UI engine "
   ]
  },
  {
   "cell_type": "code",
   "execution_count": null,
   "metadata": {
    "run_control": {
     "frozen": false,
     "read_only": false
    }
   },
   "outputs": [],
   "source": [
    "# %gui qt"
   ]
  },
  {
   "cell_type": "markdown",
   "metadata": {
    "run_control": {
     "frozen": false,
     "read_only": false
    }
   },
   "source": [
    "# Select Event NeXus"
   ]
  },
  {
   "cell_type": "code",
   "execution_count": null,
   "metadata": {},
   "outputs": [],
   "source": [
    "# DEBUGGING ONLY\n",
    "\n",
    "# He3\n",
    "#working_dir = \"/Users/j35/SNS/SNAP/IPTS-30008/nexus/\"\n",
    "#working_dir = \"/Volumes/JeanHardDrive/SNS/SNAP/IPTS-30008/nexus/\"\n",
    "nexus_filename = 'SNAP_58700.nxs.h5'\n",
    "\n",
    "# MCP\n",
    "working_dir = \"/Users/j35/SNS/SNAP/IPTS-30008/nexus/\"\n",
    "nexus_filename = \"run58704_events.h5\"\n",
    "nexus_filename = \"run58575_events.h5\"\n",
    "\n",
    "o_event = Timepix3EventNexus(working_dir=system.System.get_working_dir())\n",
    "#o_event = Timepix3EventNexus(working_dir=working_dir)\n",
    "#o_event.select_nexus()\n",
    "\n",
    "import os\n",
    "nexus_file = os.path.join(working_dir, nexus_filename)\n",
    "assert os.path.exists(nexus_file)\n",
    "o_event.load_nexus(nexus_file_name=nexus_file)\n",
    "o_event.rebin_and_display_data()\n",
    "\n"
   ]
  },
  {
   "cell_type": "code",
   "execution_count": null,
   "metadata": {},
   "outputs": [],
   "source": [
    "with h5py.File(nexus_file, 'r') as f:\n",
    "    print(f['events'].keys())"
   ]
  },
  {
   "cell_type": "code",
   "execution_count": null,
   "metadata": {},
   "outputs": [],
   "source": [
    "print(len(o_event.x_array))\n",
    "print(len(o_even\n",
    "          t.y_array))\n",
    "print(len(o_event.tof_ns_array))"
   ]
  },
  {
   "cell_type": "code",
   "execution_count": null,
   "metadata": {},
   "outputs": [],
   "source": [
    "print(f\"{np.max(o_event.y_array) =}\")\n",
    "print(f\"{np.max(o_event.x_array) =}\")"
   ]
  },
  {
   "cell_type": "code",
   "execution_count": null,
   "metadata": {},
   "outputs": [],
   "source": [
    "import numpy as np\n",
    "\n",
    "working_limit = -1\n",
    "\n",
    "tof_ns_array = o_event.tof_ns_array[0:working_limit]\n",
    "x_array = o_event.x_array[0:working_limit]\n",
    "y_array = o_event.y_array[0:working_limit]\n",
    "\n",
    "nbr_bin = 10000\n",
    "\n",
    "#indexes with NaN\n",
    "index_nan = np.where(np.isnan(tof_ns_array))\n",
    "\n",
    "# remove those x, y and tof_nx\n",
    "tof_ns_array_cleaned = np.delete(tof_ns_array, index_nan)\n",
    "x_array_cleaned = np.delete(x_array, index_nan)\n",
    "y_array_cleaned = np.delete(y_array, index_nan)\n",
    "\n",
    "histo_tof, bins_tof = np.histogram(tof_ns_array_cleaned, nbr_bin)"
   ]
  },
  {
   "cell_type": "code",
   "execution_count": null,
   "metadata": {},
   "outputs": [],
   "source": [
    "# going one by one and finding in which bin they belong"
   ]
  },
  {
   "cell_type": "code",
   "execution_count": null,
   "metadata": {},
   "outputs": [],
   "source": [
    "stack_images = np.zeros((nbr_bin, 1024, 1024))\n",
    "np.shape(stack_images)"
   ]
  },
  {
   "cell_type": "code",
   "execution_count": null,
   "metadata": {},
   "outputs": [],
   "source": [
    "for _index, _tof in enumerate(tof_ns_array):\n",
    "    _array_location = np.where((bins_tof - _tof) < 0)\n",
    "    try:\n",
    "        _location = _array_location[0][-1]\n",
    "    except IndexError:\n",
    "        _location = 0\n",
    "    x = round(x_array[_index])\n",
    "    y = round(y_array[_index])\n",
    "    if (x<0) or (y<0) or (x>1023) or (y>1023):\n",
    "        continue\n",
    "        \n",
    "    stack_images[_location, y, x] += 1\n",
    "#     print(f\"{_location =}, {y =}, {x =}\")\n",
    "        "
   ]
  },
  {
   "cell_type": "markdown",
   "metadata": {},
   "source": [
    "Integrated image"
   ]
  },
  {
   "cell_type": "code",
   "execution_count": null,
   "metadata": {},
   "outputs": [],
   "source": [
    "integrated_image = np.mean(stack_images, axis=0)\n",
    "\n",
    "fig, ax = plt.subplots(figsize=(5,5),\n",
    "                      nrows=1, ncols=1)\n",
    "pt = ax.imshow(integrated_imagea)\n",
    "plt.colorbar(pt)"
   ]
  },
  {
   "cell_type": "code",
   "execution_count": null,
   "metadata": {},
   "outputs": [],
   "source": [
    "fig, ax = plt.subplots(figsize=(5,5),\n",
    "                      nrows=1, ncols=1)\n",
    "pt = ax.imshow(stack_images[100])\n",
    "plt.colorbar(pt)"
   ]
  },
  {
   "cell_type": "code",
   "execution_count": null,
   "metadata": {},
   "outputs": [],
   "source": [
    "integration = np.sum(stack_images, axis=1)\n",
    "integration = np.sum(integration, axis=1)"
   ]
  },
  {
   "cell_type": "code",
   "execution_count": null,
   "metadata": {},
   "outputs": [],
   "source": [
    "np.shape(integration)"
   ]
  },
  {
   "cell_type": "code",
   "execution_count": null,
   "metadata": {},
   "outputs": [],
   "source": [
    "fig1, ax1 = plt.subplots(figsize=(5,5),\n",
    "                      nrows=1, ncols=1,\n",
    "                        num=nexus_filename)\n",
    "ax1.plot(bins_tof[:-1], integration)\n",
    "ax1.set_xlabel(\"TOF (micros)\")\n",
    "ax1.set_ylabel(\"Mean counts of each bin\")"
   ]
  },
  {
   "cell_type": "markdown",
   "metadata": {},
   "source": [
    "# export the data inoto NeXus"
   ]
  },
  {
   "cell_type": "code",
   "execution_count": null,
   "metadata": {},
   "outputs": [],
   "source": [
    "working_dir = \"/Users/j35/SNS/SNAP/IPTS-30008/nexus/\"\n",
    "nexus_filename = \"run58575_histo.h5\"\n",
    "output_nexus_filename = os.path.join(working_dir, nexus_filename)\n",
    "assert os.path.exists(output_nexus_filename)"
   ]
  },
  {
   "cell_type": "code",
   "execution_count": null,
   "metadata": {},
   "outputs": [],
   "source": [
    "with h5py.File(output_nexus_filename, mode='w') as f:\n",
    "    f.create_group('entry/histo')\n",
    "    f.create_dataset('entry/histo/stack', data=stack_images)\n",
    "    f.create_dataset('entry/histo/number_of_bins', data=nbr_bin)\n",
    "    f.create_group('entry/infos')\n",
    "    f.create_dataset('entry/infos/input_nexus_filename', data=\"run58744_events.h5\")\n"
   ]
  },
  {
   "cell_type": "code",
   "execution_count": null,
   "metadata": {},
   "outputs": [],
   "source": []
  }
 ],
 "metadata": {
  "kernelspec": {
   "display_name": "Python 3 (ipykernel)",
   "language": "python",
   "name": "python3"
  },
  "language_info": {
   "codemirror_mode": {
    "name": "ipython",
    "version": 3
   },
   "file_extension": ".py",
   "mimetype": "text/x-python",
   "name": "python",
   "nbconvert_exporter": "python",
   "pygments_lexer": "ipython3",
   "version": "3.10.8"
  }
 },
 "nbformat": 4,
 "nbformat_minor": 2
}
