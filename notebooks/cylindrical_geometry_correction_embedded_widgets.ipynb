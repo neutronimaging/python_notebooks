{
 "cells": [
  {
   "cell_type": "markdown",
   "id": "0",
   "metadata": {},
   "source": [
    "[![Notebook Tutorial](__code/__all/notebook_tutorial.png)](https://neutronimaging.ornl.gov/cylindrical-geometry-correction-with-embedded-widgets/)\n",
    "\n",
    "<img src='__docs/__all/notebook_rules.png' />"
   ]
  },
  {
   "cell_type": "markdown",
   "id": "1",
   "metadata": {},
   "source": [
    "# Workflow of the notebook "
   ]
  },
  {
   "cell_type": "markdown",
   "id": "2",
   "metadata": {},
   "source": [
    "* **User**: select the images to work with.\n",
    "* *Notebook*: load images\n",
    "* *OPTIONAL*: **User** load config file\n",
    "* **User**: rotate the images to make sure the sample to work with is perfectly vertical\n",
    "* **User**: select region to work with by cropping the raw data\n",
    "* *OPTIONAL*: **User** export the cropped images\n",
    "* **User**: select part of the image that does not contain the sample\n",
    "* **User**: select part of the image that does contain the sample\n",
    "* *Notebook*: remove background from sample part\n",
    "* *Notebook*: display profiles\n",
    "* *Notebook*: apply geometry correction to all profiles\n",
    "* **User**: select where to output the images corrected, profiles ascii files, metadata file, and config file."
   ]
  },
  {
   "cell_type": "markdown",
   "id": "3",
   "metadata": {},
   "source": [
    "# Select your IPTS"
   ]
  },
  {
   "cell_type": "code",
   "execution_count": null,
   "id": "4",
   "metadata": {},
   "outputs": [],
   "source": [
    "%matplotlib notebook\n",
    "\n",
    "import warnings\n",
    "warnings.filterwarnings('ignore')\n",
    "\n",
    "from __code.cylindrical_geometry_correction_embedded_widgets.main import CylindricalGeometryCorrectionEmbeddedWidgets\n",
    "\n",
    "from __code import system\n",
    "system.System.select_working_dir(notebook='cylindrical_geometry_correction_embedded_widgets')\n",
    "\n",
    "from __code.__all import custom_style\n",
    "custom_style.style()"
   ]
  },
  {
   "cell_type": "markdown",
   "id": "5",
   "metadata": {},
   "source": [
    "# Select Images "
   ]
  },
  {
   "cell_type": "code",
   "execution_count": null,
   "id": "6",
   "metadata": {},
   "outputs": [],
   "source": [
    "o_ipts = CylindricalGeometryCorrectionEmbeddedWidgets(working_dir=system.System.get_working_dir())\n",
    "o_ipts.select_images()"
   ]
  },
  {
   "cell_type": "markdown",
   "id": "7",
   "metadata": {},
   "source": [
    "# Use config file (optional)\n",
    "\n",
    "Run this cell when you have a config file you saved in a previous session and wants to reload it here. This will allow you to automatically re-use the same region of interests. "
   ]
  },
  {
   "cell_type": "code",
   "execution_count": null,
   "id": "8",
   "metadata": {},
   "outputs": [],
   "source": [
    "o_ipts.select_config()"
   ]
  },
  {
   "cell_type": "markdown",
   "id": "9",
   "metadata": {},
   "source": [
    "# Visualize Raw Data"
   ]
  },
  {
   "cell_type": "code",
   "execution_count": null,
   "id": "10",
   "metadata": {},
   "outputs": [],
   "source": [
    "o_ipts.visualize_raw_images()"
   ]
  },
  {
   "cell_type": "markdown",
   "id": "11",
   "metadata": {},
   "source": [
    "# Rotate sample to make sure it's perfectly vertical\n",
    "\n",
    "Use the **vertical guide** to help you find the perfect vertical to your sample.\n",
    "\n",
    "<img src='__code/cylindrical_geometry_correction_embedded_widgets/static/example_of_bad_and_good_alignments.png' />\n",
    "\n",
    "Feel free to use the **green** and **blue** horizontal profiles helper to make sure the sample is perfectly vertical. To do so, place one of the two profile helper near the top of the sampel and the other one, near the bottom and make sure the edge is perfectly aligned top to bottom.\n",
    "\n",
    "<img src='__code/cylindrical_geometry_correction_embedded_widgets/static/example_rotation_guides.png' />"
   ]
  },
  {
   "cell_type": "code",
   "execution_count": null,
   "id": "12",
   "metadata": {},
   "outputs": [],
   "source": [
    "o_ipts.rotate_images()"
   ]
  },
  {
   "cell_type": "markdown",
   "id": "13",
   "metadata": {},
   "source": [
    "# crop sample to region of interest "
   ]
  },
  {
   "cell_type": "markdown",
   "id": "14",
   "metadata": {},
   "source": [
    "By playing with the **left**, **right**, **top** and **bottom** sliders, select a region surrounding the data you want to work with.\n",
    "\n",
    "Use the **profile marker** to make sure the crop region is tight around the sample.\n",
    "\n",
    "<html>\n",
    "    <br>\n",
    "    <font color=\"red\">Warning:</color>\n",
    "    </html>\n",
    "\n",
    "* Make sure you include the container in the selection (edges should have a value of 1)\n",
    "and \n",
    "* a part of the container without sample inside (will be used for normalization)\n",
    "\n",
    "For example:\n",
    "\n",
    "<img src='__code/cylindrical_geometry_correction_embedded_widgets/static/example_crop_region.png' />"
   ]
  },
  {
   "cell_type": "code",
   "execution_count": null,
   "id": "15",
   "metadata": {},
   "outputs": [],
   "source": [
    "o_ipts.apply_rotation()\n",
    "o_ipts.select_crop_region()"
   ]
  },
  {
   "cell_type": "markdown",
   "id": "16",
   "metadata": {},
   "source": [
    "## Export cropped images (optional)"
   ]
  },
  {
   "cell_type": "code",
   "execution_count": null,
   "id": "17",
   "metadata": {},
   "outputs": [],
   "source": [
    "o_ipts.export_cropped_images()"
   ]
  },
  {
   "cell_type": "markdown",
   "id": "18",
   "metadata": {},
   "source": [
    "# Select background\n",
    "\n",
    "Select a part of the tube that does not contain the sample. The horizontal profile of this region, integrated over the y-axis, will be used as the background signal to remove from the data.\n",
    "\n",
    "__for example:__\n",
    "\n",
    "<img src='__code/cylindrical_geometry_correction_embedded_widgets/static/example_background_selection.png' />"
   ]
  },
  {
   "cell_type": "code",
   "execution_count": null,
   "id": "19",
   "metadata": {},
   "outputs": [],
   "source": [
    "o_ipts.background_range_selection()"
   ]
  },
  {
   "cell_type": "markdown",
   "id": "20",
   "metadata": {},
   "source": [
    "# Select sample\n",
    "\n",
    "Select the **top** and **bottom** limit of your sample. \n",
    "\n",
    "__For example:__\n",
    "\n",
    "<img src='__code/cylindrical_geometry_correction_embedded_widgets/static/example_of_sample_selection.png' />\n"
   ]
  },
  {
   "cell_type": "code",
   "execution_count": null,
   "id": "21",
   "metadata": {},
   "outputs": [],
   "source": [
    "o_ipts.sample_region_selection()"
   ]
  },
  {
   "cell_type": "markdown",
   "id": "22",
   "metadata": {},
   "source": [
    "# Removing tube background from sample"
   ]
  },
  {
   "cell_type": "code",
   "execution_count": null,
   "id": "23",
   "metadata": {},
   "outputs": [],
   "source": [
    "o_ipts.remove_background_signal()"
   ]
  },
  {
   "cell_type": "markdown",
   "id": "24",
   "metadata": {},
   "source": [
    "# Profiles to work with "
   ]
  },
  {
   "cell_type": "code",
   "execution_count": null,
   "id": "25",
   "metadata": {},
   "outputs": [],
   "source": [
    "o_ipts.display_of_profiles()"
   ]
  },
  {
   "cell_type": "markdown",
   "id": "26",
   "metadata": {},
   "source": [
    "# Applying geometry correction "
   ]
  },
  {
   "cell_type": "code",
   "execution_count": null,
   "id": "27",
   "metadata": {},
   "outputs": [],
   "source": [
    "o_ipts.correct_cylinder_geometry()"
   ]
  },
  {
   "cell_type": "markdown",
   "id": "28",
   "metadata": {},
   "source": [
    "# Export \n",
    "\n",
    "This will export:\n",
    " - the corrected cropped images\n",
    " - the full horizontal profiles of each image\n",
    " - all the configuration used in this notebook (config file)"
   ]
  },
  {
   "cell_type": "code",
   "execution_count": null,
   "id": "29",
   "metadata": {},
   "outputs": [],
   "source": [
    "o_ipts.export_profiles()"
   ]
  },
  {
   "cell_type": "code",
   "execution_count": null,
   "id": "30",
   "metadata": {},
   "outputs": [],
   "source": []
  }
 ],
 "metadata": {
  "kernelspec": {
   "display_name": "Python 3 (ipykernel)",
   "language": "python",
   "name": "python3"
  },
  "language_info": {
   "codemirror_mode": {
    "name": "ipython",
    "version": 3
   },
   "file_extension": ".py",
   "mimetype": "text/x-python",
   "name": "python",
   "nbconvert_exporter": "python",
   "pygments_lexer": "ipython3",
   "version": "3.10.12"
  }
 },
 "nbformat": 4,
 "nbformat_minor": 5
}
