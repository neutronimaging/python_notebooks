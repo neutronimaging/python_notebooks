{
 "cells": [
  {
   "cell_type": "markdown",
   "metadata": {},
   "source": [
    "[![Notebook Tutorial](__code/__all/notebook_tutorial.png)](https://neutronimaging.pages.ornl.gov/tutorial/notebooks/group_images_by_cycle_for_grating_experiment)\n",
    "<img src='__docs/__all/notebook_rules.png' />"
   ]
  },
  {
   "cell_type": "markdown",
   "metadata": {
    "run_control": {
     "frozen": false,
     "read_only": false
    }
   },
   "source": [
    "# Select Your IPTS "
   ]
  },
  {
   "cell_type": "code",
   "execution_count": 1,
   "metadata": {
    "run_control": {
     "frozen": false,
     "read_only": false
    }
   },
   "outputs": [
    {
     "data": {
      "text/html": [
       "\n",
       "<style type=\"text/css\">\n",
       ".jupyter-widgets select option {font-family: \"Lucida Console\", Monaco, monospace;}\n",
       ".jupyter-widgets select {width: 98%;}\n",
       "div.output_subarea {padding: 0px;}\n",
       "div.output_subarea > div {margin: 0.4em;}\n",
       "</style>\n"
      ],
      "text/plain": [
       "<IPython.core.display.HTML object>"
      ]
     },
     "metadata": {},
     "output_type": "display_data"
    },
    {
     "data": {
      "text/html": [
       "\n",
       "<style type=\"text/css\">\n",
       ".jupyter-widgets select option {font-family: \"Lucida Console\", Monaco, monospace;}\n",
       "div.output_subarea {padding: 0px;}\n",
       "div.output_subarea > div {margin: 0.4em;}\n",
       "</style>\n"
      ],
      "text/plain": [
       "<IPython.core.display.HTML object>"
      ]
     },
     "metadata": {},
     "output_type": "display_data"
    },
    {
     "data": {
      "text/html": [
       "\n",
       "                       <style>\n",
       "                       .result_label {\n",
       "                          font-style: bold;\n",
       "                          color: red;\n",
       "                          font-size: 18px;\n",
       "                       }\n",
       "                       </style>\n",
       "                       "
      ],
      "text/plain": [
       "<IPython.core.display.HTML object>"
      ]
     },
     "metadata": {},
     "output_type": "display_data"
    },
    {
     "name": "stdout",
     "output_type": "stream",
     "text": [
      "** Using Debugging Mode! **\n"
     ]
    },
    {
     "data": {
      "application/vnd.jupyter.widget-view+json": {
       "model_id": "a8a1f2e39d37423789e4cbdaca7626e0",
       "version_major": 2,
       "version_minor": 0
      },
      "text/plain": [
       "VBox(children=(HBox(children=(Label(value='Select Instrument', layout=Layout(width='20%')), Select(layout=Layo…"
      ]
     },
     "metadata": {},
     "output_type": "display_data"
    },
    {
     "data": {
      "text/html": [
       "<style>\n",
       "\n",
       "/* The following CSS has been adapted from\n",
       "   http://nbviewer.ipython.org/github/ketch/teaching-numerics-with-notebooks/blob/master/Styling_notebooks.ipynb\n",
       "   by Aron Ahmadia and David Ketcheson and has been reused under CC BY 4.0\n",
       "   */\n",
       "\n",
       "/* main background */\n",
       "#site { \n",
       "    background: #888;\n",
       "    color: #red; \n",
       "}\n",
       "\n",
       "div.container {\n",
       "    width: 100% ! important;\n",
       "}\n",
       "\n",
       "div.cell { /* set cell width to about 80 chars */\n",
       "    width: 95%;\n",
       "}\n",
       "\n",
       "div #notebook { /* centre the content */\n",
       "/*    background: #fff; /* white background for content */\n",
       "    background: blue;\n",
       "    width: 100%;\n",
       "    margin: auto;\n",
       "    padding-left: 1em;\n",
       "    padding-right: 1em;\n",
       "    background-image: url(\"tile_background.jpg\");\n",
       "}\n",
       "\n",
       "#notebook li { /* More space between bullet points */\n",
       "    margin-top:0.4em;\n",
       "}\n",
       "\n",
       "/* change background color of running cells */\n",
       "div.cell.code_cell.running {\n",
       "/*    background-color: rgba(164,188,194,.75); */\n",
       "    background-color: green;\n",
       "    border-width: 8px\n",
       "    border-style: solid\n",
       "    border-color: #111;\n",
       "}\n",
       "\n",
       "/* Put a solid color box around each cell and its output, visually linking them together */\n",
       "div.cell.code_cell {\n",
       "    background-color: rgba(164,188,194,.25); /* Continuum L Gray with alpha 0.25 */\n",
       "    border-radius: 10px; /* rounded borders */\n",
       "    padding: 1em;\n",
       "    margin-top: 1em;\n",
       "}\n",
       "\n",
       "div.text_cell_render{\n",
       "\tfont-family: Georgia, Times, 'Times New Roman', serif;\n",
       "    line-height: 110%;\n",
       "    font-size: 105%;\n",
       "    width: 95%;\n",
       "    margin-left: auto;\n",
       "    margin-right: auto;\n",
       "}\n",
       "\n",
       "\n",
       "/* Formatting for header cells */\n",
       ".text_cell_render h1 {\n",
       "\tfont-family: Arial, 'Helvetica Neue', Helvetica, sans-serif;\n",
       "    font-weight: 400;\n",
       "    font-size: 30pt;\n",
       "    line-height: 100%;\n",
       "    color: rgb(37,55,70); /* Continuum Blue*/\n",
       "    margin-bottom: 0.1em;\n",
       "    margin-top: 0.1em;\n",
       "    display: block;\n",
       "}\n",
       ".text_cell_render h2 {\n",
       "\tfont-family: Arial, 'Helvetica Neue', Helvetica, sans-serif;\n",
       "    font-weight: 700;\n",
       "    font-size: 22pt;\n",
       "    line-height: 100%;\n",
       "    color: rgb(37,55,70);\n",
       "    margin-bottom: 0.1em;\n",
       "    margin-top: 0.1em;\n",
       "    display: block;\n",
       "}\n",
       "\n",
       ".text_cell_render h3 {\n",
       "\tfont-family: Arial, 'Helvetica Neue', Helvetica, sans-serif;\n",
       "    margin-top:12px;\n",
       "    margin-bottom: 3px;\n",
       "    font-style: italic;\n",
       "    color: rgb(37, 55, 70);\n",
       "}\n",
       "\n",
       ".text_cell_render h4 {\n",
       "\tfont-family: Arial, 'Helvetica Neue', Helvetica, sans-serif;\n",
       "}\n",
       "\n",
       ".text_cell_render h5 {\n",
       "\tfont-family: Arial, 'Helvetica Neue', Helvetica, sans-serif;\n",
       "    font-weight: 300;\n",
       "    font-size: 14pt;\n",
       "    font-style: italic;\n",
       "    margin-bottom: .1em;\n",
       "    margin-top: 0.1em;\n",
       "    display: block;\n",
       "}\n",
       "\n",
       ".text_cell_render h6 {\n",
       "\tfont-family: Arial, 'Helvetica Neue', Helvetica, sans-serif;\n",
       "    font-weight: 300;\n",
       "    font-size: 10pt;\n",
       "    margin-bottom: 1px;\n",
       "    margin-top: 1px;\n",
       "}\n",
       "\n",
       ".CodeMirror{\n",
       "        font-family: \"PT Mono\", fixed;\n",
       "        font-size: 100%;\n",
       "}\n",
       "\n",
       "#notebook_panel { /* main background */\n",
       "    background-image: url(\"tile_background.jpg\");\n",
       "}\n",
       "\n",
       "\n",
       "\n",
       "\n",
       "</style>\n"
      ],
      "text/plain": [
       "<IPython.core.display.HTML object>"
      ]
     },
     "execution_count": 1,
     "metadata": {},
     "output_type": "execute_result"
    }
   ],
   "source": [
    "import warnings\n",
    "warnings.filterwarnings('ignore')\n",
    "\n",
    "from __code.group_images_by_cycle_for_grating_experiment.group_images import GroupImages\n",
    "from __code import system\n",
    "system.System.select_working_dir()\n",
    "from __code.__all import custom_style\n",
    "custom_style.style()"
   ]
  },
  {
   "cell_type": "markdown",
   "metadata": {
    "run_control": {
     "frozen": false,
     "read_only": false
    }
   },
   "source": [
    "# Select Data to Sort"
   ]
  },
  {
   "cell_type": "code",
   "execution_count": 8,
   "metadata": {
    "run_control": {
     "frozen": false,
     "read_only": false
    }
   },
   "outputs": [
    {
     "data": {
      "application/vnd.jupyter.widget-view+json": {
       "model_id": "",
       "version_major": 2,
       "version_minor": 0
      },
      "text/plain": [
       "VBox(children=(Label(value='Select Images to Sort ...', layout=Layout(width='250px')), VBox(children=(HBox(chi…"
      ]
     },
     "metadata": {},
     "output_type": "display_data"
    },
    {
     "data": {
      "text/html": [
       "<span style=\"font-size: 15px; color:blue\">Input folder /Volumes/G-DRIVE/IPTS/IPTS-28730-gratting-CT/renamed_files/2022_04_07_LSU_MELD_ob</span><span style=\"font-size: 15px; color:green\"></span>"
      ],
      "text/plain": [
       "<IPython.core.display.HTML object>"
      ]
     },
     "metadata": {},
     "output_type": "display_data"
    },
    {
     "data": {
      "text/html": [
       "<span style=\"font-size: 15px; color:blue\">Nbr files 1092</span><span style=\"font-size: 15px; color:green\"></span>"
      ],
      "text/plain": [
       "<IPython.core.display.HTML object>"
      ]
     },
     "metadata": {},
     "output_type": "display_data"
    }
   ],
   "source": [
    "o_group = GroupImages(working_dir=system.System.get_working_dir())\n",
    "o_group.select_data_to_sort()"
   ]
  },
  {
   "cell_type": "markdown",
   "metadata": {},
   "source": [
    "# Select Metadata to Use for Sorting "
   ]
  },
  {
   "cell_type": "code",
   "execution_count": 9,
   "metadata": {},
   "outputs": [
    {
     "data": {
      "application/vnd.jupyter.widget-view+json": {
       "model_id": "b1cc29c4fdec452497fa6b315716bbd0",
       "version_major": 2,
       "version_minor": 0
      },
      "text/plain": [
       "HBox(children=(VBox(children=(HTML(value='<b>Outer Loop Metadata</b>'), HBox(children=(Label(value='Search:'),…"
      ]
     },
     "metadata": {},
     "output_type": "display_data"
    }
   ],
   "source": [
    "o_group.select_metadata_to_use_for_sorting()"
   ]
  },
  {
   "cell_type": "markdown",
   "metadata": {},
   "source": [
    "# Grouping "
   ]
  },
  {
   "cell_type": "code",
   "execution_count": 10,
   "metadata": {},
   "outputs": [
    {
     "data": {
      "application/vnd.jupyter.widget-view+json": {
       "model_id": "77a70053770747a8be550f7d520e03e0",
       "version_major": 2,
       "version_minor": 0
      },
      "text/plain": [
       "HBox(children=(VBox(children=(HTML(value='<b>Select Group</b>:'), Select(layout=Layout(height='300px', width='…"
      ]
     },
     "metadata": {},
     "output_type": "display_data"
    },
    {
     "data": {
      "application/vnd.jupyter.widget-view+json": {
       "model_id": "11df59bbfbb0437dbdaabd1c345e1d30",
       "version_major": 2,
       "version_minor": 0
      },
      "text/plain": [
       "HTML(value=\"<b><font color='blue'>INFO</font></b>: <i>if more than 1 image are in the same <b>original file na…"
      ]
     },
     "metadata": {},
     "output_type": "display_data"
    },
    {
     "data": {
      "application/vnd.jupyter.widget-view+json": {
       "model_id": "12ba40ed689b41c8992dec3f735abe7b",
       "version_major": 2,
       "version_minor": 0
      },
      "text/plain": [
       "HBox(children=(HTML(value='<b>Images are in</b>:', layout=Layout(width='150px')), Label(value='/Volumes/G-DRIV…"
      ]
     },
     "metadata": {},
     "output_type": "display_data"
    }
   ],
   "source": [
    "o_group.grouping()"
   ]
  },
  {
   "cell_type": "markdown",
   "metadata": {
    "run_control": {
     "frozen": false,
     "read_only": false
    }
   },
   "source": [
    "# Select Output Folder\n",
    "\n",
    "A folder will be created in this output folder and named after the input folder name."
   ]
  },
  {
   "cell_type": "code",
   "execution_count": 11,
   "metadata": {
    "run_control": {
     "frozen": false,
     "read_only": false
    }
   },
   "outputs": [
    {
     "data": {
      "application/vnd.jupyter.widget-view+json": {
       "model_id": "c2d6e4c14b8340dd8002e73221b950e5",
       "version_major": 2,
       "version_minor": 0
      },
      "text/plain": [
       "HBox(children=(Button(button_style='success', description='Jump to IPTS-28730-gratting-CT Shared Folder', layo…"
      ]
     },
     "metadata": {},
     "output_type": "display_data"
    },
    {
     "data": {
      "application/vnd.jupyter.widget-view+json": {
       "model_id": "",
       "version_major": 2,
       "version_minor": 0
      },
      "text/plain": [
       "VBox(children=(Label(value='select output folder', layout=Layout(width='250px')), VBox(children=(HBox(children…"
      ]
     },
     "metadata": {},
     "output_type": "display_data"
    },
    {
     "data": {
      "application/vnd.jupyter.widget-view+json": {
       "model_id": "",
       "version_major": 2,
       "version_minor": 0
      },
      "text/plain": [
       "VBox(children=(HBox(children=(HTML(value='Groups', layout=Layout(width='100px')), IntProgress(value=0, layout=…"
      ]
     },
     "metadata": {},
     "output_type": "display_data"
    },
    {
     "data": {
      "text/html": [
       "<span style=\"font-size: 15px\">Folder /Volumes/G-DRIVE/IPTS/IPTS-28730-gratting-CT/renamed_files/TEST/2022_04_07_LSU_MELD_ob_sorted_for_grating_reconstruction have been created!</span>"
      ],
      "text/plain": [
       "<IPython.core.display.HTML object>"
      ]
     },
     "metadata": {},
     "output_type": "display_data"
    }
   ],
   "source": [
    "o_group.select_output_folder()"
   ]
  },
  {
   "cell_type": "markdown",
   "metadata": {},
   "source": [
    "# Generate Angel Configuration File (Excel) "
   ]
  },
  {
   "cell_type": "code",
   "execution_count": 12,
   "metadata": {},
   "outputs": [],
   "source": [
    "%gui qt"
   ]
  },
  {
   "cell_type": "code",
   "execution_count": 13,
   "metadata": {
    "scrolled": false
   },
   "outputs": [
    {
     "data": {
      "application/vnd.jupyter.widget-view+json": {
       "model_id": "161b46e0d42d41218b60b2dac9e96357",
       "version_major": 2,
       "version_minor": 0
      },
      "text/plain": [
       "HBox(children=(HTML(value='Which columns do you want to populate?', layout=Layout(width='250px')), RadioButton…"
      ]
     },
     "metadata": {},
     "output_type": "display_data"
    },
    {
     "data": {
      "application/vnd.jupyter.widget-view+json": {
       "model_id": "3f32896b1dc7432197d0eb4b46695ddf",
       "version_major": 2,
       "version_minor": 0
      },
      "text/plain": [
       "HBox(children=(Button(description='Use previously created EXCEL File', icon='edit', layout=Layout(border='2px …"
      ]
     },
     "metadata": {},
     "output_type": "display_data"
    },
    {
     "data": {
      "application/vnd.jupyter.widget-view+json": {
       "model_id": "6f0dcc148c4a4dc997dd65c21e14eb03",
       "version_major": 2,
       "version_minor": 0
      },
      "text/plain": [
       "HTML(value='')"
      ]
     },
     "metadata": {},
     "output_type": "display_data"
    },
    {
     "data": {
      "application/vnd.jupyter.widget-view+json": {
       "model_id": "",
       "version_major": 2,
       "version_minor": 0
      },
      "text/plain": [
       "VBox(children=(Label(value='Select Excel file ...', layout=Layout(width='250px')), VBox(children=(HBox(childre…"
      ]
     },
     "metadata": {},
     "output_type": "display_data"
    },
    {
     "data": {
      "application/vnd.jupyter.widget-view+json": {
       "model_id": "41ef8779548b48479e3098a98c43b2f3",
       "version_major": 2,
       "version_minor": 0
      },
      "text/plain": [
       "VBox(children=(Label(value='Select Excel file ...', layout=Layout(width='250px')), VBox(children=(HBox(childre…"
      ]
     },
     "metadata": {},
     "output_type": "display_data"
    },
    {
     "name": "stdout",
     "output_type": "stream",
     "text": [
      "'load excel'\n",
      "                                      first_data_file  \\\n",
      "0   /Volumes/G-DRIVE/IPTS/IPTS-28730-gratting-CT/r...   \n",
      "1   /Volumes/G-DRIVE/IPTS/IPTS-28730-gratting-CT/r...   \n",
      "2   /Volumes/G-DRIVE/IPTS/IPTS-28730-gratting-CT/r...   \n",
      "3   /Volumes/G-DRIVE/IPTS/IPTS-28730-gratting-CT/r...   \n",
      "4   /Volumes/G-DRIVE/IPTS/IPTS-28730-gratting-CT/r...   \n",
      "5   /Volumes/G-DRIVE/IPTS/IPTS-28730-gratting-CT/r...   \n",
      "6   /Volumes/G-DRIVE/IPTS/IPTS-28730-gratting-CT/r...   \n",
      "7   /Volumes/G-DRIVE/IPTS/IPTS-28730-gratting-CT/r...   \n",
      "8   /Volumes/G-DRIVE/IPTS/IPTS-28730-gratting-CT/r...   \n",
      "9   /Volumes/G-DRIVE/IPTS/IPTS-28730-gratting-CT/r...   \n",
      "10  /Volumes/G-DRIVE/IPTS/IPTS-28730-gratting-CT/r...   \n",
      "11  /Volumes/G-DRIVE/IPTS/IPTS-28730-gratting-CT/r...   \n",
      "\n",
      "                                       last_data_file first_ob_file  \\\n",
      "0   /Volumes/G-DRIVE/IPTS/IPTS-28730-gratting-CT/r...          None   \n",
      "1   /Volumes/G-DRIVE/IPTS/IPTS-28730-gratting-CT/r...          None   \n",
      "2   /Volumes/G-DRIVE/IPTS/IPTS-28730-gratting-CT/r...          None   \n",
      "3   /Volumes/G-DRIVE/IPTS/IPTS-28730-gratting-CT/r...          None   \n",
      "4   /Volumes/G-DRIVE/IPTS/IPTS-28730-gratting-CT/r...          None   \n",
      "5   /Volumes/G-DRIVE/IPTS/IPTS-28730-gratting-CT/r...          None   \n",
      "6   /Volumes/G-DRIVE/IPTS/IPTS-28730-gratting-CT/r...          None   \n",
      "7   /Volumes/G-DRIVE/IPTS/IPTS-28730-gratting-CT/r...          None   \n",
      "8   /Volumes/G-DRIVE/IPTS/IPTS-28730-gratting-CT/r...          None   \n",
      "9   /Volumes/G-DRIVE/IPTS/IPTS-28730-gratting-CT/r...          None   \n",
      "10  /Volumes/G-DRIVE/IPTS/IPTS-28730-gratting-CT/r...          None   \n",
      "11  /Volumes/G-DRIVE/IPTS/IPTS-28730-gratting-CT/r...          None   \n",
      "\n",
      "   last_ob_file first_dc_file last_dc_file  period  images_per_step  rotation  \\\n",
      "0          None          None         None       1                3         0   \n",
      "1          None          None         None       1                3         0   \n",
      "2          None          None         None       1                3         0   \n",
      "3          None          None         None       1                3         0   \n",
      "4          None          None         None       1                3         0   \n",
      "5          None          None         None       1                3         0   \n",
      "6          None          None         None       1                3         0   \n",
      "7          None          None         None       1                3         0   \n",
      "8          None          None         None       1                3         0   \n",
      "9          None          None         None       1                3         0   \n",
      "10         None          None         None       1                3         0   \n",
      "11         None          None         None       1                3         0   \n",
      "\n",
      "   fit_procedure  ... dc_threshold_5x5 dc_threshold_7x7  dc_sigma_log  \\\n",
      "0         EM Fit  ...               40               60           0.8   \n",
      "1         EM Fit  ...               40               60           0.8   \n",
      "2         EM Fit  ...               40               60           0.8   \n",
      "3         EM Fit  ...               40               60           0.8   \n",
      "4         EM Fit  ...               40               60           0.8   \n",
      "5         EM Fit  ...               40               60           0.8   \n",
      "6         EM Fit  ...               40               60           0.8   \n",
      "7         EM Fit  ...               40               60           0.8   \n",
      "8         EM Fit  ...               40               60           0.8   \n",
      "9         EM Fit  ...               40               60           0.8   \n",
      "10        EM Fit  ...               40               60           0.8   \n",
      "11        EM Fit  ...               40               60           0.8   \n",
      "\n",
      "    dc_outlier_removal  dc_outlier_value  result_directory            file_id  \\\n",
      "0                  yes               1.5              None  sample_092_400000   \n",
      "1                  yes               1.5              None  sample_092_500000   \n",
      "2                  yes               1.5              None  sample_092_600000   \n",
      "3                  yes               1.5              None  sample_092_700000   \n",
      "4                  yes               1.5              None  sample_092_800000   \n",
      "5                  yes               1.5              None  sample_092_900000   \n",
      "6                  yes               1.5              None     sample_093_000   \n",
      "7                  yes               1.5              None  sample_093_100000   \n",
      "8                  yes               1.5              None  sample_093_200000   \n",
      "9                  yes               1.5              None  sample_093_300000   \n",
      "10                 yes               1.5              None  sample_093_400000   \n",
      "11                 yes               1.5              None  sample_093_500000   \n",
      "\n",
      "    sample_information  used_environment  osc_pixel  \n",
      "0                 92.4               NaN        NaN  \n",
      "1                 92.5               NaN        NaN  \n",
      "2                 92.6               NaN        NaN  \n",
      "3                 92.7               NaN        NaN  \n",
      "4                 92.8               NaN        NaN  \n",
      "5                 92.9               NaN        NaN  \n",
      "6                 93.0               NaN        NaN  \n",
      "7                 93.1               NaN        NaN  \n",
      "8                 93.2               NaN        NaN  \n",
      "9                 93.3               NaN        NaN  \n",
      "10                93.4               NaN        NaN  \n",
      "11                93.5               NaN        NaN  \n",
      "\n",
      "[12 rows x 28 columns]\n",
      "_key: 0\n",
      "-> sample_outer_value: 92.4\n",
      "-> ob_outer_value: 92.400000\n",
      "_key: 0\n",
      "-> sample_outer_value: 92.5\n",
      "-> ob_outer_value: 92.400000\n",
      "_key: 1\n",
      "-> sample_outer_value: 92.5\n",
      "-> ob_outer_value: 92.500000\n",
      "_key: 0\n",
      "-> sample_outer_value: 92.6\n",
      "-> ob_outer_value: 92.400000\n",
      "_key: 1\n",
      "-> sample_outer_value: 92.6\n",
      "-> ob_outer_value: 92.500000\n",
      "_key: 2\n",
      "-> sample_outer_value: 92.6\n",
      "-> ob_outer_value: 92.600000\n",
      "_key: 0\n",
      "-> sample_outer_value: 92.7\n",
      "-> ob_outer_value: 92.400000\n",
      "_key: 1\n",
      "-> sample_outer_value: 92.7\n",
      "-> ob_outer_value: 92.500000\n",
      "_key: 2\n",
      "-> sample_outer_value: 92.7\n",
      "-> ob_outer_value: 92.600000\n",
      "_key: 3\n",
      "-> sample_outer_value: 92.7\n",
      "-> ob_outer_value: 92.700000\n",
      "_key: 0\n",
      "-> sample_outer_value: 92.8\n",
      "-> ob_outer_value: 92.400000\n",
      "_key: 1\n",
      "-> sample_outer_value: 92.8\n",
      "-> ob_outer_value: 92.500000\n",
      "_key: 2\n",
      "-> sample_outer_value: 92.8\n",
      "-> ob_outer_value: 92.600000\n",
      "_key: 3\n",
      "-> sample_outer_value: 92.8\n",
      "-> ob_outer_value: 92.700000\n",
      "_key: 4\n",
      "-> sample_outer_value: 92.8\n",
      "-> ob_outer_value: 92.800000\n",
      "_key: 0\n",
      "-> sample_outer_value: 92.9\n",
      "-> ob_outer_value: 92.400000\n",
      "_key: 1\n",
      "-> sample_outer_value: 92.9\n",
      "-> ob_outer_value: 92.500000\n",
      "_key: 2\n",
      "-> sample_outer_value: 92.9\n",
      "-> ob_outer_value: 92.600000\n",
      "_key: 3\n",
      "-> sample_outer_value: 92.9\n",
      "-> ob_outer_value: 92.700000\n",
      "_key: 4\n",
      "-> sample_outer_value: 92.9\n",
      "-> ob_outer_value: 92.800000\n",
      "_key: 5\n",
      "-> sample_outer_value: 92.9\n",
      "-> ob_outer_value: 92.900000\n",
      "_key: 0\n",
      "-> sample_outer_value: 93.0\n",
      "-> ob_outer_value: 92.400000\n",
      "_key: 1\n",
      "-> sample_outer_value: 93.0\n",
      "-> ob_outer_value: 92.500000\n",
      "_key: 2\n",
      "-> sample_outer_value: 93.0\n",
      "-> ob_outer_value: 92.600000\n",
      "_key: 3\n",
      "-> sample_outer_value: 93.0\n",
      "-> ob_outer_value: 92.700000\n",
      "_key: 4\n",
      "-> sample_outer_value: 93.0\n",
      "-> ob_outer_value: 92.800000\n",
      "_key: 5\n",
      "-> sample_outer_value: 93.0\n",
      "-> ob_outer_value: 92.900000\n",
      "_key: 6\n",
      "-> sample_outer_value: 93.0\n",
      "-> ob_outer_value: 93.000000\n",
      "_key: 0\n",
      "-> sample_outer_value: 93.1\n",
      "-> ob_outer_value: 92.400000\n",
      "_key: 1\n",
      "-> sample_outer_value: 93.1\n",
      "-> ob_outer_value: 92.500000\n",
      "_key: 2\n",
      "-> sample_outer_value: 93.1\n",
      "-> ob_outer_value: 92.600000\n",
      "_key: 3\n",
      "-> sample_outer_value: 93.1\n",
      "-> ob_outer_value: 92.700000\n",
      "_key: 4\n",
      "-> sample_outer_value: 93.1\n",
      "-> ob_outer_value: 92.800000\n",
      "_key: 5\n",
      "-> sample_outer_value: 93.1\n",
      "-> ob_outer_value: 92.900000\n",
      "_key: 6\n",
      "-> sample_outer_value: 93.1\n",
      "-> ob_outer_value: 93.000000\n",
      "_key: 7\n",
      "-> sample_outer_value: 93.1\n",
      "-> ob_outer_value: 93.100000\n",
      "_key: 0\n",
      "-> sample_outer_value: 93.2\n",
      "-> ob_outer_value: 92.400000\n",
      "_key: 1\n",
      "-> sample_outer_value: 93.2\n",
      "-> ob_outer_value: 92.500000\n",
      "_key: 2\n",
      "-> sample_outer_value: 93.2\n",
      "-> ob_outer_value: 92.600000\n",
      "_key: 3\n",
      "-> sample_outer_value: 93.2\n",
      "-> ob_outer_value: 92.700000\n",
      "_key: 4\n",
      "-> sample_outer_value: 93.2\n",
      "-> ob_outer_value: 92.800000\n",
      "_key: 5\n",
      "-> sample_outer_value: 93.2\n",
      "-> ob_outer_value: 92.900000\n",
      "_key: 6\n",
      "-> sample_outer_value: 93.2\n",
      "-> ob_outer_value: 93.000000\n",
      "_key: 7\n",
      "-> sample_outer_value: 93.2\n",
      "-> ob_outer_value: 93.100000\n",
      "_key: 8\n",
      "-> sample_outer_value: 93.2\n",
      "-> ob_outer_value: 93.200000\n",
      "_key: 0\n",
      "-> sample_outer_value: 93.3\n",
      "-> ob_outer_value: 92.400000\n",
      "_key: 1\n",
      "-> sample_outer_value: 93.3\n",
      "-> ob_outer_value: 92.500000\n",
      "_key: 2\n",
      "-> sample_outer_value: 93.3\n",
      "-> ob_outer_value: 92.600000\n",
      "_key: 3\n",
      "-> sample_outer_value: 93.3\n",
      "-> ob_outer_value: 92.700000\n",
      "_key: 4\n",
      "-> sample_outer_value: 93.3\n",
      "-> ob_outer_value: 92.800000\n",
      "_key: 5\n",
      "-> sample_outer_value: 93.3\n",
      "-> ob_outer_value: 92.900000\n",
      "_key: 6\n",
      "-> sample_outer_value: 93.3\n",
      "-> ob_outer_value: 93.000000\n",
      "_key: 7\n",
      "-> sample_outer_value: 93.3\n",
      "-> ob_outer_value: 93.100000\n",
      "_key: 8\n",
      "-> sample_outer_value: 93.3\n",
      "-> ob_outer_value: 93.200000\n",
      "_key: 9\n",
      "-> sample_outer_value: 93.3\n",
      "-> ob_outer_value: 93.300000\n",
      "_key: 0\n",
      "-> sample_outer_value: 93.4\n",
      "-> ob_outer_value: 92.400000\n",
      "_key: 1\n",
      "-> sample_outer_value: 93.4\n",
      "-> ob_outer_value: 92.500000\n",
      "_key: 2\n",
      "-> sample_outer_value: 93.4\n",
      "-> ob_outer_value: 92.600000\n",
      "_key: 3\n",
      "-> sample_outer_value: 93.4\n",
      "-> ob_outer_value: 92.700000\n",
      "_key: 4\n",
      "-> sample_outer_value: 93.4\n",
      "-> ob_outer_value: 92.800000\n",
      "_key: 5\n",
      "-> sample_outer_value: 93.4\n",
      "-> ob_outer_value: 92.900000\n",
      "_key: 6\n",
      "-> sample_outer_value: 93.4\n",
      "-> ob_outer_value: 93.000000\n",
      "_key: 7\n",
      "-> sample_outer_value: 93.4\n",
      "-> ob_outer_value: 93.100000\n",
      "_key: 8\n",
      "-> sample_outer_value: 93.4\n",
      "-> ob_outer_value: 93.200000\n",
      "_key: 9\n",
      "-> sample_outer_value: 93.4\n",
      "-> ob_outer_value: 93.300000\n",
      "_key: 10\n",
      "-> sample_outer_value: 93.4\n",
      "-> ob_outer_value: 93.400000\n",
      "_key: 0\n",
      "-> sample_outer_value: 93.5\n",
      "-> ob_outer_value: 92.400000\n",
      "_key: 1\n",
      "-> sample_outer_value: 93.5\n",
      "-> ob_outer_value: 92.500000\n",
      "_key: 2\n",
      "-> sample_outer_value: 93.5\n",
      "-> ob_outer_value: 92.600000\n",
      "_key: 3\n",
      "-> sample_outer_value: 93.5\n",
      "-> ob_outer_value: 92.700000\n",
      "_key: 4\n",
      "-> sample_outer_value: 93.5\n",
      "-> ob_outer_value: 92.800000\n",
      "_key: 5\n",
      "-> sample_outer_value: 93.5\n",
      "-> ob_outer_value: 92.900000\n",
      "_key: 6\n",
      "-> sample_outer_value: 93.5\n",
      "-> ob_outer_value: 93.000000\n",
      "_key: 7\n",
      "-> sample_outer_value: 93.5\n",
      "-> ob_outer_value: 93.100000\n",
      "_key: 8\n",
      "-> sample_outer_value: 93.5\n",
      "-> ob_outer_value: 93.200000\n",
      "_key: 9\n",
      "-> sample_outer_value: 93.5\n",
      "-> ob_outer_value: 93.300000\n",
      "_key: 10\n",
      "-> sample_outer_value: 93.5\n",
      "-> ob_outer_value: 93.400000\n",
      "_key: 11\n",
      "-> sample_outer_value: 93.5\n",
      "-> ob_outer_value: 93.500000\n"
     ]
    },
    {
     "data": {
      "text/html": [
       "<span style=\"font-size: 15px; color:blue\">Check UI that popped up                     (maybe hidden behind this browser!)</span><span style=\"font-size: 15px; color:green\"></span>"
      ],
      "text/plain": [
       "<IPython.core.display.HTML object>"
      ]
     },
     "metadata": {},
     "output_type": "display_data"
    }
   ],
   "source": [
    "o_group.generate_angel_configuration_file()"
   ]
  },
  {
   "cell_type": "code",
   "execution_count": null,
   "metadata": {},
   "outputs": [],
   "source": []
  }
 ],
 "metadata": {
  "anaconda-cloud": {},
  "kernelspec": {
   "display_name": "Python 3",
   "language": "python",
   "name": "python3"
  },
  "language_info": {
   "codemirror_mode": {
    "name": "ipython",
    "version": 3
   },
   "file_extension": ".py",
   "mimetype": "text/x-python",
   "name": "python",
   "nbconvert_exporter": "python",
   "pygments_lexer": "ipython3",
   "version": "3.7.12"
  },
  "toc": {
   "colors": {
    "hover_highlight": "#DAA520",
    "running_highlight": "#FF0000",
    "selected_highlight": "#FFD700"
   },
   "moveMenuLeft": true,
   "nav_menu": {
    "height": "210px",
    "width": "252px"
   },
   "navigate_menu": true,
   "number_sections": true,
   "sideBar": true,
   "threshold": 4,
   "toc_cell": false,
   "toc_section_display": "block",
   "toc_window_display": false
  }
 },
 "nbformat": 4,
 "nbformat_minor": 1
}
