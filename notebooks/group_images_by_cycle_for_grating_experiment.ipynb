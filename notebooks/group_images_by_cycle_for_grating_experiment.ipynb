{
 "cells": [
  {
   "cell_type": "markdown",
   "metadata": {},
   "source": [
    "[![Notebook Tutorial](__code/__all/notebook_tutorial.png)](https://neutronimaging.pages.ornl.gov/tutorial/notebooks/group_images_by_cycle_for_grating_experiment)\n",
    "<img src='__docs/__all/notebook_rules.png' />"
   ]
  },
  {
   "cell_type": "markdown",
   "metadata": {
    "run_control": {
     "frozen": false,
     "read_only": false
    }
   },
   "source": [
    "# Select Your IPTS "
   ]
  },
  {
   "cell_type": "code",
   "execution_count": 1,
   "metadata": {
    "run_control": {
     "frozen": false,
     "read_only": false
    }
   },
   "outputs": [
    {
     "data": {
      "text/html": [
       "\n",
       "<style type=\"text/css\">\n",
       ".jupyter-widgets select option {font-family: \"Lucida Console\", Monaco, monospace;}\n",
       ".jupyter-widgets select {width: 98%;}\n",
       "div.output_subarea {padding: 0px;}\n",
       "div.output_subarea > div {margin: 0.4em;}\n",
       "</style>\n"
      ],
      "text/plain": [
       "<IPython.core.display.HTML object>"
      ]
     },
     "metadata": {},
     "output_type": "display_data"
    },
    {
     "data": {
      "text/html": [
       "\n",
       "<style type=\"text/css\">\n",
       ".jupyter-widgets select option {font-family: \"Lucida Console\", Monaco, monospace;}\n",
       "div.output_subarea {padding: 0px;}\n",
       "div.output_subarea > div {margin: 0.4em;}\n",
       "</style>\n"
      ],
      "text/plain": [
       "<IPython.core.display.HTML object>"
      ]
     },
     "metadata": {},
     "output_type": "display_data"
    },
    {
     "data": {
      "text/html": [
       "\n",
       "                       <style>\n",
       "                       .result_label {\n",
       "                          font-style: bold;\n",
       "                          color: red;\n",
       "                          font-size: 18px;\n",
       "                       }\n",
       "                       </style>\n",
       "                       "
      ],
      "text/plain": [
       "<IPython.core.display.HTML object>"
      ]
     },
     "metadata": {},
     "output_type": "display_data"
    },
    {
     "name": "stdout",
     "output_type": "stream",
     "text": [
      "** Using Debugging Mode! **\n"
     ]
    },
    {
     "data": {
      "application/vnd.jupyter.widget-view+json": {
       "model_id": "5678970198ab4aadb3abec9ad86b6668",
       "version_major": 2,
       "version_minor": 0
      },
      "text/plain": [
       "VBox(children=(HBox(children=(Label(value='Select Instrument', layout=Layout(width='20%')), Select(layout=Layo…"
      ]
     },
     "metadata": {},
     "output_type": "display_data"
    },
    {
     "data": {
      "text/html": [
       "<style>\n",
       "\n",
       "/* The following CSS has been adapted from\n",
       "   http://nbviewer.ipython.org/github/ketch/teaching-numerics-with-notebooks/blob/master/Styling_notebooks.ipynb\n",
       "   by Aron Ahmadia and David Ketcheson and has been reused under CC BY 4.0\n",
       "   */\n",
       "\n",
       "/* main background */\n",
       "#site { \n",
       "    background: #888;\n",
       "    color: #red; \n",
       "}\n",
       "\n",
       "div.container {\n",
       "    width: 100% ! important;\n",
       "}\n",
       "\n",
       "div.cell { /* set cell width to about 80 chars */\n",
       "    width: 95%;\n",
       "}\n",
       "\n",
       "div #notebook { /* centre the content */\n",
       "/*    background: #fff; /* white background for content */\n",
       "    background: blue;\n",
       "    width: 100%;\n",
       "    margin: auto;\n",
       "    padding-left: 1em;\n",
       "    padding-right: 1em;\n",
       "    background-image: url(\"tile_background.jpg\");\n",
       "}\n",
       "\n",
       "#notebook li { /* More space between bullet points */\n",
       "    margin-top:0.4em;\n",
       "}\n",
       "\n",
       "/* change background color of running cells */\n",
       "div.cell.code_cell.running {\n",
       "/*    background-color: rgba(164,188,194,.75); */\n",
       "    background-color: green;\n",
       "    border-width: 8px\n",
       "    border-style: solid\n",
       "    border-color: #111;\n",
       "}\n",
       "\n",
       "/* Put a solid color box around each cell and its output, visually linking them together */\n",
       "div.cell.code_cell {\n",
       "    background-color: rgba(164,188,194,.25); /* Continuum L Gray with alpha 0.25 */\n",
       "    border-radius: 10px; /* rounded borders */\n",
       "    padding: 1em;\n",
       "    margin-top: 1em;\n",
       "}\n",
       "\n",
       "div.text_cell_render{\n",
       "\tfont-family: Georgia, Times, 'Times New Roman', serif;\n",
       "    line-height: 110%;\n",
       "    font-size: 105%;\n",
       "    width: 95%;\n",
       "    margin-left: auto;\n",
       "    margin-right: auto;\n",
       "}\n",
       "\n",
       "\n",
       "/* Formatting for header cells */\n",
       ".text_cell_render h1 {\n",
       "\tfont-family: Arial, 'Helvetica Neue', Helvetica, sans-serif;\n",
       "    font-weight: 400;\n",
       "    font-size: 30pt;\n",
       "    line-height: 100%;\n",
       "    color: rgb(37,55,70); /* Continuum Blue*/\n",
       "    margin-bottom: 0.1em;\n",
       "    margin-top: 0.1em;\n",
       "    display: block;\n",
       "}\n",
       ".text_cell_render h2 {\n",
       "\tfont-family: Arial, 'Helvetica Neue', Helvetica, sans-serif;\n",
       "    font-weight: 700;\n",
       "    font-size: 22pt;\n",
       "    line-height: 100%;\n",
       "    color: rgb(37,55,70);\n",
       "    margin-bottom: 0.1em;\n",
       "    margin-top: 0.1em;\n",
       "    display: block;\n",
       "}\n",
       "\n",
       ".text_cell_render h3 {\n",
       "\tfont-family: Arial, 'Helvetica Neue', Helvetica, sans-serif;\n",
       "    margin-top:12px;\n",
       "    margin-bottom: 3px;\n",
       "    font-style: italic;\n",
       "    color: rgb(37, 55, 70);\n",
       "}\n",
       "\n",
       ".text_cell_render h4 {\n",
       "\tfont-family: Arial, 'Helvetica Neue', Helvetica, sans-serif;\n",
       "}\n",
       "\n",
       ".text_cell_render h5 {\n",
       "\tfont-family: Arial, 'Helvetica Neue', Helvetica, sans-serif;\n",
       "    font-weight: 300;\n",
       "    font-size: 14pt;\n",
       "    font-style: italic;\n",
       "    margin-bottom: .1em;\n",
       "    margin-top: 0.1em;\n",
       "    display: block;\n",
       "}\n",
       "\n",
       ".text_cell_render h6 {\n",
       "\tfont-family: Arial, 'Helvetica Neue', Helvetica, sans-serif;\n",
       "    font-weight: 300;\n",
       "    font-size: 10pt;\n",
       "    margin-bottom: 1px;\n",
       "    margin-top: 1px;\n",
       "}\n",
       "\n",
       ".CodeMirror{\n",
       "        font-family: \"PT Mono\", fixed;\n",
       "        font-size: 100%;\n",
       "}\n",
       "\n",
       "#notebook_panel { /* main background */\n",
       "    background-image: url(\"tile_background.jpg\");\n",
       "}\n",
       "\n",
       "\n",
       "\n",
       "\n",
       "</style>\n"
      ],
      "text/plain": [
       "<IPython.core.display.HTML object>"
      ]
     },
     "execution_count": 1,
     "metadata": {},
     "output_type": "execute_result"
    }
   ],
   "source": [
    "from __code.group_images_by_cycle_for_grating_experiment.group_images import GroupImages\n",
    "from __code import system\n",
    "system.System.select_working_dir()\n",
    "from __code.__all import custom_style\n",
    "custom_style.style()"
   ]
  },
  {
   "cell_type": "markdown",
   "metadata": {
    "run_control": {
     "frozen": false,
     "read_only": false
    }
   },
   "source": [
    "# Select Input Folder"
   ]
  },
  {
   "cell_type": "code",
   "execution_count": 2,
   "metadata": {
    "run_control": {
     "frozen": false,
     "read_only": false
    },
    "scrolled": false
   },
   "outputs": [],
   "source": [
    "# o_group = GroupImages(working_dir=system.System.get_working_dir())\n",
    "# o_group.select_input_folder()"
   ]
  },
  {
   "cell_type": "code",
   "execution_count": 3,
   "metadata": {},
   "outputs": [
    {
     "data": {
      "text/html": [
       "<span style=\"font-size: 15px; color:blue\">Input folder /Volumes/G-DRIVE/IPTS/IPTS-28730-gratting-CT/renamed_files/2022_04_07_LSU_MELD_new_tomo_renamed</span><span style=\"font-size: 15px; color:green\"></span>"
      ],
      "text/plain": [
       "<IPython.core.display.HTML object>"
      ]
     },
     "metadata": {},
     "output_type": "display_data"
    },
    {
     "data": {
      "text/html": [
       "<span style=\"font-size: 15px; color:blue\">Nbr files 20</span><span style=\"font-size: 15px; color:green\"></span>"
      ],
      "text/plain": [
       "<IPython.core.display.HTML object>"
      ]
     },
     "metadata": {},
     "output_type": "display_data"
    }
   ],
   "source": [
    "# FOR DEBUGGING ONLY\n",
    "import glob\n",
    "list_files = glob.glob(\"/Volumes/G-DRIVE/IPTS/IPTS-28730-gratting-CT/renamed_files/2022_04_07_LSU_MELD_new_tomo_renamed/*.tiff\")\n",
    "list_files = list_files[:20]\n",
    "o_group = GroupImages(working_dir=\"/Volumes/G-DRIVE/IPTS/IPTS-28730-gratting-CT/renamed_files\")\n",
    "o_group.info_files_selected(list_files)\n",
    "                       "
   ]
  },
  {
   "cell_type": "markdown",
   "metadata": {},
   "source": [
    "# Select Metadata to Use for Sorting "
   ]
  },
  {
   "cell_type": "code",
   "execution_count": 4,
   "metadata": {
    "scrolled": false
   },
   "outputs": [
    {
     "data": {
      "application/vnd.jupyter.widget-view+json": {
       "model_id": "1aa031e5be8b4c30b814edc3d2cc0673",
       "version_major": 2,
       "version_minor": 0
      },
      "text/plain": [
       "HBox(children=(VBox(children=(HTML(value='<b>Outer Loop Metadata</b>'), HBox(children=(Label(value='Search:'),…"
      ]
     },
     "metadata": {},
     "output_type": "display_data"
    }
   ],
   "source": [
    "o_group.select_metadata_to_use_for_sorting()"
   ]
  },
  {
   "cell_type": "markdown",
   "metadata": {},
   "source": [
    "# Grouping "
   ]
  },
  {
   "cell_type": "code",
   "execution_count": 5,
   "metadata": {
    "scrolled": false
   },
   "outputs": [
    {
     "data": {
      "application/vnd.jupyter.widget-view+json": {
       "model_id": "d145513c7441418b8e9fe8a8d365d94a",
       "version_major": 2,
       "version_minor": 0
      },
      "text/plain": [
       "HBox(children=(VBox(children=(HTML(value='<b>Select Group</b>:'), Select(layout=Layout(height='300px', width='…"
      ]
     },
     "metadata": {},
     "output_type": "display_data"
    },
    {
     "data": {
      "application/vnd.jupyter.widget-view+json": {
       "model_id": "78d21b2f9eec4b4b9c16eb63b44cac36",
       "version_major": 2,
       "version_minor": 0
      },
      "text/plain": [
       "HTML(value=\"<b><font color='blue'>INFO</font></b>: <i>if more than 1 image are in the same <b>original file na…"
      ]
     },
     "metadata": {},
     "output_type": "display_data"
    },
    {
     "data": {
      "application/vnd.jupyter.widget-view+json": {
       "model_id": "b3a396a37ba544248714fd404cfbb9f5",
       "version_major": 2,
       "version_minor": 0
      },
      "text/plain": [
       "HBox(children=(HTML(value='<b>Images are in</b>:', layout=Layout(width='150px')), Label(value='/Volumes/G-DRIV…"
      ]
     },
     "metadata": {},
     "output_type": "display_data"
    }
   ],
   "source": [
    "o_group.display_groups()"
   ]
  },
  {
   "cell_type": "markdown",
   "metadata": {
    "run_control": {
     "frozen": false,
     "read_only": false
    }
   },
   "source": [
    "# Select Output Folder\n",
    "\n",
    "A folder will be created in this output folder and named after the input folder name."
   ]
  },
  {
   "cell_type": "code",
   "execution_count": 6,
   "metadata": {
    "run_control": {
     "frozen": false,
     "read_only": false
    },
    "scrolled": false
   },
   "outputs": [
    {
     "data": {
      "application/vnd.jupyter.widget-view+json": {
       "model_id": "ce5549ce14454e40ad77431c9b48781b",
       "version_major": 2,
       "version_minor": 0
      },
      "text/plain": [
       "VBox(children=(Label(value='select output folder', layout=Layout(width='250px')), VBox(children=(HBox(children…"
      ]
     },
     "metadata": {},
     "output_type": "display_data"
    }
   ],
   "source": [
    "o_group.select_output_folder()"
   ]
  },
  {
   "cell_type": "markdown",
   "metadata": {},
   "source": [
    "# Generate Angel Configuration File (Excel) "
   ]
  },
  {
   "cell_type": "code",
   "execution_count": 7,
   "metadata": {},
   "outputs": [],
   "source": [
    "%gui qt"
   ]
  },
  {
   "cell_type": "code",
   "execution_count": 8,
   "metadata": {
    "scrolled": false
   },
   "outputs": [
    {
     "data": {
      "application/vnd.jupyter.widget-view+json": {
       "model_id": "2cefda2b3ae348b993c8f5432bab532f",
       "version_major": 2,
       "version_minor": 0
      },
      "text/plain": [
       "HBox(children=(Button(description='Use previously created EXCEL File', icon='edit', layout=Layout(border='2px …"
      ]
     },
     "metadata": {},
     "output_type": "display_data"
    },
    {
     "data": {
      "application/vnd.jupyter.widget-view+json": {
       "model_id": "fc8b55aa324d4dc892417ab44379e333",
       "version_major": 2,
       "version_minor": 0
      },
      "text/plain": [
       "HTML(value='')"
      ]
     },
     "metadata": {},
     "output_type": "display_data"
    },
    {
     "data": {
      "application/vnd.jupyter.widget-view+json": {
       "model_id": "",
       "version_major": 2,
       "version_minor": 0
      },
      "text/plain": [
       "VBox(children=(Label(value='Select Excel file ...', layout=Layout(width='250px')), VBox(children=(HBox(childre…"
      ]
     },
     "metadata": {},
     "output_type": "display_data"
    },
    {
     "data": {
      "text/html": [
       "<span style=\"font-size: 15px; color:blue\">Check UI that popped up                     (maybe hidden behind this browser!)</span><span style=\"font-size: 15px; color:green\"></span>"
      ],
      "text/plain": [
       "<IPython.core.display.HTML object>"
      ]
     },
     "metadata": {},
     "output_type": "display_data"
    },
    {
     "name": "stdout",
     "output_type": "stream",
     "text": [
      "row: 0\n",
      "first_data_file         group_000_000_0000.tiff\n",
      "last_data_file          group_000_000_0000.tiff\n",
      "first_ob_file                               NaN\n",
      "last_ob_file                                NaN\n",
      "first_dc_file                              None\n",
      "last_dc_file                               None\n",
      "period                                        1\n",
      "images_per_step                               3\n",
      "rotation                                      0\n",
      "fit_procedure                            EM Fit\n",
      "roi                      [700, 1300, 280, 1920]\n",
      "gamma_filter_data/ob                        yes\n",
      "data_threshold_3x3                           35\n",
      "data_threshold_5x5                           55\n",
      "data_threshold_7x7                           80\n",
      "data_sigma_log                              0.8\n",
      "gamma_filter_dc                             yes\n",
      "dc_threshold_3x3                             20\n",
      "dc_threshold_5x5                             40\n",
      "dc_threshold_7x7                             60\n",
      "dc_sigma_log                                0.8\n",
      "dc_outlier_removal                          yes\n",
      "dc_outlier_value                            1.5\n",
      "result_directory                           None\n",
      "file_id                                    None\n",
      "sample_information                          NaN\n",
      "used_environment                            NaN\n",
      "osc_pixel                                   NaN\n",
      "Name: 0, dtype: object\n",
      "row: 1\n",
      "first_data_file         group_002_000_0000.tiff\n",
      "last_data_file          group_002_000_0000.tiff\n",
      "first_ob_file                               NaN\n",
      "last_ob_file                                NaN\n",
      "first_dc_file                              None\n",
      "last_dc_file                               None\n",
      "period                                        1\n",
      "images_per_step                               3\n",
      "rotation                                      0\n",
      "fit_procedure                            EM Fit\n",
      "roi                      [700, 1300, 280, 1920]\n",
      "gamma_filter_data/ob                        yes\n",
      "data_threshold_3x3                           35\n",
      "data_threshold_5x5                           55\n",
      "data_threshold_7x7                           80\n",
      "data_sigma_log                              0.8\n",
      "gamma_filter_dc                             yes\n",
      "dc_threshold_3x3                             20\n",
      "dc_threshold_5x5                             40\n",
      "dc_threshold_7x7                             60\n",
      "dc_sigma_log                                0.8\n",
      "dc_outlier_removal                          yes\n",
      "dc_outlier_value                            1.5\n",
      "result_directory                           None\n",
      "file_id                                    None\n",
      "sample_information                          NaN\n",
      "used_environment                            NaN\n",
      "osc_pixel                                   NaN\n",
      "Name: 1, dtype: object\n",
      "row: 2\n",
      "first_data_file         group_004_000_0000.tiff\n",
      "last_data_file          group_004_000_0000.tiff\n",
      "first_ob_file                               NaN\n",
      "last_ob_file                                NaN\n",
      "first_dc_file                              None\n",
      "last_dc_file                               None\n",
      "period                                        1\n",
      "images_per_step                               3\n",
      "rotation                                      0\n",
      "fit_procedure                            EM Fit\n",
      "roi                      [700, 1300, 280, 1920]\n",
      "gamma_filter_data/ob                        yes\n",
      "data_threshold_3x3                           35\n",
      "data_threshold_5x5                           55\n",
      "data_threshold_7x7                           80\n",
      "data_sigma_log                              0.8\n",
      "gamma_filter_dc                             yes\n",
      "dc_threshold_3x3                             20\n",
      "dc_threshold_5x5                             40\n",
      "dc_threshold_7x7                             60\n",
      "dc_sigma_log                                0.8\n",
      "dc_outlier_removal                          yes\n",
      "dc_outlier_value                            1.5\n",
      "result_directory                           None\n",
      "file_id                                    None\n",
      "sample_information                          NaN\n",
      "used_environment                            NaN\n",
      "osc_pixel                                   NaN\n",
      "Name: 2, dtype: object\n",
      "row: 3\n",
      "first_data_file         group_006_000_0000.tiff\n",
      "last_data_file          group_006_000_0000.tiff\n",
      "first_ob_file                               NaN\n",
      "last_ob_file                                NaN\n",
      "first_dc_file                              None\n",
      "last_dc_file                               None\n",
      "period                                        1\n",
      "images_per_step                               3\n",
      "rotation                                      0\n",
      "fit_procedure                            EM Fit\n",
      "roi                      [700, 1300, 280, 1920]\n",
      "gamma_filter_data/ob                        yes\n",
      "data_threshold_3x3                           35\n",
      "data_threshold_5x5                           55\n",
      "data_threshold_7x7                           80\n",
      "data_sigma_log                              0.8\n",
      "gamma_filter_dc                             yes\n",
      "dc_threshold_3x3                             20\n",
      "dc_threshold_5x5                             40\n",
      "dc_threshold_7x7                             60\n",
      "dc_sigma_log                                0.8\n",
      "dc_outlier_removal                          yes\n",
      "dc_outlier_value                            1.5\n",
      "result_directory                           None\n",
      "file_id                                    None\n",
      "sample_information                          NaN\n",
      "used_environment                            NaN\n",
      "osc_pixel                                   NaN\n",
      "Name: 3, dtype: object\n",
      "row: 4\n",
      "first_data_file         group_008_000_0000.tiff\n",
      "last_data_file          group_008_000_0000.tiff\n",
      "first_ob_file                               NaN\n",
      "last_ob_file                                NaN\n",
      "first_dc_file                              None\n",
      "last_dc_file                               None\n",
      "period                                        1\n",
      "images_per_step                               3\n",
      "rotation                                      0\n",
      "fit_procedure                            EM Fit\n",
      "roi                      [700, 1300, 280, 1920]\n",
      "gamma_filter_data/ob                        yes\n",
      "data_threshold_3x3                           35\n",
      "data_threshold_5x5                           55\n",
      "data_threshold_7x7                           80\n",
      "data_sigma_log                              0.8\n",
      "gamma_filter_dc                             yes\n",
      "dc_threshold_3x3                             20\n",
      "dc_threshold_5x5                             40\n",
      "dc_threshold_7x7                             60\n",
      "dc_sigma_log                                0.8\n",
      "dc_outlier_removal                          yes\n",
      "dc_outlier_value                            1.5\n",
      "result_directory                           None\n",
      "file_id                                    None\n",
      "sample_information                          NaN\n",
      "used_environment                            NaN\n",
      "osc_pixel                                   NaN\n",
      "Name: 4, dtype: object\n",
      "row: 5\n",
      "first_data_file         group_010_000_0000.tiff\n",
      "last_data_file          group_010_000_0000.tiff\n",
      "first_ob_file                               NaN\n",
      "last_ob_file                                NaN\n",
      "first_dc_file                              None\n",
      "last_dc_file                               None\n",
      "period                                        1\n",
      "images_per_step                               3\n",
      "rotation                                      0\n",
      "fit_procedure                            EM Fit\n",
      "roi                      [700, 1300, 280, 1920]\n",
      "gamma_filter_data/ob                        yes\n",
      "data_threshold_3x3                           35\n",
      "data_threshold_5x5                           55\n",
      "data_threshold_7x7                           80\n",
      "data_sigma_log                              0.8\n",
      "gamma_filter_dc                             yes\n",
      "dc_threshold_3x3                             20\n",
      "dc_threshold_5x5                             40\n",
      "dc_threshold_7x7                             60\n",
      "dc_sigma_log                                0.8\n",
      "dc_outlier_removal                          yes\n",
      "dc_outlier_value                            1.5\n",
      "result_directory                           None\n",
      "file_id                                    None\n",
      "sample_information                          NaN\n",
      "used_environment                            NaN\n",
      "osc_pixel                                   NaN\n",
      "Name: 5, dtype: object\n",
      "row: 6\n",
      "first_data_file         group_012_000_0000.tiff\n",
      "last_data_file          group_012_000_0000.tiff\n",
      "first_ob_file                               NaN\n",
      "last_ob_file                                NaN\n",
      "first_dc_file                              None\n",
      "last_dc_file                               None\n",
      "period                                        1\n",
      "images_per_step                               3\n",
      "rotation                                      0\n",
      "fit_procedure                            EM Fit\n",
      "roi                      [700, 1300, 280, 1920]\n",
      "gamma_filter_data/ob                        yes\n",
      "data_threshold_3x3                           35\n",
      "data_threshold_5x5                           55\n",
      "data_threshold_7x7                           80\n",
      "data_sigma_log                              0.8\n",
      "gamma_filter_dc                             yes\n",
      "dc_threshold_3x3                             20\n",
      "dc_threshold_5x5                             40\n",
      "dc_threshold_7x7                             60\n",
      "dc_sigma_log                                0.8\n",
      "dc_outlier_removal                          yes\n",
      "dc_outlier_value                            1.5\n",
      "result_directory                           None\n",
      "file_id                                    None\n",
      "sample_information                          NaN\n",
      "used_environment                            NaN\n",
      "osc_pixel                                   NaN\n",
      "Name: 6, dtype: object\n",
      "row: 7\n",
      "first_data_file         group_014_000_0000.tiff\n",
      "last_data_file          group_014_000_0000.tiff\n",
      "first_ob_file                               NaN\n",
      "last_ob_file                                NaN\n",
      "first_dc_file                              None\n",
      "last_dc_file                               None\n",
      "period                                        1\n",
      "images_per_step                               3\n",
      "rotation                                      0\n",
      "fit_procedure                            EM Fit\n",
      "roi                      [700, 1300, 280, 1920]\n",
      "gamma_filter_data/ob                        yes\n",
      "data_threshold_3x3                           35\n",
      "data_threshold_5x5                           55\n",
      "data_threshold_7x7                           80\n",
      "data_sigma_log                              0.8\n",
      "gamma_filter_dc                             yes\n",
      "dc_threshold_3x3                             20\n",
      "dc_threshold_5x5                             40\n",
      "dc_threshold_7x7                             60\n",
      "dc_sigma_log                                0.8\n",
      "dc_outlier_removal                          yes\n",
      "dc_outlier_value                            1.5\n",
      "result_directory                           None\n",
      "file_id                                    None\n",
      "sample_information                          NaN\n",
      "used_environment                            NaN\n",
      "osc_pixel                                   NaN\n",
      "Name: 7, dtype: object\n",
      "row: 8\n",
      "first_data_file         group_016_000_0000.tiff\n",
      "last_data_file          group_016_000_0000.tiff\n",
      "first_ob_file                               NaN\n",
      "last_ob_file                                NaN\n",
      "first_dc_file                              None\n",
      "last_dc_file                               None\n",
      "period                                        1\n",
      "images_per_step                               3\n",
      "rotation                                      0\n",
      "fit_procedure                            EM Fit\n",
      "roi                      [700, 1300, 280, 1920]\n",
      "gamma_filter_data/ob                        yes\n",
      "data_threshold_3x3                           35\n",
      "data_threshold_5x5                           55\n",
      "data_threshold_7x7                           80\n",
      "data_sigma_log                              0.8\n",
      "gamma_filter_dc                             yes\n",
      "dc_threshold_3x3                             20\n",
      "dc_threshold_5x5                             40\n",
      "dc_threshold_7x7                             60\n",
      "dc_sigma_log                                0.8\n",
      "dc_outlier_removal                          yes\n",
      "dc_outlier_value                            1.5\n",
      "result_directory                           None\n",
      "file_id                                    None\n",
      "sample_information                          NaN\n",
      "used_environment                            NaN\n",
      "osc_pixel                                   NaN\n",
      "Name: 8, dtype: object\n",
      "row: 9\n",
      "first_data_file         group_018_000_0000.tiff\n",
      "last_data_file          group_018_000_0000.tiff\n",
      "first_ob_file                               NaN\n",
      "last_ob_file                                NaN\n",
      "first_dc_file                              None\n",
      "last_dc_file                               None\n",
      "period                                        1\n",
      "images_per_step                               3\n",
      "rotation                                      0\n",
      "fit_procedure                            EM Fit\n",
      "roi                      [700, 1300, 280, 1920]\n",
      "gamma_filter_data/ob                        yes\n",
      "data_threshold_3x3                           35\n",
      "data_threshold_5x5                           55\n",
      "data_threshold_7x7                           80\n",
      "data_sigma_log                              0.8\n",
      "gamma_filter_dc                             yes\n",
      "dc_threshold_3x3                             20\n",
      "dc_threshold_5x5                             40\n",
      "dc_threshold_7x7                             60\n",
      "dc_sigma_log                                0.8\n",
      "dc_outlier_removal                          yes\n",
      "dc_outlier_value                            1.5\n",
      "result_directory                           None\n",
      "file_id                                    None\n",
      "sample_information                          NaN\n",
      "used_environment                            NaN\n",
      "osc_pixel                                   NaN\n",
      "Name: 9, dtype: object\n",
      "row: 10\n",
      "first_data_file         group_020_000_0000.tiff\n",
      "last_data_file          group_020_000_0000.tiff\n",
      "first_ob_file                               NaN\n",
      "last_ob_file                                NaN\n",
      "first_dc_file                              None\n",
      "last_dc_file                               None\n",
      "period                                        1\n",
      "images_per_step                               3\n",
      "rotation                                      0\n",
      "fit_procedure                            EM Fit\n",
      "roi                      [700, 1300, 280, 1920]\n",
      "gamma_filter_data/ob                        yes\n",
      "data_threshold_3x3                           35\n",
      "data_threshold_5x5                           55\n",
      "data_threshold_7x7                           80\n",
      "data_sigma_log                              0.8\n",
      "gamma_filter_dc                             yes\n",
      "dc_threshold_3x3                             20\n",
      "dc_threshold_5x5                             40\n",
      "dc_threshold_7x7                             60\n",
      "dc_sigma_log                                0.8\n",
      "dc_outlier_removal                          yes\n",
      "dc_outlier_value                            1.5\n",
      "result_directory                           None\n",
      "file_id                                    None\n",
      "sample_information                          NaN\n",
      "used_environment                            NaN\n",
      "osc_pixel                                   NaN\n",
      "Name: 10, dtype: object\n",
      "row: 11\n",
      "first_data_file         group_022_000_0000.tiff\n",
      "last_data_file          group_022_000_0000.tiff\n",
      "first_ob_file                               NaN\n",
      "last_ob_file                                NaN\n",
      "first_dc_file                              None\n",
      "last_dc_file                               None\n",
      "period                                        1\n",
      "images_per_step                               3\n",
      "rotation                                      0\n",
      "fit_procedure                            EM Fit\n",
      "roi                      [700, 1300, 280, 1920]\n",
      "gamma_filter_data/ob                        yes\n",
      "data_threshold_3x3                           35\n",
      "data_threshold_5x5                           55\n",
      "data_threshold_7x7                           80\n",
      "data_sigma_log                              0.8\n",
      "gamma_filter_dc                             yes\n",
      "dc_threshold_3x3                             20\n",
      "dc_threshold_5x5                             40\n",
      "dc_threshold_7x7                             60\n",
      "dc_sigma_log                                0.8\n",
      "dc_outlier_removal                          yes\n",
      "dc_outlier_value                            1.5\n",
      "result_directory                           None\n",
      "file_id                                    None\n",
      "sample_information                          NaN\n",
      "used_environment                            NaN\n",
      "osc_pixel                                   NaN\n",
      "Name: 11, dtype: object\n",
      "row: 12\n",
      "first_data_file         group_024_000_0000.tiff\n",
      "last_data_file          group_024_000_0000.tiff\n",
      "first_ob_file                               NaN\n",
      "last_ob_file                                NaN\n",
      "first_dc_file                              None\n",
      "last_dc_file                               None\n",
      "period                                        1\n",
      "images_per_step                               3\n",
      "rotation                                      0\n",
      "fit_procedure                            EM Fit\n",
      "roi                      [700, 1300, 280, 1920]\n",
      "gamma_filter_data/ob                        yes\n",
      "data_threshold_3x3                           35\n",
      "data_threshold_5x5                           55\n",
      "data_threshold_7x7                           80\n",
      "data_sigma_log                              0.8\n",
      "gamma_filter_dc                             yes\n",
      "dc_threshold_3x3                             20\n",
      "dc_threshold_5x5                             40\n",
      "dc_threshold_7x7                             60\n",
      "dc_sigma_log                                0.8\n",
      "dc_outlier_removal                          yes\n",
      "dc_outlier_value                            1.5\n",
      "result_directory                           None\n",
      "file_id                                    None\n",
      "sample_information                          NaN\n",
      "used_environment                            NaN\n",
      "osc_pixel                                   NaN\n",
      "Name: 12, dtype: object\n",
      "row: 13\n",
      "first_data_file         group_026_000_0000.tiff\n",
      "last_data_file          group_026_000_0000.tiff\n",
      "first_ob_file                               NaN\n",
      "last_ob_file                                NaN\n",
      "first_dc_file                              None\n",
      "last_dc_file                               None\n",
      "period                                        1\n",
      "images_per_step                               3\n",
      "rotation                                      0\n",
      "fit_procedure                            EM Fit\n",
      "roi                      [700, 1300, 280, 1920]\n",
      "gamma_filter_data/ob                        yes\n",
      "data_threshold_3x3                           35\n",
      "data_threshold_5x5                           55\n",
      "data_threshold_7x7                           80\n",
      "data_sigma_log                              0.8\n",
      "gamma_filter_dc                             yes\n",
      "dc_threshold_3x3                             20\n",
      "dc_threshold_5x5                             40\n",
      "dc_threshold_7x7                             60\n",
      "dc_sigma_log                                0.8\n",
      "dc_outlier_removal                          yes\n",
      "dc_outlier_value                            1.5\n",
      "result_directory                           None\n",
      "file_id                                    None\n",
      "sample_information                          NaN\n",
      "used_environment                            NaN\n",
      "osc_pixel                                   NaN\n",
      "Name: 13, dtype: object\n",
      "row: 14\n",
      "first_data_file         group_028_000_0000.tiff\n",
      "last_data_file          group_028_000_0000.tiff\n",
      "first_ob_file                               NaN\n",
      "last_ob_file                                NaN\n",
      "first_dc_file                              None\n",
      "last_dc_file                               None\n",
      "period                                        1\n",
      "images_per_step                               3\n",
      "rotation                                      0\n",
      "fit_procedure                            EM Fit\n",
      "roi                      [700, 1300, 280, 1920]\n",
      "gamma_filter_data/ob                        yes\n",
      "data_threshold_3x3                           35\n",
      "data_threshold_5x5                           55\n",
      "data_threshold_7x7                           80\n",
      "data_sigma_log                              0.8\n",
      "gamma_filter_dc                             yes\n",
      "dc_threshold_3x3                             20\n",
      "dc_threshold_5x5                             40\n",
      "dc_threshold_7x7                             60\n",
      "dc_sigma_log                                0.8\n",
      "dc_outlier_removal                          yes\n",
      "dc_outlier_value                            1.5\n",
      "result_directory                           None\n",
      "file_id                                    None\n",
      "sample_information                          NaN\n",
      "used_environment                            NaN\n",
      "osc_pixel                                   NaN\n",
      "Name: 14, dtype: object\n",
      "row: 15\n",
      "first_data_file         group_030_000_0000.tiff\n",
      "last_data_file          group_030_000_0000.tiff\n",
      "first_ob_file                               NaN\n",
      "last_ob_file                                NaN\n",
      "first_dc_file                              None\n",
      "last_dc_file                               None\n",
      "period                                        1\n",
      "images_per_step                               3\n",
      "rotation                                      0\n",
      "fit_procedure                            EM Fit\n",
      "roi                      [700, 1300, 280, 1920]\n",
      "gamma_filter_data/ob                        yes\n",
      "data_threshold_3x3                           35\n",
      "data_threshold_5x5                           55\n",
      "data_threshold_7x7                           80\n",
      "data_sigma_log                              0.8\n",
      "gamma_filter_dc                             yes\n",
      "dc_threshold_3x3                             20\n",
      "dc_threshold_5x5                             40\n",
      "dc_threshold_7x7                             60\n",
      "dc_sigma_log                                0.8\n",
      "dc_outlier_removal                          yes\n",
      "dc_outlier_value                            1.5\n",
      "result_directory                           None\n",
      "file_id                                    None\n",
      "sample_information                          NaN\n",
      "used_environment                            NaN\n",
      "osc_pixel                                   NaN\n",
      "Name: 15, dtype: object\n",
      "row: 16\n",
      "first_data_file         group_032_000_0000.tiff\n",
      "last_data_file          group_032_000_0000.tiff\n",
      "first_ob_file                               NaN\n",
      "last_ob_file                                NaN\n",
      "first_dc_file                              None\n",
      "last_dc_file                               None\n",
      "period                                        1\n",
      "images_per_step                               3\n",
      "rotation                                      0\n",
      "fit_procedure                            EM Fit\n",
      "roi                      [700, 1300, 280, 1920]\n",
      "gamma_filter_data/ob                        yes\n",
      "data_threshold_3x3                           35\n",
      "data_threshold_5x5                           55\n",
      "data_threshold_7x7                           80\n",
      "data_sigma_log                              0.8\n",
      "gamma_filter_dc                             yes\n",
      "dc_threshold_3x3                             20\n",
      "dc_threshold_5x5                             40\n",
      "dc_threshold_7x7                             60\n",
      "dc_sigma_log                                0.8\n",
      "dc_outlier_removal                          yes\n",
      "dc_outlier_value                            1.5\n",
      "result_directory                           None\n",
      "file_id                                    None\n",
      "sample_information                          NaN\n",
      "used_environment                            NaN\n",
      "osc_pixel                                   NaN\n",
      "Name: 16, dtype: object\n",
      "row: 17\n",
      "first_data_file         group_034_000_0000.tiff\n",
      "last_data_file          group_034_000_0000.tiff\n",
      "first_ob_file                               NaN\n",
      "last_ob_file                                NaN\n",
      "first_dc_file                              None\n",
      "last_dc_file                               None\n",
      "period                                        1\n",
      "images_per_step                               3\n",
      "rotation                                      0\n",
      "fit_procedure                            EM Fit\n",
      "roi                      [700, 1300, 280, 1920]\n",
      "gamma_filter_data/ob                        yes\n",
      "data_threshold_3x3                           35\n",
      "data_threshold_5x5                           55\n",
      "data_threshold_7x7                           80\n",
      "data_sigma_log                              0.8\n",
      "gamma_filter_dc                             yes\n",
      "dc_threshold_3x3                             20\n",
      "dc_threshold_5x5                             40\n",
      "dc_threshold_7x7                             60\n",
      "dc_sigma_log                                0.8\n",
      "dc_outlier_removal                          yes\n",
      "dc_outlier_value                            1.5\n",
      "result_directory                           None\n",
      "file_id                                    None\n",
      "sample_information                          NaN\n",
      "used_environment                            NaN\n",
      "osc_pixel                                   NaN\n",
      "Name: 17, dtype: object\n",
      "row: 18\n",
      "first_data_file         group_036_000_0000.tiff\n",
      "last_data_file          group_036_000_0000.tiff\n",
      "first_ob_file                               NaN\n",
      "last_ob_file                                NaN\n",
      "first_dc_file                              None\n",
      "last_dc_file                               None\n",
      "period                                        1\n",
      "images_per_step                               3\n",
      "rotation                                      0\n",
      "fit_procedure                            EM Fit\n",
      "roi                      [700, 1300, 280, 1920]\n",
      "gamma_filter_data/ob                        yes\n",
      "data_threshold_3x3                           35\n",
      "data_threshold_5x5                           55\n",
      "data_threshold_7x7                           80\n",
      "data_sigma_log                              0.8\n",
      "gamma_filter_dc                             yes\n",
      "dc_threshold_3x3                             20\n",
      "dc_threshold_5x5                             40\n",
      "dc_threshold_7x7                             60\n",
      "dc_sigma_log                                0.8\n",
      "dc_outlier_removal                          yes\n",
      "dc_outlier_value                            1.5\n",
      "result_directory                           None\n",
      "file_id                                    None\n",
      "sample_information                          NaN\n",
      "used_environment                            NaN\n",
      "osc_pixel                                   NaN\n",
      "Name: 18, dtype: object\n"
     ]
    }
   ],
   "source": [
    "o_group.generate_angel_configuration_file()"
   ]
  },
  {
   "cell_type": "code",
   "execution_count": null,
   "metadata": {},
   "outputs": [],
   "source": []
  },
  {
   "cell_type": "code",
   "execution_count": null,
   "metadata": {},
   "outputs": [],
   "source": []
  },
  {
   "cell_type": "code",
   "execution_count": null,
   "metadata": {},
   "outputs": [],
   "source": []
  }
 ],
 "metadata": {
  "anaconda-cloud": {},
  "kernelspec": {
   "display_name": "Python 3",
   "language": "python",
   "name": "python3"
  },
  "language_info": {
   "codemirror_mode": {
    "name": "ipython",
    "version": 3
   },
   "file_extension": ".py",
   "mimetype": "text/x-python",
   "name": "python",
   "nbconvert_exporter": "python",
   "pygments_lexer": "ipython3",
   "version": "3.7.12"
  },
  "toc": {
   "colors": {
    "hover_highlight": "#DAA520",
    "running_highlight": "#FF0000",
    "selected_highlight": "#FFD700"
   },
   "moveMenuLeft": true,
   "nav_menu": {
    "height": "210px",
    "width": "252px"
   },
   "navigate_menu": true,
   "number_sections": true,
   "sideBar": true,
   "threshold": 4,
   "toc_cell": false,
   "toc_section_display": "block",
   "toc_window_display": false
  }
 },
 "nbformat": 4,
 "nbformat_minor": 1
}
