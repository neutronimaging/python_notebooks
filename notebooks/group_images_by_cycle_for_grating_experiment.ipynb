{
 "cells": [
  {
   "cell_type": "markdown",
   "metadata": {},
   "source": [
    "[![Notebook Tutorial](__code/__all/notebook_tutorial.png)](https://neutronimaging.pages.ornl.gov/tutorial/notebooks/group_images_by_cycle_for_grating_experiment)\n",
    "<img src='__docs/__all/notebook_rules.png' />"
   ]
  },
  {
   "cell_type": "markdown",
   "metadata": {
    "run_control": {
     "frozen": false,
     "read_only": false
    }
   },
   "source": [
    "# Select Your IPTS "
   ]
  },
  {
   "cell_type": "code",
   "execution_count": 1,
   "metadata": {
    "run_control": {
     "frozen": false,
     "read_only": false
    }
   },
   "outputs": [
    {
     "data": {
      "text/html": [
       "\n",
       "<style type=\"text/css\">\n",
       ".jupyter-widgets select option {font-family: \"Lucida Console\", Monaco, monospace;}\n",
       ".jupyter-widgets select {width: 98%;}\n",
       "div.output_subarea {padding: 0px;}\n",
       "div.output_subarea > div {margin: 0.4em;}\n",
       "</style>\n"
      ],
      "text/plain": [
       "<IPython.core.display.HTML object>"
      ]
     },
     "metadata": {},
     "output_type": "display_data"
    },
    {
     "data": {
      "text/html": [
       "\n",
       "                       <style>\n",
       "                       .result_label {\n",
       "                          font-style: bold;\n",
       "                          color: red;\n",
       "                          font-size: 18px;\n",
       "                       }\n",
       "                       </style>\n",
       "                       "
      ],
      "text/plain": [
       "<IPython.core.display.HTML object>"
      ]
     },
     "metadata": {},
     "output_type": "display_data"
    },
    {
     "name": "stdout",
     "output_type": "stream",
     "text": [
      "** Using Debugging Mode! **\n"
     ]
    },
    {
     "data": {
      "application/vnd.jupyter.widget-view+json": {
       "model_id": "b7567136d6064b72aff67af56f585567",
       "version_major": 2,
       "version_minor": 0
      },
      "text/plain": [
       "VBox(children=(HBox(children=(Label(value='Select Instrument', layout=Layout(width='20%')), Select(layout=Layo…"
      ]
     },
     "metadata": {},
     "output_type": "display_data"
    },
    {
     "data": {
      "text/html": [
       "<style>\n",
       "\n",
       "/* The following CSS has been adapted from\n",
       "   http://nbviewer.ipython.org/github/ketch/teaching-numerics-with-notebooks/blob/master/Styling_notebooks.ipynb\n",
       "   by Aron Ahmadia and David Ketcheson and has been reused under CC BY 4.0\n",
       "   */\n",
       "\n",
       "/* main background */\n",
       "#site { \n",
       "    background: #888;\n",
       "    color: #red; \n",
       "}\n",
       "\n",
       "div.container {\n",
       "    width: 100% ! important;\n",
       "}\n",
       "\n",
       "div.cell { /* set cell width to about 80 chars */\n",
       "    width: 95%;\n",
       "}\n",
       "\n",
       "div #notebook { /* centre the content */\n",
       "/*    background: #fff; /* white background for content */\n",
       "    background: blue;\n",
       "    width: 100%;\n",
       "    margin: auto;\n",
       "    padding-left: 1em;\n",
       "    padding-right: 1em;\n",
       "    background-image: url(\"tile_background.jpg\");\n",
       "}\n",
       "\n",
       "#notebook li { /* More space between bullet points */\n",
       "    margin-top:0.4em;\n",
       "}\n",
       "\n",
       "/* change background color of running cells */\n",
       "div.cell.code_cell.running {\n",
       "/*    background-color: rgba(164,188,194,.75); */\n",
       "    background-color: green;\n",
       "    border-width: 8px\n",
       "    border-style: solid\n",
       "    border-color: #111;\n",
       "}\n",
       "\n",
       "/* Put a solid color box around each cell and its output, visually linking them together */\n",
       "div.cell.code_cell {\n",
       "    background-color: rgba(164,188,194,.25); /* Continuum L Gray with alpha 0.25 */\n",
       "    border-radius: 10px; /* rounded borders */\n",
       "    padding: 1em;\n",
       "    margin-top: 1em;\n",
       "}\n",
       "\n",
       "div.text_cell_render{\n",
       "\tfont-family: Georgia, Times, 'Times New Roman', serif;\n",
       "    line-height: 110%;\n",
       "    font-size: 105%;\n",
       "    width: 95%;\n",
       "    margin-left: auto;\n",
       "    margin-right: auto;\n",
       "}\n",
       "\n",
       "\n",
       "/* Formatting for header cells */\n",
       ".text_cell_render h1 {\n",
       "\tfont-family: Arial, 'Helvetica Neue', Helvetica, sans-serif;\n",
       "    font-weight: 400;\n",
       "    font-size: 30pt;\n",
       "    line-height: 100%;\n",
       "    color: rgb(37,55,70); /* Continuum Blue*/\n",
       "    margin-bottom: 0.1em;\n",
       "    margin-top: 0.1em;\n",
       "    display: block;\n",
       "}\n",
       ".text_cell_render h2 {\n",
       "\tfont-family: Arial, 'Helvetica Neue', Helvetica, sans-serif;\n",
       "    font-weight: 700;\n",
       "    font-size: 22pt;\n",
       "    line-height: 100%;\n",
       "    color: rgb(37,55,70);\n",
       "    margin-bottom: 0.1em;\n",
       "    margin-top: 0.1em;\n",
       "    display: block;\n",
       "}\n",
       "\n",
       ".text_cell_render h3 {\n",
       "\tfont-family: Arial, 'Helvetica Neue', Helvetica, sans-serif;\n",
       "    margin-top:12px;\n",
       "    margin-bottom: 3px;\n",
       "    font-style: italic;\n",
       "    color: rgb(37, 55, 70);\n",
       "}\n",
       "\n",
       ".text_cell_render h4 {\n",
       "\tfont-family: Arial, 'Helvetica Neue', Helvetica, sans-serif;\n",
       "}\n",
       "\n",
       ".text_cell_render h5 {\n",
       "\tfont-family: Arial, 'Helvetica Neue', Helvetica, sans-serif;\n",
       "    font-weight: 300;\n",
       "    font-size: 14pt;\n",
       "    font-style: italic;\n",
       "    margin-bottom: .1em;\n",
       "    margin-top: 0.1em;\n",
       "    display: block;\n",
       "}\n",
       "\n",
       ".text_cell_render h6 {\n",
       "\tfont-family: Arial, 'Helvetica Neue', Helvetica, sans-serif;\n",
       "    font-weight: 300;\n",
       "    font-size: 10pt;\n",
       "    margin-bottom: 1px;\n",
       "    margin-top: 1px;\n",
       "}\n",
       "\n",
       ".CodeMirror{\n",
       "        font-family: \"PT Mono\", fixed;\n",
       "        font-size: 100%;\n",
       "}\n",
       "\n",
       "#notebook_panel { /* main background */\n",
       "    background-image: url(\"tile_background.jpg\");\n",
       "}\n",
       "\n",
       "\n",
       "\n",
       "\n",
       "</style>\n"
      ],
      "text/plain": [
       "<IPython.core.display.HTML object>"
      ]
     },
     "execution_count": 1,
     "metadata": {},
     "output_type": "execute_result"
    }
   ],
   "source": [
    "from __code.group_images_by_cycle_for_grating_experiment.group_images import GroupImages\n",
    "from __code import system\n",
    "system.System.select_working_dir()\n",
    "from __code.__all import custom_style\n",
    "custom_style.style()"
   ]
  },
  {
   "cell_type": "markdown",
   "metadata": {
    "run_control": {
     "frozen": false,
     "read_only": false
    }
   },
   "source": [
    "# Select Input Folder"
   ]
  },
  {
   "cell_type": "code",
   "execution_count": 2,
   "metadata": {
    "run_control": {
     "frozen": false,
     "read_only": false
    },
    "scrolled": false
   },
   "outputs": [],
   "source": [
    "# o_group = GroupImages(working_dir=system.System.get_working_dir())\n",
    "# o_group.select_input_folder()"
   ]
  },
  {
   "cell_type": "code",
   "execution_count": 3,
   "metadata": {},
   "outputs": [
    {
     "data": {
      "text/html": [
       "<span style=\"font-size: 15px; color:blue\">Input folder /Volumes/G-DRIVE/IPTS/IPTS-28730-gratting-CT/renamed_files/2022_04_07_LSU_MELD_new_tomo_renamed</span><span style=\"font-size: 15px; color:green\"></span>"
      ],
      "text/plain": [
       "<IPython.core.display.HTML object>"
      ]
     },
     "metadata": {},
     "output_type": "display_data"
    },
    {
     "data": {
      "text/html": [
       "<span style=\"font-size: 15px; color:blue\">Nbr files 1093</span><span style=\"font-size: 15px; color:green\"></span>"
      ],
      "text/plain": [
       "<IPython.core.display.HTML object>"
      ]
     },
     "metadata": {},
     "output_type": "display_data"
    }
   ],
   "source": [
    "# FOR DEBUGGING ONLY\n",
    "import glob\n",
    "list_files = glob.glob(\"/Volumes/G-DRIVE/IPTS/IPTS-28730-gratting-CT/renamed_files/2022_04_07_LSU_MELD_new_tomo_renamed/*.tiff\")\n",
    "o_group = GroupImages(working_dir=\"/Volumes/G-DRIVE/IPTS/IPTS-28730-gratting-CT/renamed_files\")\n",
    "o_group.info_files_selected(list_files)\n",
    "                       "
   ]
  },
  {
   "cell_type": "markdown",
   "metadata": {},
   "source": [
    "# Select Metadata to Use for Sorting "
   ]
  },
  {
   "cell_type": "code",
   "execution_count": 4,
   "metadata": {
    "scrolled": false
   },
   "outputs": [
    {
     "data": {
      "application/vnd.jupyter.widget-view+json": {
       "model_id": "fc4cec34bb5046eeac8cef08eb468435",
       "version_major": 2,
       "version_minor": 0
      },
      "text/plain": [
       "HBox(children=(VBox(children=(HTML(value='<b>Outer Loop Metadata</b>'), HBox(children=(Label(value='Search:'),…"
      ]
     },
     "metadata": {},
     "output_type": "display_data"
    }
   ],
   "source": [
    "o_group.select_metadata_to_use_for_sorting()"
   ]
  },
  {
   "cell_type": "markdown",
   "metadata": {},
   "source": [
    "# Grouping "
   ]
  },
  {
   "cell_type": "code",
   "execution_count": 5,
   "metadata": {
    "scrolled": false
   },
   "outputs": [
    {
     "data": {
      "application/vnd.jupyter.widget-view+json": {
       "model_id": "9f97d34e680a41598f93bb8f419dcb4b",
       "version_major": 2,
       "version_minor": 0
      },
      "text/plain": [
       "HBox(children=(VBox(children=(HTML(value='<b>Select Group</b>:'), Select(layout=Layout(height='300px', width='…"
      ]
     },
     "metadata": {},
     "output_type": "display_data"
    },
    {
     "data": {
      "application/vnd.jupyter.widget-view+json": {
       "model_id": "df62e7bbed934d9da350b35bd0c4e926",
       "version_major": 2,
       "version_minor": 0
      },
      "text/plain": [
       "HBox(children=(Label(value='Images are in:', layout=Layout(width='150px')), Label(value='/Volumes/G-DRIVE/IPTS…"
      ]
     },
     "metadata": {},
     "output_type": "display_data"
    },
    {
     "name": "stdout",
     "output_type": "stream",
     "text": [
      "file_selected: image_0498.tiff\n",
      "list_file_selected: ['image_0498.tiff']\n",
      "file_selected: image_0498.tiff\n",
      "full_file_name_selected: /Volumes/G-DRIVE/IPTS/IPTS-28730-gratting-CT/renamed_files/2022_04_07_LSU_MELD_new_tomo_renamed/image_0498.tiff\n",
      "string_to_display: RotationActual: 0.000000\n",
      "MotG0X: 92.500000\n",
      "\n",
      "list_new_names: ['group_000_000_0000.tiff', 'group_000_000_0001.tiff', 'group_000_000_0002.tiff', 'group_000_000_0003.tiff', 'group_000_000_0004.tiff', 'group_000_000_0005.tiff', 'group_000_000_0006.tiff', 'group_000_000_0007.tiff', 'group_000_000_0008.tiff', 'group_000_000_0009.tiff', 'group_000_000_0010.tiff', 'group_000_000_0011.tiff']\n",
      "file_selected: image_0592.tiff\n",
      "list_file_selected: ['image_0592.tiff']\n",
      "file_selected: image_0592.tiff\n",
      "full_file_name_selected: /Volumes/G-DRIVE/IPTS/IPTS-28730-gratting-CT/renamed_files/2022_04_07_LSU_MELD_new_tomo_renamed/image_0592.tiff\n",
      "string_to_display: RotationActual: 0.000000\n",
      "MotG0X: 92.600000\n",
      "\n",
      "list_new_names: ['group_000_000_0000.tiff', 'group_000_000_0001.tiff', 'group_000_000_0002.tiff', 'group_000_000_0003.tiff', 'group_000_000_0004.tiff', 'group_000_000_0005.tiff', 'group_000_000_0006.tiff', 'group_000_000_0007.tiff', 'group_000_000_0008.tiff', 'group_000_000_0009.tiff', 'group_000_000_0010.tiff', 'group_000_000_0011.tiff']\n",
      "file_selected: image_0404.tiff, image_04041.tiff\n",
      "list_file_selected: ['image_0404.tiff', 'image_04041.tiff']\n",
      "file_selected: image_0404.tiff\n",
      "full_file_name_selected: /Volumes/G-DRIVE/IPTS/IPTS-28730-gratting-CT/renamed_files/2022_04_07_LSU_MELD_new_tomo_renamed/image_0404.tiff\n",
      "string_to_display: RotationActual: 0.000000\n",
      "MotG0X: 92.400000\n",
      "\n",
      "list_new_names: ['group_000_000_0000.tiff', 'group_000_000_0001.tiff', 'group_000_000_0002.tiff', 'group_000_000_0003.tiff', 'group_000_000_0004.tiff', 'group_000_000_0005.tiff', 'group_000_000_0006.tiff', 'group_000_000_0007.tiff', 'group_000_000_0008.tiff', 'group_000_000_0009.tiff', 'group_000_000_0010.tiff', 'group_000_000_0011.tiff']\n",
      "file_selected: image_0686.tiff\n",
      "list_file_selected: ['image_0686.tiff']\n",
      "file_selected: image_0686.tiff\n",
      "full_file_name_selected: /Volumes/G-DRIVE/IPTS/IPTS-28730-gratting-CT/renamed_files/2022_04_07_LSU_MELD_new_tomo_renamed/image_0686.tiff\n",
      "string_to_display: RotationActual: 0.000000\n",
      "MotG0X: 92.700000\n",
      "\n",
      "list_new_names: ['group_000_000_0000.tiff', 'group_000_000_0001.tiff', 'group_000_000_0002.tiff', 'group_000_000_0003.tiff', 'group_000_000_0004.tiff', 'group_000_000_0005.tiff', 'group_000_000_0006.tiff', 'group_000_000_0007.tiff', 'group_000_000_0008.tiff', 'group_000_000_0009.tiff', 'group_000_000_0010.tiff', 'group_000_000_0011.tiff']\n",
      "file_selected: image_0874.tiff\n",
      "list_file_selected: ['image_0874.tiff']\n",
      "file_selected: image_0874.tiff\n",
      "full_file_name_selected: /Volumes/G-DRIVE/IPTS/IPTS-28730-gratting-CT/renamed_files/2022_04_07_LSU_MELD_new_tomo_renamed/image_0874.tiff\n",
      "string_to_display: RotationActual: 0.000000\n",
      "MotG0X: 92.900000\n",
      "\n",
      "list_new_names: ['group_000_000_0000.tiff', 'group_000_000_0001.tiff', 'group_000_000_0002.tiff', 'group_000_000_0003.tiff', 'group_000_000_0004.tiff', 'group_000_000_0005.tiff', 'group_000_000_0006.tiff', 'group_000_000_0007.tiff', 'group_000_000_0008.tiff', 'group_000_000_0009.tiff', 'group_000_000_0010.tiff', 'group_000_000_0011.tiff']\n",
      "file_selected: image_0968.tiff\n",
      "list_file_selected: ['image_0968.tiff']\n",
      "file_selected: image_0968.tiff\n",
      "full_file_name_selected: /Volumes/G-DRIVE/IPTS/IPTS-28730-gratting-CT/renamed_files/2022_04_07_LSU_MELD_new_tomo_renamed/image_0968.tiff\n",
      "string_to_display: RotationActual: 0.000000\n",
      "MotG0X: 93.000000\n",
      "\n",
      "list_new_names: ['group_000_000_0000.tiff', 'group_000_000_0001.tiff', 'group_000_000_0002.tiff', 'group_000_000_0003.tiff', 'group_000_000_0004.tiff', 'group_000_000_0005.tiff', 'group_000_000_0006.tiff', 'group_000_000_0007.tiff', 'group_000_000_0008.tiff', 'group_000_000_0009.tiff', 'group_000_000_0010.tiff', 'group_000_000_0011.tiff']\n",
      "file_selected: image_1062.tiff\n",
      "list_file_selected: ['image_1062.tiff']\n",
      "file_selected: image_1062.tiff\n",
      "full_file_name_selected: /Volumes/G-DRIVE/IPTS/IPTS-28730-gratting-CT/renamed_files/2022_04_07_LSU_MELD_new_tomo_renamed/image_1062.tiff\n",
      "string_to_display: RotationActual: 0.000000\n",
      "MotG0X: 93.100000\n",
      "\n",
      "list_new_names: ['group_000_000_0000.tiff', 'group_000_000_0001.tiff', 'group_000_000_0002.tiff', 'group_000_000_0003.tiff', 'group_000_000_0004.tiff', 'group_000_000_0005.tiff', 'group_000_000_0006.tiff', 'group_000_000_0007.tiff', 'group_000_000_0008.tiff', 'group_000_000_0009.tiff', 'group_000_000_0010.tiff', 'group_000_000_0011.tiff']\n",
      "file_selected: image_0686.tiff\n",
      "list_file_selected: ['image_0686.tiff']\n",
      "file_selected: image_0686.tiff\n",
      "full_file_name_selected: /Volumes/G-DRIVE/IPTS/IPTS-28730-gratting-CT/renamed_files/2022_04_07_LSU_MELD_new_tomo_renamed/image_0686.tiff\n",
      "string_to_display: RotationActual: 0.000000\n",
      "MotG0X: 92.700000\n",
      "\n",
      "list_new_names: ['group_000_000_0000.tiff', 'group_000_000_0001.tiff', 'group_000_000_0002.tiff', 'group_000_000_0003.tiff', 'group_000_000_0004.tiff', 'group_000_000_0005.tiff', 'group_000_000_0006.tiff', 'group_000_000_0007.tiff', 'group_000_000_0008.tiff', 'group_000_000_0009.tiff', 'group_000_000_0010.tiff', 'group_000_000_0011.tiff']\n",
      "file_selected: image_0405.tiff\n",
      "list_file_selected: ['image_0405.tiff']\n",
      "file_selected: image_0405.tiff\n",
      "full_file_name_selected: /Volumes/G-DRIVE/IPTS/IPTS-28730-gratting-CT/renamed_files/2022_04_07_LSU_MELD_new_tomo_renamed/image_0405.tiff\n",
      "string_to_display: RotationActual: 2.000000\n",
      "MotG0X: 92.400000\n",
      "\n",
      "list_new_names: ['group_000_000_0000.tiff', 'group_000_000_0001.tiff', 'group_000_000_0002.tiff', 'group_000_000_0003.tiff', 'group_000_000_0004.tiff', 'group_000_000_0005.tiff', 'group_000_000_0006.tiff', 'group_000_000_0007.tiff', 'group_000_000_0008.tiff', 'group_000_000_0009.tiff', 'group_000_000_0010.tiff', 'group_000_000_0011.tiff']\n",
      "file_selected: image_0406.tiff\n",
      "list_file_selected: ['image_0406.tiff']\n",
      "file_selected: image_0406.tiff\n",
      "full_file_name_selected: /Volumes/G-DRIVE/IPTS/IPTS-28730-gratting-CT/renamed_files/2022_04_07_LSU_MELD_new_tomo_renamed/image_0406.tiff\n",
      "string_to_display: RotationActual: 4.000000\n",
      "MotG0X: 92.400000\n",
      "\n",
      "list_new_names: ['group_002_000_0000.tiff', 'group_002_000_0001.tiff', 'group_002_000_0002.tiff', 'group_002_000_0003.tiff', 'group_002_000_0004.tiff', 'group_002_000_0005.tiff', 'group_002_000_0006.tiff', 'group_002_000_0007.tiff', 'group_002_000_0008.tiff', 'group_002_000_0009.tiff', 'group_002_000_0010.tiff', 'group_002_000_0011.tiff']\n",
      "file_selected: image_0500.tiff\n",
      "list_file_selected: ['image_0500.tiff']\n",
      "file_selected: image_0500.tiff\n",
      "full_file_name_selected: /Volumes/G-DRIVE/IPTS/IPTS-28730-gratting-CT/renamed_files/2022_04_07_LSU_MELD_new_tomo_renamed/image_0500.tiff\n",
      "string_to_display: RotationActual: 4.000000\n",
      "MotG0X: 92.500000\n",
      "\n",
      "list_new_names: ['group_004_000_0000.tiff', 'group_004_000_0001.tiff', 'group_004_000_0002.tiff', 'group_004_000_0003.tiff', 'group_004_000_0004.tiff', 'group_004_000_0005.tiff', 'group_004_000_0006.tiff', 'group_004_000_0007.tiff', 'group_004_000_0008.tiff', 'group_004_000_0009.tiff', 'group_004_000_0010.tiff', 'group_004_000_0011.tiff']\n",
      "file_selected: image_0688.tiff\n",
      "list_file_selected: ['image_0688.tiff']\n",
      "file_selected: image_0688.tiff\n",
      "full_file_name_selected: /Volumes/G-DRIVE/IPTS/IPTS-28730-gratting-CT/renamed_files/2022_04_07_LSU_MELD_new_tomo_renamed/image_0688.tiff\n",
      "string_to_display: RotationActual: 4.000000\n",
      "MotG0X: 92.700000\n",
      "\n",
      "list_new_names: ['group_004_000_0000.tiff', 'group_004_000_0001.tiff', 'group_004_000_0002.tiff', 'group_004_000_0003.tiff', 'group_004_000_0004.tiff', 'group_004_000_0005.tiff', 'group_004_000_0006.tiff', 'group_004_000_0007.tiff', 'group_004_000_0008.tiff', 'group_004_000_0009.tiff', 'group_004_000_0010.tiff', 'group_004_000_0011.tiff']\n",
      "file_selected: image_0406.tiff\n",
      "list_file_selected: ['image_0406.tiff']\n",
      "file_selected: image_0406.tiff\n",
      "full_file_name_selected: /Volumes/G-DRIVE/IPTS/IPTS-28730-gratting-CT/renamed_files/2022_04_07_LSU_MELD_new_tomo_renamed/image_0406.tiff\n",
      "string_to_display: RotationActual: 4.000000\n",
      "MotG0X: 92.400000\n",
      "\n",
      "list_new_names: ['group_004_000_0000.tiff', 'group_004_000_0001.tiff', 'group_004_000_0002.tiff', 'group_004_000_0003.tiff', 'group_004_000_0004.tiff', 'group_004_000_0005.tiff', 'group_004_000_0006.tiff', 'group_004_000_0007.tiff', 'group_004_000_0008.tiff', 'group_004_000_0009.tiff', 'group_004_000_0010.tiff', 'group_004_000_0011.tiff']\n"
     ]
    },
    {
     "name": "stdout",
     "output_type": "stream",
     "text": [
      "file_selected: image_0404.tiff, image_04041.tiff\n",
      "list_file_selected: ['image_0404.tiff', 'image_04041.tiff']\n",
      "file_selected: image_0404.tiff\n",
      "full_file_name_selected: /Volumes/G-DRIVE/IPTS/IPTS-28730-gratting-CT/renamed_files/2022_04_07_LSU_MELD_new_tomo_renamed/image_0404.tiff\n",
      "string_to_display: RotationActual: 0.000000\n",
      "MotG0X: 92.400000\n",
      "\n",
      "list_new_names: ['group_004_000_0000.tiff', 'group_004_000_0001.tiff', 'group_004_000_0002.tiff', 'group_004_000_0003.tiff', 'group_004_000_0004.tiff', 'group_004_000_0005.tiff', 'group_004_000_0006.tiff', 'group_004_000_0007.tiff', 'group_004_000_0008.tiff', 'group_004_000_0009.tiff', 'group_004_000_0010.tiff', 'group_004_000_0011.tiff']\n"
     ]
    }
   ],
   "source": [
    "o_group.display_groups()"
   ]
  },
  {
   "cell_type": "markdown",
   "metadata": {
    "run_control": {
     "frozen": false,
     "read_only": false
    }
   },
   "source": [
    "# Select Output Folder\n",
    "\n",
    "A folder will be created in this output folder and named after the input folder name."
   ]
  },
  {
   "cell_type": "code",
   "execution_count": 6,
   "metadata": {
    "run_control": {
     "frozen": false,
     "read_only": false
    }
   },
   "outputs": [
    {
     "data": {
      "application/vnd.jupyter.widget-view+json": {
       "model_id": "",
       "version_major": 2,
       "version_minor": 0
      },
      "text/plain": [
       "VBox(children=(Label(value='select output folder', layout=Layout(width='250px')), VBox(children=(HBox(children…"
      ]
     },
     "metadata": {},
     "output_type": "display_data"
    }
   ],
   "source": [
    "o_group.select_output_folder()"
   ]
  },
  {
   "cell_type": "code",
   "execution_count": null,
   "metadata": {},
   "outputs": [],
   "source": []
  }
 ],
 "metadata": {
  "anaconda-cloud": {},
  "kernelspec": {
   "display_name": "Python 3",
   "language": "python",
   "name": "python3"
  },
  "language_info": {
   "codemirror_mode": {
    "name": "ipython",
    "version": 3
   },
   "file_extension": ".py",
   "mimetype": "text/x-python",
   "name": "python",
   "nbconvert_exporter": "python",
   "pygments_lexer": "ipython3",
   "version": "3.7.12"
  },
  "toc": {
   "colors": {
    "hover_highlight": "#DAA520",
    "running_highlight": "#FF0000",
    "selected_highlight": "#FFD700"
   },
   "moveMenuLeft": true,
   "nav_menu": {
    "height": "210px",
    "width": "252px"
   },
   "navigate_menu": true,
   "number_sections": true,
   "sideBar": true,
   "threshold": 4,
   "toc_cell": false,
   "toc_section_display": "block",
   "toc_window_display": false
  }
 },
 "nbformat": 4,
 "nbformat_minor": 1
}
