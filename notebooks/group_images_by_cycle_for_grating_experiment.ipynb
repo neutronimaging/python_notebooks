{
 "cells": [
  {
   "cell_type": "markdown",
   "metadata": {},
   "source": [
    "[![Notebook Tutorial](__code/__all/notebook_tutorial.png)](https://neutronimaging.pages.ornl.gov/tutorial/notebooks/group_images_by_cycle_for_grating_experiment)\n",
    "<img src='__docs/__all/notebook_rules.png' />"
   ]
  },
  {
   "cell_type": "markdown",
   "metadata": {
    "run_control": {
     "frozen": false,
     "read_only": false
    }
   },
   "source": [
    "# Select Your IPTS "
   ]
  },
  {
   "cell_type": "code",
   "execution_count": 1,
   "metadata": {
    "run_control": {
     "frozen": false,
     "read_only": false
    }
   },
   "outputs": [
    {
     "data": {
      "text/html": [
       "\n",
       "<style type=\"text/css\">\n",
       ".jupyter-widgets select option {font-family: \"Lucida Console\", Monaco, monospace;}\n",
       ".jupyter-widgets select {width: 98%;}\n",
       "div.output_subarea {padding: 0px;}\n",
       "div.output_subarea > div {margin: 0.4em;}\n",
       "</style>\n"
      ],
      "text/plain": [
       "<IPython.core.display.HTML object>"
      ]
     },
     "metadata": {},
     "output_type": "display_data"
    },
    {
     "data": {
      "text/html": [
       "\n",
       "<style type=\"text/css\">\n",
       ".jupyter-widgets select option {font-family: \"Lucida Console\", Monaco, monospace;}\n",
       "div.output_subarea {padding: 0px;}\n",
       "div.output_subarea > div {margin: 0.4em;}\n",
       "</style>\n"
      ],
      "text/plain": [
       "<IPython.core.display.HTML object>"
      ]
     },
     "metadata": {},
     "output_type": "display_data"
    },
    {
     "data": {
      "text/html": [
       "\n",
       "                       <style>\n",
       "                       .result_label {\n",
       "                          font-style: bold;\n",
       "                          color: red;\n",
       "                          font-size: 18px;\n",
       "                       }\n",
       "                       </style>\n",
       "                       "
      ],
      "text/plain": [
       "<IPython.core.display.HTML object>"
      ]
     },
     "metadata": {},
     "output_type": "display_data"
    },
    {
     "name": "stdout",
     "output_type": "stream",
     "text": [
      "** Using Debugging Mode! **\n"
     ]
    },
    {
     "data": {
      "application/vnd.jupyter.widget-view+json": {
       "model_id": "a19b82f2deca41ff98dce9b57cd71e1c",
       "version_major": 2,
       "version_minor": 0
      },
      "text/plain": [
       "VBox(children=(HBox(children=(Label(value='Select Instrument', layout=Layout(width='20%')), Select(layout=Layo…"
      ]
     },
     "metadata": {},
     "output_type": "display_data"
    },
    {
     "data": {
      "text/html": [
       "<style>\n",
       "\n",
       "/* The following CSS has been adapted from\n",
       "   http://nbviewer.ipython.org/github/ketch/teaching-numerics-with-notebooks/blob/master/Styling_notebooks.ipynb\n",
       "   by Aron Ahmadia and David Ketcheson and has been reused under CC BY 4.0\n",
       "   */\n",
       "\n",
       "/* main background */\n",
       "#site { \n",
       "    background: #888;\n",
       "    color: #red; \n",
       "}\n",
       "\n",
       "div.container {\n",
       "    width: 100% ! important;\n",
       "}\n",
       "\n",
       "div.cell { /* set cell width to about 80 chars */\n",
       "    width: 95%;\n",
       "}\n",
       "\n",
       "div #notebook { /* centre the content */\n",
       "/*    background: #fff; /* white background for content */\n",
       "    background: blue;\n",
       "    width: 100%;\n",
       "    margin: auto;\n",
       "    padding-left: 1em;\n",
       "    padding-right: 1em;\n",
       "    background-image: url(\"tile_background.jpg\");\n",
       "}\n",
       "\n",
       "#notebook li { /* More space between bullet points */\n",
       "    margin-top:0.4em;\n",
       "}\n",
       "\n",
       "/* change background color of running cells */\n",
       "div.cell.code_cell.running {\n",
       "/*    background-color: rgba(164,188,194,.75); */\n",
       "    background-color: green;\n",
       "    border-width: 8px\n",
       "    border-style: solid\n",
       "    border-color: #111;\n",
       "}\n",
       "\n",
       "/* Put a solid color box around each cell and its output, visually linking them together */\n",
       "div.cell.code_cell {\n",
       "    background-color: rgba(164,188,194,.25); /* Continuum L Gray with alpha 0.25 */\n",
       "    border-radius: 10px; /* rounded borders */\n",
       "    padding: 1em;\n",
       "    margin-top: 1em;\n",
       "}\n",
       "\n",
       "div.text_cell_render{\n",
       "\tfont-family: Georgia, Times, 'Times New Roman', serif;\n",
       "    line-height: 110%;\n",
       "    font-size: 105%;\n",
       "    width: 95%;\n",
       "    margin-left: auto;\n",
       "    margin-right: auto;\n",
       "}\n",
       "\n",
       "\n",
       "/* Formatting for header cells */\n",
       ".text_cell_render h1 {\n",
       "\tfont-family: Arial, 'Helvetica Neue', Helvetica, sans-serif;\n",
       "    font-weight: 400;\n",
       "    font-size: 30pt;\n",
       "    line-height: 100%;\n",
       "    color: rgb(37,55,70); /* Continuum Blue*/\n",
       "    margin-bottom: 0.1em;\n",
       "    margin-top: 0.1em;\n",
       "    display: block;\n",
       "}\n",
       ".text_cell_render h2 {\n",
       "\tfont-family: Arial, 'Helvetica Neue', Helvetica, sans-serif;\n",
       "    font-weight: 700;\n",
       "    font-size: 22pt;\n",
       "    line-height: 100%;\n",
       "    color: rgb(37,55,70);\n",
       "    margin-bottom: 0.1em;\n",
       "    margin-top: 0.1em;\n",
       "    display: block;\n",
       "}\n",
       "\n",
       ".text_cell_render h3 {\n",
       "\tfont-family: Arial, 'Helvetica Neue', Helvetica, sans-serif;\n",
       "    margin-top:12px;\n",
       "    margin-bottom: 3px;\n",
       "    font-style: italic;\n",
       "    color: rgb(37, 55, 70);\n",
       "}\n",
       "\n",
       ".text_cell_render h4 {\n",
       "\tfont-family: Arial, 'Helvetica Neue', Helvetica, sans-serif;\n",
       "}\n",
       "\n",
       ".text_cell_render h5 {\n",
       "\tfont-family: Arial, 'Helvetica Neue', Helvetica, sans-serif;\n",
       "    font-weight: 300;\n",
       "    font-size: 14pt;\n",
       "    font-style: italic;\n",
       "    margin-bottom: .1em;\n",
       "    margin-top: 0.1em;\n",
       "    display: block;\n",
       "}\n",
       "\n",
       ".text_cell_render h6 {\n",
       "\tfont-family: Arial, 'Helvetica Neue', Helvetica, sans-serif;\n",
       "    font-weight: 300;\n",
       "    font-size: 10pt;\n",
       "    margin-bottom: 1px;\n",
       "    margin-top: 1px;\n",
       "}\n",
       "\n",
       ".CodeMirror{\n",
       "        font-family: \"PT Mono\", fixed;\n",
       "        font-size: 100%;\n",
       "}\n",
       "\n",
       "#notebook_panel { /* main background */\n",
       "    background-image: url(\"tile_background.jpg\");\n",
       "}\n",
       "\n",
       "\n",
       "\n",
       "\n",
       "</style>\n"
      ],
      "text/plain": [
       "<IPython.core.display.HTML object>"
      ]
     },
     "execution_count": 1,
     "metadata": {},
     "output_type": "execute_result"
    }
   ],
   "source": [
    "# import warnings\n",
    "# warnings.filterwarnings('ignore')\n",
    "\n",
    "from __code.group_images_by_cycle_for_grating_experiment.group_images import GroupImages\n",
    "from __code import system\n",
    "system.System.select_working_dir()\n",
    "from __code.__all import custom_style\n",
    "custom_style.style()"
   ]
  },
  {
   "cell_type": "markdown",
   "metadata": {
    "run_control": {
     "frozen": false,
     "read_only": false
    }
   },
   "source": [
    "# Select Data to Sort"
   ]
  },
  {
   "cell_type": "code",
   "execution_count": 2,
   "metadata": {
    "run_control": {
     "frozen": false,
     "read_only": false
    },
    "scrolled": false
   },
   "outputs": [],
   "source": [
    "# o_group = GroupImages(working_dir=system.System.get_working_dir())\n",
    "# o_group.select_data_to_sort()"
   ]
  },
  {
   "cell_type": "code",
   "execution_count": 3,
   "metadata": {},
   "outputs": [
    {
     "data": {
      "text/html": [
       "<span style=\"font-size: 15px; color:blue\">Input folder /Volumes/G-DRIVE/IPTS/IPTS-28730-gratting-CT/renamed_files/2022_04_07_LSU_MELD_sample_sorted_for_grating_reconstruction</span><span style=\"font-size: 15px; color:green\"></span>"
      ],
      "text/plain": [
       "<IPython.core.display.HTML object>"
      ]
     },
     "metadata": {},
     "output_type": "display_data"
    },
    {
     "data": {
      "text/html": [
       "<span style=\"font-size: 15px; color:blue\">Nbr files 50</span><span style=\"font-size: 15px; color:green\"></span>"
      ],
      "text/plain": [
       "<IPython.core.display.HTML object>"
      ]
     },
     "metadata": {},
     "output_type": "display_data"
    }
   ],
   "source": [
    "# FOR DEBUGGING ONLY\n",
    "import glob\n",
    "list_files = glob.glob(\"/Volumes/G-DRIVE/IPTS/IPTS-28730-gratting-CT/renamed_files/2022_04_07_LSU_MELD_sample_sorted_for_grating_reconstruction//*.tiff\")\n",
    "list_files = list_files[:50]\n",
    "o_group = GroupImages(working_dir=\"/Volumes/G-DRIVE/IPTS/IPTS-28730-gratting-CT/renamed_files\")\n",
    "o_group.info_files_selected(list_files)\n",
    "                       "
   ]
  },
  {
   "cell_type": "markdown",
   "metadata": {},
   "source": [
    "# Select Metadata to Use for Sorting "
   ]
  },
  {
   "cell_type": "code",
   "execution_count": 4,
   "metadata": {
    "scrolled": false
   },
   "outputs": [
    {
     "data": {
      "application/vnd.jupyter.widget-view+json": {
       "model_id": "2851330fffbf4d6298c42fbcdcdbe6a0",
       "version_major": 2,
       "version_minor": 0
      },
      "text/plain": [
       "HBox(children=(VBox(children=(HTML(value='<b>Outer Loop Metadata</b>'), HBox(children=(Label(value='Search:'),…"
      ]
     },
     "metadata": {},
     "output_type": "display_data"
    }
   ],
   "source": [
    "o_group.select_metadata_to_use_for_sorting()"
   ]
  },
  {
   "cell_type": "markdown",
   "metadata": {},
   "source": [
    "# Grouping "
   ]
  },
  {
   "cell_type": "code",
   "execution_count": 5,
   "metadata": {
    "scrolled": false
   },
   "outputs": [
    {
     "data": {
      "application/vnd.jupyter.widget-view+json": {
       "model_id": "4d1591faec7b45c7ad7688bf6211c215",
       "version_major": 2,
       "version_minor": 0
      },
      "text/plain": [
       "HBox(children=(VBox(children=(HTML(value='<b>Select Group</b>:'), Select(layout=Layout(height='300px', width='…"
      ]
     },
     "metadata": {},
     "output_type": "display_data"
    },
    {
     "data": {
      "application/vnd.jupyter.widget-view+json": {
       "model_id": "8017cec45c0a4fdaa1f44183e912db75",
       "version_major": 2,
       "version_minor": 0
      },
      "text/plain": [
       "HTML(value=\"<b><font color='blue'>INFO</font></b>: <i>if more than 1 image are in the same <b>original file na…"
      ]
     },
     "metadata": {},
     "output_type": "display_data"
    },
    {
     "data": {
      "application/vnd.jupyter.widget-view+json": {
       "model_id": "e8fde24f83384ca0ab7a1bc568b1af4e",
       "version_major": 2,
       "version_minor": 0
      },
      "text/plain": [
       "HBox(children=(HTML(value='<b>Images are in</b>:', layout=Layout(width='150px')), Label(value='/Volumes/G-DRIV…"
      ]
     },
     "metadata": {},
     "output_type": "display_data"
    }
   ],
   "source": [
    "o_group.grouping()"
   ]
  },
  {
   "cell_type": "markdown",
   "metadata": {
    "run_control": {
     "frozen": false,
     "read_only": false
    }
   },
   "source": [
    "# Select Output Folder\n",
    "\n",
    "A folder will be created in this output folder and named after the input folder name."
   ]
  },
  {
   "cell_type": "code",
   "execution_count": 6,
   "metadata": {
    "run_control": {
     "frozen": false,
     "read_only": false
    },
    "scrolled": false
   },
   "outputs": [
    {
     "data": {
      "application/vnd.jupyter.widget-view+json": {
       "model_id": "9c4e9e7e1b494f0591a981ecaeda72f4",
       "version_major": 2,
       "version_minor": 0
      },
      "text/plain": [
       "VBox(children=(Label(value='select output folder', layout=Layout(width='250px')), VBox(children=(HBox(children…"
      ]
     },
     "metadata": {},
     "output_type": "display_data"
    }
   ],
   "source": [
    "o_group.select_output_folder()"
   ]
  },
  {
   "cell_type": "markdown",
   "metadata": {},
   "source": [
    "# Generate Angel Configuration File (Excel) "
   ]
  },
  {
   "cell_type": "code",
   "execution_count": 7,
   "metadata": {},
   "outputs": [],
   "source": [
    "%gui qt"
   ]
  },
  {
   "cell_type": "code",
   "execution_count": 8,
   "metadata": {
    "scrolled": false
   },
   "outputs": [
    {
     "data": {
      "application/vnd.jupyter.widget-view+json": {
       "model_id": "f9caf6cf28204e7890d18cde5657acf9",
       "version_major": 2,
       "version_minor": 0
      },
      "text/plain": [
       "HBox(children=(HTML(value='Which columns do you want to populate?', layout=Layout(width='250px')), RadioButton…"
      ]
     },
     "metadata": {},
     "output_type": "display_data"
    },
    {
     "data": {
      "application/vnd.jupyter.widget-view+json": {
       "model_id": "1bd568d5dc264f76b01ca26108f1768a",
       "version_major": 2,
       "version_minor": 0
      },
      "text/plain": [
       "HBox(children=(Button(description='Use previously created EXCEL File', icon='edit', layout=Layout(border='2px …"
      ]
     },
     "metadata": {},
     "output_type": "display_data"
    },
    {
     "data": {
      "application/vnd.jupyter.widget-view+json": {
       "model_id": "3796ef93f4eb4b9a9a02c79bb3ff093f",
       "version_major": 2,
       "version_minor": 0
      },
      "text/plain": [
       "HTML(value='')"
      ]
     },
     "metadata": {},
     "output_type": "display_data"
    },
    {
     "data": {
      "application/vnd.jupyter.widget-view+json": {
       "model_id": "",
       "version_major": 2,
       "version_minor": 0
      },
      "text/plain": [
       "VBox(children=(Label(value='Select Excel file ...', layout=Layout(width='250px')), VBox(children=(HBox(childre…"
      ]
     },
     "metadata": {},
     "output_type": "display_data"
    },
    {
     "data": {
      "text/html": [
       "<script>alert('Please select file(s)');</script>"
      ],
      "text/plain": [
       "<IPython.core.display.HTML object>"
      ]
     },
     "metadata": {},
     "output_type": "display_data"
    },
    {
     "name": "stdout",
     "output_type": "stream",
     "text": [
      "in _populate_pandas_object\n",
      "{0: {'first': 'group_000_000_0000.tiff', 'last': 'group_000_000_0001.tiff'},\n",
      " 1: {'first': 'group_002_000_0000.tiff', 'last': 'group_002_000_0002.tiff'},\n",
      " 2: {'first': 'group_004_000_0000.tiff', 'last': 'group_004_000_0002.tiff'},\n",
      " 3: {'first': 'group_006_000_0000.tiff', 'last': 'group_006_000_0002.tiff'},\n",
      " 4: {'first': 'group_008_000_0000.tiff', 'last': 'group_008_000_0002.tiff'},\n",
      " 5: {'first': 'group_010_000_0000.tiff', 'last': 'group_010_000_0002.tiff'},\n",
      " 6: {'first': 'group_012_000_0000.tiff', 'last': 'group_012_000_0002.tiff'},\n",
      " 7: {'first': 'group_014_000_0000.tiff', 'last': 'group_014_000_0002.tiff'},\n",
      " 8: {'first': 'group_016_000_0000.tiff', 'last': 'group_016_000_0002.tiff'},\n",
      " 9: {'first': 'group_018_000_0000.tiff', 'last': 'group_018_000_0002.tiff'},\n",
      " 10: {'first': 'group_020_000_0000.tiff', 'last': 'group_020_000_0002.tiff'},\n",
      " 11: {'first': 'group_022_000_0000.tiff', 'last': 'group_022_000_0002.tiff'},\n",
      " 12: {'first': 'group_024_000_0000.tiff', 'last': 'group_024_000_0002.tiff'},\n",
      " 13: {'first': 'group_026_000_0000.tiff', 'last': 'group_026_000_0002.tiff'},\n",
      " 14: {'first': 'group_028_000_0000.tiff', 'last': 'group_028_000_0002.tiff'},\n",
      " 15: {'first': 'group_030_000_0000.tiff', 'last': 'group_030_000_0002.tiff'},\n",
      " 16: {'first': 'group_032_000_0000.tiff', 'last': 'group_032_000_0002.tiff'}}\n",
      "-> I want to populate the ob columns with data from this notebook\n",
      "_row_index: 0\n",
      "-> before df.ilog[_row_index][2]= None\n",
      "--> first_last_run_of_each_group_dictionary[_key]: {'first': 'group_000_000_0000.tiff', 'last': 'group_000_000_0001.tiff'}\n",
      "--> first_last_run_of_each_group_dictionary[_key]['first']: group_000_000_0000.tiff\n",
      "-> after df.ilog[_row_index][2]= /Volumes/G-DRIVE/git/python_notebooks/notebooks/group_000_000_0000.tiff\n",
      "_row_index: 1\n",
      "-> before df.ilog[_row_index][2]= None\n",
      "--> first_last_run_of_each_group_dictionary[_key]: {'first': 'group_002_000_0000.tiff', 'last': 'group_002_000_0002.tiff'}\n",
      "--> first_last_run_of_each_group_dictionary[_key]['first']: group_002_000_0000.tiff\n",
      "-> after df.ilog[_row_index][2]= /Volumes/G-DRIVE/git/python_notebooks/notebooks/group_002_000_0000.tiff\n",
      "_row_index: 2\n",
      "-> before df.ilog[_row_index][2]= None\n",
      "--> first_last_run_of_each_group_dictionary[_key]: {'first': 'group_004_000_0000.tiff', 'last': 'group_004_000_0002.tiff'}\n",
      "--> first_last_run_of_each_group_dictionary[_key]['first']: group_004_000_0000.tiff\n",
      "-> after df.ilog[_row_index][2]= /Volumes/G-DRIVE/git/python_notebooks/notebooks/group_004_000_0000.tiff\n",
      "_row_index: 3\n",
      "-> before df.ilog[_row_index][2]= None\n",
      "--> first_last_run_of_each_group_dictionary[_key]: {'first': 'group_006_000_0000.tiff', 'last': 'group_006_000_0002.tiff'}\n",
      "--> first_last_run_of_each_group_dictionary[_key]['first']: group_006_000_0000.tiff\n",
      "-> after df.ilog[_row_index][2]= /Volumes/G-DRIVE/git/python_notebooks/notebooks/group_006_000_0000.tiff\n",
      "_row_index: 4\n",
      "-> before df.ilog[_row_index][2]= None\n",
      "--> first_last_run_of_each_group_dictionary[_key]: {'first': 'group_008_000_0000.tiff', 'last': 'group_008_000_0002.tiff'}\n",
      "--> first_last_run_of_each_group_dictionary[_key]['first']: group_008_000_0000.tiff\n",
      "-> after df.ilog[_row_index][2]= /Volumes/G-DRIVE/git/python_notebooks/notebooks/group_008_000_0000.tiff\n",
      "_row_index: 5\n",
      "-> before df.ilog[_row_index][2]= None\n",
      "--> first_last_run_of_each_group_dictionary[_key]: {'first': 'group_010_000_0000.tiff', 'last': 'group_010_000_0002.tiff'}\n",
      "--> first_last_run_of_each_group_dictionary[_key]['first']: group_010_000_0000.tiff\n",
      "-> after df.ilog[_row_index][2]= /Volumes/G-DRIVE/git/python_notebooks/notebooks/group_010_000_0000.tiff\n",
      "_row_index: 6\n",
      "-> before df.ilog[_row_index][2]= None\n",
      "--> first_last_run_of_each_group_dictionary[_key]: {'first': 'group_012_000_0000.tiff', 'last': 'group_012_000_0002.tiff'}\n",
      "--> first_last_run_of_each_group_dictionary[_key]['first']: group_012_000_0000.tiff\n",
      "-> after df.ilog[_row_index][2]= /Volumes/G-DRIVE/git/python_notebooks/notebooks/group_012_000_0000.tiff\n",
      "_row_index: 7\n",
      "-> before df.ilog[_row_index][2]= None\n",
      "--> first_last_run_of_each_group_dictionary[_key]: {'first': 'group_014_000_0000.tiff', 'last': 'group_014_000_0002.tiff'}\n",
      "--> first_last_run_of_each_group_dictionary[_key]['first']: group_014_000_0000.tiff\n",
      "-> after df.ilog[_row_index][2]= /Volumes/G-DRIVE/git/python_notebooks/notebooks/group_014_000_0000.tiff\n",
      "_row_index: 8\n",
      "-> before df.ilog[_row_index][2]= None\n",
      "--> first_last_run_of_each_group_dictionary[_key]: {'first': 'group_016_000_0000.tiff', 'last': 'group_016_000_0002.tiff'}\n",
      "--> first_last_run_of_each_group_dictionary[_key]['first']: group_016_000_0000.tiff\n",
      "-> after df.ilog[_row_index][2]= /Volumes/G-DRIVE/git/python_notebooks/notebooks/group_016_000_0000.tiff\n",
      "_row_index: 9\n",
      "-> before df.ilog[_row_index][2]= None\n",
      "--> first_last_run_of_each_group_dictionary[_key]: {'first': 'group_018_000_0000.tiff', 'last': 'group_018_000_0002.tiff'}\n",
      "--> first_last_run_of_each_group_dictionary[_key]['first']: group_018_000_0000.tiff\n",
      "-> after df.ilog[_row_index][2]= /Volumes/G-DRIVE/git/python_notebooks/notebooks/group_018_000_0000.tiff\n",
      "_row_index: 10\n",
      "-> before df.ilog[_row_index][2]= None\n",
      "--> first_last_run_of_each_group_dictionary[_key]: {'first': 'group_020_000_0000.tiff', 'last': 'group_020_000_0002.tiff'}\n",
      "--> first_last_run_of_each_group_dictionary[_key]['first']: group_020_000_0000.tiff\n",
      "-> after df.ilog[_row_index][2]= /Volumes/G-DRIVE/git/python_notebooks/notebooks/group_020_000_0000.tiff\n",
      "_row_index: 11\n",
      "-> before df.ilog[_row_index][2]= None\n",
      "--> first_last_run_of_each_group_dictionary[_key]: {'first': 'group_022_000_0000.tiff', 'last': 'group_022_000_0002.tiff'}\n",
      "--> first_last_run_of_each_group_dictionary[_key]['first']: group_022_000_0000.tiff\n",
      "-> after df.ilog[_row_index][2]= /Volumes/G-DRIVE/git/python_notebooks/notebooks/group_022_000_0000.tiff\n",
      "_row_index: 12\n",
      "-> before df.ilog[_row_index][2]= None\n",
      "--> first_last_run_of_each_group_dictionary[_key]: {'first': 'group_024_000_0000.tiff', 'last': 'group_024_000_0002.tiff'}\n",
      "--> first_last_run_of_each_group_dictionary[_key]['first']: group_024_000_0000.tiff\n",
      "-> after df.ilog[_row_index][2]= /Volumes/G-DRIVE/git/python_notebooks/notebooks/group_024_000_0000.tiff\n",
      "_row_index: 13\n",
      "-> before df.ilog[_row_index][2]= None\n",
      "--> first_last_run_of_each_group_dictionary[_key]: {'first': 'group_026_000_0000.tiff', 'last': 'group_026_000_0002.tiff'}\n",
      "--> first_last_run_of_each_group_dictionary[_key]['first']: group_026_000_0000.tiff\n",
      "-> after df.ilog[_row_index][2]= /Volumes/G-DRIVE/git/python_notebooks/notebooks/group_026_000_0000.tiff\n",
      "_row_index: 14\n",
      "-> before df.ilog[_row_index][2]= None\n",
      "--> first_last_run_of_each_group_dictionary[_key]: {'first': 'group_028_000_0000.tiff', 'last': 'group_028_000_0002.tiff'}\n",
      "--> first_last_run_of_each_group_dictionary[_key]['first']: group_028_000_0000.tiff\n",
      "-> after df.ilog[_row_index][2]= /Volumes/G-DRIVE/git/python_notebooks/notebooks/group_028_000_0000.tiff\n",
      "_row_index: 15\n",
      "-> before df.ilog[_row_index][2]= None\n",
      "--> first_last_run_of_each_group_dictionary[_key]: {'first': 'group_030_000_0000.tiff', 'last': 'group_030_000_0002.tiff'}\n",
      "--> first_last_run_of_each_group_dictionary[_key]['first']: group_030_000_0000.tiff\n",
      "-> after df.ilog[_row_index][2]= /Volumes/G-DRIVE/git/python_notebooks/notebooks/group_030_000_0000.tiff\n",
      "_row_index: 16\n",
      "-> before df.ilog[_row_index][2]= None\n",
      "--> first_last_run_of_each_group_dictionary[_key]: {'first': 'group_032_000_0000.tiff', 'last': 'group_032_000_0002.tiff'}\n",
      "--> first_last_run_of_each_group_dictionary[_key]['first']: group_032_000_0000.tiff\n",
      "-> after df.ilog[_row_index][2]= /Volumes/G-DRIVE/git/python_notebooks/notebooks/group_032_000_0000.tiff\n"
     ]
    },
    {
     "name": "stderr",
     "output_type": "stream",
     "text": [
      "/Users/j35/opt/anaconda3/envs/py37/lib/python3.7/site-packages/pandas/core/series.py:1056: SettingWithCopyWarning: \n",
      "A value is trying to be set on a copy of a slice from a DataFrame\n",
      "\n",
      "See the caveats in the documentation: https://pandas.pydata.org/pandas-docs/stable/user_guide/indexing.html#returning-a-view-versus-a-copy\n",
      "  cacher_needs_updating = self._check_is_chained_assignment_possible()\n"
     ]
    },
    {
     "data": {
      "text/html": [
       "<span style=\"font-size: 15px; color:blue\">Check UI that popped up                     (maybe hidden behind this browser!)</span><span style=\"font-size: 15px; color:green\"></span>"
      ],
      "text/plain": [
       "<IPython.core.display.HTML object>"
      ]
     },
     "metadata": {},
     "output_type": "display_data"
    }
   ],
   "source": [
    "o_group.generate_angel_configuration_file()"
   ]
  },
  {
   "cell_type": "code",
   "execution_count": null,
   "metadata": {},
   "outputs": [],
   "source": []
  },
  {
   "cell_type": "code",
   "execution_count": null,
   "metadata": {},
   "outputs": [],
   "source": []
  },
  {
   "cell_type": "code",
   "execution_count": null,
   "metadata": {},
   "outputs": [],
   "source": []
  }
 ],
 "metadata": {
  "anaconda-cloud": {},
  "kernelspec": {
   "display_name": "Python 3",
   "language": "python",
   "name": "python3"
  },
  "language_info": {
   "codemirror_mode": {
    "name": "ipython",
    "version": 3
   },
   "file_extension": ".py",
   "mimetype": "text/x-python",
   "name": "python",
   "nbconvert_exporter": "python",
   "pygments_lexer": "ipython3",
   "version": "3.7.12"
  },
  "toc": {
   "colors": {
    "hover_highlight": "#DAA520",
    "running_highlight": "#FF0000",
    "selected_highlight": "#FFD700"
   },
   "moveMenuLeft": true,
   "nav_menu": {
    "height": "210px",
    "width": "252px"
   },
   "navigate_menu": true,
   "number_sections": true,
   "sideBar": true,
   "threshold": 4,
   "toc_cell": false,
   "toc_section_display": "block",
   "toc_window_display": false
  }
 },
 "nbformat": 4,
 "nbformat_minor": 1
}
