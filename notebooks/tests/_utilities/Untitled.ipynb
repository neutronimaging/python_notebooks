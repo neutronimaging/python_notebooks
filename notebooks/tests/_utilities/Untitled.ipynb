{
 "cells": [
  {
   "cell_type": "code",
   "execution_count": 1,
   "id": "d2209ff3-5b68-43a5-be3b-83edd146a1d1",
   "metadata": {},
   "outputs": [],
   "source": [
    "import numpy as np"
   ]
  },
  {
   "cell_type": "code",
   "execution_count": 10,
   "id": "fb1a0336-0737-42e6-83fc-72a5ecf33ddf",
   "metadata": {},
   "outputs": [],
   "source": [
    "time_s = 60"
   ]
  },
  {
   "cell_type": "code",
   "execution_count": 11,
   "id": "878d8d66-498b-4174-94b7-3dae9e55d31a",
   "metadata": {},
   "outputs": [
    {
     "data": {
      "text/plain": [
       "0"
      ]
     },
     "execution_count": 11,
     "metadata": {},
     "output_type": "execute_result"
    }
   ],
   "source": [
    "time_s_only = int(np.mod(time_s, 60))\n",
    "time_s_only"
   ]
  },
  {
   "cell_type": "code",
   "execution_count": 12,
   "id": "438f9c56-bc9a-421f-a4e3-f98677882361",
   "metadata": {},
   "outputs": [
    {
     "data": {
      "text/plain": [
       "1.0"
      ]
     },
     "execution_count": 12,
     "metadata": {},
     "output_type": "execute_result"
    }
   ],
   "source": [
    "time_hr_mn = np.floor(time_s / 60)\n",
    "time_hr_mn"
   ]
  },
  {
   "cell_type": "code",
   "execution_count": null,
   "id": "cbdd1410-fa2a-45d1-83dc-5f57862321b2",
   "metadata": {},
   "outputs": [],
   "source": []
  }
 ],
 "metadata": {
  "kernelspec": {
   "display_name": "Python 3 (ipykernel)",
   "language": "python",
   "name": "python3"
  },
  "language_info": {
   "codemirror_mode": {
    "name": "ipython",
    "version": 3
   },
   "file_extension": ".py",
   "mimetype": "text/x-python",
   "name": "python",
   "nbconvert_exporter": "python",
   "pygments_lexer": "ipython3",
   "version": "3.12.1"
  }
 },
 "nbformat": 4,
 "nbformat_minor": 5
}
