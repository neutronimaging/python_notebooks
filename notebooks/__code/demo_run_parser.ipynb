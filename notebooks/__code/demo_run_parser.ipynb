{
 "cells": [
  {
   "cell_type": "code",
   "execution_count": 2,
   "metadata": {
    "run_control": {
     "frozen": false,
     "read_only": false
    }
   },
   "outputs": [],
   "source": [
    "from utilities import ListRunsParser\n",
    "from ipywidgets import widgets\n"
   ]
  },
  {
   "cell_type": "markdown",
   "metadata": {
    "run_control": {
     "frozen": false,
     "read_only": false
    }
   },
   "source": [
    "Example 1"
   ]
  },
  {
   "cell_type": "code",
   "execution_count": 3,
   "metadata": {
    "run_control": {
     "frozen": false,
     "read_only": false
    }
   },
   "outputs": [
    {
     "data": {
      "text/plain": [
       "'1,2,4,5,7,9,11:15'"
      ]
     },
     "execution_count": 3,
     "metadata": {},
     "output_type": "execute_result"
    }
   ],
   "source": [
    "o_parser = ListRunsParser(current_runs=\"1,2,4:15\")\n",
    "o_parser.list_current_runs\n",
    "new_runs = ['6','8', '10']\n",
    "o_parser.new_runs(list_runs=new_runs)"
   ]
  },
  {
   "cell_type": "markdown",
   "metadata": {
    "run_control": {
     "frozen": false,
     "read_only": false
    }
   },
   "source": [
    "Example 1 (continued)"
   ]
  },
  {
   "cell_type": "code",
   "execution_count": 4,
   "metadata": {
    "run_control": {
     "frozen": false,
     "read_only": false
    }
   },
   "outputs": [
    {
     "data": {
      "text/plain": [
       "'1,2,4:15'"
      ]
     },
     "execution_count": 4,
     "metadata": {},
     "output_type": "execute_result"
    }
   ],
   "source": [
    "new_runs = ['6','8', '10']\n",
    "o_parser.new_runs(list_runs=new_runs)"
   ]
  },
  {
   "cell_type": "markdown",
   "metadata": {
    "run_control": {
     "frozen": false,
     "read_only": false
    }
   },
   "source": [
    "Example 2"
   ]
  },
  {
   "cell_type": "code",
   "execution_count": 5,
   "metadata": {
    "run_control": {
     "frozen": false,
     "read_only": false
    }
   },
   "outputs": [
    {
     "data": {
      "text/plain": [
       "'1:3,6,10'"
      ]
     },
     "execution_count": 5,
     "metadata": {},
     "output_type": "execute_result"
    }
   ],
   "source": [
    "o_parser = ListRunsParser(current_runs=\"1,2,3,10\")\n",
    "o_parser.list_current_runs\n",
    "new_runs = ['6']\n",
    "o_parser.new_runs(list_runs=new_runs)"
   ]
  },
  {
   "cell_type": "markdown",
   "metadata": {
    "run_control": {
     "frozen": false,
     "read_only": false
    }
   },
   "source": [
    "Example 3"
   ]
  },
  {
   "cell_type": "code",
   "execution_count": 6,
   "metadata": {
    "run_control": {
     "frozen": false,
     "read_only": false
    }
   },
   "outputs": [
    {
     "name": "stdout",
     "output_type": "stream",
     "text": [
      "6,8,10:12\n"
     ]
    }
   ],
   "source": [
    "o_parser = ListRunsParser(current_runs=\"\")\n",
    "o_parser.list_current_runs\n",
    "new_runs = ['6','8','10','11','12']\n",
    "print(o_parser.new_runs(list_runs=new_runs))"
   ]
  },
  {
   "cell_type": "markdown",
   "metadata": {
    "run_control": {
     "frozen": false,
     "read_only": false
    }
   },
   "source": [
    "Example 4"
   ]
  },
  {
   "cell_type": "code",
   "execution_count": 7,
   "metadata": {
    "run_control": {
     "frozen": false,
     "read_only": false
    }
   },
   "outputs": [
    {
     "name": "stdout",
     "output_type": "stream",
     "text": [
      "6\n",
      "['6']\n"
     ]
    }
   ],
   "source": [
    "o_parser = ListRunsParser(current_runs=\"\")\n",
    "o_parser.list_current_runs\n",
    "new_runs = ['6']\n",
    "print(o_parser.new_runs(list_runs=new_runs))\n",
    "print(o_parser.list_current_runs)"
   ]
  },
  {
   "cell_type": "code",
   "execution_count": 8,
   "metadata": {
    "run_control": {
     "frozen": false,
     "read_only": false
    },
    "scrolled": true
   },
   "outputs": [
    {
     "data": {
      "text/html": [
       "<p>Failed to display Jupyter Widget of type <code>Text</code>.</p>\n",
       "<p>\n",
       "  If you're reading this message in Jupyter Notebook or JupyterLab, it may mean\n",
       "  that the widgets JavaScript is still loading. If this message persists, it\n",
       "  likely means that the widgets JavaScript library is either not installed or\n",
       "  not enabled. See the <a href=\"https://ipywidgets.readthedocs.io/en/stable/user_install.html\">Jupyter\n",
       "  Widgets Documentation</a> for setup instructions.\n",
       "</p>\n",
       "<p>\n",
       "  If you're reading this message in another notebook frontend (for example, a static\n",
       "  rendering on GitHub or <a href=\"https://nbviewer.jupyter.org/\">NBViewer</a>),\n",
       "  it may mean that your frontend doesn't currently support widgets.\n",
       "</p>\n"
      ],
      "text/plain": [
       "Text(value='1,10,20,30,40,50,1,2,3')"
      ]
     },
     "metadata": {},
     "output_type": "execute_result"
    },
    {
     "data": {
      "text/html": [
       "<p>Failed to display Jupyter Widget of type <code>SelectMultiple</code>.</p>\n",
       "<p>\n",
       "  If you're reading this message in Jupyter Notebook or JupyterLab, it may mean\n",
       "  that the widgets JavaScript is still loading. If this message persists, it\n",
       "  likely means that the widgets JavaScript library is either not installed or\n",
       "  not enabled. See the <a href=\"https://ipywidgets.readthedocs.io/en/stable/user_install.html\">Jupyter\n",
       "  Widgets Documentation</a> for setup instructions.\n",
       "</p>\n",
       "<p>\n",
       "  If you're reading this message in another notebook frontend (for example, a static\n",
       "  rendering on GitHub or <a href=\"https://nbviewer.jupyter.org/\">NBViewer</a>),\n",
       "  it may mean that your frontend doesn't currently support widgets.\n",
       "</p>\n"
      ],
      "text/plain": [
       "SelectMultiple(disabled=True, options=('1', '10', '20', '30', '40', '50', '1', '2', '3'), value=())"
      ]
     },
     "metadata": {},
     "output_type": "execute_result"
    }
   ],
   "source": [
    "def status_changed(selection):\n",
    "    new_run_selected = selection['new']\n",
    "\n",
    "list_runs = ['1','10','20','30','40','50','1','2','3']\n",
    "_runs = \",\".join(list_runs)\n",
    "text = widgets.Text(value=_runs)\n",
    "display(text)\n",
    "ui = widgets.SelectMultiple(options=list_runs,\n",
    "                           disabled=True)\n",
    "display(ui)\n",
    "ui.observe(status_changed, 'value')\n",
    "\n",
    "# let's start with all the runs selected\n",
    "list_runs_selected = {}\n",
    "for _run in list_runs:\n",
    "    list_runs_selected[_run] = True"
   ]
  },
  {
   "cell_type": "code",
   "execution_count": 9,
   "metadata": {
    "run_control": {
     "frozen": false,
     "read_only": false
    }
   },
   "outputs": [],
   "source": [
    "ui.index = (0,1,2)"
   ]
  },
  {
   "cell_type": "markdown",
   "metadata": {
    "run_control": {
     "frozen": false,
     "read_only": false
    }
   },
   "source": [
    "Full UI test to simulate real use of class"
   ]
  },
  {
   "cell_type": "code",
   "execution_count": 10,
   "metadata": {
    "run_control": {
     "frozen": false,
     "read_only": false
    },
    "scrolled": false
   },
   "outputs": [
    {
     "data": {
      "text/html": [
       "<p>Failed to display Jupyter Widget of type <code>VBox</code>.</p>\n",
       "<p>\n",
       "  If you're reading this message in Jupyter Notebook or JupyterLab, it may mean\n",
       "  that the widgets JavaScript is still loading. If this message persists, it\n",
       "  likely means that the widgets JavaScript library is either not installed or\n",
       "  not enabled. See the <a href=\"https://ipywidgets.readthedocs.io/en/stable/user_install.html\">Jupyter\n",
       "  Widgets Documentation</a> for setup instructions.\n",
       "</p>\n",
       "<p>\n",
       "  If you're reading this message in another notebook frontend (for example, a static\n",
       "  rendering on GitHub or <a href=\"https://nbviewer.jupyter.org/\">NBViewer</a>),\n",
       "  it may mean that your frontend doesn't currently support widgets.\n",
       "</p>\n"
      ],
      "text/plain": [
       "VBox(children=(HBox(children=(Label(value='Run numbers:', layout=Layout(width='10%')), Text(value='', layout=Layout(width='40%'), placeholder=''), Label(value='>> Format Error! <<', layout=Layout(visibility='hidden')))), HBox(children=(VBox(children=(Label(value='Full list of runs'), SelectMultiple(layout=Layout(height='150px', width='100px'), options=('2000', '2001', '2002', '2003', '2004', '2005', '2006', '2007', '2008', '2009', '2010', '2011', '2012', '2013', '2014', '2015', '2016', '2017', '2018', '2019', '2020', '2021', '2022', '2023', '2024', '2025', '2026', '2027', '2028', '2029'), value=())), layout=Layout(width='120px')), VBox(children=(Button(description='Add ->', layout=Layout(border='1px solid blue', width='120px'), style=ButtonStyle()),), layout=Layout(align_self='center', margin='10px', width='165px')), VBox(children=(Label(value='Selected runs'), SelectMultiple(layout=Layout(height='150px', width='100px'), options=(), value=())), layout=Layout(width='120px')), Button(description='Remove', layout=Layout(align_self='flex-end', border='1px solid red', margin='5px', width='120px'), style=ButtonStyle())), layout=Layout(border='1px solid lightgrey', margin='5px 5px 5px 5px', padding='3px', width='50%')), HBox(children=(Label(value='Invalid run(s):', layout=Layout(width='8%')), Label(value='', layout=Layout(width='80%'))), layout=Layout(visibility='hidden'))))"
      ]
     },
     "metadata": {},
     "output_type": "execute_result"
    },
    {
     "name": "stdout",
     "output_type": "stream",
     "text": [
      "2001:2005\n"
     ]
    }
   ],
   "source": [
    "## widgets event handler\n",
    "\n",
    "full_list_of_runs_selected = []\n",
    "list_of_runs_already_selected = []\n",
    "run_numbers_text_ui = None\n",
    "run_numbers_error_ui = None\n",
    "\n",
    "o_parser = ListRunsParser(current_runs=\"\")\n",
    "#o_parser.list_current_runs\n",
    "#new_runs = ['6','8', '10']\n",
    "#o_parser.new_runs(list_runs=new_runs)\n",
    "\n",
    "\n",
    "def run_numbers_text_changed(value):\n",
    "    global selected_runs_ui\n",
    "    global run_numbers_error_ui\n",
    "    global list_runs\n",
    "    global last_row_ui\n",
    "    \n",
    "    new_text = value['new']\n",
    "    _error_label_visibility = 'hidden'\n",
    "    list_current_runs = []\n",
    "    try:\n",
    "        o_parser = ListRunsParser(current_runs=new_text)\n",
    "        list_current_runs = o_parser.list_current_runs\n",
    "        selected_runs_ui.options = list_current_runs\n",
    "    except ValueError:\n",
    "        _error_label_visibility = 'visible'\n",
    "    \n",
    "    # check runs that do not exist in full_list_of_runs\n",
    "    list_runs_do_not_exist = []\n",
    "    for _run in list_current_runs:\n",
    "        if _run in list_runs:\n",
    "            continue\n",
    "        list_runs_do_not_exist.append(_run)\n",
    "\n",
    "    if list_runs_do_not_exist:\n",
    "        last_row_ui.layout.visibility = 'visible'\n",
    "        last_row_ui.children[1].value = \",\".join(list_runs_do_not_exist)\n",
    "    else:\n",
    "        last_row_ui.layout.visibility = 'hidden'\n",
    "        \n",
    "    \n",
    "    run_numbers_error_ui.layout.visibility = _error_label_visibility\n",
    "    \n",
    "def full_list_of_runs_changed(value):\n",
    "    global full_list_of_runs_selected\n",
    "    full_list_of_runs_selected = value['new']\n",
    "    \n",
    "def selected_runs_ui_changed(value):\n",
    "    pass\n",
    "    \n",
    "def add_button_clicked(value):\n",
    "    global full_list_of_runs_selected\n",
    "    global list_of_runs_already_selected\n",
    "    global selected_runs_ui\n",
    "    global run_numbers_text_ui\n",
    "\n",
    "    for _run in full_list_of_runs_selected:\n",
    "        list_of_runs_already_selected.append(_run)\n",
    "        \n",
    "    list_of_runs_already_selected = list(set(list_of_runs_already_selected))\n",
    "    list_of_runs_already_selected.sort()\n",
    "    \n",
    "    selected_runs_ui.options = list_of_runs_already_selected\n",
    "    \n",
    "    o_parser = ListRunsParser()\n",
    "    new_str_runs = o_parser.new_runs(list_of_runs_already_selected)\n",
    "    print(new_str_runs)\n",
    "    \n",
    "    run_numbers_text_ui.value = new_str_runs\n",
    "    \n",
    "#     print(\"full_list_of_runs_selected: {}\".format(full_list_of_runs_selected))\n",
    "#     print(\"list_of_runs_already_selected: {}\".format(list_of_runs_already_selected))\n",
    "\n",
    "def remove_button_clicked(value):\n",
    "    global selected_runs_ui\n",
    "    global list_of_runs_already_selected\n",
    "    \n",
    "    list_of_runs_to_remove = set(selected_runs_ui.value)\n",
    "    list_of_runs_already_selected = set(list_of_runs_already_selected)\n",
    "    \n",
    "    new_list_of_runs_already_selected = list_of_runs_already_selected - list_of_runs_to_remove\n",
    "    \n",
    "    selected_runs_ui.options = new_list_of_runs_already_selected\n",
    "    list_of_runs_already_selected = list(new_list_of_runs_already_selected)\n",
    "\n",
    "    str_list_of_runs_already_selected = \",\".join(list_of_runs_already_selected)\n",
    "    \n",
    "    if len(list_of_runs_already_selected) > 1:\n",
    "        o_parser = ListRunsParser(current_runs=str_list_of_runs_already_selected)\n",
    "        new_str_runs = o_parser.new_runs()\n",
    "    elif len(list_of_runs_already_selected) == 1:\n",
    "        new_str_runs = str(list_of_runs_already_selected[0])\n",
    "    else:\n",
    "        new_str_runs = ''\n",
    "\n",
    "    run_numbers_text_ui.value = new_str_runs\n",
    "\n",
    "## initialize\n",
    "\n",
    "import numpy as np\n",
    "int_list_runs = np.arange(30) + 2000\n",
    "list_runs = [str(_run) for _run in int_list_runs]\n",
    "    \n",
    "## build UI\n",
    "\n",
    "first_row_ui = widgets.HBox([widgets.Label(\"Run numbers:\",\n",
    "                                           layout=widgets.Layout(width='10%')),\n",
    "                           widgets.Text(\"\",\n",
    "                                        placeholder='',\n",
    "                                       layout=widgets.Layout(width='40%')),\n",
    "                            widgets.Label(\">> Format Error! <<\",\n",
    "                                         layout = widgets.Layout(visibility='hidden',\n",
    "                                                                 color='red'))])\n",
    "first_row_ui.children[1].observe(run_numbers_text_changed, 'value')\n",
    "run_numbers_text_ui = first_row_ui.children[1]\n",
    "run_numbers_error_ui = first_row_ui.children[2]\n",
    "\n",
    "col_1_ui = widgets.VBox([widgets.Label(\"Full list of runs\"),\n",
    "                        widgets.SelectMultiple(options=list_runs,\n",
    "                                              layout=widgets.Layout(height='150px',\n",
    "                                                                   width='100px'))],\n",
    "                       layout=widgets.Layout(width='120px'))\n",
    "col_1_ui.children[1].observe(full_list_of_runs_changed, 'value')\n",
    "\n",
    "col_2_ui = widgets.VBox([widgets.Button(description=\"Add ->\",\n",
    "                                       layout=widgets.Layout(border='1px solid blue',\n",
    "                                                               width='120px'))],\n",
    "                       layout=widgets.Layout(width='165px',\n",
    "                                            align_self='center',\n",
    "                                            margin='10px'))\n",
    "col_2_ui.children[0].on_click(add_button_clicked)\n",
    "\n",
    "col_3_ui = widgets.VBox([widgets.Label(\"Selected runs\"),\n",
    "                        widgets.SelectMultiple(options=[],\n",
    "                                              layout=widgets.Layout(height='150px',\n",
    "                                                                   width='100px'))],\n",
    "                       layout=widgets.Layout(width='120px'))\n",
    "col_3_ui.children[1].observe(selected_runs_ui_changed, 'value')\n",
    "selected_runs_ui = col_3_ui.children[1]\n",
    "\n",
    "col_4_ui = widgets.Button(description=\"Remove\",\n",
    "                          layout=widgets.Layout(width='120px',\n",
    "                                                border='1px solid red',\n",
    "                                                margin='5px',\n",
    "                                                align_self='flex-end'))\n",
    "col_4_ui.on_click(remove_button_clicked)\n",
    "\n",
    "second_row_ui = widgets.HBox([col_1_ui, col_2_ui, col_3_ui, col_4_ui],\n",
    "                            layout=widgets.Layout(border='1px solid lightgrey',\n",
    "                                                 padding='3px',\n",
    "                                                 margin='5px 5px 5px 5px',\n",
    "                                                 width='50%'))\n",
    "\n",
    "\n",
    "last_row_ui = widgets.HBox([widgets.Label(\"Invalid run(s):\",\n",
    "                                         layout=widgets.Layout(width='8%')),\n",
    "                            widgets.Label(\"\",\n",
    "                                        layout=widgets.Layout(width='80%'))],\n",
    "                          layout=widgets.Layout(visibility='hidden'))\n",
    "\n",
    "layout_ui = widgets.VBox([first_row_ui, second_row_ui, last_row_ui])\n",
    "\n",
    "display(layout_ui)\n",
    "\n",
    "\n",
    "\n"
   ]
  },
  {
   "cell_type": "code",
   "execution_count": null,
   "metadata": {
    "run_control": {
     "frozen": false,
     "read_only": false
    }
   },
   "outputs": [],
   "source": []
  }
 ],
 "metadata": {
  "kernelspec": {
   "display_name": "Python 3",
   "language": "python",
   "name": "python3"
  },
  "language_info": {
   "codemirror_mode": {
    "name": "ipython",
    "version": 3
   },
   "file_extension": ".py",
   "mimetype": "text/x-python",
   "name": "python",
   "nbconvert_exporter": "python",
   "pygments_lexer": "ipython3",
   "version": "3.6.2"
  },
  "toc": {
   "colors": {
    "hover_highlight": "#DAA520",
    "running_highlight": "#FF0000",
    "selected_highlight": "#FFD700"
   },
   "moveMenuLeft": true,
   "nav_menu": {
    "height": "12px",
    "width": "252px"
   },
   "navigate_menu": true,
   "number_sections": true,
   "sideBar": true,
   "threshold": 4.0,
   "toc_cell": false,
   "toc_section_display": "block",
   "toc_window_display": false
  }
 },
 "nbformat": 4,
 "nbformat_minor": 2
}
