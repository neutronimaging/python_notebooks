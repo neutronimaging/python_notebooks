{
 "cells": [
  {
   "cell_type": "markdown",
   "metadata": {},
   "source": [
    "# Tools"
   ]
  },
  {
   "cell_type": "code",
   "execution_count": null,
   "metadata": {},
   "outputs": [],
   "source": [
    "from matplotlib import pyplot as plt\n",
    "import numpy as np, os, glob\n",
    "\n",
    "from diffpy.Structure import loadStructure\n",
    "import base64\n",
    "\n",
    "from diffpy.structure.parsers import getParser\n",
    "from bem import matter, xscalc, xtaloriprobmodel as xopm"
   ]
  },
  {
   "cell_type": "code",
   "execution_count": null,
   "metadata": {},
   "outputs": [],
   "source": [
    "%matplotlib inline"
   ]
  },
  {
   "cell_type": "markdown",
   "metadata": {},
   "source": [
    "# Isotropic Model"
   ]
  },
  {
   "cell_type": "code",
   "execution_count": null,
   "metadata": {},
   "outputs": [],
   "source": [
    "# calculate xs\n",
    "import numpy as np\n",
    "wavelengths = np.arange(0.05, 5.5, 0.001)\n",
    "T = 300"
   ]
  },
  {
   "cell_type": "markdown",
   "metadata": {},
   "source": [
    "## Manual input "
   ]
  },
  {
   "cell_type": "code",
   "execution_count": null,
   "metadata": {},
   "outputs": [],
   "source": [
    "# create material\n",
    "atoms = [matter.Atom('Ni', (0,0,0)), matter.Atom('Ni', (0.5, 0.5, 0)),\n",
    "         matter.Atom('Ni', (0.5,0,0.5)), matter.Atom('Ni', (0, 0.5, 0.5))]\n",
    "a=3.5238\n",
    "alpha = 90.\n",
    "lattice = matter.Lattice(a=a, b=a, c=a, alpha=alpha, beta=alpha, gamma=alpha)\n",
    "fccNi_1 = matter.Structure(atoms, lattice, sgid=225)"
   ]
  },
  {
   "cell_type": "code",
   "execution_count": null,
   "metadata": {},
   "outputs": [],
   "source": [
    "fccNi_1"
   ]
  },
  {
   "cell_type": "code",
   "execution_count": null,
   "metadata": {},
   "outputs": [],
   "source": [
    "calc = xscalc.XSCalculator(fccNi_1, T, max_diffraction_index=4)"
   ]
  },
  {
   "cell_type": "markdown",
   "metadata": {},
   "source": [
    "## Using CIF file "
   ]
  },
  {
   "cell_type": "code",
   "execution_count": null,
   "metadata": {},
   "outputs": [],
   "source": [
    "cif_file = \"/Users/j35/git/NEUIT/static/cif/ni.cif\"\n",
    "#cif_file = \"/Users/j35/git/NEUIT/static/cif/Cu.cif\"\n",
    "cif_file = \"/Users/j35/git/NEUIT/static/cif/EntryWithCollCode9805.cif\""
   ]
  },
  {
   "cell_type": "markdown",
   "metadata": {},
   "source": [
    "### reading manually "
   ]
  },
  {
   "cell_type": "code",
   "execution_count": null,
   "metadata": {},
   "outputs": [],
   "source": [
    "with open(cif_file, 'r') as f:\n",
    "    cif_file_content = f.read()\n",
    "\n",
    "def parse_cif_upload(content):\n",
    "    cif_s = content\n",
    "    p = getParser('cif')\n",
    "    struc = p.parse(cif_s)\n",
    "    struc.sg = p.spacegroup\n",
    "    return struc\n",
    "\n",
    "fcc_2a = parse_cif_upload(cif_file_content)"
   ]
  },
  {
   "cell_type": "code",
   "execution_count": null,
   "metadata": {},
   "outputs": [],
   "source": [
    "calc = xscalc.XSCalculator(fcc_2a, T, max_diffraction_index=4)"
   ]
  },
  {
   "cell_type": "markdown",
   "metadata": {},
   "source": [
    "### reading via loadStructure "
   ]
  },
  {
   "cell_type": "code",
   "execution_count": null,
   "metadata": {},
   "outputs": [],
   "source": [
    "# fcc_2b = loadStructure(cif_file, fmt='cif')\n",
    "# p = getParser('cif')\n",
    "# # fcc_2.sg = p.spacegroup"
   ]
  },
  {
   "cell_type": "code",
   "execution_count": null,
   "metadata": {},
   "outputs": [],
   "source": [
    "# fcc_2b"
   ]
  },
  {
   "cell_type": "code",
   "execution_count": null,
   "metadata": {},
   "outputs": [],
   "source": [
    "# calc = xscalc.XSCalculator(fcc_2b, T, max_diffraction_index=4)"
   ]
  },
  {
   "cell_type": "markdown",
   "metadata": {},
   "source": [
    "## Calculation "
   ]
  },
  {
   "cell_type": "code",
   "execution_count": null,
   "metadata": {},
   "outputs": [],
   "source": [
    "xs = calc.xs(wavelengths)"
   ]
  },
  {
   "cell_type": "code",
   "execution_count": null,
   "metadata": {},
   "outputs": [],
   "source": [
    "plt.plot(wavelengths, xs)"
   ]
  },
  {
   "cell_type": "code",
   "execution_count": null,
   "metadata": {},
   "outputs": [],
   "source": [
    "coh_el_xs = [calc.xs_coh_el(l) for l in wavelengths]\n",
    "inc_el_xs = [calc.xs_inc_el(l) for l in wavelengths]\n",
    "inel_xs = [calc.xs_inel(l) for l in wavelengths]\n",
    "abs_xs = np.array([calc.xs_abs(l) for l in wavelengths])\n",
    "plt.plot(wavelengths, coh_el_xs)\n",
    "plt.plot(wavelengths, inc_el_xs)\n",
    "plt.plot(wavelengths, inel_xs)\n",
    "plt.plot(wavelengths, abs_xs)\n",
    "plt.plot(wavelengths, abs_xs+coh_el_xs+inc_el_xs+inel_xs)"
   ]
  },
  {
   "cell_type": "markdown",
   "metadata": {},
   "source": [
    "# With texture"
   ]
  },
  {
   "cell_type": "code",
   "execution_count": null,
   "metadata": {},
   "outputs": [],
   "source": [
    "texture_model = xopm.MarchDollase()\n",
    "# by default, r for all hkl are 1.\n",
    "# use the following form to change r\n",
    "# make sure l>k>h\n",
    "texture_model.r[(0,0,1)] = 2\n",
    "# similarly beta can be changed\n",
    "# texture_model.beta[(0,0,1)] = np.pi/2\n",
    "\n",
    "calc = xscalc.XSCalculator(fccNi, T, texture_model)"
   ]
  },
  {
   "cell_type": "code",
   "execution_count": null,
   "metadata": {},
   "outputs": [],
   "source": [
    "xs = calc.xs(wavelengths)"
   ]
  },
  {
   "cell_type": "code",
   "execution_count": null,
   "metadata": {},
   "outputs": [],
   "source": [
    "plt.plot(wavelengths, xs)"
   ]
  },
  {
   "cell_type": "markdown",
   "metadata": {},
   "source": [
    "# With size effect (dynamical diffraction)"
   ]
  },
  {
   "cell_type": "code",
   "execution_count": null,
   "metadata": {},
   "outputs": [],
   "source": [
    "# use keyword \"size\". unit: meter\n",
    "calc = xscalc.XSCalculator(fccNi, T, size=10e-6)"
   ]
  },
  {
   "cell_type": "code",
   "execution_count": null,
   "metadata": {},
   "outputs": [],
   "source": [
    "xs = calc.xs(wavelengths)"
   ]
  },
  {
   "cell_type": "code",
   "execution_count": null,
   "metadata": {},
   "outputs": [],
   "source": [
    "plt.plot(wavelengths, xs)"
   ]
  },
  {
   "cell_type": "code",
   "execution_count": null,
   "metadata": {},
   "outputs": [],
   "source": []
  }
 ],
 "metadata": {
  "kernelspec": {
   "display_name": "Python 3 (ipykernel)",
   "language": "python",
   "name": "python3"
  },
  "language_info": {
   "codemirror_mode": {
    "name": "ipython",
    "version": 3
   },
   "file_extension": ".py",
   "mimetype": "text/x-python",
   "name": "python",
   "nbconvert_exporter": "python",
   "pygments_lexer": "ipython3",
   "version": "3.8.15"
  }
 },
 "nbformat": 4,
 "nbformat_minor": 1
}
